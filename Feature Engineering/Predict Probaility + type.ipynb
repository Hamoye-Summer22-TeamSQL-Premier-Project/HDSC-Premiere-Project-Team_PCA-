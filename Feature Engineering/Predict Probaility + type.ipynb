{
  "metadata": {
    "kernelspec": {
      "language": "python",
      "display_name": "Python 3",
      "name": "python3"
    },
    "language_info": {
      "name": "python",
      "version": "3.7.12",
      "mimetype": "text/x-python",
      "codemirror_mode": {
        "name": "ipython",
        "version": 3
      },
      "pygments_lexer": "ipython3",
      "nbconvert_exporter": "python",
      "file_extension": ".py"
    },
    "colab": {
      "name": "kkkkkkkkk (1).ipynb",
      "provenance": [],
      "include_colab_link": true
    }
  },
  "nbformat_minor": 0,
  "nbformat": 4,
  "cells": [
    {
      "cell_type": "markdown",
      "metadata": {
        "id": "view-in-github",
        "colab_type": "text"
      },
      "source": [
        "<a href=\"https://colab.research.google.com/github/Tiamiyu1/HDSC-Premiere-Project-Team_PCA-/blob/main/Feature%20Engineering/Predict%20Probaility%20%2B%20type.ipynb\" target=\"_parent\"><img src=\"https://colab.research.google.com/assets/colab-badge.svg\" alt=\"Open In Colab\"/></a>"
      ]
    },
    {
      "cell_type": "markdown",
      "source": [
        "# Feature Engineering"
      ],
      "metadata": {
        "id": "Vl7g6bS6XdVM"
      }
    },
    {
      "cell_type": "code",
      "source": [
        "import pandas as pd\n",
        "import numpy as np\n",
        "import matplotlib.pyplot as plt\n",
        "import seaborn as sns\n",
        "import warnings"
      ],
      "metadata": {
        "execution": {
          "iopub.status.busy": "2022-02-21T22:14:44.382266Z",
          "iopub.execute_input": "2022-02-21T22:14:44.382616Z",
          "iopub.status.idle": "2022-02-21T22:14:44.387455Z",
          "shell.execute_reply.started": "2022-02-21T22:14:44.382563Z",
          "shell.execute_reply": "2022-02-21T22:14:44.386590Z"
        },
        "trusted": true,
        "id": "Y6CGq226XdVm"
      },
      "execution_count": 1,
      "outputs": []
    },
    {
      "cell_type": "code",
      "source": [
        "df=pd.read_csv('https://raw.githubusercontent.com/Tiamiyu1/HDSC-Premiere-Project-Team_PCA-/main/Data/dementia_dataset.csv')\n",
        "df.head()"
      ],
      "metadata": {
        "execution": {
          "iopub.status.busy": "2022-02-21T22:14:44.441623Z",
          "iopub.execute_input": "2022-02-21T22:14:44.442047Z",
          "iopub.status.idle": "2022-02-21T22:14:44.469405Z",
          "shell.execute_reply.started": "2022-02-21T22:14:44.442018Z",
          "shell.execute_reply": "2022-02-21T22:14:44.468384Z"
        },
        "trusted": true,
        "colab": {
          "base_uri": "https://localhost:8080/",
          "height": 206
        },
        "id": "OpuNhvuDXdVw",
        "outputId": "9bf10f73-3bbc-4738-f55d-766d360789f5"
      },
      "execution_count": 2,
      "outputs": [
        {
          "output_type": "execute_result",
          "data": {
            "text/html": [
              "\n",
              "  <div id=\"df-93bc3d3c-78d0-402c-9bf5-4f5da2044bc7\">\n",
              "    <div class=\"colab-df-container\">\n",
              "      <div>\n",
              "<style scoped>\n",
              "    .dataframe tbody tr th:only-of-type {\n",
              "        vertical-align: middle;\n",
              "    }\n",
              "\n",
              "    .dataframe tbody tr th {\n",
              "        vertical-align: top;\n",
              "    }\n",
              "\n",
              "    .dataframe thead th {\n",
              "        text-align: right;\n",
              "    }\n",
              "</style>\n",
              "<table border=\"1\" class=\"dataframe\">\n",
              "  <thead>\n",
              "    <tr style=\"text-align: right;\">\n",
              "      <th></th>\n",
              "      <th>Subject ID</th>\n",
              "      <th>MRI ID</th>\n",
              "      <th>Group</th>\n",
              "      <th>Visit</th>\n",
              "      <th>MR Delay</th>\n",
              "      <th>M/F</th>\n",
              "      <th>Hand</th>\n",
              "      <th>Age</th>\n",
              "      <th>EDUC</th>\n",
              "      <th>SES</th>\n",
              "      <th>MMSE</th>\n",
              "      <th>CDR</th>\n",
              "      <th>eTIV</th>\n",
              "      <th>nWBV</th>\n",
              "      <th>ASF</th>\n",
              "    </tr>\n",
              "  </thead>\n",
              "  <tbody>\n",
              "    <tr>\n",
              "      <th>0</th>\n",
              "      <td>OAS2_0001</td>\n",
              "      <td>OAS2_0001_MR1</td>\n",
              "      <td>Nondemented</td>\n",
              "      <td>1</td>\n",
              "      <td>0</td>\n",
              "      <td>M</td>\n",
              "      <td>R</td>\n",
              "      <td>87</td>\n",
              "      <td>14</td>\n",
              "      <td>2.0</td>\n",
              "      <td>27.0</td>\n",
              "      <td>0.0</td>\n",
              "      <td>1987</td>\n",
              "      <td>0.696</td>\n",
              "      <td>0.883</td>\n",
              "    </tr>\n",
              "    <tr>\n",
              "      <th>1</th>\n",
              "      <td>OAS2_0001</td>\n",
              "      <td>OAS2_0001_MR2</td>\n",
              "      <td>Nondemented</td>\n",
              "      <td>2</td>\n",
              "      <td>457</td>\n",
              "      <td>M</td>\n",
              "      <td>R</td>\n",
              "      <td>88</td>\n",
              "      <td>14</td>\n",
              "      <td>2.0</td>\n",
              "      <td>30.0</td>\n",
              "      <td>0.0</td>\n",
              "      <td>2004</td>\n",
              "      <td>0.681</td>\n",
              "      <td>0.876</td>\n",
              "    </tr>\n",
              "    <tr>\n",
              "      <th>2</th>\n",
              "      <td>OAS2_0002</td>\n",
              "      <td>OAS2_0002_MR1</td>\n",
              "      <td>Demented</td>\n",
              "      <td>1</td>\n",
              "      <td>0</td>\n",
              "      <td>M</td>\n",
              "      <td>R</td>\n",
              "      <td>75</td>\n",
              "      <td>12</td>\n",
              "      <td>NaN</td>\n",
              "      <td>23.0</td>\n",
              "      <td>0.5</td>\n",
              "      <td>1678</td>\n",
              "      <td>0.736</td>\n",
              "      <td>1.046</td>\n",
              "    </tr>\n",
              "    <tr>\n",
              "      <th>3</th>\n",
              "      <td>OAS2_0002</td>\n",
              "      <td>OAS2_0002_MR2</td>\n",
              "      <td>Demented</td>\n",
              "      <td>2</td>\n",
              "      <td>560</td>\n",
              "      <td>M</td>\n",
              "      <td>R</td>\n",
              "      <td>76</td>\n",
              "      <td>12</td>\n",
              "      <td>NaN</td>\n",
              "      <td>28.0</td>\n",
              "      <td>0.5</td>\n",
              "      <td>1738</td>\n",
              "      <td>0.713</td>\n",
              "      <td>1.010</td>\n",
              "    </tr>\n",
              "    <tr>\n",
              "      <th>4</th>\n",
              "      <td>OAS2_0002</td>\n",
              "      <td>OAS2_0002_MR3</td>\n",
              "      <td>Demented</td>\n",
              "      <td>3</td>\n",
              "      <td>1895</td>\n",
              "      <td>M</td>\n",
              "      <td>R</td>\n",
              "      <td>80</td>\n",
              "      <td>12</td>\n",
              "      <td>NaN</td>\n",
              "      <td>22.0</td>\n",
              "      <td>0.5</td>\n",
              "      <td>1698</td>\n",
              "      <td>0.701</td>\n",
              "      <td>1.034</td>\n",
              "    </tr>\n",
              "  </tbody>\n",
              "</table>\n",
              "</div>\n",
              "      <button class=\"colab-df-convert\" onclick=\"convertToInteractive('df-93bc3d3c-78d0-402c-9bf5-4f5da2044bc7')\"\n",
              "              title=\"Convert this dataframe to an interactive table.\"\n",
              "              style=\"display:none;\">\n",
              "        \n",
              "  <svg xmlns=\"http://www.w3.org/2000/svg\" height=\"24px\"viewBox=\"0 0 24 24\"\n",
              "       width=\"24px\">\n",
              "    <path d=\"M0 0h24v24H0V0z\" fill=\"none\"/>\n",
              "    <path d=\"M18.56 5.44l.94 2.06.94-2.06 2.06-.94-2.06-.94-.94-2.06-.94 2.06-2.06.94zm-11 1L8.5 8.5l.94-2.06 2.06-.94-2.06-.94L8.5 2.5l-.94 2.06-2.06.94zm10 10l.94 2.06.94-2.06 2.06-.94-2.06-.94-.94-2.06-.94 2.06-2.06.94z\"/><path d=\"M17.41 7.96l-1.37-1.37c-.4-.4-.92-.59-1.43-.59-.52 0-1.04.2-1.43.59L10.3 9.45l-7.72 7.72c-.78.78-.78 2.05 0 2.83L4 21.41c.39.39.9.59 1.41.59.51 0 1.02-.2 1.41-.59l7.78-7.78 2.81-2.81c.8-.78.8-2.07 0-2.86zM5.41 20L4 18.59l7.72-7.72 1.47 1.35L5.41 20z\"/>\n",
              "  </svg>\n",
              "      </button>\n",
              "      \n",
              "  <style>\n",
              "    .colab-df-container {\n",
              "      display:flex;\n",
              "      flex-wrap:wrap;\n",
              "      gap: 12px;\n",
              "    }\n",
              "\n",
              "    .colab-df-convert {\n",
              "      background-color: #E8F0FE;\n",
              "      border: none;\n",
              "      border-radius: 50%;\n",
              "      cursor: pointer;\n",
              "      display: none;\n",
              "      fill: #1967D2;\n",
              "      height: 32px;\n",
              "      padding: 0 0 0 0;\n",
              "      width: 32px;\n",
              "    }\n",
              "\n",
              "    .colab-df-convert:hover {\n",
              "      background-color: #E2EBFA;\n",
              "      box-shadow: 0px 1px 2px rgba(60, 64, 67, 0.3), 0px 1px 3px 1px rgba(60, 64, 67, 0.15);\n",
              "      fill: #174EA6;\n",
              "    }\n",
              "\n",
              "    [theme=dark] .colab-df-convert {\n",
              "      background-color: #3B4455;\n",
              "      fill: #D2E3FC;\n",
              "    }\n",
              "\n",
              "    [theme=dark] .colab-df-convert:hover {\n",
              "      background-color: #434B5C;\n",
              "      box-shadow: 0px 1px 3px 1px rgba(0, 0, 0, 0.15);\n",
              "      filter: drop-shadow(0px 1px 2px rgba(0, 0, 0, 0.3));\n",
              "      fill: #FFFFFF;\n",
              "    }\n",
              "  </style>\n",
              "\n",
              "      <script>\n",
              "        const buttonEl =\n",
              "          document.querySelector('#df-93bc3d3c-78d0-402c-9bf5-4f5da2044bc7 button.colab-df-convert');\n",
              "        buttonEl.style.display =\n",
              "          google.colab.kernel.accessAllowed ? 'block' : 'none';\n",
              "\n",
              "        async function convertToInteractive(key) {\n",
              "          const element = document.querySelector('#df-93bc3d3c-78d0-402c-9bf5-4f5da2044bc7');\n",
              "          const dataTable =\n",
              "            await google.colab.kernel.invokeFunction('convertToInteractive',\n",
              "                                                     [key], {});\n",
              "          if (!dataTable) return;\n",
              "\n",
              "          const docLinkHtml = 'Like what you see? Visit the ' +\n",
              "            '<a target=\"_blank\" href=https://colab.research.google.com/notebooks/data_table.ipynb>data table notebook</a>'\n",
              "            + ' to learn more about interactive tables.';\n",
              "          element.innerHTML = '';\n",
              "          dataTable['output_type'] = 'display_data';\n",
              "          await google.colab.output.renderOutput(dataTable, element);\n",
              "          const docLink = document.createElement('div');\n",
              "          docLink.innerHTML = docLinkHtml;\n",
              "          element.appendChild(docLink);\n",
              "        }\n",
              "      </script>\n",
              "    </div>\n",
              "  </div>\n",
              "  "
            ],
            "text/plain": [
              "  Subject ID         MRI ID        Group  Visit  ...  CDR  eTIV   nWBV    ASF\n",
              "0  OAS2_0001  OAS2_0001_MR1  Nondemented      1  ...  0.0  1987  0.696  0.883\n",
              "1  OAS2_0001  OAS2_0001_MR2  Nondemented      2  ...  0.0  2004  0.681  0.876\n",
              "2  OAS2_0002  OAS2_0002_MR1     Demented      1  ...  0.5  1678  0.736  1.046\n",
              "3  OAS2_0002  OAS2_0002_MR2     Demented      2  ...  0.5  1738  0.713  1.010\n",
              "4  OAS2_0002  OAS2_0002_MR3     Demented      3  ...  0.5  1698  0.701  1.034\n",
              "\n",
              "[5 rows x 15 columns]"
            ]
          },
          "metadata": {},
          "execution_count": 2
        }
      ]
    },
    {
      "cell_type": "code",
      "source": [
        "df.shape"
      ],
      "metadata": {
        "execution": {
          "iopub.status.busy": "2022-02-21T22:14:44.471742Z",
          "iopub.execute_input": "2022-02-21T22:14:44.472074Z",
          "iopub.status.idle": "2022-02-21T22:14:44.478516Z",
          "shell.execute_reply.started": "2022-02-21T22:14:44.472030Z",
          "shell.execute_reply": "2022-02-21T22:14:44.477550Z"
        },
        "trusted": true,
        "colab": {
          "base_uri": "https://localhost:8080/"
        },
        "id": "6ZiPiOkiXdVz",
        "outputId": "a053c2b4-fd73-488f-9ca9-5a9f2652ce13"
      },
      "execution_count": 3,
      "outputs": [
        {
          "output_type": "execute_result",
          "data": {
            "text/plain": [
              "(373, 15)"
            ]
          },
          "metadata": {},
          "execution_count": 3
        }
      ]
    },
    {
      "cell_type": "markdown",
      "source": [
        "#### ENCODING CATEGORICAL DATA"
      ],
      "metadata": {
        "id": "pWjQCPw7XdV1"
      }
    },
    {
      "cell_type": "markdown",
      "source": [
        "#### Two categorical columns: M/F and Group."
      ],
      "metadata": {
        "id": "v-qjMG9TXdV3"
      }
    },
    {
      "cell_type": "code",
      "source": [
        "# from sklearn.preprocessing import OneHotEncoder\n",
        "\n",
        "# # Create instance of OneHotEncoder.\n",
        "# ohe = OneHotEncoder()\n",
        "\n",
        "# # Perform OneHotEncoding on the Group column.\n",
        "# df_ohe1 = pd.DataFrame(ohe.fit_transform(df[['Group']]).toarray(), columns=ohe.categories_)\n",
        "\n",
        "# # Merge OneHotEncoded column with df dataframe.\n",
        "# df2 = df.join(df_ohe1)\n",
        "\n",
        "# # View dataframe.\n",
        "# df2.head()"
      ],
      "metadata": {
        "execution": {
          "iopub.status.busy": "2022-02-21T22:14:44.480305Z",
          "iopub.execute_input": "2022-02-21T22:14:44.480848Z",
          "iopub.status.idle": "2022-02-21T22:14:44.488437Z",
          "shell.execute_reply.started": "2022-02-21T22:14:44.480802Z",
          "shell.execute_reply": "2022-02-21T22:14:44.487732Z"
        },
        "trusted": true,
        "id": "D2HgPoLCXdV7"
      },
      "execution_count": 4,
      "outputs": []
    },
    {
      "cell_type": "code",
      "source": [
        "# # Perform OneHotEncoding on the M/F column.\n",
        "# df_ohe2 = pd.DataFrame(ohe.fit_transform(df[['M/F']]).toarray(), columns=ohe.categories_)\n",
        "\n",
        "# # Merge OneHotEncoded column with dataframe.\n",
        "# df_final = df2.join(df_ohe2)\n",
        "\n",
        "# # View final dataframe.\n",
        "# # df_final"
      ],
      "metadata": {
        "execution": {
          "iopub.status.busy": "2022-02-21T22:14:44.490380Z",
          "iopub.execute_input": "2022-02-21T22:14:44.490894Z",
          "iopub.status.idle": "2022-02-21T22:14:44.499462Z",
          "shell.execute_reply.started": "2022-02-21T22:14:44.490857Z",
          "shell.execute_reply": "2022-02-21T22:14:44.498666Z"
        },
        "trusted": true,
        "id": "7_9v-quIXdWA"
      },
      "execution_count": 5,
      "outputs": []
    },
    {
      "cell_type": "code",
      "source": [
        "# df = df_final"
      ],
      "metadata": {
        "execution": {
          "iopub.status.busy": "2022-02-21T22:14:44.500799Z",
          "iopub.execute_input": "2022-02-21T22:14:44.501534Z",
          "iopub.status.idle": "2022-02-21T22:14:44.515025Z",
          "shell.execute_reply.started": "2022-02-21T22:14:44.501487Z",
          "shell.execute_reply": "2022-02-21T22:14:44.514322Z"
        },
        "trusted": true,
        "id": "_3oS4-RIXdWE"
      },
      "execution_count": 6,
      "outputs": []
    },
    {
      "cell_type": "code",
      "source": [
        "df=pd.concat([df,pd.get_dummies(df['Group'])],axis=1)\n",
        "df=pd.concat([df,pd.get_dummies(df['M/F'])],axis=1)"
      ],
      "metadata": {
        "execution": {
          "iopub.status.busy": "2022-02-21T22:14:44.516577Z",
          "iopub.execute_input": "2022-02-21T22:14:44.517199Z",
          "iopub.status.idle": "2022-02-21T22:14:44.530289Z",
          "shell.execute_reply.started": "2022-02-21T22:14:44.517132Z",
          "shell.execute_reply": "2022-02-21T22:14:44.529656Z"
        },
        "trusted": true,
        "id": "tGfngMeqXdWH"
      },
      "execution_count": 7,
      "outputs": []
    },
    {
      "cell_type": "markdown",
      "source": [
        "#### We can decide to drop the Group and M/F columns since they have been encoded."
      ],
      "metadata": {
        "id": "HdUSN-UPXdWJ"
      }
    },
    {
      "cell_type": "code",
      "source": [
        "df.drop(['Group', 'M/F'], axis=1, inplace=True)\n",
        "df"
      ],
      "metadata": {
        "execution": {
          "iopub.status.busy": "2022-02-21T22:14:44.532221Z",
          "iopub.execute_input": "2022-02-21T22:14:44.532475Z",
          "iopub.status.idle": "2022-02-21T22:14:44.563221Z",
          "shell.execute_reply.started": "2022-02-21T22:14:44.532444Z",
          "shell.execute_reply": "2022-02-21T22:14:44.562325Z"
        },
        "trusted": true,
        "colab": {
          "base_uri": "https://localhost:8080/",
          "height": 424
        },
        "id": "uxomC4AUXdWO",
        "outputId": "8bd19534-d271-4344-a6b7-1cc7dab4b8f4"
      },
      "execution_count": 8,
      "outputs": [
        {
          "output_type": "execute_result",
          "data": {
            "text/html": [
              "\n",
              "  <div id=\"df-a515c3cc-a0d2-4b84-a41e-9233f7636d40\">\n",
              "    <div class=\"colab-df-container\">\n",
              "      <div>\n",
              "<style scoped>\n",
              "    .dataframe tbody tr th:only-of-type {\n",
              "        vertical-align: middle;\n",
              "    }\n",
              "\n",
              "    .dataframe tbody tr th {\n",
              "        vertical-align: top;\n",
              "    }\n",
              "\n",
              "    .dataframe thead th {\n",
              "        text-align: right;\n",
              "    }\n",
              "</style>\n",
              "<table border=\"1\" class=\"dataframe\">\n",
              "  <thead>\n",
              "    <tr style=\"text-align: right;\">\n",
              "      <th></th>\n",
              "      <th>Subject ID</th>\n",
              "      <th>MRI ID</th>\n",
              "      <th>Visit</th>\n",
              "      <th>MR Delay</th>\n",
              "      <th>Hand</th>\n",
              "      <th>Age</th>\n",
              "      <th>EDUC</th>\n",
              "      <th>SES</th>\n",
              "      <th>MMSE</th>\n",
              "      <th>CDR</th>\n",
              "      <th>eTIV</th>\n",
              "      <th>nWBV</th>\n",
              "      <th>ASF</th>\n",
              "      <th>Converted</th>\n",
              "      <th>Demented</th>\n",
              "      <th>Nondemented</th>\n",
              "      <th>F</th>\n",
              "      <th>M</th>\n",
              "    </tr>\n",
              "  </thead>\n",
              "  <tbody>\n",
              "    <tr>\n",
              "      <th>0</th>\n",
              "      <td>OAS2_0001</td>\n",
              "      <td>OAS2_0001_MR1</td>\n",
              "      <td>1</td>\n",
              "      <td>0</td>\n",
              "      <td>R</td>\n",
              "      <td>87</td>\n",
              "      <td>14</td>\n",
              "      <td>2.0</td>\n",
              "      <td>27.0</td>\n",
              "      <td>0.0</td>\n",
              "      <td>1987</td>\n",
              "      <td>0.696</td>\n",
              "      <td>0.883</td>\n",
              "      <td>0</td>\n",
              "      <td>0</td>\n",
              "      <td>1</td>\n",
              "      <td>0</td>\n",
              "      <td>1</td>\n",
              "    </tr>\n",
              "    <tr>\n",
              "      <th>1</th>\n",
              "      <td>OAS2_0001</td>\n",
              "      <td>OAS2_0001_MR2</td>\n",
              "      <td>2</td>\n",
              "      <td>457</td>\n",
              "      <td>R</td>\n",
              "      <td>88</td>\n",
              "      <td>14</td>\n",
              "      <td>2.0</td>\n",
              "      <td>30.0</td>\n",
              "      <td>0.0</td>\n",
              "      <td>2004</td>\n",
              "      <td>0.681</td>\n",
              "      <td>0.876</td>\n",
              "      <td>0</td>\n",
              "      <td>0</td>\n",
              "      <td>1</td>\n",
              "      <td>0</td>\n",
              "      <td>1</td>\n",
              "    </tr>\n",
              "    <tr>\n",
              "      <th>2</th>\n",
              "      <td>OAS2_0002</td>\n",
              "      <td>OAS2_0002_MR1</td>\n",
              "      <td>1</td>\n",
              "      <td>0</td>\n",
              "      <td>R</td>\n",
              "      <td>75</td>\n",
              "      <td>12</td>\n",
              "      <td>NaN</td>\n",
              "      <td>23.0</td>\n",
              "      <td>0.5</td>\n",
              "      <td>1678</td>\n",
              "      <td>0.736</td>\n",
              "      <td>1.046</td>\n",
              "      <td>0</td>\n",
              "      <td>1</td>\n",
              "      <td>0</td>\n",
              "      <td>0</td>\n",
              "      <td>1</td>\n",
              "    </tr>\n",
              "    <tr>\n",
              "      <th>3</th>\n",
              "      <td>OAS2_0002</td>\n",
              "      <td>OAS2_0002_MR2</td>\n",
              "      <td>2</td>\n",
              "      <td>560</td>\n",
              "      <td>R</td>\n",
              "      <td>76</td>\n",
              "      <td>12</td>\n",
              "      <td>NaN</td>\n",
              "      <td>28.0</td>\n",
              "      <td>0.5</td>\n",
              "      <td>1738</td>\n",
              "      <td>0.713</td>\n",
              "      <td>1.010</td>\n",
              "      <td>0</td>\n",
              "      <td>1</td>\n",
              "      <td>0</td>\n",
              "      <td>0</td>\n",
              "      <td>1</td>\n",
              "    </tr>\n",
              "    <tr>\n",
              "      <th>4</th>\n",
              "      <td>OAS2_0002</td>\n",
              "      <td>OAS2_0002_MR3</td>\n",
              "      <td>3</td>\n",
              "      <td>1895</td>\n",
              "      <td>R</td>\n",
              "      <td>80</td>\n",
              "      <td>12</td>\n",
              "      <td>NaN</td>\n",
              "      <td>22.0</td>\n",
              "      <td>0.5</td>\n",
              "      <td>1698</td>\n",
              "      <td>0.701</td>\n",
              "      <td>1.034</td>\n",
              "      <td>0</td>\n",
              "      <td>1</td>\n",
              "      <td>0</td>\n",
              "      <td>0</td>\n",
              "      <td>1</td>\n",
              "    </tr>\n",
              "    <tr>\n",
              "      <th>...</th>\n",
              "      <td>...</td>\n",
              "      <td>...</td>\n",
              "      <td>...</td>\n",
              "      <td>...</td>\n",
              "      <td>...</td>\n",
              "      <td>...</td>\n",
              "      <td>...</td>\n",
              "      <td>...</td>\n",
              "      <td>...</td>\n",
              "      <td>...</td>\n",
              "      <td>...</td>\n",
              "      <td>...</td>\n",
              "      <td>...</td>\n",
              "      <td>...</td>\n",
              "      <td>...</td>\n",
              "      <td>...</td>\n",
              "      <td>...</td>\n",
              "      <td>...</td>\n",
              "    </tr>\n",
              "    <tr>\n",
              "      <th>368</th>\n",
              "      <td>OAS2_0185</td>\n",
              "      <td>OAS2_0185_MR2</td>\n",
              "      <td>2</td>\n",
              "      <td>842</td>\n",
              "      <td>R</td>\n",
              "      <td>82</td>\n",
              "      <td>16</td>\n",
              "      <td>1.0</td>\n",
              "      <td>28.0</td>\n",
              "      <td>0.5</td>\n",
              "      <td>1693</td>\n",
              "      <td>0.694</td>\n",
              "      <td>1.037</td>\n",
              "      <td>0</td>\n",
              "      <td>1</td>\n",
              "      <td>0</td>\n",
              "      <td>0</td>\n",
              "      <td>1</td>\n",
              "    </tr>\n",
              "    <tr>\n",
              "      <th>369</th>\n",
              "      <td>OAS2_0185</td>\n",
              "      <td>OAS2_0185_MR3</td>\n",
              "      <td>3</td>\n",
              "      <td>2297</td>\n",
              "      <td>R</td>\n",
              "      <td>86</td>\n",
              "      <td>16</td>\n",
              "      <td>1.0</td>\n",
              "      <td>26.0</td>\n",
              "      <td>0.5</td>\n",
              "      <td>1688</td>\n",
              "      <td>0.675</td>\n",
              "      <td>1.040</td>\n",
              "      <td>0</td>\n",
              "      <td>1</td>\n",
              "      <td>0</td>\n",
              "      <td>0</td>\n",
              "      <td>1</td>\n",
              "    </tr>\n",
              "    <tr>\n",
              "      <th>370</th>\n",
              "      <td>OAS2_0186</td>\n",
              "      <td>OAS2_0186_MR1</td>\n",
              "      <td>1</td>\n",
              "      <td>0</td>\n",
              "      <td>R</td>\n",
              "      <td>61</td>\n",
              "      <td>13</td>\n",
              "      <td>2.0</td>\n",
              "      <td>30.0</td>\n",
              "      <td>0.0</td>\n",
              "      <td>1319</td>\n",
              "      <td>0.801</td>\n",
              "      <td>1.331</td>\n",
              "      <td>0</td>\n",
              "      <td>0</td>\n",
              "      <td>1</td>\n",
              "      <td>1</td>\n",
              "      <td>0</td>\n",
              "    </tr>\n",
              "    <tr>\n",
              "      <th>371</th>\n",
              "      <td>OAS2_0186</td>\n",
              "      <td>OAS2_0186_MR2</td>\n",
              "      <td>2</td>\n",
              "      <td>763</td>\n",
              "      <td>R</td>\n",
              "      <td>63</td>\n",
              "      <td>13</td>\n",
              "      <td>2.0</td>\n",
              "      <td>30.0</td>\n",
              "      <td>0.0</td>\n",
              "      <td>1327</td>\n",
              "      <td>0.796</td>\n",
              "      <td>1.323</td>\n",
              "      <td>0</td>\n",
              "      <td>0</td>\n",
              "      <td>1</td>\n",
              "      <td>1</td>\n",
              "      <td>0</td>\n",
              "    </tr>\n",
              "    <tr>\n",
              "      <th>372</th>\n",
              "      <td>OAS2_0186</td>\n",
              "      <td>OAS2_0186_MR3</td>\n",
              "      <td>3</td>\n",
              "      <td>1608</td>\n",
              "      <td>R</td>\n",
              "      <td>65</td>\n",
              "      <td>13</td>\n",
              "      <td>2.0</td>\n",
              "      <td>30.0</td>\n",
              "      <td>0.0</td>\n",
              "      <td>1333</td>\n",
              "      <td>0.801</td>\n",
              "      <td>1.317</td>\n",
              "      <td>0</td>\n",
              "      <td>0</td>\n",
              "      <td>1</td>\n",
              "      <td>1</td>\n",
              "      <td>0</td>\n",
              "    </tr>\n",
              "  </tbody>\n",
              "</table>\n",
              "<p>373 rows × 18 columns</p>\n",
              "</div>\n",
              "      <button class=\"colab-df-convert\" onclick=\"convertToInteractive('df-a515c3cc-a0d2-4b84-a41e-9233f7636d40')\"\n",
              "              title=\"Convert this dataframe to an interactive table.\"\n",
              "              style=\"display:none;\">\n",
              "        \n",
              "  <svg xmlns=\"http://www.w3.org/2000/svg\" height=\"24px\"viewBox=\"0 0 24 24\"\n",
              "       width=\"24px\">\n",
              "    <path d=\"M0 0h24v24H0V0z\" fill=\"none\"/>\n",
              "    <path d=\"M18.56 5.44l.94 2.06.94-2.06 2.06-.94-2.06-.94-.94-2.06-.94 2.06-2.06.94zm-11 1L8.5 8.5l.94-2.06 2.06-.94-2.06-.94L8.5 2.5l-.94 2.06-2.06.94zm10 10l.94 2.06.94-2.06 2.06-.94-2.06-.94-.94-2.06-.94 2.06-2.06.94z\"/><path d=\"M17.41 7.96l-1.37-1.37c-.4-.4-.92-.59-1.43-.59-.52 0-1.04.2-1.43.59L10.3 9.45l-7.72 7.72c-.78.78-.78 2.05 0 2.83L4 21.41c.39.39.9.59 1.41.59.51 0 1.02-.2 1.41-.59l7.78-7.78 2.81-2.81c.8-.78.8-2.07 0-2.86zM5.41 20L4 18.59l7.72-7.72 1.47 1.35L5.41 20z\"/>\n",
              "  </svg>\n",
              "      </button>\n",
              "      \n",
              "  <style>\n",
              "    .colab-df-container {\n",
              "      display:flex;\n",
              "      flex-wrap:wrap;\n",
              "      gap: 12px;\n",
              "    }\n",
              "\n",
              "    .colab-df-convert {\n",
              "      background-color: #E8F0FE;\n",
              "      border: none;\n",
              "      border-radius: 50%;\n",
              "      cursor: pointer;\n",
              "      display: none;\n",
              "      fill: #1967D2;\n",
              "      height: 32px;\n",
              "      padding: 0 0 0 0;\n",
              "      width: 32px;\n",
              "    }\n",
              "\n",
              "    .colab-df-convert:hover {\n",
              "      background-color: #E2EBFA;\n",
              "      box-shadow: 0px 1px 2px rgba(60, 64, 67, 0.3), 0px 1px 3px 1px rgba(60, 64, 67, 0.15);\n",
              "      fill: #174EA6;\n",
              "    }\n",
              "\n",
              "    [theme=dark] .colab-df-convert {\n",
              "      background-color: #3B4455;\n",
              "      fill: #D2E3FC;\n",
              "    }\n",
              "\n",
              "    [theme=dark] .colab-df-convert:hover {\n",
              "      background-color: #434B5C;\n",
              "      box-shadow: 0px 1px 3px 1px rgba(0, 0, 0, 0.15);\n",
              "      filter: drop-shadow(0px 1px 2px rgba(0, 0, 0, 0.3));\n",
              "      fill: #FFFFFF;\n",
              "    }\n",
              "  </style>\n",
              "\n",
              "      <script>\n",
              "        const buttonEl =\n",
              "          document.querySelector('#df-a515c3cc-a0d2-4b84-a41e-9233f7636d40 button.colab-df-convert');\n",
              "        buttonEl.style.display =\n",
              "          google.colab.kernel.accessAllowed ? 'block' : 'none';\n",
              "\n",
              "        async function convertToInteractive(key) {\n",
              "          const element = document.querySelector('#df-a515c3cc-a0d2-4b84-a41e-9233f7636d40');\n",
              "          const dataTable =\n",
              "            await google.colab.kernel.invokeFunction('convertToInteractive',\n",
              "                                                     [key], {});\n",
              "          if (!dataTable) return;\n",
              "\n",
              "          const docLinkHtml = 'Like what you see? Visit the ' +\n",
              "            '<a target=\"_blank\" href=https://colab.research.google.com/notebooks/data_table.ipynb>data table notebook</a>'\n",
              "            + ' to learn more about interactive tables.';\n",
              "          element.innerHTML = '';\n",
              "          dataTable['output_type'] = 'display_data';\n",
              "          await google.colab.output.renderOutput(dataTable, element);\n",
              "          const docLink = document.createElement('div');\n",
              "          docLink.innerHTML = docLinkHtml;\n",
              "          element.appendChild(docLink);\n",
              "        }\n",
              "      </script>\n",
              "    </div>\n",
              "  </div>\n",
              "  "
            ],
            "text/plain": [
              "    Subject ID         MRI ID  Visit  MR Delay  ... Demented  Nondemented  F  M\n",
              "0    OAS2_0001  OAS2_0001_MR1      1         0  ...        0            1  0  1\n",
              "1    OAS2_0001  OAS2_0001_MR2      2       457  ...        0            1  0  1\n",
              "2    OAS2_0002  OAS2_0002_MR1      1         0  ...        1            0  0  1\n",
              "3    OAS2_0002  OAS2_0002_MR2      2       560  ...        1            0  0  1\n",
              "4    OAS2_0002  OAS2_0002_MR3      3      1895  ...        1            0  0  1\n",
              "..         ...            ...    ...       ...  ...      ...          ... .. ..\n",
              "368  OAS2_0185  OAS2_0185_MR2      2       842  ...        1            0  0  1\n",
              "369  OAS2_0185  OAS2_0185_MR3      3      2297  ...        1            0  0  1\n",
              "370  OAS2_0186  OAS2_0186_MR1      1         0  ...        0            1  1  0\n",
              "371  OAS2_0186  OAS2_0186_MR2      2       763  ...        0            1  1  0\n",
              "372  OAS2_0186  OAS2_0186_MR3      3      1608  ...        0            1  1  0\n",
              "\n",
              "[373 rows x 18 columns]"
            ]
          },
          "metadata": {},
          "execution_count": 8
        }
      ]
    },
    {
      "cell_type": "markdown",
      "source": [
        "For __Feature Engineering__ the __Train data__ should only be taken into consideration for the statistics value and \n",
        "\n",
        "then these values will be then used for both train and test. This is the best and optimal way to prevent the \n",
        "\n",
        "overfitting later in Model Building part."
      ],
      "metadata": {
        "id": "_l8wc8RZXdWR"
      }
    },
    {
      "cell_type": "code",
      "source": [
        "from sklearn.model_selection import train_test_split\n",
        "X_train , X_test , y_train , y_test = train_test_split(df.drop('CDR' , axis=1) , df['CDR'] , test_size=0.2 , \n",
        "                                                      random_state=2, shuffle = True)\n",
        "#I added shuffle"
      ],
      "metadata": {
        "execution": {
          "iopub.status.busy": "2022-02-21T22:14:44.564498Z",
          "iopub.execute_input": "2022-02-21T22:14:44.564717Z",
          "iopub.status.idle": "2022-02-21T22:14:44.572954Z",
          "shell.execute_reply.started": "2022-02-21T22:14:44.564689Z",
          "shell.execute_reply": "2022-02-21T22:14:44.572083Z"
        },
        "trusted": true,
        "id": "zArY01PEXdWT"
      },
      "execution_count": 9,
      "outputs": []
    },
    {
      "cell_type": "code",
      "source": [
        "X_train.shape , X_test.shape"
      ],
      "metadata": {
        "execution": {
          "iopub.status.busy": "2022-02-21T22:14:44.575333Z",
          "iopub.execute_input": "2022-02-21T22:14:44.575731Z",
          "iopub.status.idle": "2022-02-21T22:14:44.586819Z",
          "shell.execute_reply.started": "2022-02-21T22:14:44.575682Z",
          "shell.execute_reply": "2022-02-21T22:14:44.585946Z"
        },
        "trusted": true,
        "colab": {
          "base_uri": "https://localhost:8080/"
        },
        "id": "5AmVdeRzXdWV",
        "outputId": "e966f9f4-a33a-4311-8946-9ef7b7d5cc72"
      },
      "execution_count": 10,
      "outputs": [
        {
          "output_type": "execute_result",
          "data": {
            "text/plain": [
              "((298, 17), (75, 17))"
            ]
          },
          "metadata": {},
          "execution_count": 10
        }
      ]
    },
    {
      "cell_type": "markdown",
      "source": [
        "### 1) Missing Value Imputation\n",
        "- by Median Imputation method"
      ],
      "metadata": {
        "id": "69tzl6lWXdWW"
      }
    },
    {
      "cell_type": "code",
      "source": [
        "missing_variables = [feature for feature in df.columns if df[feature].isnull().sum()>0]\n",
        "X_train[missing_variables].isnull().mean()"
      ],
      "metadata": {
        "scrolled": true,
        "execution": {
          "iopub.status.busy": "2022-02-21T22:14:44.588811Z",
          "iopub.execute_input": "2022-02-21T22:14:44.589075Z",
          "iopub.status.idle": "2022-02-21T22:14:44.608690Z",
          "shell.execute_reply.started": "2022-02-21T22:14:44.589030Z",
          "shell.execute_reply": "2022-02-21T22:14:44.607766Z"
        },
        "trusted": true,
        "colab": {
          "base_uri": "https://localhost:8080/"
        },
        "id": "nwRAEzJYXdWZ",
        "outputId": "3fd41de1-2d18-4bf9-d4e2-41d0709364e5"
      },
      "execution_count": 11,
      "outputs": [
        {
          "output_type": "execute_result",
          "data": {
            "text/plain": [
              "SES     0.053691\n",
              "MMSE    0.006711\n",
              "dtype: float64"
            ]
          },
          "metadata": {},
          "execution_count": 11
        }
      ]
    },
    {
      "cell_type": "markdown",
      "source": [
        "So SES has 5% of missing values and MMSE has .05% of missign values"
      ],
      "metadata": {
        "id": "CMZGljaIXdWb"
      }
    },
    {
      "cell_type": "code",
      "source": [
        "median_SES = X_train['SES'].median()\n",
        "X_train['SES_imputed'] = X_train['SES'].fillna(median_SES)\n",
        "X_test['SES_imputed'] = X_test['SES'].fillna(median_SES)"
      ],
      "metadata": {
        "execution": {
          "iopub.status.busy": "2022-02-21T22:14:44.609845Z",
          "iopub.execute_input": "2022-02-21T22:14:44.610367Z",
          "iopub.status.idle": "2022-02-21T22:14:44.617134Z",
          "shell.execute_reply.started": "2022-02-21T22:14:44.610329Z",
          "shell.execute_reply": "2022-02-21T22:14:44.616349Z"
        },
        "trusted": true,
        "id": "noG8B0cKXdWd"
      },
      "execution_count": 12,
      "outputs": []
    },
    {
      "cell_type": "code",
      "source": [
        "median_MMSE = df['MMSE'].median()\n",
        "X_train['MMSE_imputed'] = df['MMSE'].fillna(median_MMSE)\n",
        "X_test['MMSE_imputed'] = X_test['MMSE'].fillna(median_SES)"
      ],
      "metadata": {
        "execution": {
          "iopub.status.busy": "2022-02-21T22:14:44.618245Z",
          "iopub.execute_input": "2022-02-21T22:14:44.618459Z",
          "iopub.status.idle": "2022-02-21T22:14:44.628434Z",
          "shell.execute_reply.started": "2022-02-21T22:14:44.618432Z",
          "shell.execute_reply": "2022-02-21T22:14:44.627837Z"
        },
        "trusted": true,
        "id": "hto4EhJaXdWg"
      },
      "execution_count": 13,
      "outputs": []
    },
    {
      "cell_type": "markdown",
      "source": [
        "2 New variables Created for the analysis and it later will be removed"
      ],
      "metadata": {
        "id": "C-sIxzHhXdWi"
      }
    },
    {
      "cell_type": "code",
      "source": [
        "X_train.head()"
      ],
      "metadata": {
        "execution": {
          "iopub.status.busy": "2022-02-21T22:14:44.629883Z",
          "iopub.execute_input": "2022-02-21T22:14:44.630114Z",
          "iopub.status.idle": "2022-02-21T22:14:44.655249Z",
          "shell.execute_reply.started": "2022-02-21T22:14:44.630085Z",
          "shell.execute_reply": "2022-02-21T22:14:44.654230Z"
        },
        "trusted": true,
        "colab": {
          "base_uri": "https://localhost:8080/",
          "height": 0
        },
        "id": "mHlk8nzWXdWj",
        "outputId": "05672cd4-7ad3-48ea-95df-af16cb07c7df"
      },
      "execution_count": 14,
      "outputs": [
        {
          "output_type": "execute_result",
          "data": {
            "text/html": [
              "\n",
              "  <div id=\"df-b6c16046-e051-42fe-bd91-24fb27e141eb\">\n",
              "    <div class=\"colab-df-container\">\n",
              "      <div>\n",
              "<style scoped>\n",
              "    .dataframe tbody tr th:only-of-type {\n",
              "        vertical-align: middle;\n",
              "    }\n",
              "\n",
              "    .dataframe tbody tr th {\n",
              "        vertical-align: top;\n",
              "    }\n",
              "\n",
              "    .dataframe thead th {\n",
              "        text-align: right;\n",
              "    }\n",
              "</style>\n",
              "<table border=\"1\" class=\"dataframe\">\n",
              "  <thead>\n",
              "    <tr style=\"text-align: right;\">\n",
              "      <th></th>\n",
              "      <th>Subject ID</th>\n",
              "      <th>MRI ID</th>\n",
              "      <th>Visit</th>\n",
              "      <th>MR Delay</th>\n",
              "      <th>Hand</th>\n",
              "      <th>Age</th>\n",
              "      <th>EDUC</th>\n",
              "      <th>SES</th>\n",
              "      <th>MMSE</th>\n",
              "      <th>eTIV</th>\n",
              "      <th>nWBV</th>\n",
              "      <th>ASF</th>\n",
              "      <th>Converted</th>\n",
              "      <th>Demented</th>\n",
              "      <th>Nondemented</th>\n",
              "      <th>F</th>\n",
              "      <th>M</th>\n",
              "      <th>SES_imputed</th>\n",
              "      <th>MMSE_imputed</th>\n",
              "    </tr>\n",
              "  </thead>\n",
              "  <tbody>\n",
              "    <tr>\n",
              "      <th>225</th>\n",
              "      <td>OAS2_0106</td>\n",
              "      <td>OAS2_0106_MR1</td>\n",
              "      <td>1</td>\n",
              "      <td>0</td>\n",
              "      <td>R</td>\n",
              "      <td>70</td>\n",
              "      <td>11</td>\n",
              "      <td>4.0</td>\n",
              "      <td>22.0</td>\n",
              "      <td>1445</td>\n",
              "      <td>0.722</td>\n",
              "      <td>1.214</td>\n",
              "      <td>0</td>\n",
              "      <td>1</td>\n",
              "      <td>0</td>\n",
              "      <td>1</td>\n",
              "      <td>0</td>\n",
              "      <td>4.0</td>\n",
              "      <td>22.0</td>\n",
              "    </tr>\n",
              "    <tr>\n",
              "      <th>100</th>\n",
              "      <td>OAS2_0048</td>\n",
              "      <td>OAS2_0048_MR4</td>\n",
              "      <td>4</td>\n",
              "      <td>970</td>\n",
              "      <td>R</td>\n",
              "      <td>68</td>\n",
              "      <td>16</td>\n",
              "      <td>1.0</td>\n",
              "      <td>7.0</td>\n",
              "      <td>1714</td>\n",
              "      <td>0.682</td>\n",
              "      <td>1.024</td>\n",
              "      <td>0</td>\n",
              "      <td>1</td>\n",
              "      <td>0</td>\n",
              "      <td>0</td>\n",
              "      <td>1</td>\n",
              "      <td>1.0</td>\n",
              "      <td>7.0</td>\n",
              "    </tr>\n",
              "    <tr>\n",
              "      <th>270</th>\n",
              "      <td>OAS2_0129</td>\n",
              "      <td>OAS2_0129_MR3</td>\n",
              "      <td>3</td>\n",
              "      <td>1591</td>\n",
              "      <td>R</td>\n",
              "      <td>82</td>\n",
              "      <td>18</td>\n",
              "      <td>1.0</td>\n",
              "      <td>29.0</td>\n",
              "      <td>1442</td>\n",
              "      <td>0.644</td>\n",
              "      <td>1.217</td>\n",
              "      <td>0</td>\n",
              "      <td>0</td>\n",
              "      <td>1</td>\n",
              "      <td>1</td>\n",
              "      <td>0</td>\n",
              "      <td>1.0</td>\n",
              "      <td>29.0</td>\n",
              "    </tr>\n",
              "    <tr>\n",
              "      <th>108</th>\n",
              "      <td>OAS2_0051</td>\n",
              "      <td>OAS2_0051_MR2</td>\n",
              "      <td>2</td>\n",
              "      <td>457</td>\n",
              "      <td>R</td>\n",
              "      <td>94</td>\n",
              "      <td>23</td>\n",
              "      <td>1.0</td>\n",
              "      <td>29.0</td>\n",
              "      <td>1474</td>\n",
              "      <td>0.696</td>\n",
              "      <td>1.190</td>\n",
              "      <td>0</td>\n",
              "      <td>0</td>\n",
              "      <td>1</td>\n",
              "      <td>1</td>\n",
              "      <td>0</td>\n",
              "      <td>1.0</td>\n",
              "      <td>29.0</td>\n",
              "    </tr>\n",
              "    <tr>\n",
              "      <th>344</th>\n",
              "      <td>OAS2_0175</td>\n",
              "      <td>OAS2_0175_MR2</td>\n",
              "      <td>2</td>\n",
              "      <td>700</td>\n",
              "      <td>R</td>\n",
              "      <td>72</td>\n",
              "      <td>16</td>\n",
              "      <td>4.0</td>\n",
              "      <td>28.0</td>\n",
              "      <td>1796</td>\n",
              "      <td>0.732</td>\n",
              "      <td>0.977</td>\n",
              "      <td>0</td>\n",
              "      <td>1</td>\n",
              "      <td>0</td>\n",
              "      <td>0</td>\n",
              "      <td>1</td>\n",
              "      <td>4.0</td>\n",
              "      <td>28.0</td>\n",
              "    </tr>\n",
              "  </tbody>\n",
              "</table>\n",
              "</div>\n",
              "      <button class=\"colab-df-convert\" onclick=\"convertToInteractive('df-b6c16046-e051-42fe-bd91-24fb27e141eb')\"\n",
              "              title=\"Convert this dataframe to an interactive table.\"\n",
              "              style=\"display:none;\">\n",
              "        \n",
              "  <svg xmlns=\"http://www.w3.org/2000/svg\" height=\"24px\"viewBox=\"0 0 24 24\"\n",
              "       width=\"24px\">\n",
              "    <path d=\"M0 0h24v24H0V0z\" fill=\"none\"/>\n",
              "    <path d=\"M18.56 5.44l.94 2.06.94-2.06 2.06-.94-2.06-.94-.94-2.06-.94 2.06-2.06.94zm-11 1L8.5 8.5l.94-2.06 2.06-.94-2.06-.94L8.5 2.5l-.94 2.06-2.06.94zm10 10l.94 2.06.94-2.06 2.06-.94-2.06-.94-.94-2.06-.94 2.06-2.06.94z\"/><path d=\"M17.41 7.96l-1.37-1.37c-.4-.4-.92-.59-1.43-.59-.52 0-1.04.2-1.43.59L10.3 9.45l-7.72 7.72c-.78.78-.78 2.05 0 2.83L4 21.41c.39.39.9.59 1.41.59.51 0 1.02-.2 1.41-.59l7.78-7.78 2.81-2.81c.8-.78.8-2.07 0-2.86zM5.41 20L4 18.59l7.72-7.72 1.47 1.35L5.41 20z\"/>\n",
              "  </svg>\n",
              "      </button>\n",
              "      \n",
              "  <style>\n",
              "    .colab-df-container {\n",
              "      display:flex;\n",
              "      flex-wrap:wrap;\n",
              "      gap: 12px;\n",
              "    }\n",
              "\n",
              "    .colab-df-convert {\n",
              "      background-color: #E8F0FE;\n",
              "      border: none;\n",
              "      border-radius: 50%;\n",
              "      cursor: pointer;\n",
              "      display: none;\n",
              "      fill: #1967D2;\n",
              "      height: 32px;\n",
              "      padding: 0 0 0 0;\n",
              "      width: 32px;\n",
              "    }\n",
              "\n",
              "    .colab-df-convert:hover {\n",
              "      background-color: #E2EBFA;\n",
              "      box-shadow: 0px 1px 2px rgba(60, 64, 67, 0.3), 0px 1px 3px 1px rgba(60, 64, 67, 0.15);\n",
              "      fill: #174EA6;\n",
              "    }\n",
              "\n",
              "    [theme=dark] .colab-df-convert {\n",
              "      background-color: #3B4455;\n",
              "      fill: #D2E3FC;\n",
              "    }\n",
              "\n",
              "    [theme=dark] .colab-df-convert:hover {\n",
              "      background-color: #434B5C;\n",
              "      box-shadow: 0px 1px 3px 1px rgba(0, 0, 0, 0.15);\n",
              "      filter: drop-shadow(0px 1px 2px rgba(0, 0, 0, 0.3));\n",
              "      fill: #FFFFFF;\n",
              "    }\n",
              "  </style>\n",
              "\n",
              "      <script>\n",
              "        const buttonEl =\n",
              "          document.querySelector('#df-b6c16046-e051-42fe-bd91-24fb27e141eb button.colab-df-convert');\n",
              "        buttonEl.style.display =\n",
              "          google.colab.kernel.accessAllowed ? 'block' : 'none';\n",
              "\n",
              "        async function convertToInteractive(key) {\n",
              "          const element = document.querySelector('#df-b6c16046-e051-42fe-bd91-24fb27e141eb');\n",
              "          const dataTable =\n",
              "            await google.colab.kernel.invokeFunction('convertToInteractive',\n",
              "                                                     [key], {});\n",
              "          if (!dataTable) return;\n",
              "\n",
              "          const docLinkHtml = 'Like what you see? Visit the ' +\n",
              "            '<a target=\"_blank\" href=https://colab.research.google.com/notebooks/data_table.ipynb>data table notebook</a>'\n",
              "            + ' to learn more about interactive tables.';\n",
              "          element.innerHTML = '';\n",
              "          dataTable['output_type'] = 'display_data';\n",
              "          await google.colab.output.renderOutput(dataTable, element);\n",
              "          const docLink = document.createElement('div');\n",
              "          docLink.innerHTML = docLinkHtml;\n",
              "          element.appendChild(docLink);\n",
              "        }\n",
              "      </script>\n",
              "    </div>\n",
              "  </div>\n",
              "  "
            ],
            "text/plain": [
              "    Subject ID         MRI ID  Visit  MR Delay  ...  F  M  SES_imputed  MMSE_imputed\n",
              "225  OAS2_0106  OAS2_0106_MR1      1         0  ...  1  0          4.0          22.0\n",
              "100  OAS2_0048  OAS2_0048_MR4      4       970  ...  0  1          1.0           7.0\n",
              "270  OAS2_0129  OAS2_0129_MR3      3      1591  ...  1  0          1.0          29.0\n",
              "108  OAS2_0051  OAS2_0051_MR2      2       457  ...  1  0          1.0          29.0\n",
              "344  OAS2_0175  OAS2_0175_MR2      2       700  ...  0  1          4.0          28.0\n",
              "\n",
              "[5 rows x 19 columns]"
            ]
          },
          "metadata": {},
          "execution_count": 14
        }
      ]
    },
    {
      "cell_type": "code",
      "source": [
        "X_test.head()"
      ],
      "metadata": {
        "execution": {
          "iopub.status.busy": "2022-02-21T22:14:44.657427Z",
          "iopub.execute_input": "2022-02-21T22:14:44.658029Z",
          "iopub.status.idle": "2022-02-21T22:14:44.680703Z",
          "shell.execute_reply.started": "2022-02-21T22:14:44.657990Z",
          "shell.execute_reply": "2022-02-21T22:14:44.680058Z"
        },
        "trusted": true,
        "colab": {
          "base_uri": "https://localhost:8080/",
          "height": 0
        },
        "id": "b0sk3UaXXdWk",
        "outputId": "fdfa16c0-4eb5-43eb-ce64-397859e4a9e5"
      },
      "execution_count": 15,
      "outputs": [
        {
          "output_type": "execute_result",
          "data": {
            "text/html": [
              "\n",
              "  <div id=\"df-a9325d33-5e61-4937-838f-f6c70075b387\">\n",
              "    <div class=\"colab-df-container\">\n",
              "      <div>\n",
              "<style scoped>\n",
              "    .dataframe tbody tr th:only-of-type {\n",
              "        vertical-align: middle;\n",
              "    }\n",
              "\n",
              "    .dataframe tbody tr th {\n",
              "        vertical-align: top;\n",
              "    }\n",
              "\n",
              "    .dataframe thead th {\n",
              "        text-align: right;\n",
              "    }\n",
              "</style>\n",
              "<table border=\"1\" class=\"dataframe\">\n",
              "  <thead>\n",
              "    <tr style=\"text-align: right;\">\n",
              "      <th></th>\n",
              "      <th>Subject ID</th>\n",
              "      <th>MRI ID</th>\n",
              "      <th>Visit</th>\n",
              "      <th>MR Delay</th>\n",
              "      <th>Hand</th>\n",
              "      <th>Age</th>\n",
              "      <th>EDUC</th>\n",
              "      <th>SES</th>\n",
              "      <th>MMSE</th>\n",
              "      <th>eTIV</th>\n",
              "      <th>nWBV</th>\n",
              "      <th>ASF</th>\n",
              "      <th>Converted</th>\n",
              "      <th>Demented</th>\n",
              "      <th>Nondemented</th>\n",
              "      <th>F</th>\n",
              "      <th>M</th>\n",
              "      <th>SES_imputed</th>\n",
              "      <th>MMSE_imputed</th>\n",
              "    </tr>\n",
              "  </thead>\n",
              "  <tbody>\n",
              "    <tr>\n",
              "      <th>173</th>\n",
              "      <td>OAS2_0079</td>\n",
              "      <td>OAS2_0079_MR3</td>\n",
              "      <td>3</td>\n",
              "      <td>1435</td>\n",
              "      <td>R</td>\n",
              "      <td>73</td>\n",
              "      <td>12</td>\n",
              "      <td>4.0</td>\n",
              "      <td>16.0</td>\n",
              "      <td>1478</td>\n",
              "      <td>0.696</td>\n",
              "      <td>1.188</td>\n",
              "      <td>0</td>\n",
              "      <td>1</td>\n",
              "      <td>0</td>\n",
              "      <td>1</td>\n",
              "      <td>0</td>\n",
              "      <td>4.0</td>\n",
              "      <td>16.0</td>\n",
              "    </tr>\n",
              "    <tr>\n",
              "      <th>205</th>\n",
              "      <td>OAS2_0098</td>\n",
              "      <td>OAS2_0098_MR1</td>\n",
              "      <td>1</td>\n",
              "      <td>0</td>\n",
              "      <td>R</td>\n",
              "      <td>66</td>\n",
              "      <td>12</td>\n",
              "      <td>4.0</td>\n",
              "      <td>30.0</td>\n",
              "      <td>1446</td>\n",
              "      <td>0.780</td>\n",
              "      <td>1.214</td>\n",
              "      <td>0</td>\n",
              "      <td>1</td>\n",
              "      <td>0</td>\n",
              "      <td>0</td>\n",
              "      <td>1</td>\n",
              "      <td>4.0</td>\n",
              "      <td>30.0</td>\n",
              "    </tr>\n",
              "    <tr>\n",
              "      <th>70</th>\n",
              "      <td>OAS2_0036</td>\n",
              "      <td>OAS2_0036_MR4</td>\n",
              "      <td>4</td>\n",
              "      <td>1770</td>\n",
              "      <td>R</td>\n",
              "      <td>73</td>\n",
              "      <td>13</td>\n",
              "      <td>4.0</td>\n",
              "      <td>30.0</td>\n",
              "      <td>1360</td>\n",
              "      <td>0.773</td>\n",
              "      <td>1.291</td>\n",
              "      <td>0</td>\n",
              "      <td>0</td>\n",
              "      <td>1</td>\n",
              "      <td>1</td>\n",
              "      <td>0</td>\n",
              "      <td>4.0</td>\n",
              "      <td>30.0</td>\n",
              "    </tr>\n",
              "    <tr>\n",
              "      <th>118</th>\n",
              "      <td>OAS2_0056</td>\n",
              "      <td>OAS2_0056_MR1</td>\n",
              "      <td>1</td>\n",
              "      <td>0</td>\n",
              "      <td>R</td>\n",
              "      <td>71</td>\n",
              "      <td>14</td>\n",
              "      <td>2.0</td>\n",
              "      <td>28.0</td>\n",
              "      <td>1461</td>\n",
              "      <td>0.756</td>\n",
              "      <td>1.202</td>\n",
              "      <td>0</td>\n",
              "      <td>0</td>\n",
              "      <td>1</td>\n",
              "      <td>1</td>\n",
              "      <td>0</td>\n",
              "      <td>2.0</td>\n",
              "      <td>28.0</td>\n",
              "    </tr>\n",
              "    <tr>\n",
              "      <th>32</th>\n",
              "      <td>OAS2_0017</td>\n",
              "      <td>OAS2_0017_MR5</td>\n",
              "      <td>5</td>\n",
              "      <td>2400</td>\n",
              "      <td>R</td>\n",
              "      <td>86</td>\n",
              "      <td>12</td>\n",
              "      <td>3.0</td>\n",
              "      <td>27.0</td>\n",
              "      <td>1813</td>\n",
              "      <td>0.761</td>\n",
              "      <td>0.968</td>\n",
              "      <td>0</td>\n",
              "      <td>0</td>\n",
              "      <td>1</td>\n",
              "      <td>0</td>\n",
              "      <td>1</td>\n",
              "      <td>3.0</td>\n",
              "      <td>27.0</td>\n",
              "    </tr>\n",
              "  </tbody>\n",
              "</table>\n",
              "</div>\n",
              "      <button class=\"colab-df-convert\" onclick=\"convertToInteractive('df-a9325d33-5e61-4937-838f-f6c70075b387')\"\n",
              "              title=\"Convert this dataframe to an interactive table.\"\n",
              "              style=\"display:none;\">\n",
              "        \n",
              "  <svg xmlns=\"http://www.w3.org/2000/svg\" height=\"24px\"viewBox=\"0 0 24 24\"\n",
              "       width=\"24px\">\n",
              "    <path d=\"M0 0h24v24H0V0z\" fill=\"none\"/>\n",
              "    <path d=\"M18.56 5.44l.94 2.06.94-2.06 2.06-.94-2.06-.94-.94-2.06-.94 2.06-2.06.94zm-11 1L8.5 8.5l.94-2.06 2.06-.94-2.06-.94L8.5 2.5l-.94 2.06-2.06.94zm10 10l.94 2.06.94-2.06 2.06-.94-2.06-.94-.94-2.06-.94 2.06-2.06.94z\"/><path d=\"M17.41 7.96l-1.37-1.37c-.4-.4-.92-.59-1.43-.59-.52 0-1.04.2-1.43.59L10.3 9.45l-7.72 7.72c-.78.78-.78 2.05 0 2.83L4 21.41c.39.39.9.59 1.41.59.51 0 1.02-.2 1.41-.59l7.78-7.78 2.81-2.81c.8-.78.8-2.07 0-2.86zM5.41 20L4 18.59l7.72-7.72 1.47 1.35L5.41 20z\"/>\n",
              "  </svg>\n",
              "      </button>\n",
              "      \n",
              "  <style>\n",
              "    .colab-df-container {\n",
              "      display:flex;\n",
              "      flex-wrap:wrap;\n",
              "      gap: 12px;\n",
              "    }\n",
              "\n",
              "    .colab-df-convert {\n",
              "      background-color: #E8F0FE;\n",
              "      border: none;\n",
              "      border-radius: 50%;\n",
              "      cursor: pointer;\n",
              "      display: none;\n",
              "      fill: #1967D2;\n",
              "      height: 32px;\n",
              "      padding: 0 0 0 0;\n",
              "      width: 32px;\n",
              "    }\n",
              "\n",
              "    .colab-df-convert:hover {\n",
              "      background-color: #E2EBFA;\n",
              "      box-shadow: 0px 1px 2px rgba(60, 64, 67, 0.3), 0px 1px 3px 1px rgba(60, 64, 67, 0.15);\n",
              "      fill: #174EA6;\n",
              "    }\n",
              "\n",
              "    [theme=dark] .colab-df-convert {\n",
              "      background-color: #3B4455;\n",
              "      fill: #D2E3FC;\n",
              "    }\n",
              "\n",
              "    [theme=dark] .colab-df-convert:hover {\n",
              "      background-color: #434B5C;\n",
              "      box-shadow: 0px 1px 3px 1px rgba(0, 0, 0, 0.15);\n",
              "      filter: drop-shadow(0px 1px 2px rgba(0, 0, 0, 0.3));\n",
              "      fill: #FFFFFF;\n",
              "    }\n",
              "  </style>\n",
              "\n",
              "      <script>\n",
              "        const buttonEl =\n",
              "          document.querySelector('#df-a9325d33-5e61-4937-838f-f6c70075b387 button.colab-df-convert');\n",
              "        buttonEl.style.display =\n",
              "          google.colab.kernel.accessAllowed ? 'block' : 'none';\n",
              "\n",
              "        async function convertToInteractive(key) {\n",
              "          const element = document.querySelector('#df-a9325d33-5e61-4937-838f-f6c70075b387');\n",
              "          const dataTable =\n",
              "            await google.colab.kernel.invokeFunction('convertToInteractive',\n",
              "                                                     [key], {});\n",
              "          if (!dataTable) return;\n",
              "\n",
              "          const docLinkHtml = 'Like what you see? Visit the ' +\n",
              "            '<a target=\"_blank\" href=https://colab.research.google.com/notebooks/data_table.ipynb>data table notebook</a>'\n",
              "            + ' to learn more about interactive tables.';\n",
              "          element.innerHTML = '';\n",
              "          dataTable['output_type'] = 'display_data';\n",
              "          await google.colab.output.renderOutput(dataTable, element);\n",
              "          const docLink = document.createElement('div');\n",
              "          docLink.innerHTML = docLinkHtml;\n",
              "          element.appendChild(docLink);\n",
              "        }\n",
              "      </script>\n",
              "    </div>\n",
              "  </div>\n",
              "  "
            ],
            "text/plain": [
              "    Subject ID         MRI ID  Visit  MR Delay  ...  F  M  SES_imputed  MMSE_imputed\n",
              "173  OAS2_0079  OAS2_0079_MR3      3      1435  ...  1  0          4.0          16.0\n",
              "205  OAS2_0098  OAS2_0098_MR1      1         0  ...  0  1          4.0          30.0\n",
              "70   OAS2_0036  OAS2_0036_MR4      4      1770  ...  1  0          4.0          30.0\n",
              "118  OAS2_0056  OAS2_0056_MR1      1         0  ...  1  0          2.0          28.0\n",
              "32   OAS2_0017  OAS2_0017_MR5      5      2400  ...  0  1          3.0          27.0\n",
              "\n",
              "[5 rows x 19 columns]"
            ]
          },
          "metadata": {},
          "execution_count": 15
        }
      ]
    },
    {
      "cell_type": "markdown",
      "source": [
        "__Cheking out the distribution after imputation__"
      ],
      "metadata": {
        "id": "8i8GvXZSXdWl"
      }
    },
    {
      "cell_type": "code",
      "source": [
        "fig , ax = plt.subplots(figsize=(8,5))\n",
        "ax2=ax.twinx()\n",
        "\n",
        "X_train['SES'].plot.density(color='red' , label='Original Distribution')\n",
        "\n",
        "X_train['SES_imputed'].plot.density(color='blue' , label='Imputed Distribution')\n",
        "\n",
        "plt.legend()\n",
        "plt.title('SES')\n",
        "plt.show()"
      ],
      "metadata": {
        "execution": {
          "iopub.status.busy": "2022-02-21T22:14:44.682228Z",
          "iopub.execute_input": "2022-02-21T22:14:44.682468Z",
          "iopub.status.idle": "2022-02-21T22:14:45.009984Z",
          "shell.execute_reply.started": "2022-02-21T22:14:44.682439Z",
          "shell.execute_reply": "2022-02-21T22:14:45.009046Z"
        },
        "trusted": true,
        "colab": {
          "base_uri": "https://localhost:8080/",
          "height": 0
        },
        "id": "BtapKIgEXdWm",
        "outputId": "30947c50-1ecb-45ea-837d-a645f1b52a19"
      },
      "execution_count": 16,
      "outputs": [
        {
          "output_type": "display_data",
          "data": {
            "image/png": "[encoded data removed]",
            "text/plain": [
              "<Figure size 576x360 with 2 Axes>"
            ]
          },
          "metadata": {
            "needs_background": "light"
          }
        }
      ]
    },
    {
      "cell_type": "code",
      "source": [
        "fig , ax = plt.subplots(figsize=(8,5))\n",
        "ax2=ax.twinx()\n",
        "\n",
        "X_train['MMSE'].plot.density(color='red' , label='Original Distribution')\n",
        "\n",
        "X_train['MMSE_imputed'].plot.density(color='blue' , label='Imputed Distribution')\n",
        "\n",
        "plt.legend()\n",
        "plt.title('MMSE')\n",
        "plt.show()"
      ],
      "metadata": {
        "execution": {
          "iopub.status.busy": "2022-02-21T22:14:45.011094Z",
          "iopub.execute_input": "2022-02-21T22:14:45.011307Z",
          "iopub.status.idle": "2022-02-21T22:14:45.324287Z",
          "shell.execute_reply.started": "2022-02-21T22:14:45.011280Z",
          "shell.execute_reply": "2022-02-21T22:14:45.323477Z"
        },
        "trusted": true,
        "colab": {
          "base_uri": "https://localhost:8080/",
          "height": 0
        },
        "id": "YqfuM-whXdWo",
        "outputId": "c9370307-ace4-441e-aa2e-d096c031095a"
      },
      "execution_count": 17,
      "outputs": [
        {
          "output_type": "display_data",
          "data": {
            "image/png": "[encoded data removed]",
            "text/plain": [
              "<Figure size 576x360 with 2 Axes>"
            ]
          },
          "metadata": {
            "needs_background": "light"
          }
        }
      ]
    },
    {
      "cell_type": "markdown",
      "source": [
        "We can see the there is the distortion of the original varible distribution in Variable `SSE` as the missing data is 5%.\n",
        "\n",
        "But not in the `MMSE` variable"
      ],
      "metadata": {
        "id": "m4cf8Zk9XdWq"
      }
    },
    {
      "cell_type": "markdown",
      "source": [
        "__Variance__"
      ],
      "metadata": {
        "id": "ZE3Q5HIvXdWt"
      }
    },
    {
      "cell_type": "code",
      "source": [
        "X_train['SES'].var() , X_train['SES_imputed'].var()  \n",
        "# so we can also see the change in the variance"
      ],
      "metadata": {
        "execution": {
          "iopub.status.busy": "2022-02-21T22:14:45.325907Z",
          "iopub.execute_input": "2022-02-21T22:14:45.326710Z",
          "iopub.status.idle": "2022-02-21T22:14:45.333979Z",
          "shell.execute_reply.started": "2022-02-21T22:14:45.326657Z",
          "shell.execute_reply": "2022-02-21T22:14:45.333143Z"
        },
        "trusted": true,
        "colab": {
          "base_uri": "https://localhost:8080/"
        },
        "id": "24lKv198XdWv",
        "outputId": "6185f70f-3033-4869-bbaf-244feafef238"
      },
      "execution_count": 18,
      "outputs": [
        {
          "output_type": "execute_result",
          "data": {
            "text/plain": [
              "(1.331213245501123, 1.2703319548957133)"
            ]
          },
          "metadata": {},
          "execution_count": 18
        }
      ]
    },
    {
      "cell_type": "code",
      "source": [
        "X_train['MMSE'].var() , X_train['MMSE_imputed'].var()  \n",
        "# almost same "
      ],
      "metadata": {
        "execution": {
          "iopub.status.busy": "2022-02-21T22:14:45.335293Z",
          "iopub.execute_input": "2022-02-21T22:14:45.335513Z",
          "iopub.status.idle": "2022-02-21T22:14:45.345824Z",
          "shell.execute_reply.started": "2022-02-21T22:14:45.335486Z",
          "shell.execute_reply": "2022-02-21T22:14:45.344998Z"
        },
        "trusted": true,
        "colab": {
          "base_uri": "https://localhost:8080/"
        },
        "id": "ix0BHeEAXdWv",
        "outputId": "826343c2-7227-4375-bc43-ef287bb67f91"
      },
      "execution_count": 19,
      "outputs": [
        {
          "output_type": "execute_result",
          "data": {
            "text/plain": [
              "(14.179374713696708, 14.104772557792709)"
            ]
          },
          "metadata": {},
          "execution_count": 19
        }
      ]
    },
    {
      "cell_type": "markdown",
      "source": [
        "__Covariance__"
      ],
      "metadata": {
        "id": "LY_DqFDEXdWw"
      }
    },
    {
      "cell_type": "code",
      "source": [
        "X_train.cov()"
      ],
      "metadata": {
        "execution": {
          "iopub.status.busy": "2022-02-21T22:14:45.348521Z",
          "iopub.execute_input": "2022-02-21T22:14:45.349587Z",
          "iopub.status.idle": "2022-02-21T22:14:45.383297Z",
          "shell.execute_reply.started": "2022-02-21T22:14:45.349553Z",
          "shell.execute_reply": "2022-02-21T22:14:45.382659Z"
        },
        "trusted": true,
        "colab": {
          "base_uri": "https://localhost:8080/",
          "height": 0
        },
        "id": "VhNxb6CUXdWx",
        "outputId": "6b3b942f-b133-46b7-b454-7d05dabd75dd"
      },
      "execution_count": 20,
      "outputs": [
        {
          "output_type": "execute_result",
          "data": {
            "text/html": [
              "\n",
              "  <div id=\"df-85350a25-b765-44f4-8ab6-75e583791b2d\">\n",
              "    <div class=\"colab-df-container\">\n",
              "      <div>\n",
              "<style scoped>\n",
              "    .dataframe tbody tr th:only-of-type {\n",
              "        vertical-align: middle;\n",
              "    }\n",
              "\n",
              "    .dataframe tbody tr th {\n",
              "        vertical-align: top;\n",
              "    }\n",
              "\n",
              "    .dataframe thead th {\n",
              "        text-align: right;\n",
              "    }\n",
              "</style>\n",
              "<table border=\"1\" class=\"dataframe\">\n",
              "  <thead>\n",
              "    <tr style=\"text-align: right;\">\n",
              "      <th></th>\n",
              "      <th>Visit</th>\n",
              "      <th>MR Delay</th>\n",
              "      <th>Age</th>\n",
              "      <th>EDUC</th>\n",
              "      <th>SES</th>\n",
              "      <th>MMSE</th>\n",
              "      <th>eTIV</th>\n",
              "      <th>nWBV</th>\n",
              "      <th>ASF</th>\n",
              "      <th>Converted</th>\n",
              "      <th>Demented</th>\n",
              "      <th>Nondemented</th>\n",
              "      <th>F</th>\n",
              "      <th>M</th>\n",
              "      <th>SES_imputed</th>\n",
              "      <th>MMSE_imputed</th>\n",
              "    </tr>\n",
              "  </thead>\n",
              "  <tbody>\n",
              "    <tr>\n",
              "      <th>Visit</th>\n",
              "      <td>0.811968</td>\n",
              "      <td>515.336271</td>\n",
              "      <td>0.886358</td>\n",
              "      <td>0.087678</td>\n",
              "      <td>-0.042503</td>\n",
              "      <td>-0.104776</td>\n",
              "      <td>20.697015</td>\n",
              "      <td>-0.003238</td>\n",
              "      <td>-0.017401</td>\n",
              "      <td>0.003638</td>\n",
              "      <td>-0.044042</td>\n",
              "      <td>0.040404</td>\n",
              "      <td>-0.028021</td>\n",
              "      <td>0.028021</td>\n",
              "      <td>-0.041828</td>\n",
              "      <td>-0.096604</td>\n",
              "    </tr>\n",
              "    <tr>\n",
              "      <th>MR Delay</th>\n",
              "      <td>515.336271</td>\n",
              "      <td>395815.868676</td>\n",
              "      <td>730.822102</td>\n",
              "      <td>97.291427</td>\n",
              "      <td>-3.478181</td>\n",
              "      <td>188.181688</td>\n",
              "      <td>15685.625201</td>\n",
              "      <td>-1.388775</td>\n",
              "      <td>-13.121528</td>\n",
              "      <td>8.424604</td>\n",
              "      <td>-49.513830</td>\n",
              "      <td>41.089226</td>\n",
              "      <td>-12.570470</td>\n",
              "      <td>12.570470</td>\n",
              "      <td>-1.712336</td>\n",
              "      <td>189.603518</td>\n",
              "    </tr>\n",
              "    <tr>\n",
              "      <th>Age</th>\n",
              "      <td>0.886358</td>\n",
              "      <td>730.822102</td>\n",
              "      <td>56.575565</td>\n",
              "      <td>-1.316939</td>\n",
              "      <td>-0.309508</td>\n",
              "      <td>1.980039</td>\n",
              "      <td>28.469550</td>\n",
              "      <td>-0.136960</td>\n",
              "      <td>-0.015140</td>\n",
              "      <td>0.268479</td>\n",
              "      <td>-0.303833</td>\n",
              "      <td>0.035354</td>\n",
              "      <td>0.316656</td>\n",
              "      <td>-0.316656</td>\n",
              "      <td>-0.284094</td>\n",
              "      <td>1.952851</td>\n",
              "    </tr>\n",
              "    <tr>\n",
              "      <th>EDUC</th>\n",
              "      <td>0.087678</td>\n",
              "      <td>97.291427</td>\n",
              "      <td>-1.316939</td>\n",
              "      <td>8.409565</td>\n",
              "      <td>-2.435173</td>\n",
              "      <td>1.883406</td>\n",
              "      <td>143.208912</td>\n",
              "      <td>-0.001161</td>\n",
              "      <td>-0.106553</td>\n",
              "      <td>0.088491</td>\n",
              "      <td>-0.369636</td>\n",
              "      <td>0.281145</td>\n",
              "      <td>-0.121641</td>\n",
              "      <td>0.121641</td>\n",
              "      <td>-2.259191</td>\n",
              "      <td>1.840339</td>\n",
              "    </tr>\n",
              "    <tr>\n",
              "      <th>SES</th>\n",
              "      <td>-0.042503</td>\n",
              "      <td>-3.478181</td>\n",
              "      <td>-0.309508</td>\n",
              "      <td>-2.435173</td>\n",
              "      <td>1.331213</td>\n",
              "      <td>-0.571969</td>\n",
              "      <td>-54.256076</td>\n",
              "      <td>0.003587</td>\n",
              "      <td>0.041696</td>\n",
              "      <td>-0.077408</td>\n",
              "      <td>0.111885</td>\n",
              "      <td>-0.034477</td>\n",
              "      <td>0.011812</td>\n",
              "      <td>-0.011812</td>\n",
              "      <td>1.331213</td>\n",
              "      <td>-0.571969</td>\n",
              "    </tr>\n",
              "    <tr>\n",
              "      <th>MMSE</th>\n",
              "      <td>-0.104776</td>\n",
              "      <td>188.181688</td>\n",
              "      <td>1.980039</td>\n",
              "      <td>1.883406</td>\n",
              "      <td>-0.571969</td>\n",
              "      <td>14.179375</td>\n",
              "      <td>-12.680486</td>\n",
              "      <td>0.050360</td>\n",
              "      <td>0.014042</td>\n",
              "      <td>0.154375</td>\n",
              "      <td>-1.172229</td>\n",
              "      <td>1.017854</td>\n",
              "      <td>0.365552</td>\n",
              "      <td>-0.365552</td>\n",
              "      <td>-0.516285</td>\n",
              "      <td>14.179375</td>\n",
              "    </tr>\n",
              "    <tr>\n",
              "      <th>eTIV</th>\n",
              "      <td>20.697015</td>\n",
              "      <td>15685.625201</td>\n",
              "      <td>28.469550</td>\n",
              "      <td>143.208912</td>\n",
              "      <td>-54.256076</td>\n",
              "      <td>-12.680486</td>\n",
              "      <td>30800.405215</td>\n",
              "      <td>-1.176455</td>\n",
              "      <td>-23.828714</td>\n",
              "      <td>-2.050189</td>\n",
              "      <td>-0.831966</td>\n",
              "      <td>2.882155</td>\n",
              "      <td>-46.432242</td>\n",
              "      <td>46.432242</td>\n",
              "      <td>-49.979775</td>\n",
              "      <td>-16.410684</td>\n",
              "    </tr>\n",
              "    <tr>\n",
              "      <th>nWBV</th>\n",
              "      <td>-0.003238</td>\n",
              "      <td>-1.388775</td>\n",
              "      <td>-0.136960</td>\n",
              "      <td>-0.001161</td>\n",
              "      <td>0.003587</td>\n",
              "      <td>0.050360</td>\n",
              "      <td>-1.176455</td>\n",
              "      <td>0.001368</td>\n",
              "      <td>0.000923</td>\n",
              "      <td>-0.000390</td>\n",
              "      <td>-0.005039</td>\n",
              "      <td>0.005429</td>\n",
              "      <td>0.003876</td>\n",
              "      <td>-0.003876</td>\n",
              "      <td>0.003550</td>\n",
              "      <td>0.050113</td>\n",
              "    </tr>\n",
              "    <tr>\n",
              "      <th>ASF</th>\n",
              "      <td>-0.017401</td>\n",
              "      <td>-13.121528</td>\n",
              "      <td>-0.015140</td>\n",
              "      <td>-0.106553</td>\n",
              "      <td>0.041696</td>\n",
              "      <td>0.014042</td>\n",
              "      <td>-23.828714</td>\n",
              "      <td>0.000923</td>\n",
              "      <td>0.018866</td>\n",
              "      <td>0.000948</td>\n",
              "      <td>0.000803</td>\n",
              "      <td>-0.001751</td>\n",
              "      <td>0.035655</td>\n",
              "      <td>-0.035655</td>\n",
              "      <td>0.038284</td>\n",
              "      <td>0.017635</td>\n",
              "    </tr>\n",
              "    <tr>\n",
              "      <th>Converted</th>\n",
              "      <td>0.003638</td>\n",
              "      <td>8.424604</td>\n",
              "      <td>0.268479</td>\n",
              "      <td>0.088491</td>\n",
              "      <td>-0.077408</td>\n",
              "      <td>0.154375</td>\n",
              "      <td>-2.050189</td>\n",
              "      <td>-0.000390</td>\n",
              "      <td>0.000948</td>\n",
              "      <td>0.096174</td>\n",
              "      <td>-0.042302</td>\n",
              "      <td>-0.053872</td>\n",
              "      <td>0.009242</td>\n",
              "      <td>-0.009242</td>\n",
              "      <td>-0.070571</td>\n",
              "      <td>0.152057</td>\n",
              "    </tr>\n",
              "    <tr>\n",
              "      <th>Demented</th>\n",
              "      <td>-0.044042</td>\n",
              "      <td>-49.513830</td>\n",
              "      <td>-0.303833</td>\n",
              "      <td>-0.369636</td>\n",
              "      <td>0.111885</td>\n",
              "      <td>-1.172229</td>\n",
              "      <td>-0.831966</td>\n",
              "      <td>-0.005039</td>\n",
              "      <td>0.000803</td>\n",
              "      <td>-0.042302</td>\n",
              "      <td>0.239272</td>\n",
              "      <td>-0.196970</td>\n",
              "      <td>-0.069848</td>\n",
              "      <td>0.069848</td>\n",
              "      <td>0.090774</td>\n",
              "      <td>-1.157108</td>\n",
              "    </tr>\n",
              "    <tr>\n",
              "      <th>Nondemented</th>\n",
              "      <td>0.040404</td>\n",
              "      <td>41.089226</td>\n",
              "      <td>0.035354</td>\n",
              "      <td>0.281145</td>\n",
              "      <td>-0.034477</td>\n",
              "      <td>1.017854</td>\n",
              "      <td>2.882155</td>\n",
              "      <td>0.005429</td>\n",
              "      <td>-0.001751</td>\n",
              "      <td>-0.053872</td>\n",
              "      <td>-0.196970</td>\n",
              "      <td>0.250842</td>\n",
              "      <td>0.060606</td>\n",
              "      <td>-0.060606</td>\n",
              "      <td>-0.020202</td>\n",
              "      <td>1.005051</td>\n",
              "    </tr>\n",
              "    <tr>\n",
              "      <th>F</th>\n",
              "      <td>-0.028021</td>\n",
              "      <td>-12.570470</td>\n",
              "      <td>0.316656</td>\n",
              "      <td>-0.121641</td>\n",
              "      <td>0.011812</td>\n",
              "      <td>0.365552</td>\n",
              "      <td>-46.432242</td>\n",
              "      <td>0.003876</td>\n",
              "      <td>0.035655</td>\n",
              "      <td>0.009242</td>\n",
              "      <td>-0.069848</td>\n",
              "      <td>0.060606</td>\n",
              "      <td>0.245859</td>\n",
              "      <td>-0.245859</td>\n",
              "      <td>0.012926</td>\n",
              "      <td>0.368201</td>\n",
              "    </tr>\n",
              "    <tr>\n",
              "      <th>M</th>\n",
              "      <td>0.028021</td>\n",
              "      <td>12.570470</td>\n",
              "      <td>-0.316656</td>\n",
              "      <td>0.121641</td>\n",
              "      <td>-0.011812</td>\n",
              "      <td>-0.365552</td>\n",
              "      <td>46.432242</td>\n",
              "      <td>-0.003876</td>\n",
              "      <td>-0.035655</td>\n",
              "      <td>-0.009242</td>\n",
              "      <td>0.069848</td>\n",
              "      <td>-0.060606</td>\n",
              "      <td>-0.245859</td>\n",
              "      <td>0.245859</td>\n",
              "      <td>-0.012926</td>\n",
              "      <td>-0.368201</td>\n",
              "    </tr>\n",
              "    <tr>\n",
              "      <th>SES_imputed</th>\n",
              "      <td>-0.041828</td>\n",
              "      <td>-1.712336</td>\n",
              "      <td>-0.284094</td>\n",
              "      <td>-2.259191</td>\n",
              "      <td>1.331213</td>\n",
              "      <td>-0.516285</td>\n",
              "      <td>-49.979775</td>\n",
              "      <td>0.003550</td>\n",
              "      <td>0.038284</td>\n",
              "      <td>-0.070571</td>\n",
              "      <td>0.090774</td>\n",
              "      <td>-0.020202</td>\n",
              "      <td>0.012926</td>\n",
              "      <td>-0.012926</td>\n",
              "      <td>1.270332</td>\n",
              "      <td>-0.517999</td>\n",
              "    </tr>\n",
              "    <tr>\n",
              "      <th>MMSE_imputed</th>\n",
              "      <td>-0.096604</td>\n",
              "      <td>189.603518</td>\n",
              "      <td>1.952851</td>\n",
              "      <td>1.840339</td>\n",
              "      <td>-0.571969</td>\n",
              "      <td>14.179375</td>\n",
              "      <td>-16.410684</td>\n",
              "      <td>0.050113</td>\n",
              "      <td>0.017635</td>\n",
              "      <td>0.152057</td>\n",
              "      <td>-1.157108</td>\n",
              "      <td>1.005051</td>\n",
              "      <td>0.368201</td>\n",
              "      <td>-0.368201</td>\n",
              "      <td>-0.517999</td>\n",
              "      <td>14.104773</td>\n",
              "    </tr>\n",
              "  </tbody>\n",
              "</table>\n",
              "</div>\n",
              "      <button class=\"colab-df-convert\" onclick=\"convertToInteractive('df-85350a25-b765-44f4-8ab6-75e583791b2d')\"\n",
              "              title=\"Convert this dataframe to an interactive table.\"\n",
              "              style=\"display:none;\">\n",
              "        \n",
              "  <svg xmlns=\"http://www.w3.org/2000/svg\" height=\"24px\"viewBox=\"0 0 24 24\"\n",
              "       width=\"24px\">\n",
              "    <path d=\"M0 0h24v24H0V0z\" fill=\"none\"/>\n",
              "    <path d=\"M18.56 5.44l.94 2.06.94-2.06 2.06-.94-2.06-.94-.94-2.06-.94 2.06-2.06.94zm-11 1L8.5 8.5l.94-2.06 2.06-.94-2.06-.94L8.5 2.5l-.94 2.06-2.06.94zm10 10l.94 2.06.94-2.06 2.06-.94-2.06-.94-.94-2.06-.94 2.06-2.06.94z\"/><path d=\"M17.41 7.96l-1.37-1.37c-.4-.4-.92-.59-1.43-.59-.52 0-1.04.2-1.43.59L10.3 9.45l-7.72 7.72c-.78.78-.78 2.05 0 2.83L4 21.41c.39.39.9.59 1.41.59.51 0 1.02-.2 1.41-.59l7.78-7.78 2.81-2.81c.8-.78.8-2.07 0-2.86zM5.41 20L4 18.59l7.72-7.72 1.47 1.35L5.41 20z\"/>\n",
              "  </svg>\n",
              "      </button>\n",
              "      \n",
              "  <style>\n",
              "    .colab-df-container {\n",
              "      display:flex;\n",
              "      flex-wrap:wrap;\n",
              "      gap: 12px;\n",
              "    }\n",
              "\n",
              "    .colab-df-convert {\n",
              "      background-color: #E8F0FE;\n",
              "      border: none;\n",
              "      border-radius: 50%;\n",
              "      cursor: pointer;\n",
              "      display: none;\n",
              "      fill: #1967D2;\n",
              "      height: 32px;\n",
              "      padding: 0 0 0 0;\n",
              "      width: 32px;\n",
              "    }\n",
              "\n",
              "    .colab-df-convert:hover {\n",
              "      background-color: #E2EBFA;\n",
              "      box-shadow: 0px 1px 2px rgba(60, 64, 67, 0.3), 0px 1px 3px 1px rgba(60, 64, 67, 0.15);\n",
              "      fill: #174EA6;\n",
              "    }\n",
              "\n",
              "    [theme=dark] .colab-df-convert {\n",
              "      background-color: #3B4455;\n",
              "      fill: #D2E3FC;\n",
              "    }\n",
              "\n",
              "    [theme=dark] .colab-df-convert:hover {\n",
              "      background-color: #434B5C;\n",
              "      box-shadow: 0px 1px 3px 1px rgba(0, 0, 0, 0.15);\n",
              "      filter: drop-shadow(0px 1px 2px rgba(0, 0, 0, 0.3));\n",
              "      fill: #FFFFFF;\n",
              "    }\n",
              "  </style>\n",
              "\n",
              "      <script>\n",
              "        const buttonEl =\n",
              "          document.querySelector('#df-85350a25-b765-44f4-8ab6-75e583791b2d button.colab-df-convert');\n",
              "        buttonEl.style.display =\n",
              "          google.colab.kernel.accessAllowed ? 'block' : 'none';\n",
              "\n",
              "        async function convertToInteractive(key) {\n",
              "          const element = document.querySelector('#df-85350a25-b765-44f4-8ab6-75e583791b2d');\n",
              "          const dataTable =\n",
              "            await google.colab.kernel.invokeFunction('convertToInteractive',\n",
              "                                                     [key], {});\n",
              "          if (!dataTable) return;\n",
              "\n",
              "          const docLinkHtml = 'Like what you see? Visit the ' +\n",
              "            '<a target=\"_blank\" href=https://colab.research.google.com/notebooks/data_table.ipynb>data table notebook</a>'\n",
              "            + ' to learn more about interactive tables.';\n",
              "          element.innerHTML = '';\n",
              "          dataTable['output_type'] = 'display_data';\n",
              "          await google.colab.output.renderOutput(dataTable, element);\n",
              "          const docLink = document.createElement('div');\n",
              "          docLink.innerHTML = docLinkHtml;\n",
              "          element.appendChild(docLink);\n",
              "        }\n",
              "      </script>\n",
              "    </div>\n",
              "  </div>\n",
              "  "
            ],
            "text/plain": [
              "                   Visit       MR Delay  ...  SES_imputed  MMSE_imputed\n",
              "Visit           0.811968     515.336271  ...    -0.041828     -0.096604\n",
              "MR Delay      515.336271  395815.868676  ...    -1.712336    189.603518\n",
              "Age             0.886358     730.822102  ...    -0.284094      1.952851\n",
              "EDUC            0.087678      97.291427  ...    -2.259191      1.840339\n",
              "SES            -0.042503      -3.478181  ...     1.331213     -0.571969\n",
              "MMSE           -0.104776     188.181688  ...    -0.516285     14.179375\n",
              "eTIV           20.697015   15685.625201  ...   -49.979775    -16.410684\n",
              "nWBV           -0.003238      -1.388775  ...     0.003550      0.050113\n",
              "ASF            -0.017401     -13.121528  ...     0.038284      0.017635\n",
              "Converted       0.003638       8.424604  ...    -0.070571      0.152057\n",
              "Demented       -0.044042     -49.513830  ...     0.090774     -1.157108\n",
              "Nondemented     0.040404      41.089226  ...    -0.020202      1.005051\n",
              "F              -0.028021     -12.570470  ...     0.012926      0.368201\n",
              "M               0.028021      12.570470  ...    -0.012926     -0.368201\n",
              "SES_imputed    -0.041828      -1.712336  ...     1.270332     -0.517999\n",
              "MMSE_imputed   -0.096604     189.603518  ...    -0.517999     14.104773\n",
              "\n",
              "[16 rows x 16 columns]"
            ]
          },
          "metadata": {},
          "execution_count": 20
        }
      ]
    },
    {
      "cell_type": "markdown",
      "source": [
        "We can see that Variable covariance is also changed for the `SES` variable but for the `MMSE` is almost same there is no change"
      ],
      "metadata": {
        "id": "iEdPwy43XdWy"
      }
    },
    {
      "cell_type": "markdown",
      "source": [
        "So after all the inferences derived after the imputation . We come to a conclusion to make the additional missing indicator for the variable `SES`"
      ],
      "metadata": {
        "id": "C-0Ly_j9XdWz"
      }
    },
    {
      "cell_type": "code",
      "source": [
        "# 1 for missing and 0 for not missing\n",
        "\n",
        "X_train['missing_indicator_SES'] = np.where(X_train['SES'].isnull() , 1 , 0)  \n",
        "X_test['missing_indicator_SES'] = np.where(X_test['SES'].isnull() , 1 , 0)"
      ],
      "metadata": {
        "execution": {
          "iopub.status.busy": "2022-02-21T22:14:45.384340Z",
          "iopub.execute_input": "2022-02-21T22:14:45.384690Z",
          "iopub.status.idle": "2022-02-21T22:14:45.390440Z",
          "shell.execute_reply.started": "2022-02-21T22:14:45.384649Z",
          "shell.execute_reply": "2022-02-21T22:14:45.389615Z"
        },
        "trusted": true,
        "id": "WuKQ9LumXdWz"
      },
      "execution_count": 21,
      "outputs": []
    },
    {
      "cell_type": "code",
      "source": [
        "X_train.head()"
      ],
      "metadata": {
        "scrolled": true,
        "execution": {
          "iopub.status.busy": "2022-02-21T22:14:45.391856Z",
          "iopub.execute_input": "2022-02-21T22:14:45.392319Z",
          "iopub.status.idle": "2022-02-21T22:14:45.423307Z",
          "shell.execute_reply.started": "2022-02-21T22:14:45.392277Z",
          "shell.execute_reply": "2022-02-21T22:14:45.422318Z"
        },
        "trusted": true,
        "colab": {
          "base_uri": "https://localhost:8080/",
          "height": 0
        },
        "id": "xUMq_H5aXdW0",
        "outputId": "8505f62a-7828-482c-8942-946466120401"
      },
      "execution_count": 22,
      "outputs": [
        {
          "output_type": "execute_result",
          "data": {
            "text/html": [
              "\n",
              "  <div id=\"df-f6b00476-9691-4288-9641-16050ba0e3a1\">\n",
              "    <div class=\"colab-df-container\">\n",
              "      <div>\n",
              "<style scoped>\n",
              "    .dataframe tbody tr th:only-of-type {\n",
              "        vertical-align: middle;\n",
              "    }\n",
              "\n",
              "    .dataframe tbody tr th {\n",
              "        vertical-align: top;\n",
              "    }\n",
              "\n",
              "    .dataframe thead th {\n",
              "        text-align: right;\n",
              "    }\n",
              "</style>\n",
              "<table border=\"1\" class=\"dataframe\">\n",
              "  <thead>\n",
              "    <tr style=\"text-align: right;\">\n",
              "      <th></th>\n",
              "      <th>Subject ID</th>\n",
              "      <th>MRI ID</th>\n",
              "      <th>Visit</th>\n",
              "      <th>MR Delay</th>\n",
              "      <th>Hand</th>\n",
              "      <th>Age</th>\n",
              "      <th>EDUC</th>\n",
              "      <th>SES</th>\n",
              "      <th>MMSE</th>\n",
              "      <th>eTIV</th>\n",
              "      <th>nWBV</th>\n",
              "      <th>ASF</th>\n",
              "      <th>Converted</th>\n",
              "      <th>Demented</th>\n",
              "      <th>Nondemented</th>\n",
              "      <th>F</th>\n",
              "      <th>M</th>\n",
              "      <th>SES_imputed</th>\n",
              "      <th>MMSE_imputed</th>\n",
              "      <th>missing_indicator_SES</th>\n",
              "    </tr>\n",
              "  </thead>\n",
              "  <tbody>\n",
              "    <tr>\n",
              "      <th>225</th>\n",
              "      <td>OAS2_0106</td>\n",
              "      <td>OAS2_0106_MR1</td>\n",
              "      <td>1</td>\n",
              "      <td>0</td>\n",
              "      <td>R</td>\n",
              "      <td>70</td>\n",
              "      <td>11</td>\n",
              "      <td>4.0</td>\n",
              "      <td>22.0</td>\n",
              "      <td>1445</td>\n",
              "      <td>0.722</td>\n",
              "      <td>1.214</td>\n",
              "      <td>0</td>\n",
              "      <td>1</td>\n",
              "      <td>0</td>\n",
              "      <td>1</td>\n",
              "      <td>0</td>\n",
              "      <td>4.0</td>\n",
              "      <td>22.0</td>\n",
              "      <td>0</td>\n",
              "    </tr>\n",
              "    <tr>\n",
              "      <th>100</th>\n",
              "      <td>OAS2_0048</td>\n",
              "      <td>OAS2_0048_MR4</td>\n",
              "      <td>4</td>\n",
              "      <td>970</td>\n",
              "      <td>R</td>\n",
              "      <td>68</td>\n",
              "      <td>16</td>\n",
              "      <td>1.0</td>\n",
              "      <td>7.0</td>\n",
              "      <td>1714</td>\n",
              "      <td>0.682</td>\n",
              "      <td>1.024</td>\n",
              "      <td>0</td>\n",
              "      <td>1</td>\n",
              "      <td>0</td>\n",
              "      <td>0</td>\n",
              "      <td>1</td>\n",
              "      <td>1.0</td>\n",
              "      <td>7.0</td>\n",
              "      <td>0</td>\n",
              "    </tr>\n",
              "    <tr>\n",
              "      <th>270</th>\n",
              "      <td>OAS2_0129</td>\n",
              "      <td>OAS2_0129_MR3</td>\n",
              "      <td>3</td>\n",
              "      <td>1591</td>\n",
              "      <td>R</td>\n",
              "      <td>82</td>\n",
              "      <td>18</td>\n",
              "      <td>1.0</td>\n",
              "      <td>29.0</td>\n",
              "      <td>1442</td>\n",
              "      <td>0.644</td>\n",
              "      <td>1.217</td>\n",
              "      <td>0</td>\n",
              "      <td>0</td>\n",
              "      <td>1</td>\n",
              "      <td>1</td>\n",
              "      <td>0</td>\n",
              "      <td>1.0</td>\n",
              "      <td>29.0</td>\n",
              "      <td>0</td>\n",
              "    </tr>\n",
              "    <tr>\n",
              "      <th>108</th>\n",
              "      <td>OAS2_0051</td>\n",
              "      <td>OAS2_0051_MR2</td>\n",
              "      <td>2</td>\n",
              "      <td>457</td>\n",
              "      <td>R</td>\n",
              "      <td>94</td>\n",
              "      <td>23</td>\n",
              "      <td>1.0</td>\n",
              "      <td>29.0</td>\n",
              "      <td>1474</td>\n",
              "      <td>0.696</td>\n",
              "      <td>1.190</td>\n",
              "      <td>0</td>\n",
              "      <td>0</td>\n",
              "      <td>1</td>\n",
              "      <td>1</td>\n",
              "      <td>0</td>\n",
              "      <td>1.0</td>\n",
              "      <td>29.0</td>\n",
              "      <td>0</td>\n",
              "    </tr>\n",
              "    <tr>\n",
              "      <th>344</th>\n",
              "      <td>OAS2_0175</td>\n",
              "      <td>OAS2_0175_MR2</td>\n",
              "      <td>2</td>\n",
              "      <td>700</td>\n",
              "      <td>R</td>\n",
              "      <td>72</td>\n",
              "      <td>16</td>\n",
              "      <td>4.0</td>\n",
              "      <td>28.0</td>\n",
              "      <td>1796</td>\n",
              "      <td>0.732</td>\n",
              "      <td>0.977</td>\n",
              "      <td>0</td>\n",
              "      <td>1</td>\n",
              "      <td>0</td>\n",
              "      <td>0</td>\n",
              "      <td>1</td>\n",
              "      <td>4.0</td>\n",
              "      <td>28.0</td>\n",
              "      <td>0</td>\n",
              "    </tr>\n",
              "  </tbody>\n",
              "</table>\n",
              "</div>\n",
              "      <button class=\"colab-df-convert\" onclick=\"convertToInteractive('df-f6b00476-9691-4288-9641-16050ba0e3a1')\"\n",
              "              title=\"Convert this dataframe to an interactive table.\"\n",
              "              style=\"display:none;\">\n",
              "        \n",
              "  <svg xmlns=\"http://www.w3.org/2000/svg\" height=\"24px\"viewBox=\"0 0 24 24\"\n",
              "       width=\"24px\">\n",
              "    <path d=\"M0 0h24v24H0V0z\" fill=\"none\"/>\n",
              "    <path d=\"M18.56 5.44l.94 2.06.94-2.06 2.06-.94-2.06-.94-.94-2.06-.94 2.06-2.06.94zm-11 1L8.5 8.5l.94-2.06 2.06-.94-2.06-.94L8.5 2.5l-.94 2.06-2.06.94zm10 10l.94 2.06.94-2.06 2.06-.94-2.06-.94-.94-2.06-.94 2.06-2.06.94z\"/><path d=\"M17.41 7.96l-1.37-1.37c-.4-.4-.92-.59-1.43-.59-.52 0-1.04.2-1.43.59L10.3 9.45l-7.72 7.72c-.78.78-.78 2.05 0 2.83L4 21.41c.39.39.9.59 1.41.59.51 0 1.02-.2 1.41-.59l7.78-7.78 2.81-2.81c.8-.78.8-2.07 0-2.86zM5.41 20L4 18.59l7.72-7.72 1.47 1.35L5.41 20z\"/>\n",
              "  </svg>\n",
              "      </button>\n",
              "      \n",
              "  <style>\n",
              "    .colab-df-container {\n",
              "      display:flex;\n",
              "      flex-wrap:wrap;\n",
              "      gap: 12px;\n",
              "    }\n",
              "\n",
              "    .colab-df-convert {\n",
              "      background-color: #E8F0FE;\n",
              "      border: none;\n",
              "      border-radius: 50%;\n",
              "      cursor: pointer;\n",
              "      display: none;\n",
              "      fill: #1967D2;\n",
              "      height: 32px;\n",
              "      padding: 0 0 0 0;\n",
              "      width: 32px;\n",
              "    }\n",
              "\n",
              "    .colab-df-convert:hover {\n",
              "      background-color: #E2EBFA;\n",
              "      box-shadow: 0px 1px 2px rgba(60, 64, 67, 0.3), 0px 1px 3px 1px rgba(60, 64, 67, 0.15);\n",
              "      fill: #174EA6;\n",
              "    }\n",
              "\n",
              "    [theme=dark] .colab-df-convert {\n",
              "      background-color: #3B4455;\n",
              "      fill: #D2E3FC;\n",
              "    }\n",
              "\n",
              "    [theme=dark] .colab-df-convert:hover {\n",
              "      background-color: #434B5C;\n",
              "      box-shadow: 0px 1px 3px 1px rgba(0, 0, 0, 0.15);\n",
              "      filter: drop-shadow(0px 1px 2px rgba(0, 0, 0, 0.3));\n",
              "      fill: #FFFFFF;\n",
              "    }\n",
              "  </style>\n",
              "\n",
              "      <script>\n",
              "        const buttonEl =\n",
              "          document.querySelector('#df-f6b00476-9691-4288-9641-16050ba0e3a1 button.colab-df-convert');\n",
              "        buttonEl.style.display =\n",
              "          google.colab.kernel.accessAllowed ? 'block' : 'none';\n",
              "\n",
              "        async function convertToInteractive(key) {\n",
              "          const element = document.querySelector('#df-f6b00476-9691-4288-9641-16050ba0e3a1');\n",
              "          const dataTable =\n",
              "            await google.colab.kernel.invokeFunction('convertToInteractive',\n",
              "                                                     [key], {});\n",
              "          if (!dataTable) return;\n",
              "\n",
              "          const docLinkHtml = 'Like what you see? Visit the ' +\n",
              "            '<a target=\"_blank\" href=https://colab.research.google.com/notebooks/data_table.ipynb>data table notebook</a>'\n",
              "            + ' to learn more about interactive tables.';\n",
              "          element.innerHTML = '';\n",
              "          dataTable['output_type'] = 'display_data';\n",
              "          await google.colab.output.renderOutput(dataTable, element);\n",
              "          const docLink = document.createElement('div');\n",
              "          docLink.innerHTML = docLinkHtml;\n",
              "          element.appendChild(docLink);\n",
              "        }\n",
              "      </script>\n",
              "    </div>\n",
              "  </div>\n",
              "  "
            ],
            "text/plain": [
              "    Subject ID         MRI ID  ...  MMSE_imputed  missing_indicator_SES\n",
              "225  OAS2_0106  OAS2_0106_MR1  ...          22.0                      0\n",
              "100  OAS2_0048  OAS2_0048_MR4  ...           7.0                      0\n",
              "270  OAS2_0129  OAS2_0129_MR3  ...          29.0                      0\n",
              "108  OAS2_0051  OAS2_0051_MR2  ...          29.0                      0\n",
              "344  OAS2_0175  OAS2_0175_MR2  ...          28.0                      0\n",
              "\n",
              "[5 rows x 20 columns]"
            ]
          },
          "metadata": {},
          "execution_count": 22
        }
      ]
    },
    {
      "cell_type": "code",
      "source": [
        "X_test.head()"
      ],
      "metadata": {
        "execution": {
          "iopub.status.busy": "2022-02-21T22:14:45.425634Z",
          "iopub.execute_input": "2022-02-21T22:14:45.425972Z",
          "iopub.status.idle": "2022-02-21T22:14:45.731092Z",
          "shell.execute_reply.started": "2022-02-21T22:14:45.425943Z",
          "shell.execute_reply": "2022-02-21T22:14:45.730064Z"
        },
        "trusted": true,
        "colab": {
          "base_uri": "https://localhost:8080/",
          "height": 0
        },
        "id": "LrXlz1QIXdW1",
        "outputId": "64df67f3-5810-44f3-b1b3-3d468be323ed"
      },
      "execution_count": 23,
      "outputs": [
        {
          "output_type": "execute_result",
          "data": {
            "text/html": [
              "\n",
              "  <div id=\"df-7d2661c3-a424-4070-bd5f-de20796fd01b\">\n",
              "    <div class=\"colab-df-container\">\n",
              "      <div>\n",
              "<style scoped>\n",
              "    .dataframe tbody tr th:only-of-type {\n",
              "        vertical-align: middle;\n",
              "    }\n",
              "\n",
              "    .dataframe tbody tr th {\n",
              "        vertical-align: top;\n",
              "    }\n",
              "\n",
              "    .dataframe thead th {\n",
              "        text-align: right;\n",
              "    }\n",
              "</style>\n",
              "<table border=\"1\" class=\"dataframe\">\n",
              "  <thead>\n",
              "    <tr style=\"text-align: right;\">\n",
              "      <th></th>\n",
              "      <th>Subject ID</th>\n",
              "      <th>MRI ID</th>\n",
              "      <th>Visit</th>\n",
              "      <th>MR Delay</th>\n",
              "      <th>Hand</th>\n",
              "      <th>Age</th>\n",
              "      <th>EDUC</th>\n",
              "      <th>SES</th>\n",
              "      <th>MMSE</th>\n",
              "      <th>eTIV</th>\n",
              "      <th>nWBV</th>\n",
              "      <th>ASF</th>\n",
              "      <th>Converted</th>\n",
              "      <th>Demented</th>\n",
              "      <th>Nondemented</th>\n",
              "      <th>F</th>\n",
              "      <th>M</th>\n",
              "      <th>SES_imputed</th>\n",
              "      <th>MMSE_imputed</th>\n",
              "      <th>missing_indicator_SES</th>\n",
              "    </tr>\n",
              "  </thead>\n",
              "  <tbody>\n",
              "    <tr>\n",
              "      <th>173</th>\n",
              "      <td>OAS2_0079</td>\n",
              "      <td>OAS2_0079_MR3</td>\n",
              "      <td>3</td>\n",
              "      <td>1435</td>\n",
              "      <td>R</td>\n",
              "      <td>73</td>\n",
              "      <td>12</td>\n",
              "      <td>4.0</td>\n",
              "      <td>16.0</td>\n",
              "      <td>1478</td>\n",
              "      <td>0.696</td>\n",
              "      <td>1.188</td>\n",
              "      <td>0</td>\n",
              "      <td>1</td>\n",
              "      <td>0</td>\n",
              "      <td>1</td>\n",
              "      <td>0</td>\n",
              "      <td>4.0</td>\n",
              "      <td>16.0</td>\n",
              "      <td>0</td>\n",
              "    </tr>\n",
              "    <tr>\n",
              "      <th>205</th>\n",
              "      <td>OAS2_0098</td>\n",
              "      <td>OAS2_0098_MR1</td>\n",
              "      <td>1</td>\n",
              "      <td>0</td>\n",
              "      <td>R</td>\n",
              "      <td>66</td>\n",
              "      <td>12</td>\n",
              "      <td>4.0</td>\n",
              "      <td>30.0</td>\n",
              "      <td>1446</td>\n",
              "      <td>0.780</td>\n",
              "      <td>1.214</td>\n",
              "      <td>0</td>\n",
              "      <td>1</td>\n",
              "      <td>0</td>\n",
              "      <td>0</td>\n",
              "      <td>1</td>\n",
              "      <td>4.0</td>\n",
              "      <td>30.0</td>\n",
              "      <td>0</td>\n",
              "    </tr>\n",
              "    <tr>\n",
              "      <th>70</th>\n",
              "      <td>OAS2_0036</td>\n",
              "      <td>OAS2_0036_MR4</td>\n",
              "      <td>4</td>\n",
              "      <td>1770</td>\n",
              "      <td>R</td>\n",
              "      <td>73</td>\n",
              "      <td>13</td>\n",
              "      <td>4.0</td>\n",
              "      <td>30.0</td>\n",
              "      <td>1360</td>\n",
              "      <td>0.773</td>\n",
              "      <td>1.291</td>\n",
              "      <td>0</td>\n",
              "      <td>0</td>\n",
              "      <td>1</td>\n",
              "      <td>1</td>\n",
              "      <td>0</td>\n",
              "      <td>4.0</td>\n",
              "      <td>30.0</td>\n",
              "      <td>0</td>\n",
              "    </tr>\n",
              "    <tr>\n",
              "      <th>118</th>\n",
              "      <td>OAS2_0056</td>\n",
              "      <td>OAS2_0056_MR1</td>\n",
              "      <td>1</td>\n",
              "      <td>0</td>\n",
              "      <td>R</td>\n",
              "      <td>71</td>\n",
              "      <td>14</td>\n",
              "      <td>2.0</td>\n",
              "      <td>28.0</td>\n",
              "      <td>1461</td>\n",
              "      <td>0.756</td>\n",
              "      <td>1.202</td>\n",
              "      <td>0</td>\n",
              "      <td>0</td>\n",
              "      <td>1</td>\n",
              "      <td>1</td>\n",
              "      <td>0</td>\n",
              "      <td>2.0</td>\n",
              "      <td>28.0</td>\n",
              "      <td>0</td>\n",
              "    </tr>\n",
              "    <tr>\n",
              "      <th>32</th>\n",
              "      <td>OAS2_0017</td>\n",
              "      <td>OAS2_0017_MR5</td>\n",
              "      <td>5</td>\n",
              "      <td>2400</td>\n",
              "      <td>R</td>\n",
              "      <td>86</td>\n",
              "      <td>12</td>\n",
              "      <td>3.0</td>\n",
              "      <td>27.0</td>\n",
              "      <td>1813</td>\n",
              "      <td>0.761</td>\n",
              "      <td>0.968</td>\n",
              "      <td>0</td>\n",
              "      <td>0</td>\n",
              "      <td>1</td>\n",
              "      <td>0</td>\n",
              "      <td>1</td>\n",
              "      <td>3.0</td>\n",
              "      <td>27.0</td>\n",
              "      <td>0</td>\n",
              "    </tr>\n",
              "  </tbody>\n",
              "</table>\n",
              "</div>\n",
              "      <button class=\"colab-df-convert\" onclick=\"convertToInteractive('df-7d2661c3-a424-4070-bd5f-de20796fd01b')\"\n",
              "              title=\"Convert this dataframe to an interactive table.\"\n",
              "              style=\"display:none;\">\n",
              "        \n",
              "  <svg xmlns=\"http://www.w3.org/2000/svg\" height=\"24px\"viewBox=\"0 0 24 24\"\n",
              "       width=\"24px\">\n",
              "    <path d=\"M0 0h24v24H0V0z\" fill=\"none\"/>\n",
              "    <path d=\"M18.56 5.44l.94 2.06.94-2.06 2.06-.94-2.06-.94-.94-2.06-.94 2.06-2.06.94zm-11 1L8.5 8.5l.94-2.06 2.06-.94-2.06-.94L8.5 2.5l-.94 2.06-2.06.94zm10 10l.94 2.06.94-2.06 2.06-.94-2.06-.94-.94-2.06-.94 2.06-2.06.94z\"/><path d=\"M17.41 7.96l-1.37-1.37c-.4-.4-.92-.59-1.43-.59-.52 0-1.04.2-1.43.59L10.3 9.45l-7.72 7.72c-.78.78-.78 2.05 0 2.83L4 21.41c.39.39.9.59 1.41.59.51 0 1.02-.2 1.41-.59l7.78-7.78 2.81-2.81c.8-.78.8-2.07 0-2.86zM5.41 20L4 18.59l7.72-7.72 1.47 1.35L5.41 20z\"/>\n",
              "  </svg>\n",
              "      </button>\n",
              "      \n",
              "  <style>\n",
              "    .colab-df-container {\n",
              "      display:flex;\n",
              "      flex-wrap:wrap;\n",
              "      gap: 12px;\n",
              "    }\n",
              "\n",
              "    .colab-df-convert {\n",
              "      background-color: #E8F0FE;\n",
              "      border: none;\n",
              "      border-radius: 50%;\n",
              "      cursor: pointer;\n",
              "      display: none;\n",
              "      fill: #1967D2;\n",
              "      height: 32px;\n",
              "      padding: 0 0 0 0;\n",
              "      width: 32px;\n",
              "    }\n",
              "\n",
              "    .colab-df-convert:hover {\n",
              "      background-color: #E2EBFA;\n",
              "      box-shadow: 0px 1px 2px rgba(60, 64, 67, 0.3), 0px 1px 3px 1px rgba(60, 64, 67, 0.15);\n",
              "      fill: #174EA6;\n",
              "    }\n",
              "\n",
              "    [theme=dark] .colab-df-convert {\n",
              "      background-color: #3B4455;\n",
              "      fill: #D2E3FC;\n",
              "    }\n",
              "\n",
              "    [theme=dark] .colab-df-convert:hover {\n",
              "      background-color: #434B5C;\n",
              "      box-shadow: 0px 1px 3px 1px rgba(0, 0, 0, 0.15);\n",
              "      filter: drop-shadow(0px 1px 2px rgba(0, 0, 0, 0.3));\n",
              "      fill: #FFFFFF;\n",
              "    }\n",
              "  </style>\n",
              "\n",
              "      <script>\n",
              "        const buttonEl =\n",
              "          document.querySelector('#df-7d2661c3-a424-4070-bd5f-de20796fd01b button.colab-df-convert');\n",
              "        buttonEl.style.display =\n",
              "          google.colab.kernel.accessAllowed ? 'block' : 'none';\n",
              "\n",
              "        async function convertToInteractive(key) {\n",
              "          const element = document.querySelector('#df-7d2661c3-a424-4070-bd5f-de20796fd01b');\n",
              "          const dataTable =\n",
              "            await google.colab.kernel.invokeFunction('convertToInteractive',\n",
              "                                                     [key], {});\n",
              "          if (!dataTable) return;\n",
              "\n",
              "          const docLinkHtml = 'Like what you see? Visit the ' +\n",
              "            '<a target=\"_blank\" href=https://colab.research.google.com/notebooks/data_table.ipynb>data table notebook</a>'\n",
              "            + ' to learn more about interactive tables.';\n",
              "          element.innerHTML = '';\n",
              "          dataTable['output_type'] = 'display_data';\n",
              "          await google.colab.output.renderOutput(dataTable, element);\n",
              "          const docLink = document.createElement('div');\n",
              "          docLink.innerHTML = docLinkHtml;\n",
              "          element.appendChild(docLink);\n",
              "        }\n",
              "      </script>\n",
              "    </div>\n",
              "  </div>\n",
              "  "
            ],
            "text/plain": [
              "    Subject ID         MRI ID  ...  MMSE_imputed  missing_indicator_SES\n",
              "173  OAS2_0079  OAS2_0079_MR3  ...          16.0                      0\n",
              "205  OAS2_0098  OAS2_0098_MR1  ...          30.0                      0\n",
              "70   OAS2_0036  OAS2_0036_MR4  ...          30.0                      0\n",
              "118  OAS2_0056  OAS2_0056_MR1  ...          28.0                      0\n",
              "32   OAS2_0017  OAS2_0017_MR5  ...          27.0                      0\n",
              "\n",
              "[5 rows x 20 columns]"
            ]
          },
          "metadata": {},
          "execution_count": 23
        }
      ]
    },
    {
      "cell_type": "code",
      "source": [
        "X_train.drop(['SES' , 'MMSE'] , axis=1 , inplace=True)\n",
        "X_test.drop(['SES' , 'MMSE'] , axis=1 , inplace=True)"
      ],
      "metadata": {
        "execution": {
          "iopub.status.busy": "2022-02-21T22:14:45.732501Z",
          "iopub.execute_input": "2022-02-21T22:14:45.732831Z",
          "iopub.status.idle": "2022-02-21T22:14:45.740516Z",
          "shell.execute_reply.started": "2022-02-21T22:14:45.732788Z",
          "shell.execute_reply": "2022-02-21T22:14:45.739878Z"
        },
        "trusted": true,
        "id": "-oZiZzPIXdW2"
      },
      "execution_count": 24,
      "outputs": []
    },
    {
      "cell_type": "code",
      "source": [
        "X_train.head()"
      ],
      "metadata": {
        "execution": {
          "iopub.status.busy": "2022-02-21T22:14:45.741462Z",
          "iopub.execute_input": "2022-02-21T22:14:45.741856Z",
          "iopub.status.idle": "2022-02-21T22:14:45.768850Z",
          "shell.execute_reply.started": "2022-02-21T22:14:45.741822Z",
          "shell.execute_reply": "2022-02-21T22:14:45.768080Z"
        },
        "trusted": true,
        "colab": {
          "base_uri": "https://localhost:8080/",
          "height": 0
        },
        "id": "Qxl_lmXlXdW4",
        "outputId": "4c33e44f-b6c8-4a5a-e715-ef1736ef0b55"
      },
      "execution_count": 25,
      "outputs": [
        {
          "output_type": "execute_result",
          "data": {
            "text/html": [
              "\n",
              "  <div id=\"df-0fdbe53d-b402-4c2b-8c56-10ae21392f7d\">\n",
              "    <div class=\"colab-df-container\">\n",
              "      <div>\n",
              "<style scoped>\n",
              "    .dataframe tbody tr th:only-of-type {\n",
              "        vertical-align: middle;\n",
              "    }\n",
              "\n",
              "    .dataframe tbody tr th {\n",
              "        vertical-align: top;\n",
              "    }\n",
              "\n",
              "    .dataframe thead th {\n",
              "        text-align: right;\n",
              "    }\n",
              "</style>\n",
              "<table border=\"1\" class=\"dataframe\">\n",
              "  <thead>\n",
              "    <tr style=\"text-align: right;\">\n",
              "      <th></th>\n",
              "      <th>Subject ID</th>\n",
              "      <th>MRI ID</th>\n",
              "      <th>Visit</th>\n",
              "      <th>MR Delay</th>\n",
              "      <th>Hand</th>\n",
              "      <th>Age</th>\n",
              "      <th>EDUC</th>\n",
              "      <th>eTIV</th>\n",
              "      <th>nWBV</th>\n",
              "      <th>ASF</th>\n",
              "      <th>Converted</th>\n",
              "      <th>Demented</th>\n",
              "      <th>Nondemented</th>\n",
              "      <th>F</th>\n",
              "      <th>M</th>\n",
              "      <th>SES_imputed</th>\n",
              "      <th>MMSE_imputed</th>\n",
              "      <th>missing_indicator_SES</th>\n",
              "    </tr>\n",
              "  </thead>\n",
              "  <tbody>\n",
              "    <tr>\n",
              "      <th>225</th>\n",
              "      <td>OAS2_0106</td>\n",
              "      <td>OAS2_0106_MR1</td>\n",
              "      <td>1</td>\n",
              "      <td>0</td>\n",
              "      <td>R</td>\n",
              "      <td>70</td>\n",
              "      <td>11</td>\n",
              "      <td>1445</td>\n",
              "      <td>0.722</td>\n",
              "      <td>1.214</td>\n",
              "      <td>0</td>\n",
              "      <td>1</td>\n",
              "      <td>0</td>\n",
              "      <td>1</td>\n",
              "      <td>0</td>\n",
              "      <td>4.0</td>\n",
              "      <td>22.0</td>\n",
              "      <td>0</td>\n",
              "    </tr>\n",
              "    <tr>\n",
              "      <th>100</th>\n",
              "      <td>OAS2_0048</td>\n",
              "      <td>OAS2_0048_MR4</td>\n",
              "      <td>4</td>\n",
              "      <td>970</td>\n",
              "      <td>R</td>\n",
              "      <td>68</td>\n",
              "      <td>16</td>\n",
              "      <td>1714</td>\n",
              "      <td>0.682</td>\n",
              "      <td>1.024</td>\n",
              "      <td>0</td>\n",
              "      <td>1</td>\n",
              "      <td>0</td>\n",
              "      <td>0</td>\n",
              "      <td>1</td>\n",
              "      <td>1.0</td>\n",
              "      <td>7.0</td>\n",
              "      <td>0</td>\n",
              "    </tr>\n",
              "    <tr>\n",
              "      <th>270</th>\n",
              "      <td>OAS2_0129</td>\n",
              "      <td>OAS2_0129_MR3</td>\n",
              "      <td>3</td>\n",
              "      <td>1591</td>\n",
              "      <td>R</td>\n",
              "      <td>82</td>\n",
              "      <td>18</td>\n",
              "      <td>1442</td>\n",
              "      <td>0.644</td>\n",
              "      <td>1.217</td>\n",
              "      <td>0</td>\n",
              "      <td>0</td>\n",
              "      <td>1</td>\n",
              "      <td>1</td>\n",
              "      <td>0</td>\n",
              "      <td>1.0</td>\n",
              "      <td>29.0</td>\n",
              "      <td>0</td>\n",
              "    </tr>\n",
              "    <tr>\n",
              "      <th>108</th>\n",
              "      <td>OAS2_0051</td>\n",
              "      <td>OAS2_0051_MR2</td>\n",
              "      <td>2</td>\n",
              "      <td>457</td>\n",
              "      <td>R</td>\n",
              "      <td>94</td>\n",
              "      <td>23</td>\n",
              "      <td>1474</td>\n",
              "      <td>0.696</td>\n",
              "      <td>1.190</td>\n",
              "      <td>0</td>\n",
              "      <td>0</td>\n",
              "      <td>1</td>\n",
              "      <td>1</td>\n",
              "      <td>0</td>\n",
              "      <td>1.0</td>\n",
              "      <td>29.0</td>\n",
              "      <td>0</td>\n",
              "    </tr>\n",
              "    <tr>\n",
              "      <th>344</th>\n",
              "      <td>OAS2_0175</td>\n",
              "      <td>OAS2_0175_MR2</td>\n",
              "      <td>2</td>\n",
              "      <td>700</td>\n",
              "      <td>R</td>\n",
              "      <td>72</td>\n",
              "      <td>16</td>\n",
              "      <td>1796</td>\n",
              "      <td>0.732</td>\n",
              "      <td>0.977</td>\n",
              "      <td>0</td>\n",
              "      <td>1</td>\n",
              "      <td>0</td>\n",
              "      <td>0</td>\n",
              "      <td>1</td>\n",
              "      <td>4.0</td>\n",
              "      <td>28.0</td>\n",
              "      <td>0</td>\n",
              "    </tr>\n",
              "  </tbody>\n",
              "</table>\n",
              "</div>\n",
              "      <button class=\"colab-df-convert\" onclick=\"convertToInteractive('df-0fdbe53d-b402-4c2b-8c56-10ae21392f7d')\"\n",
              "              title=\"Convert this dataframe to an interactive table.\"\n",
              "              style=\"display:none;\">\n",
              "        \n",
              "  <svg xmlns=\"http://www.w3.org/2000/svg\" height=\"24px\"viewBox=\"0 0 24 24\"\n",
              "       width=\"24px\">\n",
              "    <path d=\"M0 0h24v24H0V0z\" fill=\"none\"/>\n",
              "    <path d=\"M18.56 5.44l.94 2.06.94-2.06 2.06-.94-2.06-.94-.94-2.06-.94 2.06-2.06.94zm-11 1L8.5 8.5l.94-2.06 2.06-.94-2.06-.94L8.5 2.5l-.94 2.06-2.06.94zm10 10l.94 2.06.94-2.06 2.06-.94-2.06-.94-.94-2.06-.94 2.06-2.06.94z\"/><path d=\"M17.41 7.96l-1.37-1.37c-.4-.4-.92-.59-1.43-.59-.52 0-1.04.2-1.43.59L10.3 9.45l-7.72 7.72c-.78.78-.78 2.05 0 2.83L4 21.41c.39.39.9.59 1.41.59.51 0 1.02-.2 1.41-.59l7.78-7.78 2.81-2.81c.8-.78.8-2.07 0-2.86zM5.41 20L4 18.59l7.72-7.72 1.47 1.35L5.41 20z\"/>\n",
              "  </svg>\n",
              "      </button>\n",
              "      \n",
              "  <style>\n",
              "    .colab-df-container {\n",
              "      display:flex;\n",
              "      flex-wrap:wrap;\n",
              "      gap: 12px;\n",
              "    }\n",
              "\n",
              "    .colab-df-convert {\n",
              "      background-color: #E8F0FE;\n",
              "      border: none;\n",
              "      border-radius: 50%;\n",
              "      cursor: pointer;\n",
              "      display: none;\n",
              "      fill: #1967D2;\n",
              "      height: 32px;\n",
              "      padding: 0 0 0 0;\n",
              "      width: 32px;\n",
              "    }\n",
              "\n",
              "    .colab-df-convert:hover {\n",
              "      background-color: #E2EBFA;\n",
              "      box-shadow: 0px 1px 2px rgba(60, 64, 67, 0.3), 0px 1px 3px 1px rgba(60, 64, 67, 0.15);\n",
              "      fill: #174EA6;\n",
              "    }\n",
              "\n",
              "    [theme=dark] .colab-df-convert {\n",
              "      background-color: #3B4455;\n",
              "      fill: #D2E3FC;\n",
              "    }\n",
              "\n",
              "    [theme=dark] .colab-df-convert:hover {\n",
              "      background-color: #434B5C;\n",
              "      box-shadow: 0px 1px 3px 1px rgba(0, 0, 0, 0.15);\n",
              "      filter: drop-shadow(0px 1px 2px rgba(0, 0, 0, 0.3));\n",
              "      fill: #FFFFFF;\n",
              "    }\n",
              "  </style>\n",
              "\n",
              "      <script>\n",
              "        const buttonEl =\n",
              "          document.querySelector('#df-0fdbe53d-b402-4c2b-8c56-10ae21392f7d button.colab-df-convert');\n",
              "        buttonEl.style.display =\n",
              "          google.colab.kernel.accessAllowed ? 'block' : 'none';\n",
              "\n",
              "        async function convertToInteractive(key) {\n",
              "          const element = document.querySelector('#df-0fdbe53d-b402-4c2b-8c56-10ae21392f7d');\n",
              "          const dataTable =\n",
              "            await google.colab.kernel.invokeFunction('convertToInteractive',\n",
              "                                                     [key], {});\n",
              "          if (!dataTable) return;\n",
              "\n",
              "          const docLinkHtml = 'Like what you see? Visit the ' +\n",
              "            '<a target=\"_blank\" href=https://colab.research.google.com/notebooks/data_table.ipynb>data table notebook</a>'\n",
              "            + ' to learn more about interactive tables.';\n",
              "          element.innerHTML = '';\n",
              "          dataTable['output_type'] = 'display_data';\n",
              "          await google.colab.output.renderOutput(dataTable, element);\n",
              "          const docLink = document.createElement('div');\n",
              "          docLink.innerHTML = docLinkHtml;\n",
              "          element.appendChild(docLink);\n",
              "        }\n",
              "      </script>\n",
              "    </div>\n",
              "  </div>\n",
              "  "
            ],
            "text/plain": [
              "    Subject ID         MRI ID  ...  MMSE_imputed  missing_indicator_SES\n",
              "225  OAS2_0106  OAS2_0106_MR1  ...          22.0                      0\n",
              "100  OAS2_0048  OAS2_0048_MR4  ...           7.0                      0\n",
              "270  OAS2_0129  OAS2_0129_MR3  ...          29.0                      0\n",
              "108  OAS2_0051  OAS2_0051_MR2  ...          29.0                      0\n",
              "344  OAS2_0175  OAS2_0175_MR2  ...          28.0                      0\n",
              "\n",
              "[5 rows x 18 columns]"
            ]
          },
          "metadata": {},
          "execution_count": 25
        }
      ]
    },
    {
      "cell_type": "code",
      "source": [
        "X_test.head()"
      ],
      "metadata": {
        "execution": {
          "iopub.status.busy": "2022-02-21T22:14:45.770230Z",
          "iopub.execute_input": "2022-02-21T22:14:45.770827Z",
          "iopub.status.idle": "2022-02-21T22:14:45.794735Z",
          "shell.execute_reply.started": "2022-02-21T22:14:45.770787Z",
          "shell.execute_reply": "2022-02-21T22:14:45.793941Z"
        },
        "trusted": true,
        "colab": {
          "base_uri": "https://localhost:8080/",
          "height": 0
        },
        "id": "TvVTvHZoXdW5",
        "outputId": "8e49579e-062b-4c2f-d671-7dc580245c34"
      },
      "execution_count": 26,
      "outputs": [
        {
          "output_type": "execute_result",
          "data": {
            "text/html": [
              "\n",
              "  <div id=\"df-7d40e899-ba76-41b7-8cde-f90d8f6f1874\">\n",
              "    <div class=\"colab-df-container\">\n",
              "      <div>\n",
              "<style scoped>\n",
              "    .dataframe tbody tr th:only-of-type {\n",
              "        vertical-align: middle;\n",
              "    }\n",
              "\n",
              "    .dataframe tbody tr th {\n",
              "        vertical-align: top;\n",
              "    }\n",
              "\n",
              "    .dataframe thead th {\n",
              "        text-align: right;\n",
              "    }\n",
              "</style>\n",
              "<table border=\"1\" class=\"dataframe\">\n",
              "  <thead>\n",
              "    <tr style=\"text-align: right;\">\n",
              "      <th></th>\n",
              "      <th>Subject ID</th>\n",
              "      <th>MRI ID</th>\n",
              "      <th>Visit</th>\n",
              "      <th>MR Delay</th>\n",
              "      <th>Hand</th>\n",
              "      <th>Age</th>\n",
              "      <th>EDUC</th>\n",
              "      <th>eTIV</th>\n",
              "      <th>nWBV</th>\n",
              "      <th>ASF</th>\n",
              "      <th>Converted</th>\n",
              "      <th>Demented</th>\n",
              "      <th>Nondemented</th>\n",
              "      <th>F</th>\n",
              "      <th>M</th>\n",
              "      <th>SES_imputed</th>\n",
              "      <th>MMSE_imputed</th>\n",
              "      <th>missing_indicator_SES</th>\n",
              "    </tr>\n",
              "  </thead>\n",
              "  <tbody>\n",
              "    <tr>\n",
              "      <th>173</th>\n",
              "      <td>OAS2_0079</td>\n",
              "      <td>OAS2_0079_MR3</td>\n",
              "      <td>3</td>\n",
              "      <td>1435</td>\n",
              "      <td>R</td>\n",
              "      <td>73</td>\n",
              "      <td>12</td>\n",
              "      <td>1478</td>\n",
              "      <td>0.696</td>\n",
              "      <td>1.188</td>\n",
              "      <td>0</td>\n",
              "      <td>1</td>\n",
              "      <td>0</td>\n",
              "      <td>1</td>\n",
              "      <td>0</td>\n",
              "      <td>4.0</td>\n",
              "      <td>16.0</td>\n",
              "      <td>0</td>\n",
              "    </tr>\n",
              "    <tr>\n",
              "      <th>205</th>\n",
              "      <td>OAS2_0098</td>\n",
              "      <td>OAS2_0098_MR1</td>\n",
              "      <td>1</td>\n",
              "      <td>0</td>\n",
              "      <td>R</td>\n",
              "      <td>66</td>\n",
              "      <td>12</td>\n",
              "      <td>1446</td>\n",
              "      <td>0.780</td>\n",
              "      <td>1.214</td>\n",
              "      <td>0</td>\n",
              "      <td>1</td>\n",
              "      <td>0</td>\n",
              "      <td>0</td>\n",
              "      <td>1</td>\n",
              "      <td>4.0</td>\n",
              "      <td>30.0</td>\n",
              "      <td>0</td>\n",
              "    </tr>\n",
              "    <tr>\n",
              "      <th>70</th>\n",
              "      <td>OAS2_0036</td>\n",
              "      <td>OAS2_0036_MR4</td>\n",
              "      <td>4</td>\n",
              "      <td>1770</td>\n",
              "      <td>R</td>\n",
              "      <td>73</td>\n",
              "      <td>13</td>\n",
              "      <td>1360</td>\n",
              "      <td>0.773</td>\n",
              "      <td>1.291</td>\n",
              "      <td>0</td>\n",
              "      <td>0</td>\n",
              "      <td>1</td>\n",
              "      <td>1</td>\n",
              "      <td>0</td>\n",
              "      <td>4.0</td>\n",
              "      <td>30.0</td>\n",
              "      <td>0</td>\n",
              "    </tr>\n",
              "    <tr>\n",
              "      <th>118</th>\n",
              "      <td>OAS2_0056</td>\n",
              "      <td>OAS2_0056_MR1</td>\n",
              "      <td>1</td>\n",
              "      <td>0</td>\n",
              "      <td>R</td>\n",
              "      <td>71</td>\n",
              "      <td>14</td>\n",
              "      <td>1461</td>\n",
              "      <td>0.756</td>\n",
              "      <td>1.202</td>\n",
              "      <td>0</td>\n",
              "      <td>0</td>\n",
              "      <td>1</td>\n",
              "      <td>1</td>\n",
              "      <td>0</td>\n",
              "      <td>2.0</td>\n",
              "      <td>28.0</td>\n",
              "      <td>0</td>\n",
              "    </tr>\n",
              "    <tr>\n",
              "      <th>32</th>\n",
              "      <td>OAS2_0017</td>\n",
              "      <td>OAS2_0017_MR5</td>\n",
              "      <td>5</td>\n",
              "      <td>2400</td>\n",
              "      <td>R</td>\n",
              "      <td>86</td>\n",
              "      <td>12</td>\n",
              "      <td>1813</td>\n",
              "      <td>0.761</td>\n",
              "      <td>0.968</td>\n",
              "      <td>0</td>\n",
              "      <td>0</td>\n",
              "      <td>1</td>\n",
              "      <td>0</td>\n",
              "      <td>1</td>\n",
              "      <td>3.0</td>\n",
              "      <td>27.0</td>\n",
              "      <td>0</td>\n",
              "    </tr>\n",
              "  </tbody>\n",
              "</table>\n",
              "</div>\n",
              "      <button class=\"colab-df-convert\" onclick=\"convertToInteractive('df-7d40e899-ba76-41b7-8cde-f90d8f6f1874')\"\n",
              "              title=\"Convert this dataframe to an interactive table.\"\n",
              "              style=\"display:none;\">\n",
              "        \n",
              "  <svg xmlns=\"http://www.w3.org/2000/svg\" height=\"24px\"viewBox=\"0 0 24 24\"\n",
              "       width=\"24px\">\n",
              "    <path d=\"M0 0h24v24H0V0z\" fill=\"none\"/>\n",
              "    <path d=\"M18.56 5.44l.94 2.06.94-2.06 2.06-.94-2.06-.94-.94-2.06-.94 2.06-2.06.94zm-11 1L8.5 8.5l.94-2.06 2.06-.94-2.06-.94L8.5 2.5l-.94 2.06-2.06.94zm10 10l.94 2.06.94-2.06 2.06-.94-2.06-.94-.94-2.06-.94 2.06-2.06.94z\"/><path d=\"M17.41 7.96l-1.37-1.37c-.4-.4-.92-.59-1.43-.59-.52 0-1.04.2-1.43.59L10.3 9.45l-7.72 7.72c-.78.78-.78 2.05 0 2.83L4 21.41c.39.39.9.59 1.41.59.51 0 1.02-.2 1.41-.59l7.78-7.78 2.81-2.81c.8-.78.8-2.07 0-2.86zM5.41 20L4 18.59l7.72-7.72 1.47 1.35L5.41 20z\"/>\n",
              "  </svg>\n",
              "      </button>\n",
              "      \n",
              "  <style>\n",
              "    .colab-df-container {\n",
              "      display:flex;\n",
              "      flex-wrap:wrap;\n",
              "      gap: 12px;\n",
              "    }\n",
              "\n",
              "    .colab-df-convert {\n",
              "      background-color: #E8F0FE;\n",
              "      border: none;\n",
              "      border-radius: 50%;\n",
              "      cursor: pointer;\n",
              "      display: none;\n",
              "      fill: #1967D2;\n",
              "      height: 32px;\n",
              "      padding: 0 0 0 0;\n",
              "      width: 32px;\n",
              "    }\n",
              "\n",
              "    .colab-df-convert:hover {\n",
              "      background-color: #E2EBFA;\n",
              "      box-shadow: 0px 1px 2px rgba(60, 64, 67, 0.3), 0px 1px 3px 1px rgba(60, 64, 67, 0.15);\n",
              "      fill: #174EA6;\n",
              "    }\n",
              "\n",
              "    [theme=dark] .colab-df-convert {\n",
              "      background-color: #3B4455;\n",
              "      fill: #D2E3FC;\n",
              "    }\n",
              "\n",
              "    [theme=dark] .colab-df-convert:hover {\n",
              "      background-color: #434B5C;\n",
              "      box-shadow: 0px 1px 3px 1px rgba(0, 0, 0, 0.15);\n",
              "      filter: drop-shadow(0px 1px 2px rgba(0, 0, 0, 0.3));\n",
              "      fill: #FFFFFF;\n",
              "    }\n",
              "  </style>\n",
              "\n",
              "      <script>\n",
              "        const buttonEl =\n",
              "          document.querySelector('#df-7d40e899-ba76-41b7-8cde-f90d8f6f1874 button.colab-df-convert');\n",
              "        buttonEl.style.display =\n",
              "          google.colab.kernel.accessAllowed ? 'block' : 'none';\n",
              "\n",
              "        async function convertToInteractive(key) {\n",
              "          const element = document.querySelector('#df-7d40e899-ba76-41b7-8cde-f90d8f6f1874');\n",
              "          const dataTable =\n",
              "            await google.colab.kernel.invokeFunction('convertToInteractive',\n",
              "                                                     [key], {});\n",
              "          if (!dataTable) return;\n",
              "\n",
              "          const docLinkHtml = 'Like what you see? Visit the ' +\n",
              "            '<a target=\"_blank\" href=https://colab.research.google.com/notebooks/data_table.ipynb>data table notebook</a>'\n",
              "            + ' to learn more about interactive tables.';\n",
              "          element.innerHTML = '';\n",
              "          dataTable['output_type'] = 'display_data';\n",
              "          await google.colab.output.renderOutput(dataTable, element);\n",
              "          const docLink = document.createElement('div');\n",
              "          docLink.innerHTML = docLinkHtml;\n",
              "          element.appendChild(docLink);\n",
              "        }\n",
              "      </script>\n",
              "    </div>\n",
              "  </div>\n",
              "  "
            ],
            "text/plain": [
              "    Subject ID         MRI ID  ...  MMSE_imputed  missing_indicator_SES\n",
              "173  OAS2_0079  OAS2_0079_MR3  ...          16.0                      0\n",
              "205  OAS2_0098  OAS2_0098_MR1  ...          30.0                      0\n",
              "70   OAS2_0036  OAS2_0036_MR4  ...          30.0                      0\n",
              "118  OAS2_0056  OAS2_0056_MR1  ...          28.0                      0\n",
              "32   OAS2_0017  OAS2_0017_MR5  ...          27.0                      0\n",
              "\n",
              "[5 rows x 18 columns]"
            ]
          },
          "metadata": {},
          "execution_count": 26
        }
      ]
    },
    {
      "cell_type": "code",
      "source": [
        "X_train.isnull().sum()"
      ],
      "metadata": {
        "execution": {
          "iopub.status.busy": "2022-02-21T22:14:45.795811Z",
          "iopub.execute_input": "2022-02-21T22:14:45.796056Z",
          "iopub.status.idle": "2022-02-21T22:14:45.812428Z",
          "shell.execute_reply.started": "2022-02-21T22:14:45.796029Z",
          "shell.execute_reply": "2022-02-21T22:14:45.811613Z"
        },
        "trusted": true,
        "colab": {
          "base_uri": "https://localhost:8080/"
        },
        "id": "CFS5irzEXdW5",
        "outputId": "e8429440-4c48-4907-dca8-f1899e360cfb"
      },
      "execution_count": 27,
      "outputs": [
        {
          "output_type": "execute_result",
          "data": {
            "text/plain": [
              "Subject ID               0\n",
              "MRI ID                   0\n",
              "Visit                    0\n",
              "MR Delay                 0\n",
              "Hand                     0\n",
              "Age                      0\n",
              "EDUC                     0\n",
              "eTIV                     0\n",
              "nWBV                     0\n",
              "ASF                      0\n",
              "Converted                0\n",
              "Demented                 0\n",
              "Nondemented              0\n",
              "F                        0\n",
              "M                        0\n",
              "SES_imputed              0\n",
              "MMSE_imputed             0\n",
              "missing_indicator_SES    0\n",
              "dtype: int64"
            ]
          },
          "metadata": {},
          "execution_count": 27
        }
      ]
    },
    {
      "cell_type": "code",
      "source": [
        "X_test.isnull().sum()"
      ],
      "metadata": {
        "scrolled": true,
        "execution": {
          "iopub.status.busy": "2022-02-21T22:14:45.813789Z",
          "iopub.execute_input": "2022-02-21T22:14:45.814386Z",
          "iopub.status.idle": "2022-02-21T22:14:45.827063Z",
          "shell.execute_reply.started": "2022-02-21T22:14:45.814339Z",
          "shell.execute_reply": "2022-02-21T22:14:45.826114Z"
        },
        "trusted": true,
        "colab": {
          "base_uri": "https://localhost:8080/"
        },
        "id": "q0V66I6vXdW6",
        "outputId": "f5e22142-5349-4c38-bd23-0db57d5d74fe"
      },
      "execution_count": 28,
      "outputs": [
        {
          "output_type": "execute_result",
          "data": {
            "text/plain": [
              "Subject ID               0\n",
              "MRI ID                   0\n",
              "Visit                    0\n",
              "MR Delay                 0\n",
              "Hand                     0\n",
              "Age                      0\n",
              "EDUC                     0\n",
              "eTIV                     0\n",
              "nWBV                     0\n",
              "ASF                      0\n",
              "Converted                0\n",
              "Demented                 0\n",
              "Nondemented              0\n",
              "F                        0\n",
              "M                        0\n",
              "SES_imputed              0\n",
              "MMSE_imputed             0\n",
              "missing_indicator_SES    0\n",
              "dtype: int64"
            ]
          },
          "metadata": {},
          "execution_count": 28
        }
      ]
    },
    {
      "cell_type": "markdown",
      "source": [
        "__So there are now no missing data in the dataset__"
      ],
      "metadata": {
        "id": "28Xq2WGqXdW7"
      }
    },
    {
      "cell_type": "code",
      "source": [
        "# We changed the 4 class to 0,1,2,an 3 so that the model don't see it as a continous value\n",
        "y_testt=y_test.replace({0.0:0, 0.5:1, 1.0:2, 2.0:2}).astype('int')\n",
        "y_trainn=y_train.replace({0.0:0, 0.5:1, 1.0:2, 2.0:2}).astype('int')\n",
        "\n",
        "\n",
        "\n",
        "y_test2=y_test.replace({0.0:0, 0.5:1, 1.0:1, 2.0:1}).astype('int')\n",
        "y_train2=y_train.replace({0.0:0, 0.5:1, 1.0:1, 2.0:1}).astype('int')"
      ],
      "metadata": {
        "execution": {
          "iopub.status.busy": "2022-02-21T22:14:45.828775Z",
          "iopub.execute_input": "2022-02-21T22:14:45.829242Z",
          "iopub.status.idle": "2022-02-21T22:14:45.840771Z",
          "shell.execute_reply.started": "2022-02-21T22:14:45.829201Z",
          "shell.execute_reply": "2022-02-21T22:14:45.840010Z"
        },
        "trusted": true,
        "id": "6EQTNryvXdW8"
      },
      "execution_count": 29,
      "outputs": []
    },
    {
      "cell_type": "code",
      "source": [
        "# We drop the columns that are not useful to the model\n",
        "X_train.drop(['Subject ID', 'MRI ID', 'Hand'], axis=1, inplace=True)\n",
        "X_test.drop(['Subject ID', 'MRI ID', 'Hand'], axis=1, inplace=True)"
      ],
      "metadata": {
        "execution": {
          "iopub.status.busy": "2022-02-21T22:14:45.842117Z",
          "iopub.execute_input": "2022-02-21T22:14:45.842571Z",
          "iopub.status.idle": "2022-02-21T22:14:45.851504Z",
          "shell.execute_reply.started": "2022-02-21T22:14:45.842529Z",
          "shell.execute_reply": "2022-02-21T22:14:45.850875Z"
        },
        "trusted": true,
        "id": "D-cB9gUGXdW-"
      },
      "execution_count": 30,
      "outputs": []
    },
    {
      "cell_type": "code",
      "source": [
        ""
      ],
      "metadata": {
        "id": "6vLSESh5XdW_"
      },
      "execution_count": 30,
      "outputs": []
    },
    {
      "cell_type": "code",
      "source": [
        "# # We can use this binary classification to predict the probability of \n",
        "# # a patient have dementia\n",
        "\n",
        "# def proba(n):\n",
        "#     if n == 0:\n",
        "#         return 0\n",
        "#     else:\n",
        "#         return 1\n",
        "\n",
        "\n",
        "# df['yy'] = df['CDR'].apply(lambda x: proba(x))"
      ],
      "metadata": {
        "execution": {
          "iopub.status.busy": "2022-02-21T22:14:45.852694Z",
          "iopub.execute_input": "2022-02-21T22:14:45.853097Z",
          "iopub.status.idle": "2022-02-21T22:14:45.862245Z",
          "shell.execute_reply.started": "2022-02-21T22:14:45.853064Z",
          "shell.execute_reply": "2022-02-21T22:14:45.861493Z"
        },
        "trusted": true,
        "id": "Ipi82ctYXdXA"
      },
      "execution_count": 31,
      "outputs": []
    },
    {
      "cell_type": "markdown",
      "source": [
        "## Modeling"
      ],
      "metadata": {
        "id": "QYkfB-PZXdXB"
      }
    },
    {
      "cell_type": "code",
      "source": [
        "#Function for creating a dataframe based on order of importance of features\n",
        "def feat_imp_sorter(model, x):\n",
        "    warnings.simplefilter(action='ignore', category=FutureWarning)\n",
        "    feature_imp = pd.DataFrame(zip(model.feature_importances_,x.columns), columns=['Value','Features'])\n",
        "    feature_imp.sort_values(by='Value',ignore_index=True, ascending=False, inplace = True)\n",
        "    return feature_imp\n",
        "    \n",
        "#fUnction for ploting barplot for the feature importance of any model    \n",
        "def feat_imp_ploter(model,x):\n",
        "    sorted_feat = feat_imp_sorter(model,x)\n",
        "#     print(sorted_feat.shape)\n",
        "    \n",
        "    plt.figure(figsize=(5, 5))\n",
        "    sns.barplot(x=\"Value\", y=\"Features\", data=sorted_feat)\n",
        "    plt.title(str(model) +'Features_important')\n",
        "    plt.tight_layout()\n"
      ],
      "metadata": {
        "execution": {
          "iopub.status.busy": "2022-02-21T22:14:45.863357Z",
          "iopub.execute_input": "2022-02-21T22:14:45.863734Z",
          "iopub.status.idle": "2022-02-21T22:14:45.873839Z",
          "shell.execute_reply.started": "2022-02-21T22:14:45.863704Z",
          "shell.execute_reply": "2022-02-21T22:14:45.873055Z"
        },
        "trusted": true,
        "id": "JvcbkgQKXdXC"
      },
      "execution_count": 32,
      "outputs": []
    },
    {
      "cell_type": "code",
      "source": [
        "from sklearn.metrics import f1_score, classification_report\n",
        "from sklearn.tree import DecisionTreeClassifier\n",
        "from sklearn.ensemble import RandomForestClassifier\n",
        "from sklearn.linear_model import LogisticRegression\n",
        "from sklearn.ensemble import GradientBoostingClassifier"
      ],
      "metadata": {
        "execution": {
          "iopub.status.busy": "2022-02-21T22:14:45.874983Z",
          "iopub.execute_input": "2022-02-21T22:14:45.875361Z",
          "iopub.status.idle": "2022-02-21T22:14:45.885549Z",
          "shell.execute_reply.started": "2022-02-21T22:14:45.875317Z",
          "shell.execute_reply": "2022-02-21T22:14:45.884834Z"
        },
        "trusted": true,
        "id": "ux0Db9jiXdXD"
      },
      "execution_count": 33,
      "outputs": []
    },
    {
      "cell_type": "markdown",
      "source": [
        "### Base_Model: LogisticRegression"
      ],
      "metadata": {
        "id": "8Dtb2G-lXdXE"
      }
    },
    {
      "cell_type": "code",
      "source": [
        "base_model = LogisticRegression(solver='liblinear')\n",
        "base_model.fit(X_train,y_trainn)\n",
        "\n",
        "print(f1_score(y_testt,base_model.predict(X_test), average='weighted'))"
      ],
      "metadata": {
        "execution": {
          "iopub.status.busy": "2022-02-21T22:14:45.887048Z",
          "iopub.execute_input": "2022-02-21T22:14:45.887396Z",
          "iopub.status.idle": "2022-02-21T22:14:45.913978Z",
          "shell.execute_reply.started": "2022-02-21T22:14:45.887359Z",
          "shell.execute_reply": "2022-02-21T22:14:45.912978Z"
        },
        "trusted": true,
        "colab": {
          "base_uri": "https://localhost:8080/"
        },
        "id": "5POzXLqxXdXE",
        "outputId": "3b982e0c-12ef-4c0c-ea41-cce7e41b5cf8"
      },
      "execution_count": 34,
      "outputs": [
        {
          "output_type": "stream",
          "name": "stdout",
          "text": [
            "0.9245632798573975\n"
          ]
        }
      ]
    },
    {
      "cell_type": "code",
      "source": [
        "print(classification_report(y_testt, base_model.predict(X_test)))"
      ],
      "metadata": {
        "execution": {
          "iopub.status.busy": "2022-02-21T22:14:45.915057Z",
          "iopub.execute_input": "2022-02-21T22:14:45.915511Z",
          "iopub.status.idle": "2022-02-21T22:14:45.927745Z",
          "shell.execute_reply.started": "2022-02-21T22:14:45.915480Z",
          "shell.execute_reply": "2022-02-21T22:14:45.927038Z"
        },
        "trusted": true,
        "colab": {
          "base_uri": "https://localhost:8080/"
        },
        "id": "Xdo7bhCOXdXF",
        "outputId": "fdc6b850-0182-4189-e554-abdfce02d1bb"
      },
      "execution_count": 35,
      "outputs": [
        {
          "output_type": "stream",
          "name": "stdout",
          "text": [
            "              precision    recall  f1-score   support\n",
            "\n",
            "           0       0.98      1.00      0.99        42\n",
            "           1       0.86      0.96      0.91        26\n",
            "           2       1.00      0.43      0.60         7\n",
            "\n",
            "    accuracy                           0.93        75\n",
            "   macro avg       0.95      0.80      0.83        75\n",
            "weighted avg       0.94      0.93      0.92        75\n",
            "\n"
          ]
        }
      ]
    },
    {
      "cell_type": "markdown",
      "source": [
        "### GradientBoostingClassifier"
      ],
      "metadata": {
        "id": "jG_ay_7oXdXG"
      }
    },
    {
      "cell_type": "markdown",
      "source": [
        "Fitting the model and evaluating the model using *F1 score*. F1 score was chosen as the metrics because it takes into consideration *PRECISION* and *RECALL*"
      ],
      "metadata": {
        "id": "DFzd_twIXdXH"
      }
    },
    {
      "cell_type": "code",
      "source": [
        "gbt = GradientBoostingClassifier(n_estimators=100, learning_rate=0.1, subsample=0.5,\n",
        "                           max_depth=4,random_state = 7)\n",
        "gbt.fit(X_train,y_trainn)\n",
        "\n",
        "print(f1_score(y_testt,gbt.predict(X_test), average='weighted'))"
      ],
      "metadata": {
        "scrolled": true,
        "execution": {
          "iopub.status.busy": "2022-02-21T22:14:45.929316Z",
          "iopub.execute_input": "2022-02-21T22:14:45.929640Z",
          "iopub.status.idle": "2022-02-21T22:14:46.372261Z",
          "shell.execute_reply.started": "2022-02-21T22:14:45.929586Z",
          "shell.execute_reply": "2022-02-21T22:14:46.371345Z"
        },
        "trusted": true,
        "colab": {
          "base_uri": "https://localhost:8080/"
        },
        "id": "XHB6t61iXdXH",
        "outputId": "ab762230-8d60-4060-f7e6-56169515ea12"
      },
      "execution_count": 36,
      "outputs": [
        {
          "output_type": "stream",
          "name": "stdout",
          "text": [
            "0.92\n"
          ]
        }
      ]
    },
    {
      "cell_type": "markdown",
      "source": [
        "An overall report of the performance of the model"
      ],
      "metadata": {
        "id": "Wpr_qRKvXdXJ"
      }
    },
    {
      "cell_type": "code",
      "source": [
        "print(classification_report(y_testt, gbt.predict(X_test)))"
      ],
      "metadata": {
        "execution": {
          "iopub.status.busy": "2022-02-21T22:14:46.373570Z",
          "iopub.execute_input": "2022-02-21T22:14:46.374231Z",
          "iopub.status.idle": "2022-02-21T22:14:46.387001Z",
          "shell.execute_reply.started": "2022-02-21T22:14:46.374184Z",
          "shell.execute_reply": "2022-02-21T22:14:46.386049Z"
        },
        "trusted": true,
        "colab": {
          "base_uri": "https://localhost:8080/"
        },
        "id": "HWLJamOrXdXL",
        "outputId": "b9490d0d-aa1d-4d12-fb0c-60ae9e79d4ee"
      },
      "execution_count": 37,
      "outputs": [
        {
          "output_type": "stream",
          "name": "stdout",
          "text": [
            "              precision    recall  f1-score   support\n",
            "\n",
            "           0       0.98      0.98      0.98        42\n",
            "           1       0.88      0.88      0.88        26\n",
            "           2       0.71      0.71      0.71         7\n",
            "\n",
            "    accuracy                           0.92        75\n",
            "   macro avg       0.86      0.86      0.86        75\n",
            "weighted avg       0.92      0.92      0.92        75\n",
            "\n"
          ]
        }
      ]
    },
    {
      "cell_type": "code",
      "source": [
        "gbt.predict(X_test)"
      ],
      "metadata": {
        "execution": {
          "iopub.status.busy": "2022-02-21T22:14:46.391783Z",
          "iopub.execute_input": "2022-02-21T22:14:46.392020Z",
          "iopub.status.idle": "2022-02-21T22:14:46.401924Z",
          "shell.execute_reply.started": "2022-02-21T22:14:46.391990Z",
          "shell.execute_reply": "2022-02-21T22:14:46.401175Z"
        },
        "trusted": true,
        "colab": {
          "base_uri": "https://localhost:8080/"
        },
        "id": "5RK96hLiXdXM",
        "outputId": "187a9aeb-f80c-4da3-e66d-9bcbe1c0a4bd"
      },
      "execution_count": 38,
      "outputs": [
        {
          "output_type": "execute_result",
          "data": {
            "text/plain": [
              "array([2, 1, 0, 0, 0, 0, 2, 0, 0, 1, 0, 1, 1, 0, 0, 0, 0, 1, 1, 0, 0, 0,\n",
              "       2, 1, 0, 1, 2, 1, 0, 0, 0, 1, 0, 0, 0, 2, 1, 1, 1, 1, 0, 0, 2, 1,\n",
              "       1, 0, 1, 1, 1, 0, 1, 1, 0, 0, 0, 0, 1, 0, 0, 0, 0, 1, 0, 0, 0, 0,\n",
              "       0, 1, 0, 1, 0, 2, 1, 0, 0])"
            ]
          },
          "metadata": {},
          "execution_count": 38
        }
      ]
    },
    {
      "cell_type": "markdown",
      "source": [
        "From the result above Gradient boosting classifier did well having a F1 score of 93 and it is also noticed that no class 3 was predicted by the model. This can be as a result of the size of the data and the little representation of the class compared to others"
      ],
      "metadata": {
        "id": "EGyoXup0XdXO"
      }
    },
    {
      "cell_type": "code",
      "source": [
        "feat_imp_ploter(gbt, X_train)"
      ],
      "metadata": {
        "scrolled": true,
        "execution": {
          "iopub.status.busy": "2022-02-21T22:14:46.404880Z",
          "iopub.execute_input": "2022-02-21T22:14:46.405198Z",
          "iopub.status.idle": "2022-02-21T22:14:46.795127Z",
          "shell.execute_reply.started": "2022-02-21T22:14:46.405165Z",
          "shell.execute_reply": "2022-02-21T22:14:46.794174Z"
        },
        "trusted": true,
        "colab": {
          "base_uri": "https://localhost:8080/",
          "height": 0
        },
        "id": "HwCtMeajXdXP",
        "outputId": "f1a40469-859f-47ec-a045-671aaa60abb8"
      },
      "execution_count": 39,
      "outputs": [
        {
          "output_type": "display_data",
          "data": {
            "image/png": "[encoded data removed]",
            "text/plain": [
              "<Figure size 360x360 with 1 Axes>"
            ]
          },
          "metadata": {
            "needs_background": "light"
          }
        }
      ]
    },
    {
      "cell_type": "markdown",
      "source": [
        "According to the barplot based on Feature Importance *Nondemented* has the highest influence on the predictions of the model, which is obviously supposed to be. As well this might be considered a data leakage"
      ],
      "metadata": {
        "id": "KplFU3FOXdXQ"
      }
    },
    {
      "cell_type": "code",
      "source": [
        ""
      ],
      "metadata": {
        "id": "LW_j7roXXdXR"
      },
      "execution_count": 39,
      "outputs": []
    },
    {
      "cell_type": "markdown",
      "source": [
        "### RandomForestClassifier"
      ],
      "metadata": {
        "id": "zrFxzvdXXdXR"
      }
    },
    {
      "cell_type": "code",
      "source": [
        "rfc = RandomForestClassifier(n_estimators=100,\n",
        "                           max_depth=7,random_state = 7)\n",
        "rfc.fit(X_train,y_trainn)\n",
        "\n",
        "print(f1_score(y_testt,rfc.predict(X_test), average='weighted'))"
      ],
      "metadata": {
        "execution": {
          "iopub.status.busy": "2022-02-21T22:14:46.796277Z",
          "iopub.execute_input": "2022-02-21T22:14:46.796705Z",
          "iopub.status.idle": "2022-02-21T22:14:47.007228Z",
          "shell.execute_reply.started": "2022-02-21T22:14:46.796674Z",
          "shell.execute_reply": "2022-02-21T22:14:47.006352Z"
        },
        "trusted": true,
        "colab": {
          "base_uri": "https://localhost:8080/"
        },
        "id": "uiDlGLr9XdXS",
        "outputId": "f5f5c718-51bf-41db-b517-ddf890e1f2f2"
      },
      "execution_count": 40,
      "outputs": [
        {
          "output_type": "stream",
          "name": "stdout",
          "text": [
            "0.9033380194845233\n"
          ]
        }
      ]
    },
    {
      "cell_type": "markdown",
      "source": [
        "An overall report of the performance of the model"
      ],
      "metadata": {
        "id": "KeXuNb0zXdXT"
      }
    },
    {
      "cell_type": "code",
      "source": [
        "print(classification_report(y_testt, rfc.predict(X_test)))"
      ],
      "metadata": {
        "execution": {
          "iopub.status.busy": "2022-02-21T22:14:47.008787Z",
          "iopub.execute_input": "2022-02-21T22:14:47.009211Z",
          "iopub.status.idle": "2022-02-21T22:14:47.033081Z",
          "shell.execute_reply.started": "2022-02-21T22:14:47.009177Z",
          "shell.execute_reply": "2022-02-21T22:14:47.032441Z"
        },
        "trusted": true,
        "colab": {
          "base_uri": "https://localhost:8080/"
        },
        "id": "c3U4FVTTXdXU",
        "outputId": "05c4831f-2a66-4322-d0c1-1ba7ef8e0cac"
      },
      "execution_count": 41,
      "outputs": [
        {
          "output_type": "stream",
          "name": "stdout",
          "text": [
            "              precision    recall  f1-score   support\n",
            "\n",
            "           0       0.95      0.98      0.96        42\n",
            "           1       0.85      0.88      0.87        26\n",
            "           2       0.80      0.57      0.67         7\n",
            "\n",
            "    accuracy                           0.91        75\n",
            "   macro avg       0.87      0.81      0.83        75\n",
            "weighted avg       0.90      0.91      0.90        75\n",
            "\n"
          ]
        }
      ]
    },
    {
      "cell_type": "code",
      "source": [
        "rfc.predict(X_test)"
      ],
      "metadata": {
        "execution": {
          "iopub.status.busy": "2022-02-21T22:14:47.034249Z",
          "iopub.execute_input": "2022-02-21T22:14:47.034968Z",
          "iopub.status.idle": "2022-02-21T22:14:47.055158Z",
          "shell.execute_reply.started": "2022-02-21T22:14:47.034927Z",
          "shell.execute_reply": "2022-02-21T22:14:47.054418Z"
        },
        "trusted": true,
        "colab": {
          "base_uri": "https://localhost:8080/"
        },
        "id": "BOPqV354XdXV",
        "outputId": "1f497182-a870-494f-b850-0156916388fc"
      },
      "execution_count": 42,
      "outputs": [
        {
          "output_type": "execute_result",
          "data": {
            "text/plain": [
              "array([1, 1, 0, 0, 0, 0, 2, 0, 0, 1, 0, 1, 1, 0, 0, 0, 0, 1, 1, 0, 0, 0,\n",
              "       2, 1, 0, 1, 2, 1, 0, 0, 0, 1, 0, 0, 0, 2, 1, 1, 0, 1, 0, 0, 2, 1,\n",
              "       1, 0, 1, 1, 1, 0, 1, 1, 0, 0, 0, 0, 1, 0, 0, 0, 0, 1, 0, 0, 0, 0,\n",
              "       0, 1, 0, 1, 0, 1, 1, 0, 0])"
            ]
          },
          "metadata": {},
          "execution_count": 42
        }
      ]
    },
    {
      "cell_type": "markdown",
      "source": [
        "From the result above report RandomForest classifier have a F1 score of 89 and it is also noticed that no class 3 was predicted by the model as well."
      ],
      "metadata": {
        "id": "ozRkEmcSXdXW"
      }
    },
    {
      "cell_type": "code",
      "source": [
        "feat_imp_ploter(gbt, X_train)"
      ],
      "metadata": {
        "scrolled": true,
        "execution": {
          "iopub.status.busy": "2022-02-21T22:14:47.056501Z",
          "iopub.execute_input": "2022-02-21T22:14:47.056942Z",
          "iopub.status.idle": "2022-02-21T22:14:47.458175Z",
          "shell.execute_reply.started": "2022-02-21T22:14:47.056910Z",
          "shell.execute_reply": "2022-02-21T22:14:47.457275Z"
        },
        "trusted": true,
        "colab": {
          "base_uri": "https://localhost:8080/",
          "height": 0
        },
        "id": "WuCUoXdoXdXX",
        "outputId": "2862de70-f6cf-453f-8470-6e6982411a1a"
      },
      "execution_count": 43,
      "outputs": [
        {
          "output_type": "display_data",
          "data": {
            "image/png": "[encoded data removed]",
            "text/plain": [
              "<Figure size 360x360 with 1 Axes>"
            ]
          },
          "metadata": {
            "needs_background": "light"
          }
        }
      ]
    },
    {
      "cell_type": "markdown",
      "source": [
        "According to the barplot based on Feature Importance *Nondemented* and *Demented* have higher influence on the predictions of the model. It can also be seen that the Gender *M*, *F* bare have any influence on the model's decisions. Therefore it can be considered dropping them to see how the model performs."
      ],
      "metadata": {
        "id": "QzHCqX_vXdXZ"
      }
    },
    {
      "cell_type": "code",
      "source": [
        ""
      ],
      "metadata": {
        "id": "MyXoVc08XdXa"
      },
      "execution_count": 43,
      "outputs": []
    },
    {
      "cell_type": "markdown",
      "source": [
        "### DecisionTreeClassifier"
      ],
      "metadata": {
        "id": "XNzxpr1rXdXa"
      }
    },
    {
      "cell_type": "code",
      "source": [
        "dtc = DecisionTreeClassifier(max_depth=3,random_state = 7)#I tried different max_depth 10, 9, 7,3\n",
        "\n",
        "dtc.fit(X_train,y_trainn)\n",
        "\n",
        "print(f1_score(y_testt,dtc.predict(X_test), average='weighted'))"
      ],
      "metadata": {
        "execution": {
          "iopub.status.busy": "2022-02-21T22:14:47.459361Z",
          "iopub.execute_input": "2022-02-21T22:14:47.459593Z",
          "iopub.status.idle": "2022-02-21T22:14:47.473810Z",
          "shell.execute_reply.started": "2022-02-21T22:14:47.459564Z",
          "shell.execute_reply": "2022-02-21T22:14:47.472953Z"
        },
        "trusted": true,
        "colab": {
          "base_uri": "https://localhost:8080/"
        },
        "id": "MhavGYqYXdXb",
        "outputId": "d6207a31-6b56-40fa-9e02-b1b567e6ce1a"
      },
      "execution_count": 44,
      "outputs": [
        {
          "output_type": "stream",
          "name": "stdout",
          "text": [
            "0.8181864623243933\n"
          ]
        }
      ]
    },
    {
      "cell_type": "markdown",
      "source": [
        "An overall report of the performance of the model"
      ],
      "metadata": {
        "id": "N4aVVUykXdXd"
      }
    },
    {
      "cell_type": "code",
      "source": [
        "print(classification_report(y_testt, dtc.predict(X_test)))"
      ],
      "metadata": {
        "execution": {
          "iopub.status.busy": "2022-02-21T22:14:47.475229Z",
          "iopub.execute_input": "2022-02-21T22:14:47.476079Z",
          "iopub.status.idle": "2022-02-21T22:14:47.488285Z",
          "shell.execute_reply.started": "2022-02-21T22:14:47.476033Z",
          "shell.execute_reply": "2022-02-21T22:14:47.487676Z"
        },
        "trusted": true,
        "colab": {
          "base_uri": "https://localhost:8080/"
        },
        "id": "XuT59OOgXdXf",
        "outputId": "9aaa18b4-8ca7-44c3-892a-ad29d79867bd"
      },
      "execution_count": 45,
      "outputs": [
        {
          "output_type": "stream",
          "name": "stdout",
          "text": [
            "              precision    recall  f1-score   support\n",
            "\n",
            "           0       0.91      0.98      0.94        42\n",
            "           1       0.75      0.81      0.78        26\n",
            "           2       0.50      0.14      0.22         7\n",
            "\n",
            "    accuracy                           0.84        75\n",
            "   macro avg       0.72      0.64      0.65        75\n",
            "weighted avg       0.82      0.84      0.82        75\n",
            "\n"
          ]
        }
      ]
    },
    {
      "cell_type": "code",
      "source": [
        "dtc.predict(X_test)"
      ],
      "metadata": {
        "execution": {
          "iopub.status.busy": "2022-02-21T22:14:47.489285Z",
          "iopub.execute_input": "2022-02-21T22:14:47.489891Z",
          "iopub.status.idle": "2022-02-21T22:14:47.498973Z",
          "shell.execute_reply.started": "2022-02-21T22:14:47.489766Z",
          "shell.execute_reply": "2022-02-21T22:14:47.498350Z"
        },
        "trusted": true,
        "colab": {
          "base_uri": "https://localhost:8080/"
        },
        "id": "ZRowM7N6XdXg",
        "outputId": "ab34e590-4f4a-4281-b901-a354d94b2618"
      },
      "execution_count": 46,
      "outputs": [
        {
          "output_type": "execute_result",
          "data": {
            "text/plain": [
              "array([1, 1, 0, 0, 0, 0, 2, 0, 0, 1, 0, 1, 1, 0, 0, 0, 0, 0, 0, 0, 0, 0,\n",
              "       1, 1, 0, 1, 2, 1, 0, 0, 0, 1, 0, 0, 0, 1, 1, 1, 0, 1, 0, 0, 1, 1,\n",
              "       1, 0, 1, 1, 1, 0, 1, 1, 0, 0, 0, 0, 1, 0, 0, 1, 0, 1, 0, 0, 0, 0,\n",
              "       0, 1, 0, 1, 0, 1, 0, 0, 0])"
            ]
          },
          "metadata": {},
          "execution_count": 46
        }
      ]
    },
    {
      "cell_type": "markdown",
      "source": [
        "From the result above report DecisionTreeClassifier have a F1 score of 91 and no class 3 was predicted. Its results is almost same as GradientBoosting."
      ],
      "metadata": {
        "id": "CHPM-R6MXdXh"
      }
    },
    {
      "cell_type": "code",
      "source": [
        "feat_imp_ploter(dtc, X_train)"
      ],
      "metadata": {
        "scrolled": true,
        "execution": {
          "iopub.status.busy": "2022-02-21T22:14:47.500048Z",
          "iopub.execute_input": "2022-02-21T22:14:47.500657Z",
          "iopub.status.idle": "2022-02-21T22:14:47.888353Z",
          "shell.execute_reply.started": "2022-02-21T22:14:47.500617Z",
          "shell.execute_reply": "2022-02-21T22:14:47.887444Z"
        },
        "trusted": true,
        "colab": {
          "base_uri": "https://localhost:8080/",
          "height": 0
        },
        "id": "d2vCxARdXdXj",
        "outputId": "b1ef4fcb-8bc1-4e7e-be7c-9fb70853f463"
      },
      "execution_count": 47,
      "outputs": [
        {
          "output_type": "display_data",
          "data": {
            "image/png": "[encoded data removed]",
            "text/plain": [
              "<Figure size 360x360 with 1 Axes>"
            ]
          },
          "metadata": {
            "needs_background": "light"
          }
        }
      ]
    },
    {
      "cell_type": "markdown",
      "source": [
        "Wow, Here the barplot speaks for itself concerning the *Feature Importance* of the model"
      ],
      "metadata": {
        "id": "28SNHbbKXdXk"
      }
    },
    {
      "cell_type": "code",
      "source": [
        ""
      ],
      "metadata": {
        "id": "cnKuuvcCXdXl"
      },
      "execution_count": 47,
      "outputs": []
    },
    {
      "cell_type": "markdown",
      "source": [
        "Other things we might consider:\n",
        "   - normalising the data although convectionally it has no/little effect on tree model\n",
        "   - we might consider dropping some features e.g M, F\n",
        "   - we can also do little hyperparameter tuning\n",
        "   - we can also use different models like Ada, Catboost, Xgboost but i feel they might be heavy for our little dataset\n",
        "   - also if time permits try some feature combination..."
      ],
      "metadata": {
        "id": "msTxtVn1XdXm"
      }
    },
    {
      "cell_type": "markdown",
      "source": [
        "## Predicting Probability of being dementia\n",
        "\n",
        "we will be using binary classification predict_proba and we will go with the model with the best performance (gb)"
      ],
      "metadata": {
        "execution": {
          "iopub.status.busy": "2022-02-21T21:37:03.845977Z",
          "iopub.execute_input": "2022-02-21T21:37:03.846295Z",
          "iopub.status.idle": "2022-02-21T21:37:03.852124Z",
          "shell.execute_reply.started": "2022-02-21T21:37:03.846256Z",
          "shell.execute_reply": "2022-02-21T21:37:03.851095Z"
        },
        "id": "gtn0hKY0XdXp"
      }
    },
    {
      "cell_type": "code",
      "source": [
        "gbt.fit(X_train, y_train2) # this  y_train2 is the second target variable for the binary classification\n",
        "gbt.predict_proba(X_test)"
      ],
      "metadata": {
        "execution": {
          "iopub.status.busy": "2022-02-21T22:14:47.889636Z",
          "iopub.execute_input": "2022-02-21T22:14:47.889868Z",
          "iopub.status.idle": "2022-02-21T22:14:48.031448Z",
          "shell.execute_reply.started": "2022-02-21T22:14:47.889839Z",
          "shell.execute_reply": "2022-02-21T22:14:48.030814Z"
        },
        "trusted": true,
        "colab": {
          "base_uri": "https://localhost:8080/"
        },
        "id": "TzDkzKGYXdXq",
        "outputId": "bdfa1550-56d1-47e1-e8ec-43ca0376d658"
      },
      "execution_count": 48,
      "outputs": [
        {
          "output_type": "execute_result",
          "data": {
            "text/plain": [
              "array([[9.36343726e-05, 9.99906366e-01],\n",
              "       [6.46286706e-04, 9.99353713e-01],\n",
              "       [9.99864756e-01, 1.35243871e-04],\n",
              "       [9.99917044e-01, 8.29563504e-05],\n",
              "       [9.99904604e-01, 9.53959510e-05],\n",
              "       [9.99728510e-01, 2.71489974e-04],\n",
              "       [4.01668072e-05, 9.99959833e-01],\n",
              "       [9.99924187e-01, 7.58132900e-05],\n",
              "       [9.99926972e-01, 7.30275744e-05],\n",
              "       [1.23337452e-04, 9.99876663e-01],\n",
              "       [9.99929201e-01, 7.07992455e-05],\n",
              "       [1.32456726e-03, 9.98675433e-01],\n",
              "       [1.50325364e-04, 9.99849675e-01],\n",
              "       [9.99971240e-01, 2.87597976e-05],\n",
              "       [9.99904390e-01, 9.56100117e-05],\n",
              "       [9.99840075e-01, 1.59925421e-04],\n",
              "       [9.99950528e-01, 4.94721785e-05],\n",
              "       [7.13391198e-03, 9.92866088e-01],\n",
              "       [9.00495190e-03, 9.90995048e-01],\n",
              "       [9.99893976e-01, 1.06024114e-04],\n",
              "       [9.99924187e-01, 7.58132900e-05],\n",
              "       [9.99941781e-01, 5.82194353e-05],\n",
              "       [1.10169883e-04, 9.99889830e-01],\n",
              "       [8.56474491e-05, 9.99914353e-01],\n",
              "       [9.99687635e-01, 3.12364764e-04],\n",
              "       [1.91756904e-04, 9.99808243e-01],\n",
              "       [7.00887874e-05, 9.99929911e-01],\n",
              "       [1.01863119e-04, 9.99898137e-01],\n",
              "       [9.99874363e-01, 1.25637237e-04],\n",
              "       [9.99884339e-01, 1.15661187e-04],\n",
              "       [9.99925092e-01, 7.49077645e-05],\n",
              "       [7.93542472e-05, 9.99920646e-01],\n",
              "       [9.99930896e-01, 6.91043957e-05],\n",
              "       [9.99865145e-01, 1.34855282e-04],\n",
              "       [9.99933188e-01, 6.68118398e-05],\n",
              "       [7.98485765e-05, 9.99920151e-01],\n",
              "       [1.22356116e-04, 9.99877644e-01],\n",
              "       [6.69704238e-04, 9.99330296e-01],\n",
              "       [4.71880289e-02, 9.52811971e-01],\n",
              "       [7.41488439e-05, 9.99925851e-01],\n",
              "       [9.99920772e-01, 7.92280300e-05],\n",
              "       [9.99966915e-01, 3.30850358e-05],\n",
              "       [6.80762811e-05, 9.99931924e-01],\n",
              "       [6.47221087e-04, 9.99352779e-01],\n",
              "       [1.50238247e-04, 9.99849762e-01],\n",
              "       [9.99966935e-01, 3.30647145e-05],\n",
              "       [1.63026288e-04, 9.99836974e-01],\n",
              "       [7.41645766e-05, 9.99925835e-01],\n",
              "       [1.51105701e-04, 9.99848894e-01],\n",
              "       [9.99839732e-01, 1.60267563e-04],\n",
              "       [1.04889522e-04, 9.99895110e-01],\n",
              "       [7.42214146e-05, 9.99925779e-01],\n",
              "       [9.99955719e-01, 4.42813046e-05],\n",
              "       [9.99198036e-01, 8.01964269e-04],\n",
              "       [9.99912359e-01, 8.76407537e-05],\n",
              "       [9.99847843e-01, 1.52157172e-04],\n",
              "       [8.94387783e-05, 9.99910561e-01],\n",
              "       [9.99954199e-01, 4.58012061e-05],\n",
              "       [9.99921850e-01, 7.81496925e-05],\n",
              "       [9.99084396e-01, 9.15604274e-04],\n",
              "       [9.99904388e-01, 9.56121624e-05],\n",
              "       [7.98460362e-05, 9.99920154e-01],\n",
              "       [9.99877428e-01, 1.22572176e-04],\n",
              "       [9.99933679e-01, 6.63212560e-05],\n",
              "       [9.99941479e-01, 5.85210688e-05],\n",
              "       [9.99924112e-01, 7.58879585e-05],\n",
              "       [9.99822933e-01, 1.77066860e-04],\n",
              "       [4.34344670e-04, 9.99565655e-01],\n",
              "       [9.99146648e-01, 8.53351512e-04],\n",
              "       [2.26612530e-04, 9.99773387e-01],\n",
              "       [9.99891324e-01, 1.08676350e-04],\n",
              "       [9.86499318e-05, 9.99901350e-01],\n",
              "       [5.22577554e-02, 9.47742245e-01],\n",
              "       [9.99929203e-01, 7.07966919e-05],\n",
              "       [9.99962808e-01, 3.71915824e-05]])"
            ]
          },
          "metadata": {},
          "execution_count": 48
        }
      ]
    },
    {
      "cell_type": "markdown",
      "source": [
        "Since our target is (0,1), then the classifier output a probability matrix of dimension (N,2). The first index refers to the probability that the data belong to class 0 (Normal), and the second refers to the probability that the data belong to class 1 (Dementia).\n",
        "\n",
        "These two would sum to 1.\n",
        "\n",
        "We can then output the result by:"
      ],
      "metadata": {
        "execution": {
          "iopub.status.busy": "2022-02-21T21:39:48.128394Z",
          "iopub.execute_input": "2022-02-21T21:39:48.128726Z",
          "iopub.status.idle": "2022-02-21T21:39:48.134722Z",
          "shell.execute_reply.started": "2022-02-21T21:39:48.128687Z",
          "shell.execute_reply": "2022-02-21T21:39:48.133668Z"
        },
        "id": "eHpXjwF1XdXr"
      }
    },
    {
      "cell_type": "code",
      "source": [
        "gbt.predict_proba(X_test)[:,1] # probability that each of the pateint has dementia(1)"
      ],
      "metadata": {
        "execution": {
          "iopub.status.busy": "2022-02-21T22:14:48.032702Z",
          "iopub.execute_input": "2022-02-21T22:14:48.032941Z",
          "iopub.status.idle": "2022-02-21T22:14:48.043558Z",
          "shell.execute_reply.started": "2022-02-21T22:14:48.032912Z",
          "shell.execute_reply": "2022-02-21T22:14:48.042681Z"
        },
        "trusted": true,
        "colab": {
          "base_uri": "https://localhost:8080/"
        },
        "id": "HZZakpS2XdXs",
        "outputId": "671bdd10-53db-4226-9cc2-2beee7d276cc"
      },
      "execution_count": 49,
      "outputs": [
        {
          "output_type": "execute_result",
          "data": {
            "text/plain": [
              "array([9.99906366e-01, 9.99353713e-01, 1.35243871e-04, 8.29563504e-05,\n",
              "       9.53959510e-05, 2.71489974e-04, 9.99959833e-01, 7.58132900e-05,\n",
              "       7.30275744e-05, 9.99876663e-01, 7.07992455e-05, 9.98675433e-01,\n",
              "       9.99849675e-01, 2.87597976e-05, 9.56100117e-05, 1.59925421e-04,\n",
              "       4.94721785e-05, 9.92866088e-01, 9.90995048e-01, 1.06024114e-04,\n",
              "       7.58132900e-05, 5.82194353e-05, 9.99889830e-01, 9.99914353e-01,\n",
              "       3.12364764e-04, 9.99808243e-01, 9.99929911e-01, 9.99898137e-01,\n",
              "       1.25637237e-04, 1.15661187e-04, 7.49077645e-05, 9.99920646e-01,\n",
              "       6.91043957e-05, 1.34855282e-04, 6.68118398e-05, 9.99920151e-01,\n",
              "       9.99877644e-01, 9.99330296e-01, 9.52811971e-01, 9.99925851e-01,\n",
              "       7.92280300e-05, 3.30850358e-05, 9.99931924e-01, 9.99352779e-01,\n",
              "       9.99849762e-01, 3.30647145e-05, 9.99836974e-01, 9.99925835e-01,\n",
              "       9.99848894e-01, 1.60267563e-04, 9.99895110e-01, 9.99925779e-01,\n",
              "       4.42813046e-05, 8.01964269e-04, 8.76407537e-05, 1.52157172e-04,\n",
              "       9.99910561e-01, 4.58012061e-05, 7.81496925e-05, 9.15604274e-04,\n",
              "       9.56121624e-05, 9.99920154e-01, 1.22572176e-04, 6.63212560e-05,\n",
              "       5.85210688e-05, 7.58879585e-05, 1.77066860e-04, 9.99565655e-01,\n",
              "       8.53351512e-04, 9.99773387e-01, 1.08676350e-04, 9.99901350e-01,\n",
              "       9.47742245e-01, 7.07966919e-05, 3.71915824e-05])"
            ]
          },
          "metadata": {},
          "execution_count": 49
        }
      ]
    },
    {
      "cell_type": "code",
      "source": [
        ""
      ],
      "metadata": {
        "id": "efqWT3pJaR1h"
      },
      "execution_count": 49,
      "outputs": []
    }
  ]
}