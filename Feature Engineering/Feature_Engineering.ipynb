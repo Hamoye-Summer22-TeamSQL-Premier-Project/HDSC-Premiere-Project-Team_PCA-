{
 "cells": [
  {
   "cell_type": "markdown",
   "id": "871d8a0b",
   "metadata": {
    "papermill": {
     "duration": 0.048659,
     "end_time": "2022-02-20T18:36:37.044525",
     "exception": false,
     "start_time": "2022-02-20T18:36:36.995866",
     "status": "completed"
    },
    "tags": []
   },
   "source": [
    "# Step 2 - Feature Engineering"
   ]
  },
  {
   "cell_type": "code",
   "execution_count": 1,
   "id": "c57ca0e6",
   "metadata": {
    "execution": {
     "iopub.execute_input": "2022-02-20T18:36:37.142643Z",
     "iopub.status.busy": "2022-02-20T18:36:37.141904Z",
     "iopub.status.idle": "2022-02-20T18:36:38.294140Z",
     "shell.execute_reply": "2022-02-20T18:36:38.293264Z",
     "shell.execute_reply.started": "2022-02-20T18:32:47.164431Z"
    },
    "papermill": {
     "duration": 1.204919,
     "end_time": "2022-02-20T18:36:38.294335",
     "exception": false,
     "start_time": "2022-02-20T18:36:37.089416",
     "status": "completed"
    },
    "tags": []
   },
   "outputs": [],
   "source": [
    "import pandas as pd\n",
    "import numpy as np\n",
    "import matplotlib.pyplot as plt\n",
    "import seaborn as sns"
   ]
  },
  {
   "cell_type": "code",
   "execution_count": 2,
   "id": "ac99f9d5",
   "metadata": {
    "execution": {
     "iopub.execute_input": "2022-02-20T18:36:38.392366Z",
     "iopub.status.busy": "2022-02-20T18:36:38.391652Z",
     "iopub.status.idle": "2022-02-20T18:36:38.435834Z",
     "shell.execute_reply": "2022-02-20T18:36:38.436421Z",
     "shell.execute_reply.started": "2022-02-20T18:32:47.176049Z"
    },
    "papermill": {
     "duration": 0.093813,
     "end_time": "2022-02-20T18:36:38.436625",
     "exception": false,
     "start_time": "2022-02-20T18:36:38.342812",
     "status": "completed"
    },
    "tags": []
   },
   "outputs": [
    {
     "data": {
      "text/html": [
       "<div>\n",
       "<style scoped>\n",
       "    .dataframe tbody tr th:only-of-type {\n",
       "        vertical-align: middle;\n",
       "    }\n",
       "\n",
       "    .dataframe tbody tr th {\n",
       "        vertical-align: top;\n",
       "    }\n",
       "\n",
       "    .dataframe thead th {\n",
       "        text-align: right;\n",
       "    }\n",
       "</style>\n",
       "<table border=\"1\" class=\"dataframe\">\n",
       "  <thead>\n",
       "    <tr style=\"text-align: right;\">\n",
       "      <th></th>\n",
       "      <th>Subject ID</th>\n",
       "      <th>MRI ID</th>\n",
       "      <th>Group</th>\n",
       "      <th>Visit</th>\n",
       "      <th>MR Delay</th>\n",
       "      <th>M/F</th>\n",
       "      <th>Hand</th>\n",
       "      <th>Age</th>\n",
       "      <th>EDUC</th>\n",
       "      <th>SES</th>\n",
       "      <th>MMSE</th>\n",
       "      <th>CDR</th>\n",
       "      <th>eTIV</th>\n",
       "      <th>nWBV</th>\n",
       "      <th>ASF</th>\n",
       "    </tr>\n",
       "  </thead>\n",
       "  <tbody>\n",
       "    <tr>\n",
       "      <th>0</th>\n",
       "      <td>OAS2_0001</td>\n",
       "      <td>OAS2_0001_MR1</td>\n",
       "      <td>Nondemented</td>\n",
       "      <td>1</td>\n",
       "      <td>0</td>\n",
       "      <td>M</td>\n",
       "      <td>R</td>\n",
       "      <td>87</td>\n",
       "      <td>14</td>\n",
       "      <td>2.0</td>\n",
       "      <td>27.0</td>\n",
       "      <td>0.0</td>\n",
       "      <td>1987</td>\n",
       "      <td>0.696</td>\n",
       "      <td>0.883</td>\n",
       "    </tr>\n",
       "    <tr>\n",
       "      <th>1</th>\n",
       "      <td>OAS2_0001</td>\n",
       "      <td>OAS2_0001_MR2</td>\n",
       "      <td>Nondemented</td>\n",
       "      <td>2</td>\n",
       "      <td>457</td>\n",
       "      <td>M</td>\n",
       "      <td>R</td>\n",
       "      <td>88</td>\n",
       "      <td>14</td>\n",
       "      <td>2.0</td>\n",
       "      <td>30.0</td>\n",
       "      <td>0.0</td>\n",
       "      <td>2004</td>\n",
       "      <td>0.681</td>\n",
       "      <td>0.876</td>\n",
       "    </tr>\n",
       "    <tr>\n",
       "      <th>2</th>\n",
       "      <td>OAS2_0002</td>\n",
       "      <td>OAS2_0002_MR1</td>\n",
       "      <td>Demented</td>\n",
       "      <td>1</td>\n",
       "      <td>0</td>\n",
       "      <td>M</td>\n",
       "      <td>R</td>\n",
       "      <td>75</td>\n",
       "      <td>12</td>\n",
       "      <td>NaN</td>\n",
       "      <td>23.0</td>\n",
       "      <td>0.5</td>\n",
       "      <td>1678</td>\n",
       "      <td>0.736</td>\n",
       "      <td>1.046</td>\n",
       "    </tr>\n",
       "    <tr>\n",
       "      <th>3</th>\n",
       "      <td>OAS2_0002</td>\n",
       "      <td>OAS2_0002_MR2</td>\n",
       "      <td>Demented</td>\n",
       "      <td>2</td>\n",
       "      <td>560</td>\n",
       "      <td>M</td>\n",
       "      <td>R</td>\n",
       "      <td>76</td>\n",
       "      <td>12</td>\n",
       "      <td>NaN</td>\n",
       "      <td>28.0</td>\n",
       "      <td>0.5</td>\n",
       "      <td>1738</td>\n",
       "      <td>0.713</td>\n",
       "      <td>1.010</td>\n",
       "    </tr>\n",
       "    <tr>\n",
       "      <th>4</th>\n",
       "      <td>OAS2_0002</td>\n",
       "      <td>OAS2_0002_MR3</td>\n",
       "      <td>Demented</td>\n",
       "      <td>3</td>\n",
       "      <td>1895</td>\n",
       "      <td>M</td>\n",
       "      <td>R</td>\n",
       "      <td>80</td>\n",
       "      <td>12</td>\n",
       "      <td>NaN</td>\n",
       "      <td>22.0</td>\n",
       "      <td>0.5</td>\n",
       "      <td>1698</td>\n",
       "      <td>0.701</td>\n",
       "      <td>1.034</td>\n",
       "    </tr>\n",
       "  </tbody>\n",
       "</table>\n",
       "</div>"
      ],
      "text/plain": [
       "  Subject ID         MRI ID        Group  Visit  MR Delay M/F Hand  Age  EDUC  \\\n",
       "0  OAS2_0001  OAS2_0001_MR1  Nondemented      1         0   M    R   87    14   \n",
       "1  OAS2_0001  OAS2_0001_MR2  Nondemented      2       457   M    R   88    14   \n",
       "2  OAS2_0002  OAS2_0002_MR1     Demented      1         0   M    R   75    12   \n",
       "3  OAS2_0002  OAS2_0002_MR2     Demented      2       560   M    R   76    12   \n",
       "4  OAS2_0002  OAS2_0002_MR3     Demented      3      1895   M    R   80    12   \n",
       "\n",
       "   SES  MMSE  CDR  eTIV   nWBV    ASF  \n",
       "0  2.0  27.0  0.0  1987  0.696  0.883  \n",
       "1  2.0  30.0  0.0  2004  0.681  0.876  \n",
       "2  NaN  23.0  0.5  1678  0.736  1.046  \n",
       "3  NaN  28.0  0.5  1738  0.713  1.010  \n",
       "4  NaN  22.0  0.5  1698  0.701  1.034  "
      ]
     },
     "execution_count": 2,
     "metadata": {},
     "output_type": "execute_result"
    }
   ],
   "source": [
    "df=pd.read_csv('/Users/amit/Documents/Primere Project/Data/dementia_dataset.csv')\n",
    "df.head()"
   ]
  },
  {
   "cell_type": "code",
   "execution_count": 3,
   "id": "f82891c8",
   "metadata": {
    "execution": {
     "iopub.execute_input": "2022-02-20T18:36:38.529613Z",
     "iopub.status.busy": "2022-02-20T18:36:38.528836Z",
     "iopub.status.idle": "2022-02-20T18:36:38.534409Z",
     "shell.execute_reply": "2022-02-20T18:36:38.535051Z",
     "shell.execute_reply.started": "2022-02-20T18:32:47.207356Z"
    },
    "papermill": {
     "duration": 0.05375,
     "end_time": "2022-02-20T18:36:38.535265",
     "exception": false,
     "start_time": "2022-02-20T18:36:38.481515",
     "status": "completed"
    },
    "tags": []
   },
   "outputs": [
    {
     "data": {
      "text/plain": [
       "(373, 15)"
      ]
     },
     "execution_count": 3,
     "metadata": {},
     "output_type": "execute_result"
    }
   ],
   "source": [
    "df.shape"
   ]
  },
  {
   "cell_type": "markdown",
   "id": "674aea19",
   "metadata": {
    "papermill": {
     "duration": 0.046964,
     "end_time": "2022-02-20T18:36:39.562192",
     "exception": false,
     "start_time": "2022-02-20T18:36:39.515228",
     "status": "completed"
    },
    "tags": []
   },
   "source": [
    "For __Feature Engineering__ the __Train data__ should only be taken into consideration for the statistics value and \n",
    "\n",
    "then these values will be then used for both train and test. This is the best and optimal way to prevent the \n",
    "\n",
    "overfitting later in Model Building part."
   ]
  },
  {
   "cell_type": "code",
   "execution_count": 4,
   "id": "a38c7f51",
   "metadata": {
    "execution": {
     "iopub.execute_input": "2022-02-20T18:36:39.661894Z",
     "iopub.status.busy": "2022-02-20T18:36:39.659798Z",
     "iopub.status.idle": "2022-02-20T18:36:39.726210Z",
     "shell.execute_reply": "2022-02-20T18:36:39.725354Z",
     "shell.execute_reply.started": "2022-02-20T18:32:47.363315Z"
    },
    "papermill": {
     "duration": 0.117046,
     "end_time": "2022-02-20T18:36:39.726371",
     "exception": false,
     "start_time": "2022-02-20T18:36:39.609325",
     "status": "completed"
    },
    "tags": []
   },
   "outputs": [],
   "source": [
    "from sklearn.model_selection import train_test_split\n",
    "X_train , X_test , y_train , y_test = train_test_split(df.drop('CDR' , axis=1) , df['CDR'] , test_size=0.2 , \n",
    "                                                      random_state=2)"
   ]
  },
  {
   "cell_type": "code",
   "execution_count": 5,
   "id": "af8e2113",
   "metadata": {
    "execution": {
     "iopub.execute_input": "2022-02-20T18:36:39.827823Z",
     "iopub.status.busy": "2022-02-20T18:36:39.824369Z",
     "iopub.status.idle": "2022-02-20T18:36:39.830777Z",
     "shell.execute_reply": "2022-02-20T18:36:39.831422Z",
     "shell.execute_reply.started": "2022-02-20T18:32:47.373366Z"
    },
    "papermill": {
     "duration": 0.057663,
     "end_time": "2022-02-20T18:36:39.831601",
     "exception": false,
     "start_time": "2022-02-20T18:36:39.773938",
     "status": "completed"
    },
    "tags": []
   },
   "outputs": [
    {
     "data": {
      "text/plain": [
       "((298, 14), (75, 14))"
      ]
     },
     "execution_count": 5,
     "metadata": {},
     "output_type": "execute_result"
    }
   ],
   "source": [
    "X_train.shape , X_test.shape"
   ]
  },
  {
   "cell_type": "markdown",
   "id": "93eea714",
   "metadata": {
    "papermill": {
     "duration": 0.047727,
     "end_time": "2022-02-20T18:36:39.927676",
     "exception": false,
     "start_time": "2022-02-20T18:36:39.879949",
     "status": "completed"
    },
    "tags": []
   },
   "source": [
    "### 1) Missing Value Imputation\n",
    "- by Median Imputation method"
   ]
  },
  {
   "cell_type": "code",
   "execution_count": 6,
   "id": "3e572572",
   "metadata": {
    "execution": {
     "iopub.execute_input": "2022-02-20T18:36:40.039029Z",
     "iopub.status.busy": "2022-02-20T18:36:40.027416Z",
     "iopub.status.idle": "2022-02-20T18:36:40.042950Z",
     "shell.execute_reply": "2022-02-20T18:36:40.042299Z",
     "shell.execute_reply.started": "2022-02-20T18:32:47.385720Z"
    },
    "papermill": {
     "duration": 0.067687,
     "end_time": "2022-02-20T18:36:40.043116",
     "exception": false,
     "start_time": "2022-02-20T18:36:39.975429",
     "status": "completed"
    },
    "tags": []
   },
   "outputs": [
    {
     "data": {
      "text/plain": [
       "SES     0.053691\n",
       "MMSE    0.006711\n",
       "dtype: float64"
      ]
     },
     "execution_count": 6,
     "metadata": {},
     "output_type": "execute_result"
    }
   ],
   "source": [
    "missing_variables = [feature for feature in df.columns if df[feature].isnull().sum()>0]\n",
    "X_train[missing_variables].isnull().mean()"
   ]
  },
  {
   "cell_type": "markdown",
   "id": "c714e811",
   "metadata": {
    "papermill": {
     "duration": 0.048286,
     "end_time": "2022-02-20T18:36:40.141981",
     "exception": false,
     "start_time": "2022-02-20T18:36:40.093695",
     "status": "completed"
    },
    "tags": []
   },
   "source": [
    "So SES has 5% of missing values and MMSE has .05% of missign values"
   ]
  },
  {
   "cell_type": "code",
   "execution_count": 7,
   "id": "ea5c034d",
   "metadata": {
    "execution": {
     "iopub.execute_input": "2022-02-20T18:36:40.247354Z",
     "iopub.status.busy": "2022-02-20T18:36:40.246223Z",
     "iopub.status.idle": "2022-02-20T18:36:40.252276Z",
     "shell.execute_reply": "2022-02-20T18:36:40.251517Z",
     "shell.execute_reply.started": "2022-02-20T18:32:47.405585Z"
    },
    "papermill": {
     "duration": 0.06225,
     "end_time": "2022-02-20T18:36:40.252443",
     "exception": false,
     "start_time": "2022-02-20T18:36:40.190193",
     "status": "completed"
    },
    "tags": []
   },
   "outputs": [],
   "source": [
    "median_SES = X_train['SES'].median()\n",
    "X_train['SES_imputed'] = X_train['SES'].fillna(median_SES)\n",
    "X_test['SES_imputed'] = X_test['SES'].fillna(median_SES)"
   ]
  },
  {
   "cell_type": "code",
   "execution_count": 8,
   "id": "df53095b",
   "metadata": {
    "execution": {
     "iopub.execute_input": "2022-02-20T18:36:40.360936Z",
     "iopub.status.busy": "2022-02-20T18:36:40.359838Z",
     "iopub.status.idle": "2022-02-20T18:36:40.362656Z",
     "shell.execute_reply": "2022-02-20T18:36:40.362117Z",
     "shell.execute_reply.started": "2022-02-20T18:32:47.420770Z"
    },
    "papermill": {
     "duration": 0.061355,
     "end_time": "2022-02-20T18:36:40.362801",
     "exception": false,
     "start_time": "2022-02-20T18:36:40.301446",
     "status": "completed"
    },
    "tags": []
   },
   "outputs": [],
   "source": [
    "median_MMSE = df['MMSE'].median()\n",
    "X_train['MMSE_imputed'] = df['MMSE'].fillna(median_MMSE)\n",
    "X_test['MMSE_imputed'] = X_test['MMSE'].fillna(median_SES)"
   ]
  },
  {
   "cell_type": "markdown",
   "id": "ff492262",
   "metadata": {
    "papermill": {
     "duration": 0.04804,
     "end_time": "2022-02-20T18:36:40.459157",
     "exception": false,
     "start_time": "2022-02-20T18:36:40.411117",
     "status": "completed"
    },
    "tags": []
   },
   "source": [
    "2 New variables Created for the analysis and it later will be removed"
   ]
  },
  {
   "cell_type": "code",
   "execution_count": 9,
   "id": "b68a3151",
   "metadata": {
    "execution": {
     "iopub.execute_input": "2022-02-20T18:36:40.582607Z",
     "iopub.status.busy": "2022-02-20T18:36:40.581750Z",
     "iopub.status.idle": "2022-02-20T18:36:40.584801Z",
     "shell.execute_reply": "2022-02-20T18:36:40.585310Z",
     "shell.execute_reply.started": "2022-02-20T18:32:47.436354Z"
    },
    "papermill": {
     "duration": 0.078445,
     "end_time": "2022-02-20T18:36:40.585488",
     "exception": false,
     "start_time": "2022-02-20T18:36:40.507043",
     "status": "completed"
    },
    "tags": []
   },
   "outputs": [
    {
     "data": {
      "text/html": [
       "<div>\n",
       "<style scoped>\n",
       "    .dataframe tbody tr th:only-of-type {\n",
       "        vertical-align: middle;\n",
       "    }\n",
       "\n",
       "    .dataframe tbody tr th {\n",
       "        vertical-align: top;\n",
       "    }\n",
       "\n",
       "    .dataframe thead th {\n",
       "        text-align: right;\n",
       "    }\n",
       "</style>\n",
       "<table border=\"1\" class=\"dataframe\">\n",
       "  <thead>\n",
       "    <tr style=\"text-align: right;\">\n",
       "      <th></th>\n",
       "      <th>Subject ID</th>\n",
       "      <th>MRI ID</th>\n",
       "      <th>Group</th>\n",
       "      <th>Visit</th>\n",
       "      <th>MR Delay</th>\n",
       "      <th>M/F</th>\n",
       "      <th>Hand</th>\n",
       "      <th>Age</th>\n",
       "      <th>EDUC</th>\n",
       "      <th>SES</th>\n",
       "      <th>MMSE</th>\n",
       "      <th>eTIV</th>\n",
       "      <th>nWBV</th>\n",
       "      <th>ASF</th>\n",
       "      <th>SES_imputed</th>\n",
       "      <th>MMSE_imputed</th>\n",
       "    </tr>\n",
       "  </thead>\n",
       "  <tbody>\n",
       "    <tr>\n",
       "      <th>225</th>\n",
       "      <td>OAS2_0106</td>\n",
       "      <td>OAS2_0106_MR1</td>\n",
       "      <td>Demented</td>\n",
       "      <td>1</td>\n",
       "      <td>0</td>\n",
       "      <td>F</td>\n",
       "      <td>R</td>\n",
       "      <td>70</td>\n",
       "      <td>11</td>\n",
       "      <td>4.0</td>\n",
       "      <td>22.0</td>\n",
       "      <td>1445</td>\n",
       "      <td>0.722</td>\n",
       "      <td>1.214</td>\n",
       "      <td>4.0</td>\n",
       "      <td>22.0</td>\n",
       "    </tr>\n",
       "    <tr>\n",
       "      <th>100</th>\n",
       "      <td>OAS2_0048</td>\n",
       "      <td>OAS2_0048_MR4</td>\n",
       "      <td>Demented</td>\n",
       "      <td>4</td>\n",
       "      <td>970</td>\n",
       "      <td>M</td>\n",
       "      <td>R</td>\n",
       "      <td>68</td>\n",
       "      <td>16</td>\n",
       "      <td>1.0</td>\n",
       "      <td>7.0</td>\n",
       "      <td>1714</td>\n",
       "      <td>0.682</td>\n",
       "      <td>1.024</td>\n",
       "      <td>1.0</td>\n",
       "      <td>7.0</td>\n",
       "    </tr>\n",
       "    <tr>\n",
       "      <th>270</th>\n",
       "      <td>OAS2_0129</td>\n",
       "      <td>OAS2_0129_MR3</td>\n",
       "      <td>Nondemented</td>\n",
       "      <td>3</td>\n",
       "      <td>1591</td>\n",
       "      <td>F</td>\n",
       "      <td>R</td>\n",
       "      <td>82</td>\n",
       "      <td>18</td>\n",
       "      <td>1.0</td>\n",
       "      <td>29.0</td>\n",
       "      <td>1442</td>\n",
       "      <td>0.644</td>\n",
       "      <td>1.217</td>\n",
       "      <td>1.0</td>\n",
       "      <td>29.0</td>\n",
       "    </tr>\n",
       "    <tr>\n",
       "      <th>108</th>\n",
       "      <td>OAS2_0051</td>\n",
       "      <td>OAS2_0051_MR2</td>\n",
       "      <td>Nondemented</td>\n",
       "      <td>2</td>\n",
       "      <td>457</td>\n",
       "      <td>F</td>\n",
       "      <td>R</td>\n",
       "      <td>94</td>\n",
       "      <td>23</td>\n",
       "      <td>1.0</td>\n",
       "      <td>29.0</td>\n",
       "      <td>1474</td>\n",
       "      <td>0.696</td>\n",
       "      <td>1.190</td>\n",
       "      <td>1.0</td>\n",
       "      <td>29.0</td>\n",
       "    </tr>\n",
       "    <tr>\n",
       "      <th>344</th>\n",
       "      <td>OAS2_0175</td>\n",
       "      <td>OAS2_0175_MR2</td>\n",
       "      <td>Demented</td>\n",
       "      <td>2</td>\n",
       "      <td>700</td>\n",
       "      <td>M</td>\n",
       "      <td>R</td>\n",
       "      <td>72</td>\n",
       "      <td>16</td>\n",
       "      <td>4.0</td>\n",
       "      <td>28.0</td>\n",
       "      <td>1796</td>\n",
       "      <td>0.732</td>\n",
       "      <td>0.977</td>\n",
       "      <td>4.0</td>\n",
       "      <td>28.0</td>\n",
       "    </tr>\n",
       "  </tbody>\n",
       "</table>\n",
       "</div>"
      ],
      "text/plain": [
       "    Subject ID         MRI ID        Group  Visit  MR Delay M/F Hand  Age  \\\n",
       "225  OAS2_0106  OAS2_0106_MR1     Demented      1         0   F    R   70   \n",
       "100  OAS2_0048  OAS2_0048_MR4     Demented      4       970   M    R   68   \n",
       "270  OAS2_0129  OAS2_0129_MR3  Nondemented      3      1591   F    R   82   \n",
       "108  OAS2_0051  OAS2_0051_MR2  Nondemented      2       457   F    R   94   \n",
       "344  OAS2_0175  OAS2_0175_MR2     Demented      2       700   M    R   72   \n",
       "\n",
       "     EDUC  SES  MMSE  eTIV   nWBV    ASF  SES_imputed  MMSE_imputed  \n",
       "225    11  4.0  22.0  1445  0.722  1.214          4.0          22.0  \n",
       "100    16  1.0   7.0  1714  0.682  1.024          1.0           7.0  \n",
       "270    18  1.0  29.0  1442  0.644  1.217          1.0          29.0  \n",
       "108    23  1.0  29.0  1474  0.696  1.190          1.0          29.0  \n",
       "344    16  4.0  28.0  1796  0.732  0.977          4.0          28.0  "
      ]
     },
     "execution_count": 9,
     "metadata": {},
     "output_type": "execute_result"
    }
   ],
   "source": [
    "X_train.head()"
   ]
  },
  {
   "cell_type": "code",
   "execution_count": 10,
   "id": "6d584dc3",
   "metadata": {
    "execution": {
     "iopub.execute_input": "2022-02-20T18:36:40.688052Z",
     "iopub.status.busy": "2022-02-20T18:36:40.687363Z",
     "iopub.status.idle": "2022-02-20T18:36:40.712404Z",
     "shell.execute_reply": "2022-02-20T18:36:40.713002Z",
     "shell.execute_reply.started": "2022-02-20T18:32:47.469703Z"
    },
    "papermill": {
     "duration": 0.078066,
     "end_time": "2022-02-20T18:36:40.713204",
     "exception": false,
     "start_time": "2022-02-20T18:36:40.635138",
     "status": "completed"
    },
    "tags": []
   },
   "outputs": [
    {
     "data": {
      "text/html": [
       "<div>\n",
       "<style scoped>\n",
       "    .dataframe tbody tr th:only-of-type {\n",
       "        vertical-align: middle;\n",
       "    }\n",
       "\n",
       "    .dataframe tbody tr th {\n",
       "        vertical-align: top;\n",
       "    }\n",
       "\n",
       "    .dataframe thead th {\n",
       "        text-align: right;\n",
       "    }\n",
       "</style>\n",
       "<table border=\"1\" class=\"dataframe\">\n",
       "  <thead>\n",
       "    <tr style=\"text-align: right;\">\n",
       "      <th></th>\n",
       "      <th>Subject ID</th>\n",
       "      <th>MRI ID</th>\n",
       "      <th>Group</th>\n",
       "      <th>Visit</th>\n",
       "      <th>MR Delay</th>\n",
       "      <th>M/F</th>\n",
       "      <th>Hand</th>\n",
       "      <th>Age</th>\n",
       "      <th>EDUC</th>\n",
       "      <th>SES</th>\n",
       "      <th>MMSE</th>\n",
       "      <th>eTIV</th>\n",
       "      <th>nWBV</th>\n",
       "      <th>ASF</th>\n",
       "      <th>SES_imputed</th>\n",
       "      <th>MMSE_imputed</th>\n",
       "    </tr>\n",
       "  </thead>\n",
       "  <tbody>\n",
       "    <tr>\n",
       "      <th>173</th>\n",
       "      <td>OAS2_0079</td>\n",
       "      <td>OAS2_0079_MR3</td>\n",
       "      <td>Demented</td>\n",
       "      <td>3</td>\n",
       "      <td>1435</td>\n",
       "      <td>F</td>\n",
       "      <td>R</td>\n",
       "      <td>73</td>\n",
       "      <td>12</td>\n",
       "      <td>4.0</td>\n",
       "      <td>16.0</td>\n",
       "      <td>1478</td>\n",
       "      <td>0.696</td>\n",
       "      <td>1.188</td>\n",
       "      <td>4.0</td>\n",
       "      <td>16.0</td>\n",
       "    </tr>\n",
       "    <tr>\n",
       "      <th>205</th>\n",
       "      <td>OAS2_0098</td>\n",
       "      <td>OAS2_0098_MR1</td>\n",
       "      <td>Demented</td>\n",
       "      <td>1</td>\n",
       "      <td>0</td>\n",
       "      <td>M</td>\n",
       "      <td>R</td>\n",
       "      <td>66</td>\n",
       "      <td>12</td>\n",
       "      <td>4.0</td>\n",
       "      <td>30.0</td>\n",
       "      <td>1446</td>\n",
       "      <td>0.780</td>\n",
       "      <td>1.214</td>\n",
       "      <td>4.0</td>\n",
       "      <td>30.0</td>\n",
       "    </tr>\n",
       "    <tr>\n",
       "      <th>70</th>\n",
       "      <td>OAS2_0036</td>\n",
       "      <td>OAS2_0036_MR4</td>\n",
       "      <td>Nondemented</td>\n",
       "      <td>4</td>\n",
       "      <td>1770</td>\n",
       "      <td>F</td>\n",
       "      <td>R</td>\n",
       "      <td>73</td>\n",
       "      <td>13</td>\n",
       "      <td>4.0</td>\n",
       "      <td>30.0</td>\n",
       "      <td>1360</td>\n",
       "      <td>0.773</td>\n",
       "      <td>1.291</td>\n",
       "      <td>4.0</td>\n",
       "      <td>30.0</td>\n",
       "    </tr>\n",
       "    <tr>\n",
       "      <th>118</th>\n",
       "      <td>OAS2_0056</td>\n",
       "      <td>OAS2_0056_MR1</td>\n",
       "      <td>Nondemented</td>\n",
       "      <td>1</td>\n",
       "      <td>0</td>\n",
       "      <td>F</td>\n",
       "      <td>R</td>\n",
       "      <td>71</td>\n",
       "      <td>14</td>\n",
       "      <td>2.0</td>\n",
       "      <td>28.0</td>\n",
       "      <td>1461</td>\n",
       "      <td>0.756</td>\n",
       "      <td>1.202</td>\n",
       "      <td>2.0</td>\n",
       "      <td>28.0</td>\n",
       "    </tr>\n",
       "    <tr>\n",
       "      <th>32</th>\n",
       "      <td>OAS2_0017</td>\n",
       "      <td>OAS2_0017_MR5</td>\n",
       "      <td>Nondemented</td>\n",
       "      <td>5</td>\n",
       "      <td>2400</td>\n",
       "      <td>M</td>\n",
       "      <td>R</td>\n",
       "      <td>86</td>\n",
       "      <td>12</td>\n",
       "      <td>3.0</td>\n",
       "      <td>27.0</td>\n",
       "      <td>1813</td>\n",
       "      <td>0.761</td>\n",
       "      <td>0.968</td>\n",
       "      <td>3.0</td>\n",
       "      <td>27.0</td>\n",
       "    </tr>\n",
       "  </tbody>\n",
       "</table>\n",
       "</div>"
      ],
      "text/plain": [
       "    Subject ID         MRI ID        Group  Visit  MR Delay M/F Hand  Age  \\\n",
       "173  OAS2_0079  OAS2_0079_MR3     Demented      3      1435   F    R   73   \n",
       "205  OAS2_0098  OAS2_0098_MR1     Demented      1         0   M    R   66   \n",
       "70   OAS2_0036  OAS2_0036_MR4  Nondemented      4      1770   F    R   73   \n",
       "118  OAS2_0056  OAS2_0056_MR1  Nondemented      1         0   F    R   71   \n",
       "32   OAS2_0017  OAS2_0017_MR5  Nondemented      5      2400   M    R   86   \n",
       "\n",
       "     EDUC  SES  MMSE  eTIV   nWBV    ASF  SES_imputed  MMSE_imputed  \n",
       "173    12  4.0  16.0  1478  0.696  1.188          4.0          16.0  \n",
       "205    12  4.0  30.0  1446  0.780  1.214          4.0          30.0  \n",
       "70     13  4.0  30.0  1360  0.773  1.291          4.0          30.0  \n",
       "118    14  2.0  28.0  1461  0.756  1.202          2.0          28.0  \n",
       "32     12  3.0  27.0  1813  0.761  0.968          3.0          27.0  "
      ]
     },
     "execution_count": 10,
     "metadata": {},
     "output_type": "execute_result"
    }
   ],
   "source": [
    "X_test.head()"
   ]
  },
  {
   "cell_type": "markdown",
   "id": "aaeaa354",
   "metadata": {
    "papermill": {
     "duration": 0.050049,
     "end_time": "2022-02-20T18:36:40.813293",
     "exception": false,
     "start_time": "2022-02-20T18:36:40.763244",
     "status": "completed"
    },
    "tags": []
   },
   "source": [
    "__Cheking out the distribution after imputation__"
   ]
  },
  {
   "cell_type": "code",
   "execution_count": 11,
   "id": "7efd1438",
   "metadata": {
    "execution": {
     "iopub.execute_input": "2022-02-20T18:36:40.916895Z",
     "iopub.status.busy": "2022-02-20T18:36:40.916229Z",
     "iopub.status.idle": "2022-02-20T18:36:41.269616Z",
     "shell.execute_reply": "2022-02-20T18:36:41.270178Z",
     "shell.execute_reply.started": "2022-02-20T18:32:47.499844Z"
    },
    "papermill": {
     "duration": 0.407057,
     "end_time": "2022-02-20T18:36:41.270366",
     "exception": false,
     "start_time": "2022-02-20T18:36:40.863309",
     "status": "completed"
    },
    "tags": []
   },
   "outputs": [
    {
     "data": {
      "image/png": "[encoded data removed]",
      "text/plain": [
       "<Figure size 576x360 with 2 Axes>"
      ]
     },
     "metadata": {
      "needs_background": "light"
     },
     "output_type": "display_data"
    }
   ],
   "source": [
    "fig , ax = plt.subplots(figsize=(8,5))\n",
    "ax2=ax.twinx()\n",
    "\n",
    "X_train['SES'].plot.density(color='red' , label='Original Distribution')\n",
    "\n",
    "X_train['SES_imputed'].plot.density(color='blue' , label='Imputed Distribution')\n",
    "\n",
    "plt.legend()\n",
    "plt.title('SES')\n",
    "plt.show()"
   ]
  },
  {
   "cell_type": "code",
   "execution_count": 12,
   "id": "109672db",
   "metadata": {
    "execution": {
     "iopub.execute_input": "2022-02-20T18:36:41.437112Z",
     "iopub.status.busy": "2022-02-20T18:36:41.400889Z",
     "iopub.status.idle": "2022-02-20T18:36:41.656485Z",
     "shell.execute_reply": "2022-02-20T18:36:41.655842Z",
     "shell.execute_reply.started": "2022-02-20T18:32:47.834841Z"
    },
    "papermill": {
     "duration": 0.334658,
     "end_time": "2022-02-20T18:36:41.656653",
     "exception": false,
     "start_time": "2022-02-20T18:36:41.321995",
     "status": "completed"
    },
    "tags": []
   },
   "outputs": [
    {
     "data": {
      "image/png": "[encoded data removed]",
      "text/plain": [
       "<Figure size 576x360 with 2 Axes>"
      ]
     },
     "metadata": {
      "needs_background": "light"
     },
     "output_type": "display_data"
    }
   ],
   "source": [
    "fig , ax = plt.subplots(figsize=(8,5))\n",
    "ax2=ax.twinx()\n",
    "\n",
    "X_train['MMSE'].plot.density(color='red' , label='Original Distribution')\n",
    "\n",
    "X_train['MMSE_imputed'].plot.density(color='blue' , label='Imputed Distribution')\n",
    "\n",
    "plt.legend()\n",
    "plt.title('MMSE')\n",
    "plt.show()"
   ]
  },
  {
   "cell_type": "markdown",
   "id": "88379c55",
   "metadata": {
    "papermill": {
     "duration": 0.051818,
     "end_time": "2022-02-20T18:36:41.763356",
     "exception": false,
     "start_time": "2022-02-20T18:36:41.711538",
     "status": "completed"
    },
    "tags": []
   },
   "source": [
    "We can see the there is the distortion of the original varible distribution in Variable `SSE` as the missing data is 5%.\n",
    "\n",
    "But not in the `MMSE` variable"
   ]
  },
  {
   "cell_type": "markdown",
   "id": "8ef1b154",
   "metadata": {
    "papermill": {
     "duration": 0.052971,
     "end_time": "2022-02-20T18:36:41.869405",
     "exception": false,
     "start_time": "2022-02-20T18:36:41.816434",
     "status": "completed"
    },
    "tags": []
   },
   "source": [
    "__Variance__"
   ]
  },
  {
   "cell_type": "code",
   "execution_count": 13,
   "id": "88d7dc54",
   "metadata": {
    "execution": {
     "iopub.execute_input": "2022-02-20T18:36:41.981761Z",
     "iopub.status.busy": "2022-02-20T18:36:41.980809Z",
     "iopub.status.idle": "2022-02-20T18:36:41.984824Z",
     "shell.execute_reply": "2022-02-20T18:36:41.984201Z",
     "shell.execute_reply.started": "2022-02-20T18:32:48.149965Z"
    },
    "papermill": {
     "duration": 0.063069,
     "end_time": "2022-02-20T18:36:41.984971",
     "exception": false,
     "start_time": "2022-02-20T18:36:41.921902",
     "status": "completed"
    },
    "tags": []
   },
   "outputs": [
    {
     "data": {
      "text/plain": [
       "(1.3312132455011232, 1.2703319548957133)"
      ]
     },
     "execution_count": 13,
     "metadata": {},
     "output_type": "execute_result"
    }
   ],
   "source": [
    "X_train['SES'].var() , X_train['SES_imputed'].var()  \n",
    "# so we can also see the change in the variance"
   ]
  },
  {
   "cell_type": "code",
   "execution_count": 14,
   "id": "128992d0",
   "metadata": {
    "execution": {
     "iopub.execute_input": "2022-02-20T18:36:42.103337Z",
     "iopub.status.busy": "2022-02-20T18:36:42.102315Z",
     "iopub.status.idle": "2022-02-20T18:36:42.107094Z",
     "shell.execute_reply": "2022-02-20T18:36:42.106281Z",
     "shell.execute_reply.started": "2022-02-20T18:32:48.157994Z"
    },
    "papermill": {
     "duration": 0.069603,
     "end_time": "2022-02-20T18:36:42.107264",
     "exception": false,
     "start_time": "2022-02-20T18:36:42.037661",
     "status": "completed"
    },
    "tags": []
   },
   "outputs": [
    {
     "data": {
      "text/plain": [
       "(14.179374713696745, 14.104772557792693)"
      ]
     },
     "execution_count": 14,
     "metadata": {},
     "output_type": "execute_result"
    }
   ],
   "source": [
    "X_train['MMSE'].var() , X_train['MMSE_imputed'].var()  \n",
    "# almost same "
   ]
  },
  {
   "cell_type": "markdown",
   "id": "6e136a3e",
   "metadata": {
    "papermill": {
     "duration": 0.055442,
     "end_time": "2022-02-20T18:36:42.216888",
     "exception": false,
     "start_time": "2022-02-20T18:36:42.161446",
     "status": "completed"
    },
    "tags": []
   },
   "source": [
    "__Covariance__"
   ]
  },
  {
   "cell_type": "code",
   "execution_count": 15,
   "id": "9097c498",
   "metadata": {
    "execution": {
     "iopub.execute_input": "2022-02-20T18:36:42.332513Z",
     "iopub.status.busy": "2022-02-20T18:36:42.331766Z",
     "iopub.status.idle": "2022-02-20T18:36:42.364260Z",
     "shell.execute_reply": "2022-02-20T18:36:42.364792Z",
     "shell.execute_reply.started": "2022-02-20T18:32:48.175024Z"
    },
    "papermill": {
     "duration": 0.092229,
     "end_time": "2022-02-20T18:36:42.364987",
     "exception": false,
     "start_time": "2022-02-20T18:36:42.272758",
     "status": "completed"
    },
    "tags": []
   },
   "outputs": [
    {
     "data": {
      "text/html": [
       "<div>\n",
       "<style scoped>\n",
       "    .dataframe tbody tr th:only-of-type {\n",
       "        vertical-align: middle;\n",
       "    }\n",
       "\n",
       "    .dataframe tbody tr th {\n",
       "        vertical-align: top;\n",
       "    }\n",
       "\n",
       "    .dataframe thead th {\n",
       "        text-align: right;\n",
       "    }\n",
       "</style>\n",
       "<table border=\"1\" class=\"dataframe\">\n",
       "  <thead>\n",
       "    <tr style=\"text-align: right;\">\n",
       "      <th></th>\n",
       "      <th>Visit</th>\n",
       "      <th>MR Delay</th>\n",
       "      <th>Age</th>\n",
       "      <th>EDUC</th>\n",
       "      <th>SES</th>\n",
       "      <th>MMSE</th>\n",
       "      <th>eTIV</th>\n",
       "      <th>nWBV</th>\n",
       "      <th>ASF</th>\n",
       "      <th>SES_imputed</th>\n",
       "      <th>MMSE_imputed</th>\n",
       "    </tr>\n",
       "  </thead>\n",
       "  <tbody>\n",
       "    <tr>\n",
       "      <th>Visit</th>\n",
       "      <td>0.811968</td>\n",
       "      <td>515.336271</td>\n",
       "      <td>0.886358</td>\n",
       "      <td>0.087678</td>\n",
       "      <td>-0.042503</td>\n",
       "      <td>-0.104776</td>\n",
       "      <td>20.697015</td>\n",
       "      <td>-0.003238</td>\n",
       "      <td>-0.017401</td>\n",
       "      <td>-0.041828</td>\n",
       "      <td>-0.096604</td>\n",
       "    </tr>\n",
       "    <tr>\n",
       "      <th>MR Delay</th>\n",
       "      <td>515.336271</td>\n",
       "      <td>395815.868676</td>\n",
       "      <td>730.822102</td>\n",
       "      <td>97.291427</td>\n",
       "      <td>-3.478181</td>\n",
       "      <td>188.181688</td>\n",
       "      <td>15685.625201</td>\n",
       "      <td>-1.388775</td>\n",
       "      <td>-13.121528</td>\n",
       "      <td>-1.712336</td>\n",
       "      <td>189.603518</td>\n",
       "    </tr>\n",
       "    <tr>\n",
       "      <th>Age</th>\n",
       "      <td>0.886358</td>\n",
       "      <td>730.822102</td>\n",
       "      <td>56.575565</td>\n",
       "      <td>-1.316939</td>\n",
       "      <td>-0.309508</td>\n",
       "      <td>1.980039</td>\n",
       "      <td>28.469550</td>\n",
       "      <td>-0.136960</td>\n",
       "      <td>-0.015140</td>\n",
       "      <td>-0.284094</td>\n",
       "      <td>1.952851</td>\n",
       "    </tr>\n",
       "    <tr>\n",
       "      <th>EDUC</th>\n",
       "      <td>0.087678</td>\n",
       "      <td>97.291427</td>\n",
       "      <td>-1.316939</td>\n",
       "      <td>8.409565</td>\n",
       "      <td>-2.435173</td>\n",
       "      <td>1.883406</td>\n",
       "      <td>143.208912</td>\n",
       "      <td>-0.001161</td>\n",
       "      <td>-0.106553</td>\n",
       "      <td>-2.259191</td>\n",
       "      <td>1.840339</td>\n",
       "    </tr>\n",
       "    <tr>\n",
       "      <th>SES</th>\n",
       "      <td>-0.042503</td>\n",
       "      <td>-3.478181</td>\n",
       "      <td>-0.309508</td>\n",
       "      <td>-2.435173</td>\n",
       "      <td>1.331213</td>\n",
       "      <td>-0.571969</td>\n",
       "      <td>-54.256076</td>\n",
       "      <td>0.003587</td>\n",
       "      <td>0.041696</td>\n",
       "      <td>1.331213</td>\n",
       "      <td>-0.571969</td>\n",
       "    </tr>\n",
       "    <tr>\n",
       "      <th>MMSE</th>\n",
       "      <td>-0.104776</td>\n",
       "      <td>188.181688</td>\n",
       "      <td>1.980039</td>\n",
       "      <td>1.883406</td>\n",
       "      <td>-0.571969</td>\n",
       "      <td>14.179375</td>\n",
       "      <td>-12.680486</td>\n",
       "      <td>0.050360</td>\n",
       "      <td>0.014042</td>\n",
       "      <td>-0.516285</td>\n",
       "      <td>14.179375</td>\n",
       "    </tr>\n",
       "    <tr>\n",
       "      <th>eTIV</th>\n",
       "      <td>20.697015</td>\n",
       "      <td>15685.625201</td>\n",
       "      <td>28.469550</td>\n",
       "      <td>143.208912</td>\n",
       "      <td>-54.256076</td>\n",
       "      <td>-12.680486</td>\n",
       "      <td>30800.405215</td>\n",
       "      <td>-1.176455</td>\n",
       "      <td>-23.828714</td>\n",
       "      <td>-49.979775</td>\n",
       "      <td>-16.410684</td>\n",
       "    </tr>\n",
       "    <tr>\n",
       "      <th>nWBV</th>\n",
       "      <td>-0.003238</td>\n",
       "      <td>-1.388775</td>\n",
       "      <td>-0.136960</td>\n",
       "      <td>-0.001161</td>\n",
       "      <td>0.003587</td>\n",
       "      <td>0.050360</td>\n",
       "      <td>-1.176455</td>\n",
       "      <td>0.001368</td>\n",
       "      <td>0.000923</td>\n",
       "      <td>0.003550</td>\n",
       "      <td>0.050113</td>\n",
       "    </tr>\n",
       "    <tr>\n",
       "      <th>ASF</th>\n",
       "      <td>-0.017401</td>\n",
       "      <td>-13.121528</td>\n",
       "      <td>-0.015140</td>\n",
       "      <td>-0.106553</td>\n",
       "      <td>0.041696</td>\n",
       "      <td>0.014042</td>\n",
       "      <td>-23.828714</td>\n",
       "      <td>0.000923</td>\n",
       "      <td>0.018866</td>\n",
       "      <td>0.038284</td>\n",
       "      <td>0.017635</td>\n",
       "    </tr>\n",
       "    <tr>\n",
       "      <th>SES_imputed</th>\n",
       "      <td>-0.041828</td>\n",
       "      <td>-1.712336</td>\n",
       "      <td>-0.284094</td>\n",
       "      <td>-2.259191</td>\n",
       "      <td>1.331213</td>\n",
       "      <td>-0.516285</td>\n",
       "      <td>-49.979775</td>\n",
       "      <td>0.003550</td>\n",
       "      <td>0.038284</td>\n",
       "      <td>1.270332</td>\n",
       "      <td>-0.517999</td>\n",
       "    </tr>\n",
       "    <tr>\n",
       "      <th>MMSE_imputed</th>\n",
       "      <td>-0.096604</td>\n",
       "      <td>189.603518</td>\n",
       "      <td>1.952851</td>\n",
       "      <td>1.840339</td>\n",
       "      <td>-0.571969</td>\n",
       "      <td>14.179375</td>\n",
       "      <td>-16.410684</td>\n",
       "      <td>0.050113</td>\n",
       "      <td>0.017635</td>\n",
       "      <td>-0.517999</td>\n",
       "      <td>14.104773</td>\n",
       "    </tr>\n",
       "  </tbody>\n",
       "</table>\n",
       "</div>"
      ],
      "text/plain": [
       "                   Visit       MR Delay         Age        EDUC        SES  \\\n",
       "Visit           0.811968     515.336271    0.886358    0.087678  -0.042503   \n",
       "MR Delay      515.336271  395815.868676  730.822102   97.291427  -3.478181   \n",
       "Age             0.886358     730.822102   56.575565   -1.316939  -0.309508   \n",
       "EDUC            0.087678      97.291427   -1.316939    8.409565  -2.435173   \n",
       "SES            -0.042503      -3.478181   -0.309508   -2.435173   1.331213   \n",
       "MMSE           -0.104776     188.181688    1.980039    1.883406  -0.571969   \n",
       "eTIV           20.697015   15685.625201   28.469550  143.208912 -54.256076   \n",
       "nWBV           -0.003238      -1.388775   -0.136960   -0.001161   0.003587   \n",
       "ASF            -0.017401     -13.121528   -0.015140   -0.106553   0.041696   \n",
       "SES_imputed    -0.041828      -1.712336   -0.284094   -2.259191   1.331213   \n",
       "MMSE_imputed   -0.096604     189.603518    1.952851    1.840339  -0.571969   \n",
       "\n",
       "                    MMSE          eTIV      nWBV        ASF  SES_imputed  \\\n",
       "Visit          -0.104776     20.697015 -0.003238  -0.017401    -0.041828   \n",
       "MR Delay      188.181688  15685.625201 -1.388775 -13.121528    -1.712336   \n",
       "Age             1.980039     28.469550 -0.136960  -0.015140    -0.284094   \n",
       "EDUC            1.883406    143.208912 -0.001161  -0.106553    -2.259191   \n",
       "SES            -0.571969    -54.256076  0.003587   0.041696     1.331213   \n",
       "MMSE           14.179375    -12.680486  0.050360   0.014042    -0.516285   \n",
       "eTIV          -12.680486  30800.405215 -1.176455 -23.828714   -49.979775   \n",
       "nWBV            0.050360     -1.176455  0.001368   0.000923     0.003550   \n",
       "ASF             0.014042    -23.828714  0.000923   0.018866     0.038284   \n",
       "SES_imputed    -0.516285    -49.979775  0.003550   0.038284     1.270332   \n",
       "MMSE_imputed   14.179375    -16.410684  0.050113   0.017635    -0.517999   \n",
       "\n",
       "              MMSE_imputed  \n",
       "Visit            -0.096604  \n",
       "MR Delay        189.603518  \n",
       "Age               1.952851  \n",
       "EDUC              1.840339  \n",
       "SES              -0.571969  \n",
       "MMSE             14.179375  \n",
       "eTIV            -16.410684  \n",
       "nWBV              0.050113  \n",
       "ASF               0.017635  \n",
       "SES_imputed      -0.517999  \n",
       "MMSE_imputed     14.104773  "
      ]
     },
     "execution_count": 15,
     "metadata": {},
     "output_type": "execute_result"
    }
   ],
   "source": [
    "X_train.cov()"
   ]
  },
  {
   "cell_type": "markdown",
   "id": "3f5c550f",
   "metadata": {
    "papermill": {
     "duration": 0.054289,
     "end_time": "2022-02-20T18:36:42.473748",
     "exception": false,
     "start_time": "2022-02-20T18:36:42.419459",
     "status": "completed"
    },
    "tags": []
   },
   "source": [
    "We can see that Variable covariance is also changed for the `SES` variable but for the `MMSE` is almost same there is no change"
   ]
  },
  {
   "cell_type": "markdown",
   "id": "6645ffd6",
   "metadata": {
    "papermill": {
     "duration": 0.053772,
     "end_time": "2022-02-20T18:36:42.581793",
     "exception": false,
     "start_time": "2022-02-20T18:36:42.528021",
     "status": "completed"
    },
    "tags": []
   },
   "source": [
    "So after all the inferences derived after the imputation . We come to a conclusion to make the additional missing indicator for the variable `SES`"
   ]
  },
  {
   "cell_type": "code",
   "execution_count": 16,
   "id": "d0a0e955",
   "metadata": {
    "execution": {
     "iopub.execute_input": "2022-02-20T18:36:42.699326Z",
     "iopub.status.busy": "2022-02-20T18:36:42.698588Z",
     "iopub.status.idle": "2022-02-20T18:36:42.701015Z",
     "shell.execute_reply": "2022-02-20T18:36:42.700378Z",
     "shell.execute_reply.started": "2022-02-20T18:32:48.218584Z"
    },
    "papermill": {
     "duration": 0.065161,
     "end_time": "2022-02-20T18:36:42.701189",
     "exception": false,
     "start_time": "2022-02-20T18:36:42.636028",
     "status": "completed"
    },
    "tags": []
   },
   "outputs": [],
   "source": [
    "# 1 for missing and 0 for not missing\n",
    "\n",
    "X_train['missing_indicator_SES'] = np.where(X_train['SES'].isnull() , 1 , 0)  \n",
    "X_test['missing_indicator_SES'] = np.where(X_test['SES'].isnull() , 1 , 0)"
   ]
  },
  {
   "cell_type": "code",
   "execution_count": 17,
   "id": "fa15da38",
   "metadata": {
    "execution": {
     "iopub.execute_input": "2022-02-20T18:36:42.829778Z",
     "iopub.status.busy": "2022-02-20T18:36:42.829089Z",
     "iopub.status.idle": "2022-02-20T18:36:42.842174Z",
     "shell.execute_reply": "2022-02-20T18:36:42.841600Z",
     "shell.execute_reply.started": "2022-02-20T18:32:48.227919Z"
    },
    "papermill": {
     "duration": 0.086512,
     "end_time": "2022-02-20T18:36:42.842332",
     "exception": false,
     "start_time": "2022-02-20T18:36:42.755820",
     "status": "completed"
    },
    "tags": []
   },
   "outputs": [
    {
     "data": {
      "text/html": [
       "<div>\n",
       "<style scoped>\n",
       "    .dataframe tbody tr th:only-of-type {\n",
       "        vertical-align: middle;\n",
       "    }\n",
       "\n",
       "    .dataframe tbody tr th {\n",
       "        vertical-align: top;\n",
       "    }\n",
       "\n",
       "    .dataframe thead th {\n",
       "        text-align: right;\n",
       "    }\n",
       "</style>\n",
       "<table border=\"1\" class=\"dataframe\">\n",
       "  <thead>\n",
       "    <tr style=\"text-align: right;\">\n",
       "      <th></th>\n",
       "      <th>Subject ID</th>\n",
       "      <th>MRI ID</th>\n",
       "      <th>Group</th>\n",
       "      <th>Visit</th>\n",
       "      <th>MR Delay</th>\n",
       "      <th>M/F</th>\n",
       "      <th>Hand</th>\n",
       "      <th>Age</th>\n",
       "      <th>EDUC</th>\n",
       "      <th>SES</th>\n",
       "      <th>MMSE</th>\n",
       "      <th>eTIV</th>\n",
       "      <th>nWBV</th>\n",
       "      <th>ASF</th>\n",
       "      <th>SES_imputed</th>\n",
       "      <th>MMSE_imputed</th>\n",
       "      <th>missing_indicator_SES</th>\n",
       "    </tr>\n",
       "  </thead>\n",
       "  <tbody>\n",
       "    <tr>\n",
       "      <th>225</th>\n",
       "      <td>OAS2_0106</td>\n",
       "      <td>OAS2_0106_MR1</td>\n",
       "      <td>Demented</td>\n",
       "      <td>1</td>\n",
       "      <td>0</td>\n",
       "      <td>F</td>\n",
       "      <td>R</td>\n",
       "      <td>70</td>\n",
       "      <td>11</td>\n",
       "      <td>4.0</td>\n",
       "      <td>22.0</td>\n",
       "      <td>1445</td>\n",
       "      <td>0.722</td>\n",
       "      <td>1.214</td>\n",
       "      <td>4.0</td>\n",
       "      <td>22.0</td>\n",
       "      <td>0</td>\n",
       "    </tr>\n",
       "    <tr>\n",
       "      <th>100</th>\n",
       "      <td>OAS2_0048</td>\n",
       "      <td>OAS2_0048_MR4</td>\n",
       "      <td>Demented</td>\n",
       "      <td>4</td>\n",
       "      <td>970</td>\n",
       "      <td>M</td>\n",
       "      <td>R</td>\n",
       "      <td>68</td>\n",
       "      <td>16</td>\n",
       "      <td>1.0</td>\n",
       "      <td>7.0</td>\n",
       "      <td>1714</td>\n",
       "      <td>0.682</td>\n",
       "      <td>1.024</td>\n",
       "      <td>1.0</td>\n",
       "      <td>7.0</td>\n",
       "      <td>0</td>\n",
       "    </tr>\n",
       "    <tr>\n",
       "      <th>270</th>\n",
       "      <td>OAS2_0129</td>\n",
       "      <td>OAS2_0129_MR3</td>\n",
       "      <td>Nondemented</td>\n",
       "      <td>3</td>\n",
       "      <td>1591</td>\n",
       "      <td>F</td>\n",
       "      <td>R</td>\n",
       "      <td>82</td>\n",
       "      <td>18</td>\n",
       "      <td>1.0</td>\n",
       "      <td>29.0</td>\n",
       "      <td>1442</td>\n",
       "      <td>0.644</td>\n",
       "      <td>1.217</td>\n",
       "      <td>1.0</td>\n",
       "      <td>29.0</td>\n",
       "      <td>0</td>\n",
       "    </tr>\n",
       "    <tr>\n",
       "      <th>108</th>\n",
       "      <td>OAS2_0051</td>\n",
       "      <td>OAS2_0051_MR2</td>\n",
       "      <td>Nondemented</td>\n",
       "      <td>2</td>\n",
       "      <td>457</td>\n",
       "      <td>F</td>\n",
       "      <td>R</td>\n",
       "      <td>94</td>\n",
       "      <td>23</td>\n",
       "      <td>1.0</td>\n",
       "      <td>29.0</td>\n",
       "      <td>1474</td>\n",
       "      <td>0.696</td>\n",
       "      <td>1.190</td>\n",
       "      <td>1.0</td>\n",
       "      <td>29.0</td>\n",
       "      <td>0</td>\n",
       "    </tr>\n",
       "    <tr>\n",
       "      <th>344</th>\n",
       "      <td>OAS2_0175</td>\n",
       "      <td>OAS2_0175_MR2</td>\n",
       "      <td>Demented</td>\n",
       "      <td>2</td>\n",
       "      <td>700</td>\n",
       "      <td>M</td>\n",
       "      <td>R</td>\n",
       "      <td>72</td>\n",
       "      <td>16</td>\n",
       "      <td>4.0</td>\n",
       "      <td>28.0</td>\n",
       "      <td>1796</td>\n",
       "      <td>0.732</td>\n",
       "      <td>0.977</td>\n",
       "      <td>4.0</td>\n",
       "      <td>28.0</td>\n",
       "      <td>0</td>\n",
       "    </tr>\n",
       "  </tbody>\n",
       "</table>\n",
       "</div>"
      ],
      "text/plain": [
       "    Subject ID         MRI ID        Group  Visit  MR Delay M/F Hand  Age  \\\n",
       "225  OAS2_0106  OAS2_0106_MR1     Demented      1         0   F    R   70   \n",
       "100  OAS2_0048  OAS2_0048_MR4     Demented      4       970   M    R   68   \n",
       "270  OAS2_0129  OAS2_0129_MR3  Nondemented      3      1591   F    R   82   \n",
       "108  OAS2_0051  OAS2_0051_MR2  Nondemented      2       457   F    R   94   \n",
       "344  OAS2_0175  OAS2_0175_MR2     Demented      2       700   M    R   72   \n",
       "\n",
       "     EDUC  SES  MMSE  eTIV   nWBV    ASF  SES_imputed  MMSE_imputed  \\\n",
       "225    11  4.0  22.0  1445  0.722  1.214          4.0          22.0   \n",
       "100    16  1.0   7.0  1714  0.682  1.024          1.0           7.0   \n",
       "270    18  1.0  29.0  1442  0.644  1.217          1.0          29.0   \n",
       "108    23  1.0  29.0  1474  0.696  1.190          1.0          29.0   \n",
       "344    16  4.0  28.0  1796  0.732  0.977          4.0          28.0   \n",
       "\n",
       "     missing_indicator_SES  \n",
       "225                      0  \n",
       "100                      0  \n",
       "270                      0  \n",
       "108                      0  \n",
       "344                      0  "
      ]
     },
     "execution_count": 17,
     "metadata": {},
     "output_type": "execute_result"
    }
   ],
   "source": [
    "X_train.head()"
   ]
  },
  {
   "cell_type": "code",
   "execution_count": 18,
   "id": "13764a4e",
   "metadata": {
    "execution": {
     "iopub.execute_input": "2022-02-20T18:36:42.980694Z",
     "iopub.status.busy": "2022-02-20T18:36:42.979976Z",
     "iopub.status.idle": "2022-02-20T18:36:42.984252Z",
     "shell.execute_reply": "2022-02-20T18:36:42.983687Z",
     "shell.execute_reply.started": "2022-02-20T18:32:48.264957Z"
    },
    "papermill": {
     "duration": 0.086714,
     "end_time": "2022-02-20T18:36:42.984410",
     "exception": false,
     "start_time": "2022-02-20T18:36:42.897696",
     "status": "completed"
    },
    "tags": []
   },
   "outputs": [
    {
     "data": {
      "text/html": [
       "<div>\n",
       "<style scoped>\n",
       "    .dataframe tbody tr th:only-of-type {\n",
       "        vertical-align: middle;\n",
       "    }\n",
       "\n",
       "    .dataframe tbody tr th {\n",
       "        vertical-align: top;\n",
       "    }\n",
       "\n",
       "    .dataframe thead th {\n",
       "        text-align: right;\n",
       "    }\n",
       "</style>\n",
       "<table border=\"1\" class=\"dataframe\">\n",
       "  <thead>\n",
       "    <tr style=\"text-align: right;\">\n",
       "      <th></th>\n",
       "      <th>Subject ID</th>\n",
       "      <th>MRI ID</th>\n",
       "      <th>Group</th>\n",
       "      <th>Visit</th>\n",
       "      <th>MR Delay</th>\n",
       "      <th>M/F</th>\n",
       "      <th>Hand</th>\n",
       "      <th>Age</th>\n",
       "      <th>EDUC</th>\n",
       "      <th>SES</th>\n",
       "      <th>MMSE</th>\n",
       "      <th>eTIV</th>\n",
       "      <th>nWBV</th>\n",
       "      <th>ASF</th>\n",
       "      <th>SES_imputed</th>\n",
       "      <th>MMSE_imputed</th>\n",
       "      <th>missing_indicator_SES</th>\n",
       "    </tr>\n",
       "  </thead>\n",
       "  <tbody>\n",
       "    <tr>\n",
       "      <th>173</th>\n",
       "      <td>OAS2_0079</td>\n",
       "      <td>OAS2_0079_MR3</td>\n",
       "      <td>Demented</td>\n",
       "      <td>3</td>\n",
       "      <td>1435</td>\n",
       "      <td>F</td>\n",
       "      <td>R</td>\n",
       "      <td>73</td>\n",
       "      <td>12</td>\n",
       "      <td>4.0</td>\n",
       "      <td>16.0</td>\n",
       "      <td>1478</td>\n",
       "      <td>0.696</td>\n",
       "      <td>1.188</td>\n",
       "      <td>4.0</td>\n",
       "      <td>16.0</td>\n",
       "      <td>0</td>\n",
       "    </tr>\n",
       "    <tr>\n",
       "      <th>205</th>\n",
       "      <td>OAS2_0098</td>\n",
       "      <td>OAS2_0098_MR1</td>\n",
       "      <td>Demented</td>\n",
       "      <td>1</td>\n",
       "      <td>0</td>\n",
       "      <td>M</td>\n",
       "      <td>R</td>\n",
       "      <td>66</td>\n",
       "      <td>12</td>\n",
       "      <td>4.0</td>\n",
       "      <td>30.0</td>\n",
       "      <td>1446</td>\n",
       "      <td>0.780</td>\n",
       "      <td>1.214</td>\n",
       "      <td>4.0</td>\n",
       "      <td>30.0</td>\n",
       "      <td>0</td>\n",
       "    </tr>\n",
       "    <tr>\n",
       "      <th>70</th>\n",
       "      <td>OAS2_0036</td>\n",
       "      <td>OAS2_0036_MR4</td>\n",
       "      <td>Nondemented</td>\n",
       "      <td>4</td>\n",
       "      <td>1770</td>\n",
       "      <td>F</td>\n",
       "      <td>R</td>\n",
       "      <td>73</td>\n",
       "      <td>13</td>\n",
       "      <td>4.0</td>\n",
       "      <td>30.0</td>\n",
       "      <td>1360</td>\n",
       "      <td>0.773</td>\n",
       "      <td>1.291</td>\n",
       "      <td>4.0</td>\n",
       "      <td>30.0</td>\n",
       "      <td>0</td>\n",
       "    </tr>\n",
       "    <tr>\n",
       "      <th>118</th>\n",
       "      <td>OAS2_0056</td>\n",
       "      <td>OAS2_0056_MR1</td>\n",
       "      <td>Nondemented</td>\n",
       "      <td>1</td>\n",
       "      <td>0</td>\n",
       "      <td>F</td>\n",
       "      <td>R</td>\n",
       "      <td>71</td>\n",
       "      <td>14</td>\n",
       "      <td>2.0</td>\n",
       "      <td>28.0</td>\n",
       "      <td>1461</td>\n",
       "      <td>0.756</td>\n",
       "      <td>1.202</td>\n",
       "      <td>2.0</td>\n",
       "      <td>28.0</td>\n",
       "      <td>0</td>\n",
       "    </tr>\n",
       "    <tr>\n",
       "      <th>32</th>\n",
       "      <td>OAS2_0017</td>\n",
       "      <td>OAS2_0017_MR5</td>\n",
       "      <td>Nondemented</td>\n",
       "      <td>5</td>\n",
       "      <td>2400</td>\n",
       "      <td>M</td>\n",
       "      <td>R</td>\n",
       "      <td>86</td>\n",
       "      <td>12</td>\n",
       "      <td>3.0</td>\n",
       "      <td>27.0</td>\n",
       "      <td>1813</td>\n",
       "      <td>0.761</td>\n",
       "      <td>0.968</td>\n",
       "      <td>3.0</td>\n",
       "      <td>27.0</td>\n",
       "      <td>0</td>\n",
       "    </tr>\n",
       "  </tbody>\n",
       "</table>\n",
       "</div>"
      ],
      "text/plain": [
       "    Subject ID         MRI ID        Group  Visit  MR Delay M/F Hand  Age  \\\n",
       "173  OAS2_0079  OAS2_0079_MR3     Demented      3      1435   F    R   73   \n",
       "205  OAS2_0098  OAS2_0098_MR1     Demented      1         0   M    R   66   \n",
       "70   OAS2_0036  OAS2_0036_MR4  Nondemented      4      1770   F    R   73   \n",
       "118  OAS2_0056  OAS2_0056_MR1  Nondemented      1         0   F    R   71   \n",
       "32   OAS2_0017  OAS2_0017_MR5  Nondemented      5      2400   M    R   86   \n",
       "\n",
       "     EDUC  SES  MMSE  eTIV   nWBV    ASF  SES_imputed  MMSE_imputed  \\\n",
       "173    12  4.0  16.0  1478  0.696  1.188          4.0          16.0   \n",
       "205    12  4.0  30.0  1446  0.780  1.214          4.0          30.0   \n",
       "70     13  4.0  30.0  1360  0.773  1.291          4.0          30.0   \n",
       "118    14  2.0  28.0  1461  0.756  1.202          2.0          28.0   \n",
       "32     12  3.0  27.0  1813  0.761  0.968          3.0          27.0   \n",
       "\n",
       "     missing_indicator_SES  \n",
       "173                      0  \n",
       "205                      0  \n",
       "70                       0  \n",
       "118                      0  \n",
       "32                       0  "
      ]
     },
     "execution_count": 18,
     "metadata": {},
     "output_type": "execute_result"
    }
   ],
   "source": [
    "X_test.head()"
   ]
  },
  {
   "cell_type": "code",
   "execution_count": 19,
   "id": "55539592",
   "metadata": {
    "execution": {
     "iopub.execute_input": "2022-02-20T18:36:43.105635Z",
     "iopub.status.busy": "2022-02-20T18:36:43.104528Z",
     "iopub.status.idle": "2022-02-20T18:36:43.109849Z",
     "shell.execute_reply": "2022-02-20T18:36:43.110554Z",
     "shell.execute_reply.started": "2022-02-20T18:32:48.299262Z"
    },
    "papermill": {
     "duration": 0.070179,
     "end_time": "2022-02-20T18:36:43.110753",
     "exception": false,
     "start_time": "2022-02-20T18:36:43.040574",
     "status": "completed"
    },
    "tags": []
   },
   "outputs": [],
   "source": [
    "X_train.drop(['SES' , 'MMSE'] , axis=1 , inplace=True)\n",
    "X_test.drop(['SES' , 'MMSE'] , axis=1 , inplace=True)"
   ]
  },
  {
   "cell_type": "code",
   "execution_count": 20,
   "id": "f38963f5",
   "metadata": {
    "execution": {
     "iopub.execute_input": "2022-02-20T18:36:43.233282Z",
     "iopub.status.busy": "2022-02-20T18:36:43.232175Z",
     "iopub.status.idle": "2022-02-20T18:36:43.258151Z",
     "shell.execute_reply": "2022-02-20T18:36:43.258625Z",
     "shell.execute_reply.started": "2022-02-20T18:32:48.443861Z"
    },
    "papermill": {
     "duration": 0.092035,
     "end_time": "2022-02-20T18:36:43.258811",
     "exception": false,
     "start_time": "2022-02-20T18:36:43.166776",
     "status": "completed"
    },
    "tags": []
   },
   "outputs": [],
   "source": [
    "# will rest index starting from 0\n",
    "X_train.reset_index(drop=True , inplace=True)\n",
    "y_train.reset_index(drop=True , inplace=True)\n",
    "X_test.reset_index(drop=True , inplace=True)\n",
    "y_test.reset_index(drop=True , inplace=True)"
   ]
  },
  {
   "cell_type": "code",
   "execution_count": 21,
   "id": "a5911bb7",
   "metadata": {},
   "outputs": [
    {
     "data": {
      "text/html": [
       "<div>\n",
       "<style scoped>\n",
       "    .dataframe tbody tr th:only-of-type {\n",
       "        vertical-align: middle;\n",
       "    }\n",
       "\n",
       "    .dataframe tbody tr th {\n",
       "        vertical-align: top;\n",
       "    }\n",
       "\n",
       "    .dataframe thead th {\n",
       "        text-align: right;\n",
       "    }\n",
       "</style>\n",
       "<table border=\"1\" class=\"dataframe\">\n",
       "  <thead>\n",
       "    <tr style=\"text-align: right;\">\n",
       "      <th></th>\n",
       "      <th>Subject ID</th>\n",
       "      <th>MRI ID</th>\n",
       "      <th>Group</th>\n",
       "      <th>Visit</th>\n",
       "      <th>MR Delay</th>\n",
       "      <th>M/F</th>\n",
       "      <th>Hand</th>\n",
       "      <th>Age</th>\n",
       "      <th>EDUC</th>\n",
       "      <th>eTIV</th>\n",
       "      <th>nWBV</th>\n",
       "      <th>ASF</th>\n",
       "      <th>SES_imputed</th>\n",
       "      <th>MMSE_imputed</th>\n",
       "      <th>missing_indicator_SES</th>\n",
       "    </tr>\n",
       "  </thead>\n",
       "  <tbody>\n",
       "    <tr>\n",
       "      <th>0</th>\n",
       "      <td>OAS2_0106</td>\n",
       "      <td>OAS2_0106_MR1</td>\n",
       "      <td>Demented</td>\n",
       "      <td>1</td>\n",
       "      <td>0</td>\n",
       "      <td>F</td>\n",
       "      <td>R</td>\n",
       "      <td>70</td>\n",
       "      <td>11</td>\n",
       "      <td>1445</td>\n",
       "      <td>0.722</td>\n",
       "      <td>1.214</td>\n",
       "      <td>4.0</td>\n",
       "      <td>22.0</td>\n",
       "      <td>0</td>\n",
       "    </tr>\n",
       "    <tr>\n",
       "      <th>1</th>\n",
       "      <td>OAS2_0048</td>\n",
       "      <td>OAS2_0048_MR4</td>\n",
       "      <td>Demented</td>\n",
       "      <td>4</td>\n",
       "      <td>970</td>\n",
       "      <td>M</td>\n",
       "      <td>R</td>\n",
       "      <td>68</td>\n",
       "      <td>16</td>\n",
       "      <td>1714</td>\n",
       "      <td>0.682</td>\n",
       "      <td>1.024</td>\n",
       "      <td>1.0</td>\n",
       "      <td>7.0</td>\n",
       "      <td>0</td>\n",
       "    </tr>\n",
       "    <tr>\n",
       "      <th>2</th>\n",
       "      <td>OAS2_0129</td>\n",
       "      <td>OAS2_0129_MR3</td>\n",
       "      <td>Nondemented</td>\n",
       "      <td>3</td>\n",
       "      <td>1591</td>\n",
       "      <td>F</td>\n",
       "      <td>R</td>\n",
       "      <td>82</td>\n",
       "      <td>18</td>\n",
       "      <td>1442</td>\n",
       "      <td>0.644</td>\n",
       "      <td>1.217</td>\n",
       "      <td>1.0</td>\n",
       "      <td>29.0</td>\n",
       "      <td>0</td>\n",
       "    </tr>\n",
       "    <tr>\n",
       "      <th>3</th>\n",
       "      <td>OAS2_0051</td>\n",
       "      <td>OAS2_0051_MR2</td>\n",
       "      <td>Nondemented</td>\n",
       "      <td>2</td>\n",
       "      <td>457</td>\n",
       "      <td>F</td>\n",
       "      <td>R</td>\n",
       "      <td>94</td>\n",
       "      <td>23</td>\n",
       "      <td>1474</td>\n",
       "      <td>0.696</td>\n",
       "      <td>1.190</td>\n",
       "      <td>1.0</td>\n",
       "      <td>29.0</td>\n",
       "      <td>0</td>\n",
       "    </tr>\n",
       "    <tr>\n",
       "      <th>4</th>\n",
       "      <td>OAS2_0175</td>\n",
       "      <td>OAS2_0175_MR2</td>\n",
       "      <td>Demented</td>\n",
       "      <td>2</td>\n",
       "      <td>700</td>\n",
       "      <td>M</td>\n",
       "      <td>R</td>\n",
       "      <td>72</td>\n",
       "      <td>16</td>\n",
       "      <td>1796</td>\n",
       "      <td>0.732</td>\n",
       "      <td>0.977</td>\n",
       "      <td>4.0</td>\n",
       "      <td>28.0</td>\n",
       "      <td>0</td>\n",
       "    </tr>\n",
       "  </tbody>\n",
       "</table>\n",
       "</div>"
      ],
      "text/plain": [
       "  Subject ID         MRI ID        Group  Visit  MR Delay M/F Hand  Age  EDUC  \\\n",
       "0  OAS2_0106  OAS2_0106_MR1     Demented      1         0   F    R   70    11   \n",
       "1  OAS2_0048  OAS2_0048_MR4     Demented      4       970   M    R   68    16   \n",
       "2  OAS2_0129  OAS2_0129_MR3  Nondemented      3      1591   F    R   82    18   \n",
       "3  OAS2_0051  OAS2_0051_MR2  Nondemented      2       457   F    R   94    23   \n",
       "4  OAS2_0175  OAS2_0175_MR2     Demented      2       700   M    R   72    16   \n",
       "\n",
       "   eTIV   nWBV    ASF  SES_imputed  MMSE_imputed  missing_indicator_SES  \n",
       "0  1445  0.722  1.214          4.0          22.0                      0  \n",
       "1  1714  0.682  1.024          1.0           7.0                      0  \n",
       "2  1442  0.644  1.217          1.0          29.0                      0  \n",
       "3  1474  0.696  1.190          1.0          29.0                      0  \n",
       "4  1796  0.732  0.977          4.0          28.0                      0  "
      ]
     },
     "execution_count": 21,
     "metadata": {},
     "output_type": "execute_result"
    }
   ],
   "source": [
    "X_train.head()"
   ]
  },
  {
   "cell_type": "code",
   "execution_count": 22,
   "id": "ff33eba6",
   "metadata": {},
   "outputs": [
    {
     "data": {
      "text/html": [
       "<div>\n",
       "<style scoped>\n",
       "    .dataframe tbody tr th:only-of-type {\n",
       "        vertical-align: middle;\n",
       "    }\n",
       "\n",
       "    .dataframe tbody tr th {\n",
       "        vertical-align: top;\n",
       "    }\n",
       "\n",
       "    .dataframe thead th {\n",
       "        text-align: right;\n",
       "    }\n",
       "</style>\n",
       "<table border=\"1\" class=\"dataframe\">\n",
       "  <thead>\n",
       "    <tr style=\"text-align: right;\">\n",
       "      <th></th>\n",
       "      <th>Subject ID</th>\n",
       "      <th>MRI ID</th>\n",
       "      <th>Group</th>\n",
       "      <th>Visit</th>\n",
       "      <th>MR Delay</th>\n",
       "      <th>M/F</th>\n",
       "      <th>Hand</th>\n",
       "      <th>Age</th>\n",
       "      <th>EDUC</th>\n",
       "      <th>eTIV</th>\n",
       "      <th>nWBV</th>\n",
       "      <th>ASF</th>\n",
       "      <th>SES_imputed</th>\n",
       "      <th>MMSE_imputed</th>\n",
       "      <th>missing_indicator_SES</th>\n",
       "    </tr>\n",
       "  </thead>\n",
       "  <tbody>\n",
       "    <tr>\n",
       "      <th>0</th>\n",
       "      <td>OAS2_0079</td>\n",
       "      <td>OAS2_0079_MR3</td>\n",
       "      <td>Demented</td>\n",
       "      <td>3</td>\n",
       "      <td>1435</td>\n",
       "      <td>F</td>\n",
       "      <td>R</td>\n",
       "      <td>73</td>\n",
       "      <td>12</td>\n",
       "      <td>1478</td>\n",
       "      <td>0.696</td>\n",
       "      <td>1.188</td>\n",
       "      <td>4.0</td>\n",
       "      <td>16.0</td>\n",
       "      <td>0</td>\n",
       "    </tr>\n",
       "    <tr>\n",
       "      <th>1</th>\n",
       "      <td>OAS2_0098</td>\n",
       "      <td>OAS2_0098_MR1</td>\n",
       "      <td>Demented</td>\n",
       "      <td>1</td>\n",
       "      <td>0</td>\n",
       "      <td>M</td>\n",
       "      <td>R</td>\n",
       "      <td>66</td>\n",
       "      <td>12</td>\n",
       "      <td>1446</td>\n",
       "      <td>0.780</td>\n",
       "      <td>1.214</td>\n",
       "      <td>4.0</td>\n",
       "      <td>30.0</td>\n",
       "      <td>0</td>\n",
       "    </tr>\n",
       "    <tr>\n",
       "      <th>2</th>\n",
       "      <td>OAS2_0036</td>\n",
       "      <td>OAS2_0036_MR4</td>\n",
       "      <td>Nondemented</td>\n",
       "      <td>4</td>\n",
       "      <td>1770</td>\n",
       "      <td>F</td>\n",
       "      <td>R</td>\n",
       "      <td>73</td>\n",
       "      <td>13</td>\n",
       "      <td>1360</td>\n",
       "      <td>0.773</td>\n",
       "      <td>1.291</td>\n",
       "      <td>4.0</td>\n",
       "      <td>30.0</td>\n",
       "      <td>0</td>\n",
       "    </tr>\n",
       "    <tr>\n",
       "      <th>3</th>\n",
       "      <td>OAS2_0056</td>\n",
       "      <td>OAS2_0056_MR1</td>\n",
       "      <td>Nondemented</td>\n",
       "      <td>1</td>\n",
       "      <td>0</td>\n",
       "      <td>F</td>\n",
       "      <td>R</td>\n",
       "      <td>71</td>\n",
       "      <td>14</td>\n",
       "      <td>1461</td>\n",
       "      <td>0.756</td>\n",
       "      <td>1.202</td>\n",
       "      <td>2.0</td>\n",
       "      <td>28.0</td>\n",
       "      <td>0</td>\n",
       "    </tr>\n",
       "    <tr>\n",
       "      <th>4</th>\n",
       "      <td>OAS2_0017</td>\n",
       "      <td>OAS2_0017_MR5</td>\n",
       "      <td>Nondemented</td>\n",
       "      <td>5</td>\n",
       "      <td>2400</td>\n",
       "      <td>M</td>\n",
       "      <td>R</td>\n",
       "      <td>86</td>\n",
       "      <td>12</td>\n",
       "      <td>1813</td>\n",
       "      <td>0.761</td>\n",
       "      <td>0.968</td>\n",
       "      <td>3.0</td>\n",
       "      <td>27.0</td>\n",
       "      <td>0</td>\n",
       "    </tr>\n",
       "  </tbody>\n",
       "</table>\n",
       "</div>"
      ],
      "text/plain": [
       "  Subject ID         MRI ID        Group  Visit  MR Delay M/F Hand  Age  EDUC  \\\n",
       "0  OAS2_0079  OAS2_0079_MR3     Demented      3      1435   F    R   73    12   \n",
       "1  OAS2_0098  OAS2_0098_MR1     Demented      1         0   M    R   66    12   \n",
       "2  OAS2_0036  OAS2_0036_MR4  Nondemented      4      1770   F    R   73    13   \n",
       "3  OAS2_0056  OAS2_0056_MR1  Nondemented      1         0   F    R   71    14   \n",
       "4  OAS2_0017  OAS2_0017_MR5  Nondemented      5      2400   M    R   86    12   \n",
       "\n",
       "   eTIV   nWBV    ASF  SES_imputed  MMSE_imputed  missing_indicator_SES  \n",
       "0  1478  0.696  1.188          4.0          16.0                      0  \n",
       "1  1446  0.780  1.214          4.0          30.0                      0  \n",
       "2  1360  0.773  1.291          4.0          30.0                      0  \n",
       "3  1461  0.756  1.202          2.0          28.0                      0  \n",
       "4  1813  0.761  0.968          3.0          27.0                      0  "
      ]
     },
     "execution_count": 22,
     "metadata": {},
     "output_type": "execute_result"
    }
   ],
   "source": [
    "X_test.head()"
   ]
  },
  {
   "cell_type": "code",
   "execution_count": 23,
   "id": "9b2fb306",
   "metadata": {
    "execution": {
     "iopub.execute_input": "2022-02-20T18:36:43.528389Z",
     "iopub.status.busy": "2022-02-20T18:36:43.523577Z",
     "iopub.status.idle": "2022-02-20T18:36:43.532139Z",
     "shell.execute_reply": "2022-02-20T18:36:43.532619Z",
     "shell.execute_reply.started": "2022-02-20T18:32:48.505056Z"
    },
    "papermill": {
     "duration": 0.072205,
     "end_time": "2022-02-20T18:36:43.532816",
     "exception": false,
     "start_time": "2022-02-20T18:36:43.460611",
     "status": "completed"
    },
    "tags": []
   },
   "outputs": [
    {
     "data": {
      "text/plain": [
       "Subject ID               0\n",
       "MRI ID                   0\n",
       "Group                    0\n",
       "Visit                    0\n",
       "MR Delay                 0\n",
       "M/F                      0\n",
       "Hand                     0\n",
       "Age                      0\n",
       "EDUC                     0\n",
       "eTIV                     0\n",
       "nWBV                     0\n",
       "ASF                      0\n",
       "SES_imputed              0\n",
       "MMSE_imputed             0\n",
       "missing_indicator_SES    0\n",
       "dtype: int64"
      ]
     },
     "execution_count": 23,
     "metadata": {},
     "output_type": "execute_result"
    }
   ],
   "source": [
    "X_train.isnull().sum()"
   ]
  },
  {
   "cell_type": "code",
   "execution_count": 24,
   "id": "1742a891",
   "metadata": {
    "execution": {
     "iopub.execute_input": "2022-02-20T18:36:43.652486Z",
     "iopub.status.busy": "2022-02-20T18:36:43.651575Z",
     "iopub.status.idle": "2022-02-20T18:36:43.659893Z",
     "shell.execute_reply": "2022-02-20T18:36:43.660652Z",
     "shell.execute_reply.started": "2022-02-20T18:32:48.521650Z"
    },
    "papermill": {
     "duration": 0.070086,
     "end_time": "2022-02-20T18:36:43.660861",
     "exception": false,
     "start_time": "2022-02-20T18:36:43.590775",
     "status": "completed"
    },
    "tags": []
   },
   "outputs": [
    {
     "data": {
      "text/plain": [
       "Subject ID               0\n",
       "MRI ID                   0\n",
       "Group                    0\n",
       "Visit                    0\n",
       "MR Delay                 0\n",
       "M/F                      0\n",
       "Hand                     0\n",
       "Age                      0\n",
       "EDUC                     0\n",
       "eTIV                     0\n",
       "nWBV                     0\n",
       "ASF                      0\n",
       "SES_imputed              0\n",
       "MMSE_imputed             0\n",
       "missing_indicator_SES    0\n",
       "dtype: int64"
      ]
     },
     "execution_count": 24,
     "metadata": {},
     "output_type": "execute_result"
    }
   ],
   "source": [
    "X_test.isnull().sum()"
   ]
  },
  {
   "cell_type": "markdown",
   "id": "1c929e2c",
   "metadata": {
    "papermill": {
     "duration": 0.057811,
     "end_time": "2022-02-20T18:36:43.778650",
     "exception": false,
     "start_time": "2022-02-20T18:36:43.720839",
     "status": "completed"
    },
    "tags": []
   },
   "source": [
    "__So there are now no missing data in the dataset__"
   ]
  },
  {
   "cell_type": "code",
   "execution_count": null,
   "id": "e395edda",
   "metadata": {},
   "outputs": [],
   "source": []
  },
  {
   "cell_type": "code",
   "execution_count": null,
   "id": "f8121690",
   "metadata": {},
   "outputs": [],
   "source": []
  },
  {
   "cell_type": "markdown",
   "id": "d487edf5",
   "metadata": {},
   "source": [
    "### 2) Categorical Encoding"
   ]
  },
  {
   "cell_type": "code",
   "execution_count": 25,
   "id": "2f751eb7",
   "metadata": {},
   "outputs": [
    {
     "data": {
      "text/plain": [
       "OneHotEncoder(drop_last=True, variables=['Group', 'M/F', 'Hand'])"
      ]
     },
     "execution_count": 25,
     "metadata": {},
     "output_type": "execute_result"
    }
   ],
   "source": [
    "from feature_engine.encoding import OneHotEncoder\n",
    "encoder = OneHotEncoder(drop_last=True , variables=['Group' , 'M/F' , 'Hand'])\n",
    "# drop last will make k-1 dummie variables \n",
    "# variables (selected for the imputation)\n",
    "encoder.fit(X_train)"
   ]
  },
  {
   "cell_type": "code",
   "execution_count": 26,
   "id": "3be87c57",
   "metadata": {},
   "outputs": [
    {
     "data": {
      "text/plain": [
       "['Group', 'M/F', 'Hand']"
      ]
     },
     "execution_count": 26,
     "metadata": {},
     "output_type": "execute_result"
    }
   ],
   "source": [
    "encoder.variables_"
   ]
  },
  {
   "cell_type": "code",
   "execution_count": 27,
   "id": "4a537124",
   "metadata": {},
   "outputs": [
    {
     "data": {
      "text/plain": [
       "{'Group': ['Demented', 'Nondemented'], 'M/F': ['F'], 'Hand': []}"
      ]
     },
     "execution_count": 27,
     "metadata": {},
     "output_type": "execute_result"
    }
   ],
   "source": [
    "encoder.encoder_dict_    # cardinality of each variable that encoder has captured"
   ]
  },
  {
   "cell_type": "code",
   "execution_count": 28,
   "id": "0eef0834",
   "metadata": {},
   "outputs": [],
   "source": [
    "X_train = encoder.transform(X_train)\n",
    "X_test = encoder.transform(X_test)"
   ]
  },
  {
   "cell_type": "code",
   "execution_count": 29,
   "id": "6982416b",
   "metadata": {},
   "outputs": [
    {
     "data": {
      "text/html": [
       "<div>\n",
       "<style scoped>\n",
       "    .dataframe tbody tr th:only-of-type {\n",
       "        vertical-align: middle;\n",
       "    }\n",
       "\n",
       "    .dataframe tbody tr th {\n",
       "        vertical-align: top;\n",
       "    }\n",
       "\n",
       "    .dataframe thead th {\n",
       "        text-align: right;\n",
       "    }\n",
       "</style>\n",
       "<table border=\"1\" class=\"dataframe\">\n",
       "  <thead>\n",
       "    <tr style=\"text-align: right;\">\n",
       "      <th></th>\n",
       "      <th>Subject ID</th>\n",
       "      <th>MRI ID</th>\n",
       "      <th>Visit</th>\n",
       "      <th>MR Delay</th>\n",
       "      <th>Age</th>\n",
       "      <th>EDUC</th>\n",
       "      <th>eTIV</th>\n",
       "      <th>nWBV</th>\n",
       "      <th>ASF</th>\n",
       "      <th>SES_imputed</th>\n",
       "      <th>MMSE_imputed</th>\n",
       "      <th>missing_indicator_SES</th>\n",
       "      <th>Group_Demented</th>\n",
       "      <th>Group_Nondemented</th>\n",
       "      <th>M/F_F</th>\n",
       "    </tr>\n",
       "  </thead>\n",
       "  <tbody>\n",
       "    <tr>\n",
       "      <th>0</th>\n",
       "      <td>OAS2_0106</td>\n",
       "      <td>OAS2_0106_MR1</td>\n",
       "      <td>1</td>\n",
       "      <td>0</td>\n",
       "      <td>70</td>\n",
       "      <td>11</td>\n",
       "      <td>1445</td>\n",
       "      <td>0.722</td>\n",
       "      <td>1.214</td>\n",
       "      <td>4.0</td>\n",
       "      <td>22.0</td>\n",
       "      <td>0</td>\n",
       "      <td>1</td>\n",
       "      <td>0</td>\n",
       "      <td>1</td>\n",
       "    </tr>\n",
       "    <tr>\n",
       "      <th>1</th>\n",
       "      <td>OAS2_0048</td>\n",
       "      <td>OAS2_0048_MR4</td>\n",
       "      <td>4</td>\n",
       "      <td>970</td>\n",
       "      <td>68</td>\n",
       "      <td>16</td>\n",
       "      <td>1714</td>\n",
       "      <td>0.682</td>\n",
       "      <td>1.024</td>\n",
       "      <td>1.0</td>\n",
       "      <td>7.0</td>\n",
       "      <td>0</td>\n",
       "      <td>1</td>\n",
       "      <td>0</td>\n",
       "      <td>0</td>\n",
       "    </tr>\n",
       "    <tr>\n",
       "      <th>2</th>\n",
       "      <td>OAS2_0129</td>\n",
       "      <td>OAS2_0129_MR3</td>\n",
       "      <td>3</td>\n",
       "      <td>1591</td>\n",
       "      <td>82</td>\n",
       "      <td>18</td>\n",
       "      <td>1442</td>\n",
       "      <td>0.644</td>\n",
       "      <td>1.217</td>\n",
       "      <td>1.0</td>\n",
       "      <td>29.0</td>\n",
       "      <td>0</td>\n",
       "      <td>0</td>\n",
       "      <td>1</td>\n",
       "      <td>1</td>\n",
       "    </tr>\n",
       "    <tr>\n",
       "      <th>3</th>\n",
       "      <td>OAS2_0051</td>\n",
       "      <td>OAS2_0051_MR2</td>\n",
       "      <td>2</td>\n",
       "      <td>457</td>\n",
       "      <td>94</td>\n",
       "      <td>23</td>\n",
       "      <td>1474</td>\n",
       "      <td>0.696</td>\n",
       "      <td>1.190</td>\n",
       "      <td>1.0</td>\n",
       "      <td>29.0</td>\n",
       "      <td>0</td>\n",
       "      <td>0</td>\n",
       "      <td>1</td>\n",
       "      <td>1</td>\n",
       "    </tr>\n",
       "    <tr>\n",
       "      <th>4</th>\n",
       "      <td>OAS2_0175</td>\n",
       "      <td>OAS2_0175_MR2</td>\n",
       "      <td>2</td>\n",
       "      <td>700</td>\n",
       "      <td>72</td>\n",
       "      <td>16</td>\n",
       "      <td>1796</td>\n",
       "      <td>0.732</td>\n",
       "      <td>0.977</td>\n",
       "      <td>4.0</td>\n",
       "      <td>28.0</td>\n",
       "      <td>0</td>\n",
       "      <td>1</td>\n",
       "      <td>0</td>\n",
       "      <td>0</td>\n",
       "    </tr>\n",
       "  </tbody>\n",
       "</table>\n",
       "</div>"
      ],
      "text/plain": [
       "  Subject ID         MRI ID  Visit  MR Delay  Age  EDUC  eTIV   nWBV    ASF  \\\n",
       "0  OAS2_0106  OAS2_0106_MR1      1         0   70    11  1445  0.722  1.214   \n",
       "1  OAS2_0048  OAS2_0048_MR4      4       970   68    16  1714  0.682  1.024   \n",
       "2  OAS2_0129  OAS2_0129_MR3      3      1591   82    18  1442  0.644  1.217   \n",
       "3  OAS2_0051  OAS2_0051_MR2      2       457   94    23  1474  0.696  1.190   \n",
       "4  OAS2_0175  OAS2_0175_MR2      2       700   72    16  1796  0.732  0.977   \n",
       "\n",
       "   SES_imputed  MMSE_imputed  missing_indicator_SES  Group_Demented  \\\n",
       "0          4.0          22.0                      0               1   \n",
       "1          1.0           7.0                      0               1   \n",
       "2          1.0          29.0                      0               0   \n",
       "3          1.0          29.0                      0               0   \n",
       "4          4.0          28.0                      0               1   \n",
       "\n",
       "   Group_Nondemented  M/F_F  \n",
       "0                  0      1  \n",
       "1                  0      0  \n",
       "2                  1      1  \n",
       "3                  1      1  \n",
       "4                  0      0  "
      ]
     },
     "execution_count": 29,
     "metadata": {},
     "output_type": "execute_result"
    }
   ],
   "source": [
    "X_train.head()"
   ]
  },
  {
   "cell_type": "code",
   "execution_count": 30,
   "id": "eaa05532",
   "metadata": {},
   "outputs": [
    {
     "data": {
      "text/html": [
       "<div>\n",
       "<style scoped>\n",
       "    .dataframe tbody tr th:only-of-type {\n",
       "        vertical-align: middle;\n",
       "    }\n",
       "\n",
       "    .dataframe tbody tr th {\n",
       "        vertical-align: top;\n",
       "    }\n",
       "\n",
       "    .dataframe thead th {\n",
       "        text-align: right;\n",
       "    }\n",
       "</style>\n",
       "<table border=\"1\" class=\"dataframe\">\n",
       "  <thead>\n",
       "    <tr style=\"text-align: right;\">\n",
       "      <th></th>\n",
       "      <th>Subject ID</th>\n",
       "      <th>MRI ID</th>\n",
       "      <th>Visit</th>\n",
       "      <th>MR Delay</th>\n",
       "      <th>Age</th>\n",
       "      <th>EDUC</th>\n",
       "      <th>eTIV</th>\n",
       "      <th>nWBV</th>\n",
       "      <th>ASF</th>\n",
       "      <th>SES_imputed</th>\n",
       "      <th>MMSE_imputed</th>\n",
       "      <th>missing_indicator_SES</th>\n",
       "      <th>Group_Demented</th>\n",
       "      <th>Group_Nondemented</th>\n",
       "      <th>M/F_F</th>\n",
       "    </tr>\n",
       "  </thead>\n",
       "  <tbody>\n",
       "    <tr>\n",
       "      <th>0</th>\n",
       "      <td>OAS2_0079</td>\n",
       "      <td>OAS2_0079_MR3</td>\n",
       "      <td>3</td>\n",
       "      <td>1435</td>\n",
       "      <td>73</td>\n",
       "      <td>12</td>\n",
       "      <td>1478</td>\n",
       "      <td>0.696</td>\n",
       "      <td>1.188</td>\n",
       "      <td>4.0</td>\n",
       "      <td>16.0</td>\n",
       "      <td>0</td>\n",
       "      <td>1</td>\n",
       "      <td>0</td>\n",
       "      <td>1</td>\n",
       "    </tr>\n",
       "    <tr>\n",
       "      <th>1</th>\n",
       "      <td>OAS2_0098</td>\n",
       "      <td>OAS2_0098_MR1</td>\n",
       "      <td>1</td>\n",
       "      <td>0</td>\n",
       "      <td>66</td>\n",
       "      <td>12</td>\n",
       "      <td>1446</td>\n",
       "      <td>0.780</td>\n",
       "      <td>1.214</td>\n",
       "      <td>4.0</td>\n",
       "      <td>30.0</td>\n",
       "      <td>0</td>\n",
       "      <td>1</td>\n",
       "      <td>0</td>\n",
       "      <td>0</td>\n",
       "    </tr>\n",
       "    <tr>\n",
       "      <th>2</th>\n",
       "      <td>OAS2_0036</td>\n",
       "      <td>OAS2_0036_MR4</td>\n",
       "      <td>4</td>\n",
       "      <td>1770</td>\n",
       "      <td>73</td>\n",
       "      <td>13</td>\n",
       "      <td>1360</td>\n",
       "      <td>0.773</td>\n",
       "      <td>1.291</td>\n",
       "      <td>4.0</td>\n",
       "      <td>30.0</td>\n",
       "      <td>0</td>\n",
       "      <td>0</td>\n",
       "      <td>1</td>\n",
       "      <td>1</td>\n",
       "    </tr>\n",
       "    <tr>\n",
       "      <th>3</th>\n",
       "      <td>OAS2_0056</td>\n",
       "      <td>OAS2_0056_MR1</td>\n",
       "      <td>1</td>\n",
       "      <td>0</td>\n",
       "      <td>71</td>\n",
       "      <td>14</td>\n",
       "      <td>1461</td>\n",
       "      <td>0.756</td>\n",
       "      <td>1.202</td>\n",
       "      <td>2.0</td>\n",
       "      <td>28.0</td>\n",
       "      <td>0</td>\n",
       "      <td>0</td>\n",
       "      <td>1</td>\n",
       "      <td>1</td>\n",
       "    </tr>\n",
       "    <tr>\n",
       "      <th>4</th>\n",
       "      <td>OAS2_0017</td>\n",
       "      <td>OAS2_0017_MR5</td>\n",
       "      <td>5</td>\n",
       "      <td>2400</td>\n",
       "      <td>86</td>\n",
       "      <td>12</td>\n",
       "      <td>1813</td>\n",
       "      <td>0.761</td>\n",
       "      <td>0.968</td>\n",
       "      <td>3.0</td>\n",
       "      <td>27.0</td>\n",
       "      <td>0</td>\n",
       "      <td>0</td>\n",
       "      <td>1</td>\n",
       "      <td>0</td>\n",
       "    </tr>\n",
       "  </tbody>\n",
       "</table>\n",
       "</div>"
      ],
      "text/plain": [
       "  Subject ID         MRI ID  Visit  MR Delay  Age  EDUC  eTIV   nWBV    ASF  \\\n",
       "0  OAS2_0079  OAS2_0079_MR3      3      1435   73    12  1478  0.696  1.188   \n",
       "1  OAS2_0098  OAS2_0098_MR1      1         0   66    12  1446  0.780  1.214   \n",
       "2  OAS2_0036  OAS2_0036_MR4      4      1770   73    13  1360  0.773  1.291   \n",
       "3  OAS2_0056  OAS2_0056_MR1      1         0   71    14  1461  0.756  1.202   \n",
       "4  OAS2_0017  OAS2_0017_MR5      5      2400   86    12  1813  0.761  0.968   \n",
       "\n",
       "   SES_imputed  MMSE_imputed  missing_indicator_SES  Group_Demented  \\\n",
       "0          4.0          16.0                      0               1   \n",
       "1          4.0          30.0                      0               1   \n",
       "2          4.0          30.0                      0               0   \n",
       "3          2.0          28.0                      0               0   \n",
       "4          3.0          27.0                      0               0   \n",
       "\n",
       "   Group_Nondemented  M/F_F  \n",
       "0                  0      1  \n",
       "1                  0      0  \n",
       "2                  1      1  \n",
       "3                  1      1  \n",
       "4                  1      0  "
      ]
     },
     "execution_count": 30,
     "metadata": {},
     "output_type": "execute_result"
    }
   ],
   "source": [
    "X_test.head()"
   ]
  },
  {
   "cell_type": "code",
   "execution_count": 31,
   "id": "0f0c2f2f",
   "metadata": {},
   "outputs": [
    {
     "data": {
      "text/plain": [
       "((298, 15), (75, 15))"
      ]
     },
     "execution_count": 31,
     "metadata": {},
     "output_type": "execute_result"
    }
   ],
   "source": [
    "X_train.shape , X_test.shape"
   ]
  },
  {
   "cell_type": "markdown",
   "id": "de0a9359",
   "metadata": {},
   "source": [
    "__So we can now see we have seperate `One Hot Encoded` variabels now with `k-1 dummies`__"
   ]
  },
  {
   "cell_type": "code",
   "execution_count": null,
   "id": "17fde01f",
   "metadata": {},
   "outputs": [],
   "source": []
  },
  {
   "cell_type": "code",
   "execution_count": null,
   "id": "9341cfd3",
   "metadata": {},
   "outputs": [],
   "source": []
  },
  {
   "cell_type": "markdown",
   "id": "31f20908",
   "metadata": {},
   "source": [
    "### 3) Continous Variable Distribution Transformation\n",
    "- by Square Root Transformation"
   ]
  },
  {
   "cell_type": "code",
   "execution_count": 32,
   "id": "24bd2849",
   "metadata": {},
   "outputs": [],
   "source": [
    "continous_variables = [feature for feature in X_train.columns if X_train[feature].dtypes!='O' and \n",
    "                       len(X_train[feature].unique())>25]"
   ]
  },
  {
   "cell_type": "code",
   "execution_count": 33,
   "id": "9baad776",
   "metadata": {},
   "outputs": [
    {
     "data": {
      "text/plain": [
       "['MR Delay', 'Age', 'eTIV', 'nWBV', 'ASF']"
      ]
     },
     "execution_count": 33,
     "metadata": {},
     "output_type": "execute_result"
    }
   ],
   "source": [
    "continous_variables"
   ]
  },
  {
   "cell_type": "markdown",
   "id": "3ebcd27f",
   "metadata": {},
   "source": [
    "We saw from the DataAnalysis Step that `MR Delay` has `skewed distribution`."
   ]
  },
  {
   "cell_type": "code",
   "execution_count": 34,
   "id": "837e09f6",
   "metadata": {},
   "outputs": [
    {
     "data": {
      "image/png": "[encoded data removed]",
      "text/plain": [
       "<Figure size 576x432 with 2 Axes>"
      ]
     },
     "metadata": {
      "needs_background": "light"
     },
     "output_type": "display_data"
    }
   ],
   "source": [
    "from scipy.stats import probplot\n",
    "plt.figure(figsize=(8,6))\n",
    "\n",
    "plt.subplot(2,2,1)\n",
    "X_train['MR Delay'].hist(bins=25)\n",
    "\n",
    "plt.subplot(2,2,2)\n",
    "probplot(X_train['MR Delay'] , dist='norm' , plot=plt)\n",
    "\n",
    "plt.show()"
   ]
  },
  {
   "cell_type": "markdown",
   "id": "c1cfb891",
   "metadata": {},
   "source": [
    "So we will now convert it into the `Gaussian Distribution` and hence good for the linear based models"
   ]
  },
  {
   "cell_type": "code",
   "execution_count": 35,
   "id": "02902b01",
   "metadata": {},
   "outputs": [],
   "source": [
    "X_train['MR Delay'] = X_train['MR Delay']**(1/2)\n",
    "X_test['MR Delay'] = X_test['MR Delay']**(1/2)"
   ]
  },
  {
   "cell_type": "code",
   "execution_count": 36,
   "id": "f8ee2e76",
   "metadata": {},
   "outputs": [
    {
     "data": {
      "image/png": "[encoded data removed]",
      "text/plain": [
       "<Figure size 576x432 with 2 Axes>"
      ]
     },
     "metadata": {
      "needs_background": "light"
     },
     "output_type": "display_data"
    }
   ],
   "source": [
    "plt.figure(figsize=(8,6))\n",
    "\n",
    "plt.subplot(2,2,1)\n",
    "X_train['MR Delay'].hist(bins=25)\n",
    "\n",
    "plt.subplot(2,2,2)\n",
    "probplot(X_train['MR Delay'] , dist='norm' , plot=plt)\n",
    "\n",
    "plt.show()"
   ]
  },
  {
   "cell_type": "code",
   "execution_count": 37,
   "id": "c81c2e32",
   "metadata": {},
   "outputs": [
    {
     "data": {
      "image/png": "[encoded data removed]",
      "text/plain": [
       "<Figure size 432x288 with 2 Axes>"
      ]
     },
     "metadata": {
      "needs_background": "light"
     },
     "output_type": "display_data"
    }
   ],
   "source": [
    "plt.subplot(2,2,1)\n",
    "X_test['MR Delay'].hist(bins=25)\n",
    "\n",
    "plt.subplot(2,2,2)\n",
    "probplot(X_test['MR Delay'] , dist='norm' , plot=plt)\n",
    "\n",
    "plt.show()"
   ]
  },
  {
   "cell_type": "markdown",
   "id": "ecc2d0a4",
   "metadata": {},
   "source": [
    "Sucessfully converted the Skewed Distribution to the Normal or Gaussian Distriubiton"
   ]
  },
  {
   "cell_type": "code",
   "execution_count": null,
   "id": "02e7c1c3",
   "metadata": {},
   "outputs": [],
   "source": []
  },
  {
   "cell_type": "code",
   "execution_count": 38,
   "id": "9d577c2e",
   "metadata": {},
   "outputs": [],
   "source": [
    "train = pd.concat([X_train , y_train] , axis=1)\n",
    "test = pd.concat([X_test , y_test] , axis=1)"
   ]
  },
  {
   "cell_type": "code",
   "execution_count": 39,
   "id": "be494bfd",
   "metadata": {},
   "outputs": [],
   "source": [
    "train.drop(['Subject ID' , 'MRI ID'] , axis=1 , inplace=True)\n",
    "test.drop(['Subject ID' , 'MRI ID'] , axis=1 , inplace=True)"
   ]
  },
  {
   "cell_type": "code",
   "execution_count": 40,
   "id": "b4cd044b",
   "metadata": {},
   "outputs": [
    {
     "data": {
      "text/html": [
       "<div>\n",
       "<style scoped>\n",
       "    .dataframe tbody tr th:only-of-type {\n",
       "        vertical-align: middle;\n",
       "    }\n",
       "\n",
       "    .dataframe tbody tr th {\n",
       "        vertical-align: top;\n",
       "    }\n",
       "\n",
       "    .dataframe thead th {\n",
       "        text-align: right;\n",
       "    }\n",
       "</style>\n",
       "<table border=\"1\" class=\"dataframe\">\n",
       "  <thead>\n",
       "    <tr style=\"text-align: right;\">\n",
       "      <th></th>\n",
       "      <th>Visit</th>\n",
       "      <th>MR Delay</th>\n",
       "      <th>Age</th>\n",
       "      <th>EDUC</th>\n",
       "      <th>eTIV</th>\n",
       "      <th>nWBV</th>\n",
       "      <th>ASF</th>\n",
       "      <th>SES_imputed</th>\n",
       "      <th>MMSE_imputed</th>\n",
       "      <th>missing_indicator_SES</th>\n",
       "      <th>Group_Demented</th>\n",
       "      <th>Group_Nondemented</th>\n",
       "      <th>M/F_F</th>\n",
       "      <th>CDR</th>\n",
       "    </tr>\n",
       "  </thead>\n",
       "  <tbody>\n",
       "    <tr>\n",
       "      <th>0</th>\n",
       "      <td>1</td>\n",
       "      <td>0.000000</td>\n",
       "      <td>70</td>\n",
       "      <td>11</td>\n",
       "      <td>1445</td>\n",
       "      <td>0.722</td>\n",
       "      <td>1.214</td>\n",
       "      <td>4.0</td>\n",
       "      <td>22.0</td>\n",
       "      <td>0</td>\n",
       "      <td>1</td>\n",
       "      <td>0</td>\n",
       "      <td>1</td>\n",
       "      <td>1.0</td>\n",
       "    </tr>\n",
       "    <tr>\n",
       "      <th>1</th>\n",
       "      <td>4</td>\n",
       "      <td>31.144823</td>\n",
       "      <td>68</td>\n",
       "      <td>16</td>\n",
       "      <td>1714</td>\n",
       "      <td>0.682</td>\n",
       "      <td>1.024</td>\n",
       "      <td>1.0</td>\n",
       "      <td>7.0</td>\n",
       "      <td>0</td>\n",
       "      <td>1</td>\n",
       "      <td>0</td>\n",
       "      <td>0</td>\n",
       "      <td>1.0</td>\n",
       "    </tr>\n",
       "    <tr>\n",
       "      <th>2</th>\n",
       "      <td>3</td>\n",
       "      <td>39.887341</td>\n",
       "      <td>82</td>\n",
       "      <td>18</td>\n",
       "      <td>1442</td>\n",
       "      <td>0.644</td>\n",
       "      <td>1.217</td>\n",
       "      <td>1.0</td>\n",
       "      <td>29.0</td>\n",
       "      <td>0</td>\n",
       "      <td>0</td>\n",
       "      <td>1</td>\n",
       "      <td>1</td>\n",
       "      <td>0.0</td>\n",
       "    </tr>\n",
       "    <tr>\n",
       "      <th>3</th>\n",
       "      <td>2</td>\n",
       "      <td>21.377558</td>\n",
       "      <td>94</td>\n",
       "      <td>23</td>\n",
       "      <td>1474</td>\n",
       "      <td>0.696</td>\n",
       "      <td>1.190</td>\n",
       "      <td>1.0</td>\n",
       "      <td>29.0</td>\n",
       "      <td>0</td>\n",
       "      <td>0</td>\n",
       "      <td>1</td>\n",
       "      <td>1</td>\n",
       "      <td>0.0</td>\n",
       "    </tr>\n",
       "    <tr>\n",
       "      <th>4</th>\n",
       "      <td>2</td>\n",
       "      <td>26.457513</td>\n",
       "      <td>72</td>\n",
       "      <td>16</td>\n",
       "      <td>1796</td>\n",
       "      <td>0.732</td>\n",
       "      <td>0.977</td>\n",
       "      <td>4.0</td>\n",
       "      <td>28.0</td>\n",
       "      <td>0</td>\n",
       "      <td>1</td>\n",
       "      <td>0</td>\n",
       "      <td>0</td>\n",
       "      <td>0.5</td>\n",
       "    </tr>\n",
       "  </tbody>\n",
       "</table>\n",
       "</div>"
      ],
      "text/plain": [
       "   Visit   MR Delay  Age  EDUC  eTIV   nWBV    ASF  SES_imputed  MMSE_imputed  \\\n",
       "0      1   0.000000   70    11  1445  0.722  1.214          4.0          22.0   \n",
       "1      4  31.144823   68    16  1714  0.682  1.024          1.0           7.0   \n",
       "2      3  39.887341   82    18  1442  0.644  1.217          1.0          29.0   \n",
       "3      2  21.377558   94    23  1474  0.696  1.190          1.0          29.0   \n",
       "4      2  26.457513   72    16  1796  0.732  0.977          4.0          28.0   \n",
       "\n",
       "   missing_indicator_SES  Group_Demented  Group_Nondemented  M/F_F  CDR  \n",
       "0                      0               1                  0      1  1.0  \n",
       "1                      0               1                  0      0  1.0  \n",
       "2                      0               0                  1      1  0.0  \n",
       "3                      0               0                  1      1  0.0  \n",
       "4                      0               1                  0      0  0.5  "
      ]
     },
     "execution_count": 40,
     "metadata": {},
     "output_type": "execute_result"
    }
   ],
   "source": [
    "train.head()"
   ]
  },
  {
   "cell_type": "code",
   "execution_count": 41,
   "id": "a8b9c207",
   "metadata": {},
   "outputs": [
    {
     "data": {
      "text/html": [
       "<div>\n",
       "<style scoped>\n",
       "    .dataframe tbody tr th:only-of-type {\n",
       "        vertical-align: middle;\n",
       "    }\n",
       "\n",
       "    .dataframe tbody tr th {\n",
       "        vertical-align: top;\n",
       "    }\n",
       "\n",
       "    .dataframe thead th {\n",
       "        text-align: right;\n",
       "    }\n",
       "</style>\n",
       "<table border=\"1\" class=\"dataframe\">\n",
       "  <thead>\n",
       "    <tr style=\"text-align: right;\">\n",
       "      <th></th>\n",
       "      <th>Visit</th>\n",
       "      <th>MR Delay</th>\n",
       "      <th>Age</th>\n",
       "      <th>EDUC</th>\n",
       "      <th>eTIV</th>\n",
       "      <th>nWBV</th>\n",
       "      <th>ASF</th>\n",
       "      <th>SES_imputed</th>\n",
       "      <th>MMSE_imputed</th>\n",
       "      <th>missing_indicator_SES</th>\n",
       "      <th>Group_Demented</th>\n",
       "      <th>Group_Nondemented</th>\n",
       "      <th>M/F_F</th>\n",
       "      <th>CDR</th>\n",
       "    </tr>\n",
       "  </thead>\n",
       "  <tbody>\n",
       "    <tr>\n",
       "      <th>0</th>\n",
       "      <td>3</td>\n",
       "      <td>37.881394</td>\n",
       "      <td>73</td>\n",
       "      <td>12</td>\n",
       "      <td>1478</td>\n",
       "      <td>0.696</td>\n",
       "      <td>1.188</td>\n",
       "      <td>4.0</td>\n",
       "      <td>16.0</td>\n",
       "      <td>0</td>\n",
       "      <td>1</td>\n",
       "      <td>0</td>\n",
       "      <td>1</td>\n",
       "      <td>1.0</td>\n",
       "    </tr>\n",
       "    <tr>\n",
       "      <th>1</th>\n",
       "      <td>1</td>\n",
       "      <td>0.000000</td>\n",
       "      <td>66</td>\n",
       "      <td>12</td>\n",
       "      <td>1446</td>\n",
       "      <td>0.780</td>\n",
       "      <td>1.214</td>\n",
       "      <td>4.0</td>\n",
       "      <td>30.0</td>\n",
       "      <td>0</td>\n",
       "      <td>1</td>\n",
       "      <td>0</td>\n",
       "      <td>0</td>\n",
       "      <td>0.5</td>\n",
       "    </tr>\n",
       "    <tr>\n",
       "      <th>2</th>\n",
       "      <td>4</td>\n",
       "      <td>42.071368</td>\n",
       "      <td>73</td>\n",
       "      <td>13</td>\n",
       "      <td>1360</td>\n",
       "      <td>0.773</td>\n",
       "      <td>1.291</td>\n",
       "      <td>4.0</td>\n",
       "      <td>30.0</td>\n",
       "      <td>0</td>\n",
       "      <td>0</td>\n",
       "      <td>1</td>\n",
       "      <td>1</td>\n",
       "      <td>0.0</td>\n",
       "    </tr>\n",
       "    <tr>\n",
       "      <th>3</th>\n",
       "      <td>1</td>\n",
       "      <td>0.000000</td>\n",
       "      <td>71</td>\n",
       "      <td>14</td>\n",
       "      <td>1461</td>\n",
       "      <td>0.756</td>\n",
       "      <td>1.202</td>\n",
       "      <td>2.0</td>\n",
       "      <td>28.0</td>\n",
       "      <td>0</td>\n",
       "      <td>0</td>\n",
       "      <td>1</td>\n",
       "      <td>1</td>\n",
       "      <td>0.0</td>\n",
       "    </tr>\n",
       "    <tr>\n",
       "      <th>4</th>\n",
       "      <td>5</td>\n",
       "      <td>48.989795</td>\n",
       "      <td>86</td>\n",
       "      <td>12</td>\n",
       "      <td>1813</td>\n",
       "      <td>0.761</td>\n",
       "      <td>0.968</td>\n",
       "      <td>3.0</td>\n",
       "      <td>27.0</td>\n",
       "      <td>0</td>\n",
       "      <td>0</td>\n",
       "      <td>1</td>\n",
       "      <td>0</td>\n",
       "      <td>0.0</td>\n",
       "    </tr>\n",
       "  </tbody>\n",
       "</table>\n",
       "</div>"
      ],
      "text/plain": [
       "   Visit   MR Delay  Age  EDUC  eTIV   nWBV    ASF  SES_imputed  MMSE_imputed  \\\n",
       "0      3  37.881394   73    12  1478  0.696  1.188          4.0          16.0   \n",
       "1      1   0.000000   66    12  1446  0.780  1.214          4.0          30.0   \n",
       "2      4  42.071368   73    13  1360  0.773  1.291          4.0          30.0   \n",
       "3      1   0.000000   71    14  1461  0.756  1.202          2.0          28.0   \n",
       "4      5  48.989795   86    12  1813  0.761  0.968          3.0          27.0   \n",
       "\n",
       "   missing_indicator_SES  Group_Demented  Group_Nondemented  M/F_F  CDR  \n",
       "0                      0               1                  0      1  1.0  \n",
       "1                      0               1                  0      0  0.5  \n",
       "2                      0               0                  1      1  0.0  \n",
       "3                      0               0                  1      1  0.0  \n",
       "4                      0               0                  1      0  0.0  "
      ]
     },
     "execution_count": 41,
     "metadata": {},
     "output_type": "execute_result"
    }
   ],
   "source": [
    "test.head()"
   ]
  },
  {
   "cell_type": "code",
   "execution_count": 42,
   "id": "92997356",
   "metadata": {},
   "outputs": [
    {
     "data": {
      "text/plain": [
       "((298, 14), (75, 14))"
      ]
     },
     "execution_count": 42,
     "metadata": {},
     "output_type": "execute_result"
    }
   ],
   "source": [
    "train.shape , test.shape"
   ]
  },
  {
   "cell_type": "code",
   "execution_count": 43,
   "id": "5a474626",
   "metadata": {},
   "outputs": [],
   "source": [
    "train.to_csv('train_data.csv' , index=False)\n",
    "test.to_csv('test_data.csv' , index=False)"
   ]
  }
 ],
 "metadata": {
  "kernelspec": {
   "display_name": "Python 3",
   "language": "python",
   "name": "python3"
  },
  "language_info": {
   "codemirror_mode": {
    "name": "ipython",
    "version": 3
   },
   "file_extension": ".py",
   "mimetype": "text/x-python",
   "name": "python",
   "nbconvert_exporter": "python",
   "pygments_lexer": "ipython3",
   "version": "3.7.10"
  },
  "papermill": {
   "default_parameters": {},
   "duration": 20.7775,
   "end_time": "2022-02-20T18:36:45.916213",
   "environment_variables": {},
   "exception": null,
   "input_path": "__notebook__.ipynb",
   "output_path": "__notebook__.ipynb",
   "parameters": {},
   "start_time": "2022-02-20T18:36:25.138713",
   "version": "2.3.3"
  }
 },
 "nbformat": 4,
 "nbformat_minor": 5
}
