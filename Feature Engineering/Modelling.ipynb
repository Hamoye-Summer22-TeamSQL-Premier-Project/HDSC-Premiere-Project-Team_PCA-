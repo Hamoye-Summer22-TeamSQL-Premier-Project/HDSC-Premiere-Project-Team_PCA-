{
 "cells": [
  {
   "cell_type": "markdown",
   "metadata": {},
   "source": [
    "# Feature Engineering"
   ]
  },
  {
   "cell_type": "code",
   "execution_count": 154,
   "metadata": {
    "execution": {
     "iopub.execute_input": "2022-02-20T18:32:47.164465Z",
     "iopub.status.busy": "2022-02-20T18:32:47.164227Z",
     "iopub.status.idle": "2022-02-20T18:32:47.174336Z",
     "shell.execute_reply": "2022-02-20T18:32:47.173688Z",
     "shell.execute_reply.started": "2022-02-20T18:32:47.164431Z"
    }
   },
   "outputs": [],
   "source": [
    "import pandas as pd\n",
    "import numpy as np\n",
    "import matplotlib.pyplot as plt\n",
    "import seaborn as sns\n",
    "import warnings"
   ]
  },
  {
   "cell_type": "code",
   "execution_count": 109,
   "metadata": {
    "execution": {
     "iopub.execute_input": "2022-02-20T18:32:47.176081Z",
     "iopub.status.busy": "2022-02-20T18:32:47.175686Z",
     "iopub.status.idle": "2022-02-20T18:32:47.205767Z",
     "shell.execute_reply": "2022-02-20T18:32:47.205111Z",
     "shell.execute_reply.started": "2022-02-20T18:32:47.176049Z"
    }
   },
   "outputs": [
    {
     "data": {
      "text/html": [
       "<div>\n",
       "<style scoped>\n",
       "    .dataframe tbody tr th:only-of-type {\n",
       "        vertical-align: middle;\n",
       "    }\n",
       "\n",
       "    .dataframe tbody tr th {\n",
       "        vertical-align: top;\n",
       "    }\n",
       "\n",
       "    .dataframe thead th {\n",
       "        text-align: right;\n",
       "    }\n",
       "</style>\n",
       "<table border=\"1\" class=\"dataframe\">\n",
       "  <thead>\n",
       "    <tr style=\"text-align: right;\">\n",
       "      <th></th>\n",
       "      <th>Subject ID</th>\n",
       "      <th>MRI ID</th>\n",
       "      <th>Group</th>\n",
       "      <th>Visit</th>\n",
       "      <th>MR Delay</th>\n",
       "      <th>M/F</th>\n",
       "      <th>Hand</th>\n",
       "      <th>Age</th>\n",
       "      <th>EDUC</th>\n",
       "      <th>SES</th>\n",
       "      <th>MMSE</th>\n",
       "      <th>CDR</th>\n",
       "      <th>eTIV</th>\n",
       "      <th>nWBV</th>\n",
       "      <th>ASF</th>\n",
       "    </tr>\n",
       "  </thead>\n",
       "  <tbody>\n",
       "    <tr>\n",
       "      <th>0</th>\n",
       "      <td>OAS2_0001</td>\n",
       "      <td>OAS2_0001_MR1</td>\n",
       "      <td>Nondemented</td>\n",
       "      <td>1</td>\n",
       "      <td>0</td>\n",
       "      <td>M</td>\n",
       "      <td>R</td>\n",
       "      <td>87</td>\n",
       "      <td>14</td>\n",
       "      <td>2.0</td>\n",
       "      <td>27.0</td>\n",
       "      <td>0.0</td>\n",
       "      <td>1987</td>\n",
       "      <td>0.696</td>\n",
       "      <td>0.883</td>\n",
       "    </tr>\n",
       "    <tr>\n",
       "      <th>1</th>\n",
       "      <td>OAS2_0001</td>\n",
       "      <td>OAS2_0001_MR2</td>\n",
       "      <td>Nondemented</td>\n",
       "      <td>2</td>\n",
       "      <td>457</td>\n",
       "      <td>M</td>\n",
       "      <td>R</td>\n",
       "      <td>88</td>\n",
       "      <td>14</td>\n",
       "      <td>2.0</td>\n",
       "      <td>30.0</td>\n",
       "      <td>0.0</td>\n",
       "      <td>2004</td>\n",
       "      <td>0.681</td>\n",
       "      <td>0.876</td>\n",
       "    </tr>\n",
       "    <tr>\n",
       "      <th>2</th>\n",
       "      <td>OAS2_0002</td>\n",
       "      <td>OAS2_0002_MR1</td>\n",
       "      <td>Demented</td>\n",
       "      <td>1</td>\n",
       "      <td>0</td>\n",
       "      <td>M</td>\n",
       "      <td>R</td>\n",
       "      <td>75</td>\n",
       "      <td>12</td>\n",
       "      <td>NaN</td>\n",
       "      <td>23.0</td>\n",
       "      <td>0.5</td>\n",
       "      <td>1678</td>\n",
       "      <td>0.736</td>\n",
       "      <td>1.046</td>\n",
       "    </tr>\n",
       "    <tr>\n",
       "      <th>3</th>\n",
       "      <td>OAS2_0002</td>\n",
       "      <td>OAS2_0002_MR2</td>\n",
       "      <td>Demented</td>\n",
       "      <td>2</td>\n",
       "      <td>560</td>\n",
       "      <td>M</td>\n",
       "      <td>R</td>\n",
       "      <td>76</td>\n",
       "      <td>12</td>\n",
       "      <td>NaN</td>\n",
       "      <td>28.0</td>\n",
       "      <td>0.5</td>\n",
       "      <td>1738</td>\n",
       "      <td>0.713</td>\n",
       "      <td>1.010</td>\n",
       "    </tr>\n",
       "    <tr>\n",
       "      <th>4</th>\n",
       "      <td>OAS2_0002</td>\n",
       "      <td>OAS2_0002_MR3</td>\n",
       "      <td>Demented</td>\n",
       "      <td>3</td>\n",
       "      <td>1895</td>\n",
       "      <td>M</td>\n",
       "      <td>R</td>\n",
       "      <td>80</td>\n",
       "      <td>12</td>\n",
       "      <td>NaN</td>\n",
       "      <td>22.0</td>\n",
       "      <td>0.5</td>\n",
       "      <td>1698</td>\n",
       "      <td>0.701</td>\n",
       "      <td>1.034</td>\n",
       "    </tr>\n",
       "  </tbody>\n",
       "</table>\n",
       "</div>"
      ],
      "text/plain": [
       "  Subject ID         MRI ID        Group  Visit  MR Delay M/F Hand  Age  EDUC  \\\n",
       "0  OAS2_0001  OAS2_0001_MR1  Nondemented      1         0   M    R   87    14   \n",
       "1  OAS2_0001  OAS2_0001_MR2  Nondemented      2       457   M    R   88    14   \n",
       "2  OAS2_0002  OAS2_0002_MR1     Demented      1         0   M    R   75    12   \n",
       "3  OAS2_0002  OAS2_0002_MR2     Demented      2       560   M    R   76    12   \n",
       "4  OAS2_0002  OAS2_0002_MR3     Demented      3      1895   M    R   80    12   \n",
       "\n",
       "   SES  MMSE  CDR  eTIV   nWBV    ASF  \n",
       "0  2.0  27.0  0.0  1987  0.696  0.883  \n",
       "1  2.0  30.0  0.0  2004  0.681  0.876  \n",
       "2  NaN  23.0  0.5  1678  0.736  1.046  \n",
       "3  NaN  28.0  0.5  1738  0.713  1.010  \n",
       "4  NaN  22.0  0.5  1698  0.701  1.034  "
      ]
     },
     "execution_count": 109,
     "metadata": {},
     "output_type": "execute_result"
    }
   ],
   "source": [
    "df=pd.read_csv('dementia_dataset.csv')\n",
    "df.head()"
   ]
  },
  {
   "cell_type": "code",
   "execution_count": 110,
   "metadata": {
    "execution": {
     "iopub.execute_input": "2022-02-20T18:32:47.207390Z",
     "iopub.status.busy": "2022-02-20T18:32:47.206764Z",
     "iopub.status.idle": "2022-02-20T18:32:47.212736Z",
     "shell.execute_reply": "2022-02-20T18:32:47.212001Z",
     "shell.execute_reply.started": "2022-02-20T18:32:47.207356Z"
    }
   },
   "outputs": [
    {
     "data": {
      "text/plain": [
       "(373, 15)"
      ]
     },
     "execution_count": 110,
     "metadata": {},
     "output_type": "execute_result"
    }
   ],
   "source": [
    "df.shape"
   ]
  },
  {
   "cell_type": "markdown",
   "metadata": {},
   "source": [
    "#### ENCODING CATEGORICAL DATA"
   ]
  },
  {
   "cell_type": "markdown",
   "metadata": {},
   "source": [
    "#### Two categorical columns: M/F and Group."
   ]
  },
  {
   "cell_type": "code",
   "execution_count": 106,
   "metadata": {
    "execution": {
     "iopub.execute_input": "2022-02-20T18:32:47.214070Z",
     "iopub.status.busy": "2022-02-20T18:32:47.213833Z",
     "iopub.status.idle": "2022-02-20T18:32:47.251983Z",
     "shell.execute_reply": "2022-02-20T18:32:47.251086Z",
     "shell.execute_reply.started": "2022-02-20T18:32:47.214042Z"
    }
   },
   "outputs": [],
   "source": [
    "# from sklearn.preprocessing import OneHotEncoder\n",
    "\n",
    "# # Create instance of OneHotEncoder.\n",
    "# ohe = OneHotEncoder()\n",
    "\n",
    "# # Perform OneHotEncoding on the Group column.\n",
    "# df_ohe1 = pd.DataFrame(ohe.fit_transform(df[['Group']]).toarray(), columns=ohe.categories_)\n",
    "\n",
    "# # Merge OneHotEncoded column with df dataframe.\n",
    "# df2 = df.join(df_ohe1)\n",
    "\n",
    "# # View dataframe.\n",
    "# df2.head()"
   ]
  },
  {
   "cell_type": "code",
   "execution_count": 107,
   "metadata": {
    "execution": {
     "iopub.execute_input": "2022-02-20T18:32:47.253863Z",
     "iopub.status.busy": "2022-02-20T18:32:47.253305Z",
     "iopub.status.idle": "2022-02-20T18:32:47.303894Z",
     "shell.execute_reply": "2022-02-20T18:32:47.303229Z",
     "shell.execute_reply.started": "2022-02-20T18:32:47.253831Z"
    }
   },
   "outputs": [],
   "source": [
    "# # Perform OneHotEncoding on the M/F column.\n",
    "# df_ohe2 = pd.DataFrame(ohe.fit_transform(df[['M/F']]).toarray(), columns=ohe.categories_)\n",
    "\n",
    "# # Merge OneHotEncoded column with dataframe.\n",
    "# df_final = df2.join(df_ohe2)\n",
    "\n",
    "# # View final dataframe.\n",
    "# # df_final"
   ]
  },
  {
   "cell_type": "code",
   "execution_count": 6,
   "metadata": {
    "execution": {
     "iopub.execute_input": "2022-02-20T18:32:47.305859Z",
     "iopub.status.busy": "2022-02-20T18:32:47.304982Z",
     "iopub.status.idle": "2022-02-20T18:32:47.309537Z",
     "shell.execute_reply": "2022-02-20T18:32:47.308840Z",
     "shell.execute_reply.started": "2022-02-20T18:32:47.305822Z"
    }
   },
   "outputs": [],
   "source": [
    "# df = df_final"
   ]
  },
  {
   "cell_type": "code",
   "execution_count": 111,
   "metadata": {},
   "outputs": [],
   "source": [
    "df=pd.concat([df,pd.get_dummies(df['Group'])],axis=1)\n",
    "df=pd.concat([df,pd.get_dummies(df['M/F'])],axis=1)"
   ]
  },
  {
   "cell_type": "markdown",
   "metadata": {},
   "source": [
    "#### We can decide to drop the Group and M/F columns since they have been encoded."
   ]
  },
  {
   "cell_type": "code",
   "execution_count": 112,
   "metadata": {
    "execution": {
     "iopub.execute_input": "2022-02-20T18:32:47.311383Z",
     "iopub.status.busy": "2022-02-20T18:32:47.310490Z",
     "iopub.status.idle": "2022-02-20T18:32:47.356872Z",
     "shell.execute_reply": "2022-02-20T18:32:47.356101Z",
     "shell.execute_reply.started": "2022-02-20T18:32:47.311344Z"
    }
   },
   "outputs": [
    {
     "data": {
      "text/html": [
       "<div>\n",
       "<style scoped>\n",
       "    .dataframe tbody tr th:only-of-type {\n",
       "        vertical-align: middle;\n",
       "    }\n",
       "\n",
       "    .dataframe tbody tr th {\n",
       "        vertical-align: top;\n",
       "    }\n",
       "\n",
       "    .dataframe thead th {\n",
       "        text-align: right;\n",
       "    }\n",
       "</style>\n",
       "<table border=\"1\" class=\"dataframe\">\n",
       "  <thead>\n",
       "    <tr style=\"text-align: right;\">\n",
       "      <th></th>\n",
       "      <th>Subject ID</th>\n",
       "      <th>MRI ID</th>\n",
       "      <th>Visit</th>\n",
       "      <th>MR Delay</th>\n",
       "      <th>Hand</th>\n",
       "      <th>Age</th>\n",
       "      <th>EDUC</th>\n",
       "      <th>SES</th>\n",
       "      <th>MMSE</th>\n",
       "      <th>CDR</th>\n",
       "      <th>eTIV</th>\n",
       "      <th>nWBV</th>\n",
       "      <th>ASF</th>\n",
       "      <th>Converted</th>\n",
       "      <th>Demented</th>\n",
       "      <th>Nondemented</th>\n",
       "      <th>F</th>\n",
       "      <th>M</th>\n",
       "    </tr>\n",
       "  </thead>\n",
       "  <tbody>\n",
       "    <tr>\n",
       "      <th>0</th>\n",
       "      <td>OAS2_0001</td>\n",
       "      <td>OAS2_0001_MR1</td>\n",
       "      <td>1</td>\n",
       "      <td>0</td>\n",
       "      <td>R</td>\n",
       "      <td>87</td>\n",
       "      <td>14</td>\n",
       "      <td>2.0</td>\n",
       "      <td>27.0</td>\n",
       "      <td>0.0</td>\n",
       "      <td>1987</td>\n",
       "      <td>0.696</td>\n",
       "      <td>0.883</td>\n",
       "      <td>0</td>\n",
       "      <td>0</td>\n",
       "      <td>1</td>\n",
       "      <td>0</td>\n",
       "      <td>1</td>\n",
       "    </tr>\n",
       "    <tr>\n",
       "      <th>1</th>\n",
       "      <td>OAS2_0001</td>\n",
       "      <td>OAS2_0001_MR2</td>\n",
       "      <td>2</td>\n",
       "      <td>457</td>\n",
       "      <td>R</td>\n",
       "      <td>88</td>\n",
       "      <td>14</td>\n",
       "      <td>2.0</td>\n",
       "      <td>30.0</td>\n",
       "      <td>0.0</td>\n",
       "      <td>2004</td>\n",
       "      <td>0.681</td>\n",
       "      <td>0.876</td>\n",
       "      <td>0</td>\n",
       "      <td>0</td>\n",
       "      <td>1</td>\n",
       "      <td>0</td>\n",
       "      <td>1</td>\n",
       "    </tr>\n",
       "    <tr>\n",
       "      <th>2</th>\n",
       "      <td>OAS2_0002</td>\n",
       "      <td>OAS2_0002_MR1</td>\n",
       "      <td>1</td>\n",
       "      <td>0</td>\n",
       "      <td>R</td>\n",
       "      <td>75</td>\n",
       "      <td>12</td>\n",
       "      <td>NaN</td>\n",
       "      <td>23.0</td>\n",
       "      <td>0.5</td>\n",
       "      <td>1678</td>\n",
       "      <td>0.736</td>\n",
       "      <td>1.046</td>\n",
       "      <td>0</td>\n",
       "      <td>1</td>\n",
       "      <td>0</td>\n",
       "      <td>0</td>\n",
       "      <td>1</td>\n",
       "    </tr>\n",
       "    <tr>\n",
       "      <th>3</th>\n",
       "      <td>OAS2_0002</td>\n",
       "      <td>OAS2_0002_MR2</td>\n",
       "      <td>2</td>\n",
       "      <td>560</td>\n",
       "      <td>R</td>\n",
       "      <td>76</td>\n",
       "      <td>12</td>\n",
       "      <td>NaN</td>\n",
       "      <td>28.0</td>\n",
       "      <td>0.5</td>\n",
       "      <td>1738</td>\n",
       "      <td>0.713</td>\n",
       "      <td>1.010</td>\n",
       "      <td>0</td>\n",
       "      <td>1</td>\n",
       "      <td>0</td>\n",
       "      <td>0</td>\n",
       "      <td>1</td>\n",
       "    </tr>\n",
       "    <tr>\n",
       "      <th>4</th>\n",
       "      <td>OAS2_0002</td>\n",
       "      <td>OAS2_0002_MR3</td>\n",
       "      <td>3</td>\n",
       "      <td>1895</td>\n",
       "      <td>R</td>\n",
       "      <td>80</td>\n",
       "      <td>12</td>\n",
       "      <td>NaN</td>\n",
       "      <td>22.0</td>\n",
       "      <td>0.5</td>\n",
       "      <td>1698</td>\n",
       "      <td>0.701</td>\n",
       "      <td>1.034</td>\n",
       "      <td>0</td>\n",
       "      <td>1</td>\n",
       "      <td>0</td>\n",
       "      <td>0</td>\n",
       "      <td>1</td>\n",
       "    </tr>\n",
       "    <tr>\n",
       "      <th>...</th>\n",
       "      <td>...</td>\n",
       "      <td>...</td>\n",
       "      <td>...</td>\n",
       "      <td>...</td>\n",
       "      <td>...</td>\n",
       "      <td>...</td>\n",
       "      <td>...</td>\n",
       "      <td>...</td>\n",
       "      <td>...</td>\n",
       "      <td>...</td>\n",
       "      <td>...</td>\n",
       "      <td>...</td>\n",
       "      <td>...</td>\n",
       "      <td>...</td>\n",
       "      <td>...</td>\n",
       "      <td>...</td>\n",
       "      <td>...</td>\n",
       "      <td>...</td>\n",
       "    </tr>\n",
       "    <tr>\n",
       "      <th>368</th>\n",
       "      <td>OAS2_0185</td>\n",
       "      <td>OAS2_0185_MR2</td>\n",
       "      <td>2</td>\n",
       "      <td>842</td>\n",
       "      <td>R</td>\n",
       "      <td>82</td>\n",
       "      <td>16</td>\n",
       "      <td>1.0</td>\n",
       "      <td>28.0</td>\n",
       "      <td>0.5</td>\n",
       "      <td>1693</td>\n",
       "      <td>0.694</td>\n",
       "      <td>1.037</td>\n",
       "      <td>0</td>\n",
       "      <td>1</td>\n",
       "      <td>0</td>\n",
       "      <td>0</td>\n",
       "      <td>1</td>\n",
       "    </tr>\n",
       "    <tr>\n",
       "      <th>369</th>\n",
       "      <td>OAS2_0185</td>\n",
       "      <td>OAS2_0185_MR3</td>\n",
       "      <td>3</td>\n",
       "      <td>2297</td>\n",
       "      <td>R</td>\n",
       "      <td>86</td>\n",
       "      <td>16</td>\n",
       "      <td>1.0</td>\n",
       "      <td>26.0</td>\n",
       "      <td>0.5</td>\n",
       "      <td>1688</td>\n",
       "      <td>0.675</td>\n",
       "      <td>1.040</td>\n",
       "      <td>0</td>\n",
       "      <td>1</td>\n",
       "      <td>0</td>\n",
       "      <td>0</td>\n",
       "      <td>1</td>\n",
       "    </tr>\n",
       "    <tr>\n",
       "      <th>370</th>\n",
       "      <td>OAS2_0186</td>\n",
       "      <td>OAS2_0186_MR1</td>\n",
       "      <td>1</td>\n",
       "      <td>0</td>\n",
       "      <td>R</td>\n",
       "      <td>61</td>\n",
       "      <td>13</td>\n",
       "      <td>2.0</td>\n",
       "      <td>30.0</td>\n",
       "      <td>0.0</td>\n",
       "      <td>1319</td>\n",
       "      <td>0.801</td>\n",
       "      <td>1.331</td>\n",
       "      <td>0</td>\n",
       "      <td>0</td>\n",
       "      <td>1</td>\n",
       "      <td>1</td>\n",
       "      <td>0</td>\n",
       "    </tr>\n",
       "    <tr>\n",
       "      <th>371</th>\n",
       "      <td>OAS2_0186</td>\n",
       "      <td>OAS2_0186_MR2</td>\n",
       "      <td>2</td>\n",
       "      <td>763</td>\n",
       "      <td>R</td>\n",
       "      <td>63</td>\n",
       "      <td>13</td>\n",
       "      <td>2.0</td>\n",
       "      <td>30.0</td>\n",
       "      <td>0.0</td>\n",
       "      <td>1327</td>\n",
       "      <td>0.796</td>\n",
       "      <td>1.323</td>\n",
       "      <td>0</td>\n",
       "      <td>0</td>\n",
       "      <td>1</td>\n",
       "      <td>1</td>\n",
       "      <td>0</td>\n",
       "    </tr>\n",
       "    <tr>\n",
       "      <th>372</th>\n",
       "      <td>OAS2_0186</td>\n",
       "      <td>OAS2_0186_MR3</td>\n",
       "      <td>3</td>\n",
       "      <td>1608</td>\n",
       "      <td>R</td>\n",
       "      <td>65</td>\n",
       "      <td>13</td>\n",
       "      <td>2.0</td>\n",
       "      <td>30.0</td>\n",
       "      <td>0.0</td>\n",
       "      <td>1333</td>\n",
       "      <td>0.801</td>\n",
       "      <td>1.317</td>\n",
       "      <td>0</td>\n",
       "      <td>0</td>\n",
       "      <td>1</td>\n",
       "      <td>1</td>\n",
       "      <td>0</td>\n",
       "    </tr>\n",
       "  </tbody>\n",
       "</table>\n",
       "<p>373 rows × 18 columns</p>\n",
       "</div>"
      ],
      "text/plain": [
       "    Subject ID         MRI ID  Visit  MR Delay Hand  Age  EDUC  SES  MMSE  \\\n",
       "0    OAS2_0001  OAS2_0001_MR1      1         0    R   87    14  2.0  27.0   \n",
       "1    OAS2_0001  OAS2_0001_MR2      2       457    R   88    14  2.0  30.0   \n",
       "2    OAS2_0002  OAS2_0002_MR1      1         0    R   75    12  NaN  23.0   \n",
       "3    OAS2_0002  OAS2_0002_MR2      2       560    R   76    12  NaN  28.0   \n",
       "4    OAS2_0002  OAS2_0002_MR3      3      1895    R   80    12  NaN  22.0   \n",
       "..         ...            ...    ...       ...  ...  ...   ...  ...   ...   \n",
       "368  OAS2_0185  OAS2_0185_MR2      2       842    R   82    16  1.0  28.0   \n",
       "369  OAS2_0185  OAS2_0185_MR3      3      2297    R   86    16  1.0  26.0   \n",
       "370  OAS2_0186  OAS2_0186_MR1      1         0    R   61    13  2.0  30.0   \n",
       "371  OAS2_0186  OAS2_0186_MR2      2       763    R   63    13  2.0  30.0   \n",
       "372  OAS2_0186  OAS2_0186_MR3      3      1608    R   65    13  2.0  30.0   \n",
       "\n",
       "     CDR  eTIV   nWBV    ASF  Converted  Demented  Nondemented  F  M  \n",
       "0    0.0  1987  0.696  0.883          0         0            1  0  1  \n",
       "1    0.0  2004  0.681  0.876          0         0            1  0  1  \n",
       "2    0.5  1678  0.736  1.046          0         1            0  0  1  \n",
       "3    0.5  1738  0.713  1.010          0         1            0  0  1  \n",
       "4    0.5  1698  0.701  1.034          0         1            0  0  1  \n",
       "..   ...   ...    ...    ...        ...       ...          ... .. ..  \n",
       "368  0.5  1693  0.694  1.037          0         1            0  0  1  \n",
       "369  0.5  1688  0.675  1.040          0         1            0  0  1  \n",
       "370  0.0  1319  0.801  1.331          0         0            1  1  0  \n",
       "371  0.0  1327  0.796  1.323          0         0            1  1  0  \n",
       "372  0.0  1333  0.801  1.317          0         0            1  1  0  \n",
       "\n",
       "[373 rows x 18 columns]"
      ]
     },
     "execution_count": 112,
     "metadata": {},
     "output_type": "execute_result"
    }
   ],
   "source": [
    "df.drop(['Group', 'M/F'], axis=1, inplace=True)\n",
    "df"
   ]
  },
  {
   "cell_type": "markdown",
   "metadata": {},
   "source": [
    "For __Feature Engineering__ the __Train data__ should only be taken into consideration for the statistics value and \n",
    "\n",
    "then these values will be then used for both train and test. This is the best and optimal way to prevent the \n",
    "\n",
    "overfitting later in Model Building part."
   ]
  },
  {
   "cell_type": "code",
   "execution_count": 113,
   "metadata": {
    "execution": {
     "iopub.execute_input": "2022-02-20T18:32:47.363354Z",
     "iopub.status.busy": "2022-02-20T18:32:47.362378Z",
     "iopub.status.idle": "2022-02-20T18:32:47.371827Z",
     "shell.execute_reply": "2022-02-20T18:32:47.370628Z",
     "shell.execute_reply.started": "2022-02-20T18:32:47.363315Z"
    }
   },
   "outputs": [],
   "source": [
    "from sklearn.model_selection import train_test_split\n",
    "X_train , X_test , y_train , y_test = train_test_split(df.drop('CDR' , axis=1) , df['CDR'] , test_size=0.2 , \n",
    "                                                      random_state=2, shuffle = True)\n",
    "#I added shuffle"
   ]
  },
  {
   "cell_type": "code",
   "execution_count": 114,
   "metadata": {
    "execution": {
     "iopub.execute_input": "2022-02-20T18:32:47.373406Z",
     "iopub.status.busy": "2022-02-20T18:32:47.372972Z",
     "iopub.status.idle": "2022-02-20T18:32:47.383844Z",
     "shell.execute_reply": "2022-02-20T18:32:47.383195Z",
     "shell.execute_reply.started": "2022-02-20T18:32:47.373366Z"
    }
   },
   "outputs": [
    {
     "data": {
      "text/plain": [
       "((298, 17), (75, 17))"
      ]
     },
     "execution_count": 114,
     "metadata": {},
     "output_type": "execute_result"
    }
   ],
   "source": [
    "X_train.shape , X_test.shape"
   ]
  },
  {
   "cell_type": "markdown",
   "metadata": {},
   "source": [
    "### 1) Missing Value Imputation\n",
    "- by Median Imputation method"
   ]
  },
  {
   "cell_type": "code",
   "execution_count": 115,
   "metadata": {
    "execution": {
     "iopub.execute_input": "2022-02-20T18:32:47.385758Z",
     "iopub.status.busy": "2022-02-20T18:32:47.384900Z",
     "iopub.status.idle": "2022-02-20T18:32:47.403897Z",
     "shell.execute_reply": "2022-02-20T18:32:47.403082Z",
     "shell.execute_reply.started": "2022-02-20T18:32:47.385720Z"
    },
    "scrolled": true
   },
   "outputs": [
    {
     "data": {
      "text/plain": [
       "SES     0.053691\n",
       "MMSE    0.006711\n",
       "dtype: float64"
      ]
     },
     "execution_count": 115,
     "metadata": {},
     "output_type": "execute_result"
    }
   ],
   "source": [
    "missing_variables = [feature for feature in df.columns if df[feature].isnull().sum()>0]\n",
    "X_train[missing_variables].isnull().mean()"
   ]
  },
  {
   "cell_type": "markdown",
   "metadata": {},
   "source": [
    "So SES has 5% of missing values and MMSE has .05% of missign values"
   ]
  },
  {
   "cell_type": "code",
   "execution_count": 116,
   "metadata": {
    "execution": {
     "iopub.execute_input": "2022-02-20T18:32:47.405637Z",
     "iopub.status.busy": "2022-02-20T18:32:47.405292Z",
     "iopub.status.idle": "2022-02-20T18:32:47.418546Z",
     "shell.execute_reply": "2022-02-20T18:32:47.417646Z",
     "shell.execute_reply.started": "2022-02-20T18:32:47.405585Z"
    }
   },
   "outputs": [],
   "source": [
    "median_SES = X_train['SES'].median()\n",
    "X_train['SES_imputed'] = X_train['SES'].fillna(median_SES)\n",
    "X_test['SES_imputed'] = X_test['SES'].fillna(median_SES)"
   ]
  },
  {
   "cell_type": "code",
   "execution_count": 117,
   "metadata": {
    "execution": {
     "iopub.execute_input": "2022-02-20T18:32:47.420818Z",
     "iopub.status.busy": "2022-02-20T18:32:47.419957Z",
     "iopub.status.idle": "2022-02-20T18:32:47.434316Z",
     "shell.execute_reply": "2022-02-20T18:32:47.433662Z",
     "shell.execute_reply.started": "2022-02-20T18:32:47.420770Z"
    }
   },
   "outputs": [],
   "source": [
    "median_MMSE = df['MMSE'].median()\n",
    "X_train['MMSE_imputed'] = df['MMSE'].fillna(median_MMSE)\n",
    "X_test['MMSE_imputed'] = X_test['MMSE'].fillna(median_SES)"
   ]
  },
  {
   "cell_type": "markdown",
   "metadata": {},
   "source": [
    "2 New variables Created for the analysis and it later will be removed"
   ]
  },
  {
   "cell_type": "code",
   "execution_count": 118,
   "metadata": {
    "execution": {
     "iopub.execute_input": "2022-02-20T18:32:47.436389Z",
     "iopub.status.busy": "2022-02-20T18:32:47.435523Z",
     "iopub.status.idle": "2022-02-20T18:32:47.466966Z",
     "shell.execute_reply": "2022-02-20T18:32:47.466110Z",
     "shell.execute_reply.started": "2022-02-20T18:32:47.436354Z"
    }
   },
   "outputs": [
    {
     "data": {
      "text/html": [
       "<div>\n",
       "<style scoped>\n",
       "    .dataframe tbody tr th:only-of-type {\n",
       "        vertical-align: middle;\n",
       "    }\n",
       "\n",
       "    .dataframe tbody tr th {\n",
       "        vertical-align: top;\n",
       "    }\n",
       "\n",
       "    .dataframe thead th {\n",
       "        text-align: right;\n",
       "    }\n",
       "</style>\n",
       "<table border=\"1\" class=\"dataframe\">\n",
       "  <thead>\n",
       "    <tr style=\"text-align: right;\">\n",
       "      <th></th>\n",
       "      <th>Subject ID</th>\n",
       "      <th>MRI ID</th>\n",
       "      <th>Visit</th>\n",
       "      <th>MR Delay</th>\n",
       "      <th>Hand</th>\n",
       "      <th>Age</th>\n",
       "      <th>EDUC</th>\n",
       "      <th>SES</th>\n",
       "      <th>MMSE</th>\n",
       "      <th>eTIV</th>\n",
       "      <th>nWBV</th>\n",
       "      <th>ASF</th>\n",
       "      <th>Converted</th>\n",
       "      <th>Demented</th>\n",
       "      <th>Nondemented</th>\n",
       "      <th>F</th>\n",
       "      <th>M</th>\n",
       "      <th>SES_imputed</th>\n",
       "      <th>MMSE_imputed</th>\n",
       "    </tr>\n",
       "  </thead>\n",
       "  <tbody>\n",
       "    <tr>\n",
       "      <th>225</th>\n",
       "      <td>OAS2_0106</td>\n",
       "      <td>OAS2_0106_MR1</td>\n",
       "      <td>1</td>\n",
       "      <td>0</td>\n",
       "      <td>R</td>\n",
       "      <td>70</td>\n",
       "      <td>11</td>\n",
       "      <td>4.0</td>\n",
       "      <td>22.0</td>\n",
       "      <td>1445</td>\n",
       "      <td>0.722</td>\n",
       "      <td>1.214</td>\n",
       "      <td>0</td>\n",
       "      <td>1</td>\n",
       "      <td>0</td>\n",
       "      <td>1</td>\n",
       "      <td>0</td>\n",
       "      <td>4.0</td>\n",
       "      <td>22.0</td>\n",
       "    </tr>\n",
       "    <tr>\n",
       "      <th>100</th>\n",
       "      <td>OAS2_0048</td>\n",
       "      <td>OAS2_0048_MR4</td>\n",
       "      <td>4</td>\n",
       "      <td>970</td>\n",
       "      <td>R</td>\n",
       "      <td>68</td>\n",
       "      <td>16</td>\n",
       "      <td>1.0</td>\n",
       "      <td>7.0</td>\n",
       "      <td>1714</td>\n",
       "      <td>0.682</td>\n",
       "      <td>1.024</td>\n",
       "      <td>0</td>\n",
       "      <td>1</td>\n",
       "      <td>0</td>\n",
       "      <td>0</td>\n",
       "      <td>1</td>\n",
       "      <td>1.0</td>\n",
       "      <td>7.0</td>\n",
       "    </tr>\n",
       "    <tr>\n",
       "      <th>270</th>\n",
       "      <td>OAS2_0129</td>\n",
       "      <td>OAS2_0129_MR3</td>\n",
       "      <td>3</td>\n",
       "      <td>1591</td>\n",
       "      <td>R</td>\n",
       "      <td>82</td>\n",
       "      <td>18</td>\n",
       "      <td>1.0</td>\n",
       "      <td>29.0</td>\n",
       "      <td>1442</td>\n",
       "      <td>0.644</td>\n",
       "      <td>1.217</td>\n",
       "      <td>0</td>\n",
       "      <td>0</td>\n",
       "      <td>1</td>\n",
       "      <td>1</td>\n",
       "      <td>0</td>\n",
       "      <td>1.0</td>\n",
       "      <td>29.0</td>\n",
       "    </tr>\n",
       "    <tr>\n",
       "      <th>108</th>\n",
       "      <td>OAS2_0051</td>\n",
       "      <td>OAS2_0051_MR2</td>\n",
       "      <td>2</td>\n",
       "      <td>457</td>\n",
       "      <td>R</td>\n",
       "      <td>94</td>\n",
       "      <td>23</td>\n",
       "      <td>1.0</td>\n",
       "      <td>29.0</td>\n",
       "      <td>1474</td>\n",
       "      <td>0.696</td>\n",
       "      <td>1.190</td>\n",
       "      <td>0</td>\n",
       "      <td>0</td>\n",
       "      <td>1</td>\n",
       "      <td>1</td>\n",
       "      <td>0</td>\n",
       "      <td>1.0</td>\n",
       "      <td>29.0</td>\n",
       "    </tr>\n",
       "    <tr>\n",
       "      <th>344</th>\n",
       "      <td>OAS2_0175</td>\n",
       "      <td>OAS2_0175_MR2</td>\n",
       "      <td>2</td>\n",
       "      <td>700</td>\n",
       "      <td>R</td>\n",
       "      <td>72</td>\n",
       "      <td>16</td>\n",
       "      <td>4.0</td>\n",
       "      <td>28.0</td>\n",
       "      <td>1796</td>\n",
       "      <td>0.732</td>\n",
       "      <td>0.977</td>\n",
       "      <td>0</td>\n",
       "      <td>1</td>\n",
       "      <td>0</td>\n",
       "      <td>0</td>\n",
       "      <td>1</td>\n",
       "      <td>4.0</td>\n",
       "      <td>28.0</td>\n",
       "    </tr>\n",
       "  </tbody>\n",
       "</table>\n",
       "</div>"
      ],
      "text/plain": [
       "    Subject ID         MRI ID  Visit  MR Delay Hand  Age  EDUC  SES  MMSE  \\\n",
       "225  OAS2_0106  OAS2_0106_MR1      1         0    R   70    11  4.0  22.0   \n",
       "100  OAS2_0048  OAS2_0048_MR4      4       970    R   68    16  1.0   7.0   \n",
       "270  OAS2_0129  OAS2_0129_MR3      3      1591    R   82    18  1.0  29.0   \n",
       "108  OAS2_0051  OAS2_0051_MR2      2       457    R   94    23  1.0  29.0   \n",
       "344  OAS2_0175  OAS2_0175_MR2      2       700    R   72    16  4.0  28.0   \n",
       "\n",
       "     eTIV   nWBV    ASF  Converted  Demented  Nondemented  F  M  SES_imputed  \\\n",
       "225  1445  0.722  1.214          0         1            0  1  0          4.0   \n",
       "100  1714  0.682  1.024          0         1            0  0  1          1.0   \n",
       "270  1442  0.644  1.217          0         0            1  1  0          1.0   \n",
       "108  1474  0.696  1.190          0         0            1  1  0          1.0   \n",
       "344  1796  0.732  0.977          0         1            0  0  1          4.0   \n",
       "\n",
       "     MMSE_imputed  \n",
       "225          22.0  \n",
       "100           7.0  \n",
       "270          29.0  \n",
       "108          29.0  \n",
       "344          28.0  "
      ]
     },
     "execution_count": 118,
     "metadata": {},
     "output_type": "execute_result"
    }
   ],
   "source": [
    "X_train.head()"
   ]
  },
  {
   "cell_type": "code",
   "execution_count": 119,
   "metadata": {
    "execution": {
     "iopub.execute_input": "2022-02-20T18:32:47.469751Z",
     "iopub.status.busy": "2022-02-20T18:32:47.468273Z",
     "iopub.status.idle": "2022-02-20T18:32:47.497744Z",
     "shell.execute_reply": "2022-02-20T18:32:47.496843Z",
     "shell.execute_reply.started": "2022-02-20T18:32:47.469703Z"
    }
   },
   "outputs": [
    {
     "data": {
      "text/html": [
       "<div>\n",
       "<style scoped>\n",
       "    .dataframe tbody tr th:only-of-type {\n",
       "        vertical-align: middle;\n",
       "    }\n",
       "\n",
       "    .dataframe tbody tr th {\n",
       "        vertical-align: top;\n",
       "    }\n",
       "\n",
       "    .dataframe thead th {\n",
       "        text-align: right;\n",
       "    }\n",
       "</style>\n",
       "<table border=\"1\" class=\"dataframe\">\n",
       "  <thead>\n",
       "    <tr style=\"text-align: right;\">\n",
       "      <th></th>\n",
       "      <th>Subject ID</th>\n",
       "      <th>MRI ID</th>\n",
       "      <th>Visit</th>\n",
       "      <th>MR Delay</th>\n",
       "      <th>Hand</th>\n",
       "      <th>Age</th>\n",
       "      <th>EDUC</th>\n",
       "      <th>SES</th>\n",
       "      <th>MMSE</th>\n",
       "      <th>eTIV</th>\n",
       "      <th>nWBV</th>\n",
       "      <th>ASF</th>\n",
       "      <th>Converted</th>\n",
       "      <th>Demented</th>\n",
       "      <th>Nondemented</th>\n",
       "      <th>F</th>\n",
       "      <th>M</th>\n",
       "      <th>SES_imputed</th>\n",
       "      <th>MMSE_imputed</th>\n",
       "    </tr>\n",
       "  </thead>\n",
       "  <tbody>\n",
       "    <tr>\n",
       "      <th>173</th>\n",
       "      <td>OAS2_0079</td>\n",
       "      <td>OAS2_0079_MR3</td>\n",
       "      <td>3</td>\n",
       "      <td>1435</td>\n",
       "      <td>R</td>\n",
       "      <td>73</td>\n",
       "      <td>12</td>\n",
       "      <td>4.0</td>\n",
       "      <td>16.0</td>\n",
       "      <td>1478</td>\n",
       "      <td>0.696</td>\n",
       "      <td>1.188</td>\n",
       "      <td>0</td>\n",
       "      <td>1</td>\n",
       "      <td>0</td>\n",
       "      <td>1</td>\n",
       "      <td>0</td>\n",
       "      <td>4.0</td>\n",
       "      <td>16.0</td>\n",
       "    </tr>\n",
       "    <tr>\n",
       "      <th>205</th>\n",
       "      <td>OAS2_0098</td>\n",
       "      <td>OAS2_0098_MR1</td>\n",
       "      <td>1</td>\n",
       "      <td>0</td>\n",
       "      <td>R</td>\n",
       "      <td>66</td>\n",
       "      <td>12</td>\n",
       "      <td>4.0</td>\n",
       "      <td>30.0</td>\n",
       "      <td>1446</td>\n",
       "      <td>0.780</td>\n",
       "      <td>1.214</td>\n",
       "      <td>0</td>\n",
       "      <td>1</td>\n",
       "      <td>0</td>\n",
       "      <td>0</td>\n",
       "      <td>1</td>\n",
       "      <td>4.0</td>\n",
       "      <td>30.0</td>\n",
       "    </tr>\n",
       "    <tr>\n",
       "      <th>70</th>\n",
       "      <td>OAS2_0036</td>\n",
       "      <td>OAS2_0036_MR4</td>\n",
       "      <td>4</td>\n",
       "      <td>1770</td>\n",
       "      <td>R</td>\n",
       "      <td>73</td>\n",
       "      <td>13</td>\n",
       "      <td>4.0</td>\n",
       "      <td>30.0</td>\n",
       "      <td>1360</td>\n",
       "      <td>0.773</td>\n",
       "      <td>1.291</td>\n",
       "      <td>0</td>\n",
       "      <td>0</td>\n",
       "      <td>1</td>\n",
       "      <td>1</td>\n",
       "      <td>0</td>\n",
       "      <td>4.0</td>\n",
       "      <td>30.0</td>\n",
       "    </tr>\n",
       "    <tr>\n",
       "      <th>118</th>\n",
       "      <td>OAS2_0056</td>\n",
       "      <td>OAS2_0056_MR1</td>\n",
       "      <td>1</td>\n",
       "      <td>0</td>\n",
       "      <td>R</td>\n",
       "      <td>71</td>\n",
       "      <td>14</td>\n",
       "      <td>2.0</td>\n",
       "      <td>28.0</td>\n",
       "      <td>1461</td>\n",
       "      <td>0.756</td>\n",
       "      <td>1.202</td>\n",
       "      <td>0</td>\n",
       "      <td>0</td>\n",
       "      <td>1</td>\n",
       "      <td>1</td>\n",
       "      <td>0</td>\n",
       "      <td>2.0</td>\n",
       "      <td>28.0</td>\n",
       "    </tr>\n",
       "    <tr>\n",
       "      <th>32</th>\n",
       "      <td>OAS2_0017</td>\n",
       "      <td>OAS2_0017_MR5</td>\n",
       "      <td>5</td>\n",
       "      <td>2400</td>\n",
       "      <td>R</td>\n",
       "      <td>86</td>\n",
       "      <td>12</td>\n",
       "      <td>3.0</td>\n",
       "      <td>27.0</td>\n",
       "      <td>1813</td>\n",
       "      <td>0.761</td>\n",
       "      <td>0.968</td>\n",
       "      <td>0</td>\n",
       "      <td>0</td>\n",
       "      <td>1</td>\n",
       "      <td>0</td>\n",
       "      <td>1</td>\n",
       "      <td>3.0</td>\n",
       "      <td>27.0</td>\n",
       "    </tr>\n",
       "  </tbody>\n",
       "</table>\n",
       "</div>"
      ],
      "text/plain": [
       "    Subject ID         MRI ID  Visit  MR Delay Hand  Age  EDUC  SES  MMSE  \\\n",
       "173  OAS2_0079  OAS2_0079_MR3      3      1435    R   73    12  4.0  16.0   \n",
       "205  OAS2_0098  OAS2_0098_MR1      1         0    R   66    12  4.0  30.0   \n",
       "70   OAS2_0036  OAS2_0036_MR4      4      1770    R   73    13  4.0  30.0   \n",
       "118  OAS2_0056  OAS2_0056_MR1      1         0    R   71    14  2.0  28.0   \n",
       "32   OAS2_0017  OAS2_0017_MR5      5      2400    R   86    12  3.0  27.0   \n",
       "\n",
       "     eTIV   nWBV    ASF  Converted  Demented  Nondemented  F  M  SES_imputed  \\\n",
       "173  1478  0.696  1.188          0         1            0  1  0          4.0   \n",
       "205  1446  0.780  1.214          0         1            0  0  1          4.0   \n",
       "70   1360  0.773  1.291          0         0            1  1  0          4.0   \n",
       "118  1461  0.756  1.202          0         0            1  1  0          2.0   \n",
       "32   1813  0.761  0.968          0         0            1  0  1          3.0   \n",
       "\n",
       "     MMSE_imputed  \n",
       "173          16.0  \n",
       "205          30.0  \n",
       "70           30.0  \n",
       "118          28.0  \n",
       "32           27.0  "
      ]
     },
     "execution_count": 119,
     "metadata": {},
     "output_type": "execute_result"
    }
   ],
   "source": [
    "X_test.head()"
   ]
  },
  {
   "cell_type": "markdown",
   "metadata": {},
   "source": [
    "__Cheking out the distribution after imputation__"
   ]
  },
  {
   "cell_type": "code",
   "execution_count": 120,
   "metadata": {
    "execution": {
     "iopub.execute_input": "2022-02-20T18:32:47.499889Z",
     "iopub.status.busy": "2022-02-20T18:32:47.499357Z",
     "iopub.status.idle": "2022-02-20T18:32:47.833316Z",
     "shell.execute_reply": "2022-02-20T18:32:47.832665Z",
     "shell.execute_reply.started": "2022-02-20T18:32:47.499844Z"
    }
   },
   "outputs": [
    {
     "data": {
      "image/png": "[encoded data removed]",
      "text/plain": [
       "<Figure size 576x360 with 2 Axes>"
      ]
     },
     "metadata": {
      "needs_background": "light"
     },
     "output_type": "display_data"
    }
   ],
   "source": [
    "fig , ax = plt.subplots(figsize=(8,5))\n",
    "ax2=ax.twinx()\n",
    "\n",
    "X_train['SES'].plot.density(color='red' , label='Original Distribution')\n",
    "\n",
    "X_train['SES_imputed'].plot.density(color='blue' , label='Imputed Distribution')\n",
    "\n",
    "plt.legend()\n",
    "plt.title('SES')\n",
    "plt.show()"
   ]
  },
  {
   "cell_type": "code",
   "execution_count": 121,
   "metadata": {
    "execution": {
     "iopub.execute_input": "2022-02-20T18:32:47.834879Z",
     "iopub.status.busy": "2022-02-20T18:32:47.834520Z",
     "iopub.status.idle": "2022-02-20T18:32:48.148498Z",
     "shell.execute_reply": "2022-02-20T18:32:48.147781Z",
     "shell.execute_reply.started": "2022-02-20T18:32:47.834841Z"
    }
   },
   "outputs": [
    {
     "data": {
      "image/png": "[encoded data removed]",
      "text/plain": [
       "<Figure size 576x360 with 2 Axes>"
      ]
     },
     "metadata": {
      "needs_background": "light"
     },
     "output_type": "display_data"
    }
   ],
   "source": [
    "fig , ax = plt.subplots(figsize=(8,5))\n",
    "ax2=ax.twinx()\n",
    "\n",
    "X_train['MMSE'].plot.density(color='red' , label='Original Distribution')\n",
    "\n",
    "X_train['MMSE_imputed'].plot.density(color='blue' , label='Imputed Distribution')\n",
    "\n",
    "plt.legend()\n",
    "plt.title('MMSE')\n",
    "plt.show()"
   ]
  },
  {
   "cell_type": "markdown",
   "metadata": {},
   "source": [
    "We can see the there is the distortion of the original varible distribution in Variable `SSE` as the missing data is 5%.\n",
    "\n",
    "But not in the `MMSE` variable"
   ]
  },
  {
   "cell_type": "markdown",
   "metadata": {},
   "source": [
    "__Variance__"
   ]
  },
  {
   "cell_type": "code",
   "execution_count": 122,
   "metadata": {
    "execution": {
     "iopub.execute_input": "2022-02-20T18:32:48.149995Z",
     "iopub.status.busy": "2022-02-20T18:32:48.149642Z",
     "iopub.status.idle": "2022-02-20T18:32:48.156224Z",
     "shell.execute_reply": "2022-02-20T18:32:48.155269Z",
     "shell.execute_reply.started": "2022-02-20T18:32:48.149965Z"
    }
   },
   "outputs": [
    {
     "data": {
      "text/plain": [
       "(1.331213245501123, 1.2703319548957133)"
      ]
     },
     "execution_count": 122,
     "metadata": {},
     "output_type": "execute_result"
    }
   ],
   "source": [
    "X_train['SES'].var() , X_train['SES_imputed'].var()  \n",
    "# so we can also see the change in the variance"
   ]
  },
  {
   "cell_type": "code",
   "execution_count": 123,
   "metadata": {
    "execution": {
     "iopub.execute_input": "2022-02-20T18:32:48.158022Z",
     "iopub.status.busy": "2022-02-20T18:32:48.157782Z",
     "iopub.status.idle": "2022-02-20T18:32:48.173598Z",
     "shell.execute_reply": "2022-02-20T18:32:48.172597Z",
     "shell.execute_reply.started": "2022-02-20T18:32:48.157994Z"
    }
   },
   "outputs": [
    {
     "data": {
      "text/plain": [
       "(14.179374713696708, 14.104772557792709)"
      ]
     },
     "execution_count": 123,
     "metadata": {},
     "output_type": "execute_result"
    }
   ],
   "source": [
    "X_train['MMSE'].var() , X_train['MMSE_imputed'].var()  \n",
    "# almost same "
   ]
  },
  {
   "cell_type": "markdown",
   "metadata": {},
   "source": [
    "__Covariance__"
   ]
  },
  {
   "cell_type": "code",
   "execution_count": 124,
   "metadata": {
    "execution": {
     "iopub.execute_input": "2022-02-20T18:32:48.175058Z",
     "iopub.status.busy": "2022-02-20T18:32:48.174737Z",
     "iopub.status.idle": "2022-02-20T18:32:48.216488Z",
     "shell.execute_reply": "2022-02-20T18:32:48.215328Z",
     "shell.execute_reply.started": "2022-02-20T18:32:48.175024Z"
    }
   },
   "outputs": [
    {
     "data": {
      "text/html": [
       "<div>\n",
       "<style scoped>\n",
       "    .dataframe tbody tr th:only-of-type {\n",
       "        vertical-align: middle;\n",
       "    }\n",
       "\n",
       "    .dataframe tbody tr th {\n",
       "        vertical-align: top;\n",
       "    }\n",
       "\n",
       "    .dataframe thead th {\n",
       "        text-align: right;\n",
       "    }\n",
       "</style>\n",
       "<table border=\"1\" class=\"dataframe\">\n",
       "  <thead>\n",
       "    <tr style=\"text-align: right;\">\n",
       "      <th></th>\n",
       "      <th>Visit</th>\n",
       "      <th>MR Delay</th>\n",
       "      <th>Age</th>\n",
       "      <th>EDUC</th>\n",
       "      <th>SES</th>\n",
       "      <th>MMSE</th>\n",
       "      <th>eTIV</th>\n",
       "      <th>nWBV</th>\n",
       "      <th>ASF</th>\n",
       "      <th>Converted</th>\n",
       "      <th>Demented</th>\n",
       "      <th>Nondemented</th>\n",
       "      <th>F</th>\n",
       "      <th>M</th>\n",
       "      <th>SES_imputed</th>\n",
       "      <th>MMSE_imputed</th>\n",
       "    </tr>\n",
       "  </thead>\n",
       "  <tbody>\n",
       "    <tr>\n",
       "      <th>Visit</th>\n",
       "      <td>0.811968</td>\n",
       "      <td>515.336271</td>\n",
       "      <td>0.886358</td>\n",
       "      <td>0.087678</td>\n",
       "      <td>-0.042503</td>\n",
       "      <td>-0.104776</td>\n",
       "      <td>20.697015</td>\n",
       "      <td>-0.003238</td>\n",
       "      <td>-0.017401</td>\n",
       "      <td>0.003638</td>\n",
       "      <td>-0.044042</td>\n",
       "      <td>0.040404</td>\n",
       "      <td>-0.028021</td>\n",
       "      <td>0.028021</td>\n",
       "      <td>-0.041828</td>\n",
       "      <td>-0.096604</td>\n",
       "    </tr>\n",
       "    <tr>\n",
       "      <th>MR Delay</th>\n",
       "      <td>515.336271</td>\n",
       "      <td>395815.868676</td>\n",
       "      <td>730.822102</td>\n",
       "      <td>97.291427</td>\n",
       "      <td>-3.478181</td>\n",
       "      <td>188.181688</td>\n",
       "      <td>15685.625201</td>\n",
       "      <td>-1.388775</td>\n",
       "      <td>-13.121528</td>\n",
       "      <td>8.424604</td>\n",
       "      <td>-49.513830</td>\n",
       "      <td>41.089226</td>\n",
       "      <td>-12.570470</td>\n",
       "      <td>12.570470</td>\n",
       "      <td>-1.712336</td>\n",
       "      <td>189.603518</td>\n",
       "    </tr>\n",
       "    <tr>\n",
       "      <th>Age</th>\n",
       "      <td>0.886358</td>\n",
       "      <td>730.822102</td>\n",
       "      <td>56.575565</td>\n",
       "      <td>-1.316939</td>\n",
       "      <td>-0.309508</td>\n",
       "      <td>1.980039</td>\n",
       "      <td>28.469550</td>\n",
       "      <td>-0.136960</td>\n",
       "      <td>-0.015140</td>\n",
       "      <td>0.268479</td>\n",
       "      <td>-0.303833</td>\n",
       "      <td>0.035354</td>\n",
       "      <td>0.316656</td>\n",
       "      <td>-0.316656</td>\n",
       "      <td>-0.284094</td>\n",
       "      <td>1.952851</td>\n",
       "    </tr>\n",
       "    <tr>\n",
       "      <th>EDUC</th>\n",
       "      <td>0.087678</td>\n",
       "      <td>97.291427</td>\n",
       "      <td>-1.316939</td>\n",
       "      <td>8.409565</td>\n",
       "      <td>-2.435173</td>\n",
       "      <td>1.883406</td>\n",
       "      <td>143.208912</td>\n",
       "      <td>-0.001161</td>\n",
       "      <td>-0.106553</td>\n",
       "      <td>0.088491</td>\n",
       "      <td>-0.369636</td>\n",
       "      <td>0.281145</td>\n",
       "      <td>-0.121641</td>\n",
       "      <td>0.121641</td>\n",
       "      <td>-2.259191</td>\n",
       "      <td>1.840339</td>\n",
       "    </tr>\n",
       "    <tr>\n",
       "      <th>SES</th>\n",
       "      <td>-0.042503</td>\n",
       "      <td>-3.478181</td>\n",
       "      <td>-0.309508</td>\n",
       "      <td>-2.435173</td>\n",
       "      <td>1.331213</td>\n",
       "      <td>-0.571969</td>\n",
       "      <td>-54.256076</td>\n",
       "      <td>0.003587</td>\n",
       "      <td>0.041696</td>\n",
       "      <td>-0.077408</td>\n",
       "      <td>0.111885</td>\n",
       "      <td>-0.034477</td>\n",
       "      <td>0.011812</td>\n",
       "      <td>-0.011812</td>\n",
       "      <td>1.331213</td>\n",
       "      <td>-0.571969</td>\n",
       "    </tr>\n",
       "    <tr>\n",
       "      <th>MMSE</th>\n",
       "      <td>-0.104776</td>\n",
       "      <td>188.181688</td>\n",
       "      <td>1.980039</td>\n",
       "      <td>1.883406</td>\n",
       "      <td>-0.571969</td>\n",
       "      <td>14.179375</td>\n",
       "      <td>-12.680486</td>\n",
       "      <td>0.050360</td>\n",
       "      <td>0.014042</td>\n",
       "      <td>0.154375</td>\n",
       "      <td>-1.172229</td>\n",
       "      <td>1.017854</td>\n",
       "      <td>0.365552</td>\n",
       "      <td>-0.365552</td>\n",
       "      <td>-0.516285</td>\n",
       "      <td>14.179375</td>\n",
       "    </tr>\n",
       "    <tr>\n",
       "      <th>eTIV</th>\n",
       "      <td>20.697015</td>\n",
       "      <td>15685.625201</td>\n",
       "      <td>28.469550</td>\n",
       "      <td>143.208912</td>\n",
       "      <td>-54.256076</td>\n",
       "      <td>-12.680486</td>\n",
       "      <td>30800.405215</td>\n",
       "      <td>-1.176455</td>\n",
       "      <td>-23.828714</td>\n",
       "      <td>-2.050189</td>\n",
       "      <td>-0.831966</td>\n",
       "      <td>2.882155</td>\n",
       "      <td>-46.432242</td>\n",
       "      <td>46.432242</td>\n",
       "      <td>-49.979775</td>\n",
       "      <td>-16.410684</td>\n",
       "    </tr>\n",
       "    <tr>\n",
       "      <th>nWBV</th>\n",
       "      <td>-0.003238</td>\n",
       "      <td>-1.388775</td>\n",
       "      <td>-0.136960</td>\n",
       "      <td>-0.001161</td>\n",
       "      <td>0.003587</td>\n",
       "      <td>0.050360</td>\n",
       "      <td>-1.176455</td>\n",
       "      <td>0.001368</td>\n",
       "      <td>0.000923</td>\n",
       "      <td>-0.000390</td>\n",
       "      <td>-0.005039</td>\n",
       "      <td>0.005429</td>\n",
       "      <td>0.003876</td>\n",
       "      <td>-0.003876</td>\n",
       "      <td>0.003550</td>\n",
       "      <td>0.050113</td>\n",
       "    </tr>\n",
       "    <tr>\n",
       "      <th>ASF</th>\n",
       "      <td>-0.017401</td>\n",
       "      <td>-13.121528</td>\n",
       "      <td>-0.015140</td>\n",
       "      <td>-0.106553</td>\n",
       "      <td>0.041696</td>\n",
       "      <td>0.014042</td>\n",
       "      <td>-23.828714</td>\n",
       "      <td>0.000923</td>\n",
       "      <td>0.018866</td>\n",
       "      <td>0.000948</td>\n",
       "      <td>0.000803</td>\n",
       "      <td>-0.001751</td>\n",
       "      <td>0.035655</td>\n",
       "      <td>-0.035655</td>\n",
       "      <td>0.038284</td>\n",
       "      <td>0.017635</td>\n",
       "    </tr>\n",
       "    <tr>\n",
       "      <th>Converted</th>\n",
       "      <td>0.003638</td>\n",
       "      <td>8.424604</td>\n",
       "      <td>0.268479</td>\n",
       "      <td>0.088491</td>\n",
       "      <td>-0.077408</td>\n",
       "      <td>0.154375</td>\n",
       "      <td>-2.050189</td>\n",
       "      <td>-0.000390</td>\n",
       "      <td>0.000948</td>\n",
       "      <td>0.096174</td>\n",
       "      <td>-0.042302</td>\n",
       "      <td>-0.053872</td>\n",
       "      <td>0.009242</td>\n",
       "      <td>-0.009242</td>\n",
       "      <td>-0.070571</td>\n",
       "      <td>0.152057</td>\n",
       "    </tr>\n",
       "    <tr>\n",
       "      <th>Demented</th>\n",
       "      <td>-0.044042</td>\n",
       "      <td>-49.513830</td>\n",
       "      <td>-0.303833</td>\n",
       "      <td>-0.369636</td>\n",
       "      <td>0.111885</td>\n",
       "      <td>-1.172229</td>\n",
       "      <td>-0.831966</td>\n",
       "      <td>-0.005039</td>\n",
       "      <td>0.000803</td>\n",
       "      <td>-0.042302</td>\n",
       "      <td>0.239272</td>\n",
       "      <td>-0.196970</td>\n",
       "      <td>-0.069848</td>\n",
       "      <td>0.069848</td>\n",
       "      <td>0.090774</td>\n",
       "      <td>-1.157108</td>\n",
       "    </tr>\n",
       "    <tr>\n",
       "      <th>Nondemented</th>\n",
       "      <td>0.040404</td>\n",
       "      <td>41.089226</td>\n",
       "      <td>0.035354</td>\n",
       "      <td>0.281145</td>\n",
       "      <td>-0.034477</td>\n",
       "      <td>1.017854</td>\n",
       "      <td>2.882155</td>\n",
       "      <td>0.005429</td>\n",
       "      <td>-0.001751</td>\n",
       "      <td>-0.053872</td>\n",
       "      <td>-0.196970</td>\n",
       "      <td>0.250842</td>\n",
       "      <td>0.060606</td>\n",
       "      <td>-0.060606</td>\n",
       "      <td>-0.020202</td>\n",
       "      <td>1.005051</td>\n",
       "    </tr>\n",
       "    <tr>\n",
       "      <th>F</th>\n",
       "      <td>-0.028021</td>\n",
       "      <td>-12.570470</td>\n",
       "      <td>0.316656</td>\n",
       "      <td>-0.121641</td>\n",
       "      <td>0.011812</td>\n",
       "      <td>0.365552</td>\n",
       "      <td>-46.432242</td>\n",
       "      <td>0.003876</td>\n",
       "      <td>0.035655</td>\n",
       "      <td>0.009242</td>\n",
       "      <td>-0.069848</td>\n",
       "      <td>0.060606</td>\n",
       "      <td>0.245859</td>\n",
       "      <td>-0.245859</td>\n",
       "      <td>0.012926</td>\n",
       "      <td>0.368201</td>\n",
       "    </tr>\n",
       "    <tr>\n",
       "      <th>M</th>\n",
       "      <td>0.028021</td>\n",
       "      <td>12.570470</td>\n",
       "      <td>-0.316656</td>\n",
       "      <td>0.121641</td>\n",
       "      <td>-0.011812</td>\n",
       "      <td>-0.365552</td>\n",
       "      <td>46.432242</td>\n",
       "      <td>-0.003876</td>\n",
       "      <td>-0.035655</td>\n",
       "      <td>-0.009242</td>\n",
       "      <td>0.069848</td>\n",
       "      <td>-0.060606</td>\n",
       "      <td>-0.245859</td>\n",
       "      <td>0.245859</td>\n",
       "      <td>-0.012926</td>\n",
       "      <td>-0.368201</td>\n",
       "    </tr>\n",
       "    <tr>\n",
       "      <th>SES_imputed</th>\n",
       "      <td>-0.041828</td>\n",
       "      <td>-1.712336</td>\n",
       "      <td>-0.284094</td>\n",
       "      <td>-2.259191</td>\n",
       "      <td>1.331213</td>\n",
       "      <td>-0.516285</td>\n",
       "      <td>-49.979775</td>\n",
       "      <td>0.003550</td>\n",
       "      <td>0.038284</td>\n",
       "      <td>-0.070571</td>\n",
       "      <td>0.090774</td>\n",
       "      <td>-0.020202</td>\n",
       "      <td>0.012926</td>\n",
       "      <td>-0.012926</td>\n",
       "      <td>1.270332</td>\n",
       "      <td>-0.517999</td>\n",
       "    </tr>\n",
       "    <tr>\n",
       "      <th>MMSE_imputed</th>\n",
       "      <td>-0.096604</td>\n",
       "      <td>189.603518</td>\n",
       "      <td>1.952851</td>\n",
       "      <td>1.840339</td>\n",
       "      <td>-0.571969</td>\n",
       "      <td>14.179375</td>\n",
       "      <td>-16.410684</td>\n",
       "      <td>0.050113</td>\n",
       "      <td>0.017635</td>\n",
       "      <td>0.152057</td>\n",
       "      <td>-1.157108</td>\n",
       "      <td>1.005051</td>\n",
       "      <td>0.368201</td>\n",
       "      <td>-0.368201</td>\n",
       "      <td>-0.517999</td>\n",
       "      <td>14.104773</td>\n",
       "    </tr>\n",
       "  </tbody>\n",
       "</table>\n",
       "</div>"
      ],
      "text/plain": [
       "                   Visit       MR Delay         Age        EDUC        SES  \\\n",
       "Visit           0.811968     515.336271    0.886358    0.087678  -0.042503   \n",
       "MR Delay      515.336271  395815.868676  730.822102   97.291427  -3.478181   \n",
       "Age             0.886358     730.822102   56.575565   -1.316939  -0.309508   \n",
       "EDUC            0.087678      97.291427   -1.316939    8.409565  -2.435173   \n",
       "SES            -0.042503      -3.478181   -0.309508   -2.435173   1.331213   \n",
       "MMSE           -0.104776     188.181688    1.980039    1.883406  -0.571969   \n",
       "eTIV           20.697015   15685.625201   28.469550  143.208912 -54.256076   \n",
       "nWBV           -0.003238      -1.388775   -0.136960   -0.001161   0.003587   \n",
       "ASF            -0.017401     -13.121528   -0.015140   -0.106553   0.041696   \n",
       "Converted       0.003638       8.424604    0.268479    0.088491  -0.077408   \n",
       "Demented       -0.044042     -49.513830   -0.303833   -0.369636   0.111885   \n",
       "Nondemented     0.040404      41.089226    0.035354    0.281145  -0.034477   \n",
       "F              -0.028021     -12.570470    0.316656   -0.121641   0.011812   \n",
       "M               0.028021      12.570470   -0.316656    0.121641  -0.011812   \n",
       "SES_imputed    -0.041828      -1.712336   -0.284094   -2.259191   1.331213   \n",
       "MMSE_imputed   -0.096604     189.603518    1.952851    1.840339  -0.571969   \n",
       "\n",
       "                    MMSE          eTIV      nWBV        ASF  Converted  \\\n",
       "Visit          -0.104776     20.697015 -0.003238  -0.017401   0.003638   \n",
       "MR Delay      188.181688  15685.625201 -1.388775 -13.121528   8.424604   \n",
       "Age             1.980039     28.469550 -0.136960  -0.015140   0.268479   \n",
       "EDUC            1.883406    143.208912 -0.001161  -0.106553   0.088491   \n",
       "SES            -0.571969    -54.256076  0.003587   0.041696  -0.077408   \n",
       "MMSE           14.179375    -12.680486  0.050360   0.014042   0.154375   \n",
       "eTIV          -12.680486  30800.405215 -1.176455 -23.828714  -2.050189   \n",
       "nWBV            0.050360     -1.176455  0.001368   0.000923  -0.000390   \n",
       "ASF             0.014042    -23.828714  0.000923   0.018866   0.000948   \n",
       "Converted       0.154375     -2.050189 -0.000390   0.000948   0.096174   \n",
       "Demented       -1.172229     -0.831966 -0.005039   0.000803  -0.042302   \n",
       "Nondemented     1.017854      2.882155  0.005429  -0.001751  -0.053872   \n",
       "F               0.365552    -46.432242  0.003876   0.035655   0.009242   \n",
       "M              -0.365552     46.432242 -0.003876  -0.035655  -0.009242   \n",
       "SES_imputed    -0.516285    -49.979775  0.003550   0.038284  -0.070571   \n",
       "MMSE_imputed   14.179375    -16.410684  0.050113   0.017635   0.152057   \n",
       "\n",
       "               Demented  Nondemented          F          M  SES_imputed  \\\n",
       "Visit         -0.044042     0.040404  -0.028021   0.028021    -0.041828   \n",
       "MR Delay     -49.513830    41.089226 -12.570470  12.570470    -1.712336   \n",
       "Age           -0.303833     0.035354   0.316656  -0.316656    -0.284094   \n",
       "EDUC          -0.369636     0.281145  -0.121641   0.121641    -2.259191   \n",
       "SES            0.111885    -0.034477   0.011812  -0.011812     1.331213   \n",
       "MMSE          -1.172229     1.017854   0.365552  -0.365552    -0.516285   \n",
       "eTIV          -0.831966     2.882155 -46.432242  46.432242   -49.979775   \n",
       "nWBV          -0.005039     0.005429   0.003876  -0.003876     0.003550   \n",
       "ASF            0.000803    -0.001751   0.035655  -0.035655     0.038284   \n",
       "Converted     -0.042302    -0.053872   0.009242  -0.009242    -0.070571   \n",
       "Demented       0.239272    -0.196970  -0.069848   0.069848     0.090774   \n",
       "Nondemented   -0.196970     0.250842   0.060606  -0.060606    -0.020202   \n",
       "F             -0.069848     0.060606   0.245859  -0.245859     0.012926   \n",
       "M              0.069848    -0.060606  -0.245859   0.245859    -0.012926   \n",
       "SES_imputed    0.090774    -0.020202   0.012926  -0.012926     1.270332   \n",
       "MMSE_imputed  -1.157108     1.005051   0.368201  -0.368201    -0.517999   \n",
       "\n",
       "              MMSE_imputed  \n",
       "Visit            -0.096604  \n",
       "MR Delay        189.603518  \n",
       "Age               1.952851  \n",
       "EDUC              1.840339  \n",
       "SES              -0.571969  \n",
       "MMSE             14.179375  \n",
       "eTIV            -16.410684  \n",
       "nWBV              0.050113  \n",
       "ASF               0.017635  \n",
       "Converted         0.152057  \n",
       "Demented         -1.157108  \n",
       "Nondemented       1.005051  \n",
       "F                 0.368201  \n",
       "M                -0.368201  \n",
       "SES_imputed      -0.517999  \n",
       "MMSE_imputed     14.104773  "
      ]
     },
     "execution_count": 124,
     "metadata": {},
     "output_type": "execute_result"
    }
   ],
   "source": [
    "X_train.cov()"
   ]
  },
  {
   "cell_type": "markdown",
   "metadata": {},
   "source": [
    "We can see that Variable covariance is also changed for the `SES` variable but for the `MMSE` is almost same there is no change"
   ]
  },
  {
   "cell_type": "markdown",
   "metadata": {},
   "source": [
    "So after all the inferences derived after the imputation . We come to a conclusion to make the additional missing indicator for the variable `SES`"
   ]
  },
  {
   "cell_type": "code",
   "execution_count": 125,
   "metadata": {
    "execution": {
     "iopub.execute_input": "2022-02-20T18:32:48.218629Z",
     "iopub.status.busy": "2022-02-20T18:32:48.218278Z",
     "iopub.status.idle": "2022-02-20T18:32:48.225802Z",
     "shell.execute_reply": "2022-02-20T18:32:48.224755Z",
     "shell.execute_reply.started": "2022-02-20T18:32:48.218584Z"
    }
   },
   "outputs": [],
   "source": [
    "# 1 for missing and 0 for not missing\n",
    "\n",
    "X_train['missing_indicator_SES'] = np.where(X_train['SES'].isnull() , 1 , 0)  \n",
    "X_test['missing_indicator_SES'] = np.where(X_test['SES'].isnull() , 1 , 0)"
   ]
  },
  {
   "cell_type": "code",
   "execution_count": 126,
   "metadata": {
    "execution": {
     "iopub.execute_input": "2022-02-20T18:32:48.227974Z",
     "iopub.status.busy": "2022-02-20T18:32:48.227612Z",
     "iopub.status.idle": "2022-02-20T18:32:48.263477Z",
     "shell.execute_reply": "2022-02-20T18:32:48.262645Z",
     "shell.execute_reply.started": "2022-02-20T18:32:48.227919Z"
    },
    "scrolled": true
   },
   "outputs": [
    {
     "data": {
      "text/html": [
       "<div>\n",
       "<style scoped>\n",
       "    .dataframe tbody tr th:only-of-type {\n",
       "        vertical-align: middle;\n",
       "    }\n",
       "\n",
       "    .dataframe tbody tr th {\n",
       "        vertical-align: top;\n",
       "    }\n",
       "\n",
       "    .dataframe thead th {\n",
       "        text-align: right;\n",
       "    }\n",
       "</style>\n",
       "<table border=\"1\" class=\"dataframe\">\n",
       "  <thead>\n",
       "    <tr style=\"text-align: right;\">\n",
       "      <th></th>\n",
       "      <th>Subject ID</th>\n",
       "      <th>MRI ID</th>\n",
       "      <th>Visit</th>\n",
       "      <th>MR Delay</th>\n",
       "      <th>Hand</th>\n",
       "      <th>Age</th>\n",
       "      <th>EDUC</th>\n",
       "      <th>SES</th>\n",
       "      <th>MMSE</th>\n",
       "      <th>eTIV</th>\n",
       "      <th>nWBV</th>\n",
       "      <th>ASF</th>\n",
       "      <th>Converted</th>\n",
       "      <th>Demented</th>\n",
       "      <th>Nondemented</th>\n",
       "      <th>F</th>\n",
       "      <th>M</th>\n",
       "      <th>SES_imputed</th>\n",
       "      <th>MMSE_imputed</th>\n",
       "      <th>missing_indicator_SES</th>\n",
       "    </tr>\n",
       "  </thead>\n",
       "  <tbody>\n",
       "    <tr>\n",
       "      <th>225</th>\n",
       "      <td>OAS2_0106</td>\n",
       "      <td>OAS2_0106_MR1</td>\n",
       "      <td>1</td>\n",
       "      <td>0</td>\n",
       "      <td>R</td>\n",
       "      <td>70</td>\n",
       "      <td>11</td>\n",
       "      <td>4.0</td>\n",
       "      <td>22.0</td>\n",
       "      <td>1445</td>\n",
       "      <td>0.722</td>\n",
       "      <td>1.214</td>\n",
       "      <td>0</td>\n",
       "      <td>1</td>\n",
       "      <td>0</td>\n",
       "      <td>1</td>\n",
       "      <td>0</td>\n",
       "      <td>4.0</td>\n",
       "      <td>22.0</td>\n",
       "      <td>0</td>\n",
       "    </tr>\n",
       "    <tr>\n",
       "      <th>100</th>\n",
       "      <td>OAS2_0048</td>\n",
       "      <td>OAS2_0048_MR4</td>\n",
       "      <td>4</td>\n",
       "      <td>970</td>\n",
       "      <td>R</td>\n",
       "      <td>68</td>\n",
       "      <td>16</td>\n",
       "      <td>1.0</td>\n",
       "      <td>7.0</td>\n",
       "      <td>1714</td>\n",
       "      <td>0.682</td>\n",
       "      <td>1.024</td>\n",
       "      <td>0</td>\n",
       "      <td>1</td>\n",
       "      <td>0</td>\n",
       "      <td>0</td>\n",
       "      <td>1</td>\n",
       "      <td>1.0</td>\n",
       "      <td>7.0</td>\n",
       "      <td>0</td>\n",
       "    </tr>\n",
       "    <tr>\n",
       "      <th>270</th>\n",
       "      <td>OAS2_0129</td>\n",
       "      <td>OAS2_0129_MR3</td>\n",
       "      <td>3</td>\n",
       "      <td>1591</td>\n",
       "      <td>R</td>\n",
       "      <td>82</td>\n",
       "      <td>18</td>\n",
       "      <td>1.0</td>\n",
       "      <td>29.0</td>\n",
       "      <td>1442</td>\n",
       "      <td>0.644</td>\n",
       "      <td>1.217</td>\n",
       "      <td>0</td>\n",
       "      <td>0</td>\n",
       "      <td>1</td>\n",
       "      <td>1</td>\n",
       "      <td>0</td>\n",
       "      <td>1.0</td>\n",
       "      <td>29.0</td>\n",
       "      <td>0</td>\n",
       "    </tr>\n",
       "    <tr>\n",
       "      <th>108</th>\n",
       "      <td>OAS2_0051</td>\n",
       "      <td>OAS2_0051_MR2</td>\n",
       "      <td>2</td>\n",
       "      <td>457</td>\n",
       "      <td>R</td>\n",
       "      <td>94</td>\n",
       "      <td>23</td>\n",
       "      <td>1.0</td>\n",
       "      <td>29.0</td>\n",
       "      <td>1474</td>\n",
       "      <td>0.696</td>\n",
       "      <td>1.190</td>\n",
       "      <td>0</td>\n",
       "      <td>0</td>\n",
       "      <td>1</td>\n",
       "      <td>1</td>\n",
       "      <td>0</td>\n",
       "      <td>1.0</td>\n",
       "      <td>29.0</td>\n",
       "      <td>0</td>\n",
       "    </tr>\n",
       "    <tr>\n",
       "      <th>344</th>\n",
       "      <td>OAS2_0175</td>\n",
       "      <td>OAS2_0175_MR2</td>\n",
       "      <td>2</td>\n",
       "      <td>700</td>\n",
       "      <td>R</td>\n",
       "      <td>72</td>\n",
       "      <td>16</td>\n",
       "      <td>4.0</td>\n",
       "      <td>28.0</td>\n",
       "      <td>1796</td>\n",
       "      <td>0.732</td>\n",
       "      <td>0.977</td>\n",
       "      <td>0</td>\n",
       "      <td>1</td>\n",
       "      <td>0</td>\n",
       "      <td>0</td>\n",
       "      <td>1</td>\n",
       "      <td>4.0</td>\n",
       "      <td>28.0</td>\n",
       "      <td>0</td>\n",
       "    </tr>\n",
       "  </tbody>\n",
       "</table>\n",
       "</div>"
      ],
      "text/plain": [
       "    Subject ID         MRI ID  Visit  MR Delay Hand  Age  EDUC  SES  MMSE  \\\n",
       "225  OAS2_0106  OAS2_0106_MR1      1         0    R   70    11  4.0  22.0   \n",
       "100  OAS2_0048  OAS2_0048_MR4      4       970    R   68    16  1.0   7.0   \n",
       "270  OAS2_0129  OAS2_0129_MR3      3      1591    R   82    18  1.0  29.0   \n",
       "108  OAS2_0051  OAS2_0051_MR2      2       457    R   94    23  1.0  29.0   \n",
       "344  OAS2_0175  OAS2_0175_MR2      2       700    R   72    16  4.0  28.0   \n",
       "\n",
       "     eTIV   nWBV    ASF  Converted  Demented  Nondemented  F  M  SES_imputed  \\\n",
       "225  1445  0.722  1.214          0         1            0  1  0          4.0   \n",
       "100  1714  0.682  1.024          0         1            0  0  1          1.0   \n",
       "270  1442  0.644  1.217          0         0            1  1  0          1.0   \n",
       "108  1474  0.696  1.190          0         0            1  1  0          1.0   \n",
       "344  1796  0.732  0.977          0         1            0  0  1          4.0   \n",
       "\n",
       "     MMSE_imputed  missing_indicator_SES  \n",
       "225          22.0                      0  \n",
       "100           7.0                      0  \n",
       "270          29.0                      0  \n",
       "108          29.0                      0  \n",
       "344          28.0                      0  "
      ]
     },
     "execution_count": 126,
     "metadata": {},
     "output_type": "execute_result"
    }
   ],
   "source": [
    "X_train.head()"
   ]
  },
  {
   "cell_type": "code",
   "execution_count": 127,
   "metadata": {
    "execution": {
     "iopub.execute_input": "2022-02-20T18:32:48.264998Z",
     "iopub.status.busy": "2022-02-20T18:32:48.264687Z",
     "iopub.status.idle": "2022-02-20T18:32:48.297390Z",
     "shell.execute_reply": "2022-02-20T18:32:48.296466Z",
     "shell.execute_reply.started": "2022-02-20T18:32:48.264957Z"
    }
   },
   "outputs": [
    {
     "data": {
      "text/html": [
       "<div>\n",
       "<style scoped>\n",
       "    .dataframe tbody tr th:only-of-type {\n",
       "        vertical-align: middle;\n",
       "    }\n",
       "\n",
       "    .dataframe tbody tr th {\n",
       "        vertical-align: top;\n",
       "    }\n",
       "\n",
       "    .dataframe thead th {\n",
       "        text-align: right;\n",
       "    }\n",
       "</style>\n",
       "<table border=\"1\" class=\"dataframe\">\n",
       "  <thead>\n",
       "    <tr style=\"text-align: right;\">\n",
       "      <th></th>\n",
       "      <th>Subject ID</th>\n",
       "      <th>MRI ID</th>\n",
       "      <th>Visit</th>\n",
       "      <th>MR Delay</th>\n",
       "      <th>Hand</th>\n",
       "      <th>Age</th>\n",
       "      <th>EDUC</th>\n",
       "      <th>SES</th>\n",
       "      <th>MMSE</th>\n",
       "      <th>eTIV</th>\n",
       "      <th>nWBV</th>\n",
       "      <th>ASF</th>\n",
       "      <th>Converted</th>\n",
       "      <th>Demented</th>\n",
       "      <th>Nondemented</th>\n",
       "      <th>F</th>\n",
       "      <th>M</th>\n",
       "      <th>SES_imputed</th>\n",
       "      <th>MMSE_imputed</th>\n",
       "      <th>missing_indicator_SES</th>\n",
       "    </tr>\n",
       "  </thead>\n",
       "  <tbody>\n",
       "    <tr>\n",
       "      <th>173</th>\n",
       "      <td>OAS2_0079</td>\n",
       "      <td>OAS2_0079_MR3</td>\n",
       "      <td>3</td>\n",
       "      <td>1435</td>\n",
       "      <td>R</td>\n",
       "      <td>73</td>\n",
       "      <td>12</td>\n",
       "      <td>4.0</td>\n",
       "      <td>16.0</td>\n",
       "      <td>1478</td>\n",
       "      <td>0.696</td>\n",
       "      <td>1.188</td>\n",
       "      <td>0</td>\n",
       "      <td>1</td>\n",
       "      <td>0</td>\n",
       "      <td>1</td>\n",
       "      <td>0</td>\n",
       "      <td>4.0</td>\n",
       "      <td>16.0</td>\n",
       "      <td>0</td>\n",
       "    </tr>\n",
       "    <tr>\n",
       "      <th>205</th>\n",
       "      <td>OAS2_0098</td>\n",
       "      <td>OAS2_0098_MR1</td>\n",
       "      <td>1</td>\n",
       "      <td>0</td>\n",
       "      <td>R</td>\n",
       "      <td>66</td>\n",
       "      <td>12</td>\n",
       "      <td>4.0</td>\n",
       "      <td>30.0</td>\n",
       "      <td>1446</td>\n",
       "      <td>0.780</td>\n",
       "      <td>1.214</td>\n",
       "      <td>0</td>\n",
       "      <td>1</td>\n",
       "      <td>0</td>\n",
       "      <td>0</td>\n",
       "      <td>1</td>\n",
       "      <td>4.0</td>\n",
       "      <td>30.0</td>\n",
       "      <td>0</td>\n",
       "    </tr>\n",
       "    <tr>\n",
       "      <th>70</th>\n",
       "      <td>OAS2_0036</td>\n",
       "      <td>OAS2_0036_MR4</td>\n",
       "      <td>4</td>\n",
       "      <td>1770</td>\n",
       "      <td>R</td>\n",
       "      <td>73</td>\n",
       "      <td>13</td>\n",
       "      <td>4.0</td>\n",
       "      <td>30.0</td>\n",
       "      <td>1360</td>\n",
       "      <td>0.773</td>\n",
       "      <td>1.291</td>\n",
       "      <td>0</td>\n",
       "      <td>0</td>\n",
       "      <td>1</td>\n",
       "      <td>1</td>\n",
       "      <td>0</td>\n",
       "      <td>4.0</td>\n",
       "      <td>30.0</td>\n",
       "      <td>0</td>\n",
       "    </tr>\n",
       "    <tr>\n",
       "      <th>118</th>\n",
       "      <td>OAS2_0056</td>\n",
       "      <td>OAS2_0056_MR1</td>\n",
       "      <td>1</td>\n",
       "      <td>0</td>\n",
       "      <td>R</td>\n",
       "      <td>71</td>\n",
       "      <td>14</td>\n",
       "      <td>2.0</td>\n",
       "      <td>28.0</td>\n",
       "      <td>1461</td>\n",
       "      <td>0.756</td>\n",
       "      <td>1.202</td>\n",
       "      <td>0</td>\n",
       "      <td>0</td>\n",
       "      <td>1</td>\n",
       "      <td>1</td>\n",
       "      <td>0</td>\n",
       "      <td>2.0</td>\n",
       "      <td>28.0</td>\n",
       "      <td>0</td>\n",
       "    </tr>\n",
       "    <tr>\n",
       "      <th>32</th>\n",
       "      <td>OAS2_0017</td>\n",
       "      <td>OAS2_0017_MR5</td>\n",
       "      <td>5</td>\n",
       "      <td>2400</td>\n",
       "      <td>R</td>\n",
       "      <td>86</td>\n",
       "      <td>12</td>\n",
       "      <td>3.0</td>\n",
       "      <td>27.0</td>\n",
       "      <td>1813</td>\n",
       "      <td>0.761</td>\n",
       "      <td>0.968</td>\n",
       "      <td>0</td>\n",
       "      <td>0</td>\n",
       "      <td>1</td>\n",
       "      <td>0</td>\n",
       "      <td>1</td>\n",
       "      <td>3.0</td>\n",
       "      <td>27.0</td>\n",
       "      <td>0</td>\n",
       "    </tr>\n",
       "  </tbody>\n",
       "</table>\n",
       "</div>"
      ],
      "text/plain": [
       "    Subject ID         MRI ID  Visit  MR Delay Hand  Age  EDUC  SES  MMSE  \\\n",
       "173  OAS2_0079  OAS2_0079_MR3      3      1435    R   73    12  4.0  16.0   \n",
       "205  OAS2_0098  OAS2_0098_MR1      1         0    R   66    12  4.0  30.0   \n",
       "70   OAS2_0036  OAS2_0036_MR4      4      1770    R   73    13  4.0  30.0   \n",
       "118  OAS2_0056  OAS2_0056_MR1      1         0    R   71    14  2.0  28.0   \n",
       "32   OAS2_0017  OAS2_0017_MR5      5      2400    R   86    12  3.0  27.0   \n",
       "\n",
       "     eTIV   nWBV    ASF  Converted  Demented  Nondemented  F  M  SES_imputed  \\\n",
       "173  1478  0.696  1.188          0         1            0  1  0          4.0   \n",
       "205  1446  0.780  1.214          0         1            0  0  1          4.0   \n",
       "70   1360  0.773  1.291          0         0            1  1  0          4.0   \n",
       "118  1461  0.756  1.202          0         0            1  1  0          2.0   \n",
       "32   1813  0.761  0.968          0         0            1  0  1          3.0   \n",
       "\n",
       "     MMSE_imputed  missing_indicator_SES  \n",
       "173          16.0                      0  \n",
       "205          30.0                      0  \n",
       "70           30.0                      0  \n",
       "118          28.0                      0  \n",
       "32           27.0                      0  "
      ]
     },
     "execution_count": 127,
     "metadata": {},
     "output_type": "execute_result"
    }
   ],
   "source": [
    "X_test.head()"
   ]
  },
  {
   "cell_type": "code",
   "execution_count": 128,
   "metadata": {
    "execution": {
     "iopub.execute_input": "2022-02-20T18:32:48.299306Z",
     "iopub.status.busy": "2022-02-20T18:32:48.298985Z",
     "iopub.status.idle": "2022-02-20T18:32:48.442161Z",
     "shell.execute_reply": "2022-02-20T18:32:48.441175Z",
     "shell.execute_reply.started": "2022-02-20T18:32:48.299262Z"
    }
   },
   "outputs": [],
   "source": [
    "X_train.drop(['SES' , 'MMSE'] , axis=1 , inplace=True)\n",
    "X_test.drop(['SES' , 'MMSE'] , axis=1 , inplace=True)"
   ]
  },
  {
   "cell_type": "code",
   "execution_count": 129,
   "metadata": {
    "execution": {
     "iopub.execute_input": "2022-02-20T18:32:48.443906Z",
     "iopub.status.busy": "2022-02-20T18:32:48.443598Z",
     "iopub.status.idle": "2022-02-20T18:32:48.476733Z",
     "shell.execute_reply": "2022-02-20T18:32:48.475857Z",
     "shell.execute_reply.started": "2022-02-20T18:32:48.443861Z"
    }
   },
   "outputs": [
    {
     "data": {
      "text/html": [
       "<div>\n",
       "<style scoped>\n",
       "    .dataframe tbody tr th:only-of-type {\n",
       "        vertical-align: middle;\n",
       "    }\n",
       "\n",
       "    .dataframe tbody tr th {\n",
       "        vertical-align: top;\n",
       "    }\n",
       "\n",
       "    .dataframe thead th {\n",
       "        text-align: right;\n",
       "    }\n",
       "</style>\n",
       "<table border=\"1\" class=\"dataframe\">\n",
       "  <thead>\n",
       "    <tr style=\"text-align: right;\">\n",
       "      <th></th>\n",
       "      <th>Subject ID</th>\n",
       "      <th>MRI ID</th>\n",
       "      <th>Visit</th>\n",
       "      <th>MR Delay</th>\n",
       "      <th>Hand</th>\n",
       "      <th>Age</th>\n",
       "      <th>EDUC</th>\n",
       "      <th>eTIV</th>\n",
       "      <th>nWBV</th>\n",
       "      <th>ASF</th>\n",
       "      <th>Converted</th>\n",
       "      <th>Demented</th>\n",
       "      <th>Nondemented</th>\n",
       "      <th>F</th>\n",
       "      <th>M</th>\n",
       "      <th>SES_imputed</th>\n",
       "      <th>MMSE_imputed</th>\n",
       "      <th>missing_indicator_SES</th>\n",
       "    </tr>\n",
       "  </thead>\n",
       "  <tbody>\n",
       "    <tr>\n",
       "      <th>225</th>\n",
       "      <td>OAS2_0106</td>\n",
       "      <td>OAS2_0106_MR1</td>\n",
       "      <td>1</td>\n",
       "      <td>0</td>\n",
       "      <td>R</td>\n",
       "      <td>70</td>\n",
       "      <td>11</td>\n",
       "      <td>1445</td>\n",
       "      <td>0.722</td>\n",
       "      <td>1.214</td>\n",
       "      <td>0</td>\n",
       "      <td>1</td>\n",
       "      <td>0</td>\n",
       "      <td>1</td>\n",
       "      <td>0</td>\n",
       "      <td>4.0</td>\n",
       "      <td>22.0</td>\n",
       "      <td>0</td>\n",
       "    </tr>\n",
       "    <tr>\n",
       "      <th>100</th>\n",
       "      <td>OAS2_0048</td>\n",
       "      <td>OAS2_0048_MR4</td>\n",
       "      <td>4</td>\n",
       "      <td>970</td>\n",
       "      <td>R</td>\n",
       "      <td>68</td>\n",
       "      <td>16</td>\n",
       "      <td>1714</td>\n",
       "      <td>0.682</td>\n",
       "      <td>1.024</td>\n",
       "      <td>0</td>\n",
       "      <td>1</td>\n",
       "      <td>0</td>\n",
       "      <td>0</td>\n",
       "      <td>1</td>\n",
       "      <td>1.0</td>\n",
       "      <td>7.0</td>\n",
       "      <td>0</td>\n",
       "    </tr>\n",
       "    <tr>\n",
       "      <th>270</th>\n",
       "      <td>OAS2_0129</td>\n",
       "      <td>OAS2_0129_MR3</td>\n",
       "      <td>3</td>\n",
       "      <td>1591</td>\n",
       "      <td>R</td>\n",
       "      <td>82</td>\n",
       "      <td>18</td>\n",
       "      <td>1442</td>\n",
       "      <td>0.644</td>\n",
       "      <td>1.217</td>\n",
       "      <td>0</td>\n",
       "      <td>0</td>\n",
       "      <td>1</td>\n",
       "      <td>1</td>\n",
       "      <td>0</td>\n",
       "      <td>1.0</td>\n",
       "      <td>29.0</td>\n",
       "      <td>0</td>\n",
       "    </tr>\n",
       "    <tr>\n",
       "      <th>108</th>\n",
       "      <td>OAS2_0051</td>\n",
       "      <td>OAS2_0051_MR2</td>\n",
       "      <td>2</td>\n",
       "      <td>457</td>\n",
       "      <td>R</td>\n",
       "      <td>94</td>\n",
       "      <td>23</td>\n",
       "      <td>1474</td>\n",
       "      <td>0.696</td>\n",
       "      <td>1.190</td>\n",
       "      <td>0</td>\n",
       "      <td>0</td>\n",
       "      <td>1</td>\n",
       "      <td>1</td>\n",
       "      <td>0</td>\n",
       "      <td>1.0</td>\n",
       "      <td>29.0</td>\n",
       "      <td>0</td>\n",
       "    </tr>\n",
       "    <tr>\n",
       "      <th>344</th>\n",
       "      <td>OAS2_0175</td>\n",
       "      <td>OAS2_0175_MR2</td>\n",
       "      <td>2</td>\n",
       "      <td>700</td>\n",
       "      <td>R</td>\n",
       "      <td>72</td>\n",
       "      <td>16</td>\n",
       "      <td>1796</td>\n",
       "      <td>0.732</td>\n",
       "      <td>0.977</td>\n",
       "      <td>0</td>\n",
       "      <td>1</td>\n",
       "      <td>0</td>\n",
       "      <td>0</td>\n",
       "      <td>1</td>\n",
       "      <td>4.0</td>\n",
       "      <td>28.0</td>\n",
       "      <td>0</td>\n",
       "    </tr>\n",
       "  </tbody>\n",
       "</table>\n",
       "</div>"
      ],
      "text/plain": [
       "    Subject ID         MRI ID  Visit  MR Delay Hand  Age  EDUC  eTIV   nWBV  \\\n",
       "225  OAS2_0106  OAS2_0106_MR1      1         0    R   70    11  1445  0.722   \n",
       "100  OAS2_0048  OAS2_0048_MR4      4       970    R   68    16  1714  0.682   \n",
       "270  OAS2_0129  OAS2_0129_MR3      3      1591    R   82    18  1442  0.644   \n",
       "108  OAS2_0051  OAS2_0051_MR2      2       457    R   94    23  1474  0.696   \n",
       "344  OAS2_0175  OAS2_0175_MR2      2       700    R   72    16  1796  0.732   \n",
       "\n",
       "       ASF  Converted  Demented  Nondemented  F  M  SES_imputed  MMSE_imputed  \\\n",
       "225  1.214          0         1            0  1  0          4.0          22.0   \n",
       "100  1.024          0         1            0  0  1          1.0           7.0   \n",
       "270  1.217          0         0            1  1  0          1.0          29.0   \n",
       "108  1.190          0         0            1  1  0          1.0          29.0   \n",
       "344  0.977          0         1            0  0  1          4.0          28.0   \n",
       "\n",
       "     missing_indicator_SES  \n",
       "225                      0  \n",
       "100                      0  \n",
       "270                      0  \n",
       "108                      0  \n",
       "344                      0  "
      ]
     },
     "execution_count": 129,
     "metadata": {},
     "output_type": "execute_result"
    }
   ],
   "source": [
    "X_train.head()"
   ]
  },
  {
   "cell_type": "code",
   "execution_count": 130,
   "metadata": {
    "execution": {
     "iopub.execute_input": "2022-02-20T18:32:48.478089Z",
     "iopub.status.busy": "2022-02-20T18:32:48.477861Z",
     "iopub.status.idle": "2022-02-20T18:32:48.503387Z",
     "shell.execute_reply": "2022-02-20T18:32:48.502421Z",
     "shell.execute_reply.started": "2022-02-20T18:32:48.478062Z"
    }
   },
   "outputs": [
    {
     "data": {
      "text/html": [
       "<div>\n",
       "<style scoped>\n",
       "    .dataframe tbody tr th:only-of-type {\n",
       "        vertical-align: middle;\n",
       "    }\n",
       "\n",
       "    .dataframe tbody tr th {\n",
       "        vertical-align: top;\n",
       "    }\n",
       "\n",
       "    .dataframe thead th {\n",
       "        text-align: right;\n",
       "    }\n",
       "</style>\n",
       "<table border=\"1\" class=\"dataframe\">\n",
       "  <thead>\n",
       "    <tr style=\"text-align: right;\">\n",
       "      <th></th>\n",
       "      <th>Subject ID</th>\n",
       "      <th>MRI ID</th>\n",
       "      <th>Visit</th>\n",
       "      <th>MR Delay</th>\n",
       "      <th>Hand</th>\n",
       "      <th>Age</th>\n",
       "      <th>EDUC</th>\n",
       "      <th>eTIV</th>\n",
       "      <th>nWBV</th>\n",
       "      <th>ASF</th>\n",
       "      <th>Converted</th>\n",
       "      <th>Demented</th>\n",
       "      <th>Nondemented</th>\n",
       "      <th>F</th>\n",
       "      <th>M</th>\n",
       "      <th>SES_imputed</th>\n",
       "      <th>MMSE_imputed</th>\n",
       "      <th>missing_indicator_SES</th>\n",
       "    </tr>\n",
       "  </thead>\n",
       "  <tbody>\n",
       "    <tr>\n",
       "      <th>173</th>\n",
       "      <td>OAS2_0079</td>\n",
       "      <td>OAS2_0079_MR3</td>\n",
       "      <td>3</td>\n",
       "      <td>1435</td>\n",
       "      <td>R</td>\n",
       "      <td>73</td>\n",
       "      <td>12</td>\n",
       "      <td>1478</td>\n",
       "      <td>0.696</td>\n",
       "      <td>1.188</td>\n",
       "      <td>0</td>\n",
       "      <td>1</td>\n",
       "      <td>0</td>\n",
       "      <td>1</td>\n",
       "      <td>0</td>\n",
       "      <td>4.0</td>\n",
       "      <td>16.0</td>\n",
       "      <td>0</td>\n",
       "    </tr>\n",
       "    <tr>\n",
       "      <th>205</th>\n",
       "      <td>OAS2_0098</td>\n",
       "      <td>OAS2_0098_MR1</td>\n",
       "      <td>1</td>\n",
       "      <td>0</td>\n",
       "      <td>R</td>\n",
       "      <td>66</td>\n",
       "      <td>12</td>\n",
       "      <td>1446</td>\n",
       "      <td>0.780</td>\n",
       "      <td>1.214</td>\n",
       "      <td>0</td>\n",
       "      <td>1</td>\n",
       "      <td>0</td>\n",
       "      <td>0</td>\n",
       "      <td>1</td>\n",
       "      <td>4.0</td>\n",
       "      <td>30.0</td>\n",
       "      <td>0</td>\n",
       "    </tr>\n",
       "    <tr>\n",
       "      <th>70</th>\n",
       "      <td>OAS2_0036</td>\n",
       "      <td>OAS2_0036_MR4</td>\n",
       "      <td>4</td>\n",
       "      <td>1770</td>\n",
       "      <td>R</td>\n",
       "      <td>73</td>\n",
       "      <td>13</td>\n",
       "      <td>1360</td>\n",
       "      <td>0.773</td>\n",
       "      <td>1.291</td>\n",
       "      <td>0</td>\n",
       "      <td>0</td>\n",
       "      <td>1</td>\n",
       "      <td>1</td>\n",
       "      <td>0</td>\n",
       "      <td>4.0</td>\n",
       "      <td>30.0</td>\n",
       "      <td>0</td>\n",
       "    </tr>\n",
       "    <tr>\n",
       "      <th>118</th>\n",
       "      <td>OAS2_0056</td>\n",
       "      <td>OAS2_0056_MR1</td>\n",
       "      <td>1</td>\n",
       "      <td>0</td>\n",
       "      <td>R</td>\n",
       "      <td>71</td>\n",
       "      <td>14</td>\n",
       "      <td>1461</td>\n",
       "      <td>0.756</td>\n",
       "      <td>1.202</td>\n",
       "      <td>0</td>\n",
       "      <td>0</td>\n",
       "      <td>1</td>\n",
       "      <td>1</td>\n",
       "      <td>0</td>\n",
       "      <td>2.0</td>\n",
       "      <td>28.0</td>\n",
       "      <td>0</td>\n",
       "    </tr>\n",
       "    <tr>\n",
       "      <th>32</th>\n",
       "      <td>OAS2_0017</td>\n",
       "      <td>OAS2_0017_MR5</td>\n",
       "      <td>5</td>\n",
       "      <td>2400</td>\n",
       "      <td>R</td>\n",
       "      <td>86</td>\n",
       "      <td>12</td>\n",
       "      <td>1813</td>\n",
       "      <td>0.761</td>\n",
       "      <td>0.968</td>\n",
       "      <td>0</td>\n",
       "      <td>0</td>\n",
       "      <td>1</td>\n",
       "      <td>0</td>\n",
       "      <td>1</td>\n",
       "      <td>3.0</td>\n",
       "      <td>27.0</td>\n",
       "      <td>0</td>\n",
       "    </tr>\n",
       "  </tbody>\n",
       "</table>\n",
       "</div>"
      ],
      "text/plain": [
       "    Subject ID         MRI ID  Visit  MR Delay Hand  Age  EDUC  eTIV   nWBV  \\\n",
       "173  OAS2_0079  OAS2_0079_MR3      3      1435    R   73    12  1478  0.696   \n",
       "205  OAS2_0098  OAS2_0098_MR1      1         0    R   66    12  1446  0.780   \n",
       "70   OAS2_0036  OAS2_0036_MR4      4      1770    R   73    13  1360  0.773   \n",
       "118  OAS2_0056  OAS2_0056_MR1      1         0    R   71    14  1461  0.756   \n",
       "32   OAS2_0017  OAS2_0017_MR5      5      2400    R   86    12  1813  0.761   \n",
       "\n",
       "       ASF  Converted  Demented  Nondemented  F  M  SES_imputed  MMSE_imputed  \\\n",
       "173  1.188          0         1            0  1  0          4.0          16.0   \n",
       "205  1.214          0         1            0  0  1          4.0          30.0   \n",
       "70   1.291          0         0            1  1  0          4.0          30.0   \n",
       "118  1.202          0         0            1  1  0          2.0          28.0   \n",
       "32   0.968          0         0            1  0  1          3.0          27.0   \n",
       "\n",
       "     missing_indicator_SES  \n",
       "173                      0  \n",
       "205                      0  \n",
       "70                       0  \n",
       "118                      0  \n",
       "32                       0  "
      ]
     },
     "execution_count": 130,
     "metadata": {},
     "output_type": "execute_result"
    }
   ],
   "source": [
    "X_test.head()"
   ]
  },
  {
   "cell_type": "code",
   "execution_count": 131,
   "metadata": {
    "execution": {
     "iopub.execute_input": "2022-02-20T18:32:48.505092Z",
     "iopub.status.busy": "2022-02-20T18:32:48.504836Z",
     "iopub.status.idle": "2022-02-20T18:32:48.520309Z",
     "shell.execute_reply": "2022-02-20T18:32:48.519694Z",
     "shell.execute_reply.started": "2022-02-20T18:32:48.505056Z"
    }
   },
   "outputs": [
    {
     "data": {
      "text/plain": [
       "Subject ID               0\n",
       "MRI ID                   0\n",
       "Visit                    0\n",
       "MR Delay                 0\n",
       "Hand                     0\n",
       "Age                      0\n",
       "EDUC                     0\n",
       "eTIV                     0\n",
       "nWBV                     0\n",
       "ASF                      0\n",
       "Converted                0\n",
       "Demented                 0\n",
       "Nondemented              0\n",
       "F                        0\n",
       "M                        0\n",
       "SES_imputed              0\n",
       "MMSE_imputed             0\n",
       "missing_indicator_SES    0\n",
       "dtype: int64"
      ]
     },
     "execution_count": 131,
     "metadata": {},
     "output_type": "execute_result"
    }
   ],
   "source": [
    "X_train.isnull().sum()"
   ]
  },
  {
   "cell_type": "code",
   "execution_count": 132,
   "metadata": {
    "execution": {
     "iopub.execute_input": "2022-02-20T18:32:48.521679Z",
     "iopub.status.busy": "2022-02-20T18:32:48.521423Z",
     "iopub.status.idle": "2022-02-20T18:32:48.537661Z",
     "shell.execute_reply": "2022-02-20T18:32:48.536801Z",
     "shell.execute_reply.started": "2022-02-20T18:32:48.521650Z"
    },
    "scrolled": true
   },
   "outputs": [
    {
     "data": {
      "text/plain": [
       "Subject ID               0\n",
       "MRI ID                   0\n",
       "Visit                    0\n",
       "MR Delay                 0\n",
       "Hand                     0\n",
       "Age                      0\n",
       "EDUC                     0\n",
       "eTIV                     0\n",
       "nWBV                     0\n",
       "ASF                      0\n",
       "Converted                0\n",
       "Demented                 0\n",
       "Nondemented              0\n",
       "F                        0\n",
       "M                        0\n",
       "SES_imputed              0\n",
       "MMSE_imputed             0\n",
       "missing_indicator_SES    0\n",
       "dtype: int64"
      ]
     },
     "execution_count": 132,
     "metadata": {},
     "output_type": "execute_result"
    }
   ],
   "source": [
    "X_test.isnull().sum()"
   ]
  },
  {
   "cell_type": "markdown",
   "metadata": {},
   "source": [
    "__So there are now no missing data in the dataset__"
   ]
  },
  {
   "cell_type": "code",
   "execution_count": 133,
   "metadata": {
    "execution": {
     "iopub.execute_input": "2022-02-20T18:32:48.594243Z",
     "iopub.status.busy": "2022-02-20T18:32:48.593882Z",
     "iopub.status.idle": "2022-02-20T18:32:48.608609Z",
     "shell.execute_reply": "2022-02-20T18:32:48.607925Z",
     "shell.execute_reply.started": "2022-02-20T18:32:48.594199Z"
    }
   },
   "outputs": [],
   "source": [
    "# We changed the 4 class to 0,1,2,an 3 so that the model don't see it as a continous value\n",
    "y_test=y_test.replace({0.0:0, 0.5:1, 1.0:2, 2.0:3}).astype('int')\n",
    "y_train=y_train.replace({0.0:0, 0.5:1, 1.0:2, 2.0:3}).astype('int')"
   ]
  },
  {
   "cell_type": "code",
   "execution_count": 134,
   "metadata": {
    "execution": {
     "iopub.execute_input": "2022-02-20T18:32:48.610029Z",
     "iopub.status.busy": "2022-02-20T18:32:48.609718Z",
     "iopub.status.idle": "2022-02-20T18:32:48.625026Z",
     "shell.execute_reply": "2022-02-20T18:32:48.624364Z",
     "shell.execute_reply.started": "2022-02-20T18:32:48.609990Z"
    }
   },
   "outputs": [],
   "source": [
    "# We drop the columns that are not useful to the model\n",
    "X_train.drop(['Subject ID', 'MRI ID', 'Hand'], axis=1, inplace=True)\n",
    "X_test.drop(['Subject ID', 'MRI ID', 'Hand'], axis=1, inplace=True)"
   ]
  },
  {
   "cell_type": "code",
   "execution_count": 88,
   "metadata": {
    "execution": {
     "iopub.execute_input": "2022-02-20T18:32:48.627379Z",
     "iopub.status.busy": "2022-02-20T18:32:48.626328Z",
     "iopub.status.idle": "2022-02-20T18:32:48.639065Z",
     "shell.execute_reply": "2022-02-20T18:32:48.638117Z",
     "shell.execute_reply.started": "2022-02-20T18:32:48.627299Z"
    }
   },
   "outputs": [],
   "source": [
    "# We can use this binary classification to predict the probability of \n",
    "# a patient have dementia\n",
    "\n",
    "# def proba(n):\n",
    "#     if n == 0:\n",
    "#         return 0\n",
    "#     else:\n",
    "#         return 1\n",
    "\n",
    "\n",
    "# df['yy'] = df['CDR'].apply(lambda x: proba(x))"
   ]
  },
  {
   "cell_type": "markdown",
   "metadata": {},
   "source": [
    "## Modeling"
   ]
  },
  {
   "cell_type": "code",
   "execution_count": 92,
   "metadata": {},
   "outputs": [],
   "source": [
    "#Function for creating a dataframe based on order of importance of features\n",
    "def feat_imp_sorter(model, x):\n",
    "    warnings.simplefilter(action='ignore', category=FutureWarning)\n",
    "    feature_imp = pd.DataFrame(zip(model.feature_importances_,x.columns), columns=['Value','Features'])\n",
    "    feature_imp.sort_values(by='Value',ignore_index=True, ascending=False, inplace = True)\n",
    "    return feature_imp\n",
    "    \n",
    "#fUnction for ploting barplot for the feature importance of any model    \n",
    "def feat_imp_ploter(model,x):\n",
    "    sorted_feat = feat_imp_sorter(model,x)\n",
    "#     print(sorted_feat.shape)\n",
    "    \n",
    "    plt.figure(figsize=(5, 5))\n",
    "    sns.barplot(x=\"Value\", y=\"Features\", data=sorted_feat)\n",
    "    plt.title(str(model) +'Features_important')\n",
    "    plt.tight_layout()\n"
   ]
  },
  {
   "cell_type": "code",
   "execution_count": 139,
   "metadata": {},
   "outputs": [],
   "source": [
    "from sklearn.metrics import f1_score, classification_report\n",
    "from sklearn.tree import DecisionTreeClassifier\n",
    "from sklearn.ensemble import RandomForestClassifier\n",
    "from sklearn.linear_model import LogisticRegression\n",
    "from sklearn.ensemble import GradientBoostingClassifier"
   ]
  },
  {
   "cell_type": "markdown",
   "metadata": {},
   "source": [
    "### Base_Model: LogisticRegression"
   ]
  },
  {
   "cell_type": "code",
   "execution_count": 153,
   "metadata": {},
   "outputs": [
    {
     "name": "stdout",
     "output_type": "stream",
     "text": [
      "0.5018181818181818\n"
     ]
    },
    {
     "name": "stderr",
     "output_type": "stream",
     "text": [
      "C:\\Users\\LEKAN\\anaconda3\\lib\\site-packages\\sklearn\\linear_model\\_logistic.py:762: ConvergenceWarning: lbfgs failed to converge (status=1):\n",
      "STOP: TOTAL NO. of ITERATIONS REACHED LIMIT.\n",
      "\n",
      "Increase the number of iterations (max_iter) or scale the data as shown in:\n",
      "    https://scikit-learn.org/stable/modules/preprocessing.html\n",
      "Please also refer to the documentation for alternative solver options:\n",
      "    https://scikit-learn.org/stable/modules/linear_model.html#logistic-regression\n",
      "  n_iter_i = _check_optimize_result(\n"
     ]
    }
   ],
   "source": [
    "base_model = LogisticRegression()\n",
    "base_model.fit(X_train,y_train)\n",
    "\n",
    "print(f1_score(y_test,base_model.predict(X_test), average='weighted'))"
   ]
  },
  {
   "cell_type": "code",
   "execution_count": 156,
   "metadata": {},
   "outputs": [
    {
     "name": "stdout",
     "output_type": "stream",
     "text": [
      "              precision    recall  f1-score   support\n",
      "\n",
      "           0       0.63      0.86      0.73        42\n",
      "           1       0.33      0.23      0.27        26\n",
      "           2       0.00      0.00      0.00         7\n",
      "\n",
      "    accuracy                           0.56        75\n",
      "   macro avg       0.32      0.36      0.33        75\n",
      "weighted avg       0.47      0.56      0.50        75\n",
      "\n"
     ]
    },
    {
     "name": "stderr",
     "output_type": "stream",
     "text": [
      "C:\\Users\\LEKAN\\anaconda3\\lib\\site-packages\\sklearn\\metrics\\_classification.py:1221: UndefinedMetricWarning: Precision and F-score are ill-defined and being set to 0.0 in labels with no predicted samples. Use `zero_division` parameter to control this behavior.\n",
      "  _warn_prf(average, modifier, msg_start, len(result))\n"
     ]
    }
   ],
   "source": [
    "print(classification_report(y_test, base_model.predict(X_test)))"
   ]
  },
  {
   "cell_type": "markdown",
   "metadata": {},
   "source": [
    "### GradientBoostingClassifier"
   ]
  },
  {
   "cell_type": "markdown",
   "metadata": {},
   "source": [
    "Fitting the model and evaluating the model using *F1 score*. F1 score was chosen as the metrics because it takes into consideration *PRECISION* and *RECALL*"
   ]
  },
  {
   "cell_type": "code",
   "execution_count": 135,
   "metadata": {
    "scrolled": true
   },
   "outputs": [
    {
     "name": "stdout",
     "output_type": "stream",
     "text": [
      "0.9324238026124819\n"
     ]
    }
   ],
   "source": [
    "gbt = GradientBoostingClassifier(n_estimators=100, learning_rate=0.1, subsample=0.5,\n",
    "                           max_depth=4,random_state = 7)\n",
    "gbt.fit(X_train,y_train)\n",
    "\n",
    "print(f1_score(y_test,gbt.predict(X_test), average='weighted'))"
   ]
  },
  {
   "cell_type": "markdown",
   "metadata": {},
   "source": [
    "An overall report of the performance of the model"
   ]
  },
  {
   "cell_type": "code",
   "execution_count": 141,
   "metadata": {},
   "outputs": [
    {
     "name": "stdout",
     "output_type": "stream",
     "text": [
      "              precision    recall  f1-score   support\n",
      "\n",
      "           0       0.98      0.98      0.98        42\n",
      "           1       0.89      0.92      0.91        26\n",
      "           2       0.83      0.71      0.77         7\n",
      "\n",
      "    accuracy                           0.93        75\n",
      "   macro avg       0.90      0.87      0.88        75\n",
      "weighted avg       0.93      0.93      0.93        75\n",
      "\n"
     ]
    }
   ],
   "source": [
    "print(classification_report(y_test, gbt.predict(X_test)))"
   ]
  },
  {
   "cell_type": "code",
   "execution_count": 136,
   "metadata": {},
   "outputs": [
    {
     "data": {
      "text/plain": [
       "array([2, 1, 0, 0, 0, 0, 2, 0, 0, 1, 0, 1, 1, 0, 0, 0, 0, 1, 1, 0, 0, 0,\n",
       "       2, 1, 0, 1, 2, 1, 0, 0, 0, 1, 0, 0, 0, 2, 1, 1, 1, 1, 0, 0, 2, 1,\n",
       "       1, 0, 1, 1, 1, 0, 1, 1, 0, 0, 0, 0, 1, 0, 0, 0, 0, 1, 0, 0, 0, 0,\n",
       "       0, 1, 0, 1, 0, 1, 1, 0, 0])"
      ]
     },
     "execution_count": 136,
     "metadata": {},
     "output_type": "execute_result"
    }
   ],
   "source": [
    "gbt.predict(X_test)"
   ]
  },
  {
   "cell_type": "markdown",
   "metadata": {},
   "source": [
    "From the result above Gradient boosting classifier did well having a F1 score of 93 and it is also noticed that no class 3 was predicted by the model. This can be as a result of the size of the data and the little representation of the class compared to others"
   ]
  },
  {
   "cell_type": "code",
   "execution_count": 96,
   "metadata": {
    "scrolled": true
   },
   "outputs": [
    {
     "data": {
      "image/png": "[encoded data removed]",
      "text/plain": [
       "<Figure size 360x360 with 1 Axes>"
      ]
     },
     "metadata": {
      "needs_background": "light"
     },
     "output_type": "display_data"
    }
   ],
   "source": [
    "feat_imp_ploter(gbt, X_train)"
   ]
  },
  {
   "cell_type": "markdown",
   "metadata": {},
   "source": [
    "According to the barplot based on Feature Importance *Nondemented* has the highest influence on the predictions of the model, which is obviously supposed to be. As well this might be considered a data leakage"
   ]
  },
  {
   "cell_type": "code",
   "execution_count": null,
   "metadata": {},
   "outputs": [],
   "source": []
  },
  {
   "cell_type": "markdown",
   "metadata": {},
   "source": [
    "### RandomForestClassifier"
   ]
  },
  {
   "cell_type": "code",
   "execution_count": 146,
   "metadata": {},
   "outputs": [
    {
     "name": "stdout",
     "output_type": "stream",
     "text": [
      "0.8864530270020465\n"
     ]
    }
   ],
   "source": [
    "rfc = RandomForestClassifier(n_estimators=100,\n",
    "                           max_depth=7,random_state = 7)\n",
    "rfc.fit(X_train,y_train)\n",
    "\n",
    "print(f1_score(y_test,rfc.predict(X_test), average='weighted'))"
   ]
  },
  {
   "cell_type": "markdown",
   "metadata": {},
   "source": [
    "An overall report of the performance of the model"
   ]
  },
  {
   "cell_type": "code",
   "execution_count": 147,
   "metadata": {},
   "outputs": [
    {
     "name": "stdout",
     "output_type": "stream",
     "text": [
      "              precision    recall  f1-score   support\n",
      "\n",
      "           0       0.95      0.98      0.96        42\n",
      "           1       0.82      0.88      0.85        26\n",
      "           2       0.75      0.43      0.55         7\n",
      "\n",
      "    accuracy                           0.89        75\n",
      "   macro avg       0.84      0.76      0.79        75\n",
      "weighted avg       0.89      0.89      0.89        75\n",
      "\n"
     ]
    }
   ],
   "source": [
    "print(classification_report(y_test, rfc.predict(X_test)))"
   ]
  },
  {
   "cell_type": "code",
   "execution_count": 148,
   "metadata": {},
   "outputs": [
    {
     "data": {
      "text/plain": [
       "array([1, 1, 0, 0, 0, 0, 2, 0, 0, 1, 0, 1, 1, 0, 0, 0, 0, 1, 1, 0, 0, 0,\n",
       "       2, 1, 0, 1, 2, 1, 0, 0, 0, 1, 0, 0, 0, 1, 1, 1, 0, 1, 0, 0, 2, 1,\n",
       "       1, 0, 1, 1, 1, 0, 1, 1, 0, 0, 0, 0, 1, 0, 0, 0, 0, 1, 0, 0, 0, 0,\n",
       "       0, 1, 0, 1, 0, 1, 1, 0, 0])"
      ]
     },
     "execution_count": 148,
     "metadata": {},
     "output_type": "execute_result"
    }
   ],
   "source": [
    "rfc.predict(X_test)"
   ]
  },
  {
   "cell_type": "markdown",
   "metadata": {},
   "source": [
    "From the result above report RandomForest classifier have a F1 score of 89 and it is also noticed that no class 3 was predicted by the model as well."
   ]
  },
  {
   "cell_type": "code",
   "execution_count": 105,
   "metadata": {
    "scrolled": true
   },
   "outputs": [
    {
     "data": {
      "image/png": "[encoded data removed]",
      "text/plain": [
       "<Figure size 360x360 with 1 Axes>"
      ]
     },
     "metadata": {
      "needs_background": "light"
     },
     "output_type": "display_data"
    }
   ],
   "source": [
    "feat_imp_ploter(gbt, X_train)"
   ]
  },
  {
   "cell_type": "markdown",
   "metadata": {},
   "source": [
    "According to the barplot based on Feature Importance *Nondemented* and *Demented* have higher influence on the predictions of the model. It can also be seen that the Gender *M*, *F* bare have any influence on the model's decisions. Therefore it can be considered dropping them to see how the model performs."
   ]
  },
  {
   "cell_type": "code",
   "execution_count": null,
   "metadata": {},
   "outputs": [],
   "source": []
  },
  {
   "cell_type": "markdown",
   "metadata": {},
   "source": [
    "### DecisionTreeClassifier"
   ]
  },
  {
   "cell_type": "code",
   "execution_count": 163,
   "metadata": {},
   "outputs": [
    {
     "name": "stdout",
     "output_type": "stream",
     "text": [
      "0.9197020560875983\n"
     ]
    }
   ],
   "source": [
    "dtc = DecisionTreeClassifier(max_depth=3,random_state = 7)#I tried different max_depth 10, 9, 7,3\n",
    "\n",
    "dtc.fit(X_train,y_train)\n",
    "\n",
    "print(f1_score(y_test,dtc.predict(X_test), average='weighted'))"
   ]
  },
  {
   "cell_type": "markdown",
   "metadata": {},
   "source": [
    "An overall report of the performance of the model"
   ]
  },
  {
   "cell_type": "code",
   "execution_count": 165,
   "metadata": {},
   "outputs": [
    {
     "name": "stdout",
     "output_type": "stream",
     "text": [
      "              precision    recall  f1-score   support\n",
      "\n",
      "           0       0.98      0.95      0.96        42\n",
      "           1       0.86      0.92      0.89        26\n",
      "           2       0.83      0.71      0.77         7\n",
      "\n",
      "    accuracy                           0.92        75\n",
      "   macro avg       0.89      0.86      0.87        75\n",
      "weighted avg       0.92      0.92      0.92        75\n",
      "\n"
     ]
    }
   ],
   "source": [
    "print(classification_report(y_test, dtc.predict(X_test)))"
   ]
  },
  {
   "cell_type": "code",
   "execution_count": 166,
   "metadata": {},
   "outputs": [
    {
     "data": {
      "text/plain": [
       "array([2, 1, 0, 0, 0, 0, 2, 0, 0, 1, 0, 1, 1, 0, 0, 0, 0, 1, 1, 0, 0, 0,\n",
       "       2, 1, 0, 1, 2, 1, 0, 0, 0, 1, 0, 0, 0, 2, 1, 1, 1, 1, 0, 0, 2, 1,\n",
       "       1, 0, 1, 1, 1, 0, 1, 1, 0, 0, 0, 0, 1, 0, 0, 1, 0, 1, 0, 0, 0, 0,\n",
       "       0, 1, 0, 1, 0, 1, 1, 0, 0])"
      ]
     },
     "execution_count": 166,
     "metadata": {},
     "output_type": "execute_result"
    }
   ],
   "source": [
    "dtc.predict(X_test)"
   ]
  },
  {
   "cell_type": "markdown",
   "metadata": {},
   "source": [
    "From the result above report DecisionTreeClassifier have a F1 score of 91 and no class 3 was predicted. Its results is almost same as GradientBoosting."
   ]
  },
  {
   "cell_type": "code",
   "execution_count": 167,
   "metadata": {
    "scrolled": true
   },
   "outputs": [
    {
     "data": {
      "image/png": "[encoded data removed]",
      "text/plain": [
       "<Figure size 360x360 with 1 Axes>"
      ]
     },
     "metadata": {
      "needs_background": "light"
     },
     "output_type": "display_data"
    }
   ],
   "source": [
    "feat_imp_ploter(dtc, X_train)"
   ]
  },
  {
   "cell_type": "markdown",
   "metadata": {},
   "source": [
    "Wow, Here the barplot speaks for itself concerning the *Feature Importance* of the model"
   ]
  },
  {
   "cell_type": "code",
   "execution_count": null,
   "metadata": {},
   "outputs": [],
   "source": []
  },
  {
   "cell_type": "markdown",
   "metadata": {},
   "source": [
    "Other things we might consider:\n",
    "   - normalising the data although convectionally it has no/little effect on tree model\n",
    "   - we might consider dropping some features e.g M, F\n",
    "   - we can also do little hyperparameter tuning\n",
    "   - we can also use different models like Ada, Catboost, Xgboost but i feel they might be heavy for our little dataset\n",
    "   - also if time permits try some feature combination..."
   ]
  },
  {
   "cell_type": "code",
   "execution_count": null,
   "metadata": {},
   "outputs": [],
   "source": []
  }
 ],
 "metadata": {
  "kernelspec": {
   "display_name": "Python 3",
   "language": "python",
   "name": "python3"
  },
  "language_info": {
   "codemirror_mode": {
    "name": "ipython",
    "version": 3
   },
   "file_extension": ".py",
   "mimetype": "text/x-python",
   "name": "python",
   "nbconvert_exporter": "python",
   "pygments_lexer": "ipython3",
   "version": "3.8.5"
  }
 },
 "nbformat": 4,
 "nbformat_minor": 4
}
