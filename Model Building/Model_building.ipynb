{
 "cells": [
  {
   "cell_type": "markdown",
   "id": "b10e8a0c",
   "metadata": {},
   "source": [
    "# Model Building\n",
    "\n",
    "Models to be used\n",
    "- 1) Logistic Regression \n",
    "- 2) SVM \n",
    "- 3) KNN\n",
    "- 4) Decision Tree\n",
    "- 5) Random Forest"
   ]
  },
  {
   "cell_type": "code",
   "execution_count": 1,
   "id": "0381f360",
   "metadata": {},
   "outputs": [],
   "source": [
    "import pandas as pd\n",
    "import numpy as np\n",
    "import matplotlib.pyplot as plt\n",
    "import seaborn as sns"
   ]
  },
  {
   "cell_type": "code",
   "execution_count": 3,
   "id": "d2c4b716",
   "metadata": {},
   "outputs": [
    {
     "data": {
      "text/html": [
       "<div>\n",
       "<style scoped>\n",
       "    .dataframe tbody tr th:only-of-type {\n",
       "        vertical-align: middle;\n",
       "    }\n",
       "\n",
       "    .dataframe tbody tr th {\n",
       "        vertical-align: top;\n",
       "    }\n",
       "\n",
       "    .dataframe thead th {\n",
       "        text-align: right;\n",
       "    }\n",
       "</style>\n",
       "<table border=\"1\" class=\"dataframe\">\n",
       "  <thead>\n",
       "    <tr style=\"text-align: right;\">\n",
       "      <th></th>\n",
       "      <th>Visit</th>\n",
       "      <th>MR Delay</th>\n",
       "      <th>Age</th>\n",
       "      <th>EDUC</th>\n",
       "      <th>eTIV</th>\n",
       "      <th>nWBV</th>\n",
       "      <th>ASF</th>\n",
       "      <th>SES_imputed</th>\n",
       "      <th>MMSE_imputed</th>\n",
       "      <th>missing_indicator_SES</th>\n",
       "      <th>Group_Demented</th>\n",
       "      <th>Group_Nondemented</th>\n",
       "      <th>M/F_F</th>\n",
       "      <th>CDR</th>\n",
       "    </tr>\n",
       "  </thead>\n",
       "  <tbody>\n",
       "    <tr>\n",
       "      <th>0</th>\n",
       "      <td>1</td>\n",
       "      <td>0.000000</td>\n",
       "      <td>70</td>\n",
       "      <td>11</td>\n",
       "      <td>1445</td>\n",
       "      <td>0.722</td>\n",
       "      <td>1.214</td>\n",
       "      <td>4.0</td>\n",
       "      <td>22.0</td>\n",
       "      <td>0</td>\n",
       "      <td>1</td>\n",
       "      <td>0</td>\n",
       "      <td>1</td>\n",
       "      <td>1.0</td>\n",
       "    </tr>\n",
       "    <tr>\n",
       "      <th>1</th>\n",
       "      <td>4</td>\n",
       "      <td>31.144823</td>\n",
       "      <td>68</td>\n",
       "      <td>16</td>\n",
       "      <td>1714</td>\n",
       "      <td>0.682</td>\n",
       "      <td>1.024</td>\n",
       "      <td>1.0</td>\n",
       "      <td>7.0</td>\n",
       "      <td>0</td>\n",
       "      <td>1</td>\n",
       "      <td>0</td>\n",
       "      <td>0</td>\n",
       "      <td>1.0</td>\n",
       "    </tr>\n",
       "    <tr>\n",
       "      <th>2</th>\n",
       "      <td>3</td>\n",
       "      <td>39.887341</td>\n",
       "      <td>82</td>\n",
       "      <td>18</td>\n",
       "      <td>1442</td>\n",
       "      <td>0.644</td>\n",
       "      <td>1.217</td>\n",
       "      <td>1.0</td>\n",
       "      <td>29.0</td>\n",
       "      <td>0</td>\n",
       "      <td>0</td>\n",
       "      <td>1</td>\n",
       "      <td>1</td>\n",
       "      <td>0.0</td>\n",
       "    </tr>\n",
       "    <tr>\n",
       "      <th>3</th>\n",
       "      <td>2</td>\n",
       "      <td>21.377558</td>\n",
       "      <td>94</td>\n",
       "      <td>23</td>\n",
       "      <td>1474</td>\n",
       "      <td>0.696</td>\n",
       "      <td>1.190</td>\n",
       "      <td>1.0</td>\n",
       "      <td>29.0</td>\n",
       "      <td>0</td>\n",
       "      <td>0</td>\n",
       "      <td>1</td>\n",
       "      <td>1</td>\n",
       "      <td>0.0</td>\n",
       "    </tr>\n",
       "    <tr>\n",
       "      <th>4</th>\n",
       "      <td>2</td>\n",
       "      <td>26.457513</td>\n",
       "      <td>72</td>\n",
       "      <td>16</td>\n",
       "      <td>1796</td>\n",
       "      <td>0.732</td>\n",
       "      <td>0.977</td>\n",
       "      <td>4.0</td>\n",
       "      <td>28.0</td>\n",
       "      <td>0</td>\n",
       "      <td>1</td>\n",
       "      <td>0</td>\n",
       "      <td>0</td>\n",
       "      <td>0.5</td>\n",
       "    </tr>\n",
       "  </tbody>\n",
       "</table>\n",
       "</div>"
      ],
      "text/plain": [
       "   Visit   MR Delay  Age  EDUC  eTIV   nWBV    ASF  SES_imputed  MMSE_imputed  \\\n",
       "0      1   0.000000   70    11  1445  0.722  1.214          4.0          22.0   \n",
       "1      4  31.144823   68    16  1714  0.682  1.024          1.0           7.0   \n",
       "2      3  39.887341   82    18  1442  0.644  1.217          1.0          29.0   \n",
       "3      2  21.377558   94    23  1474  0.696  1.190          1.0          29.0   \n",
       "4      2  26.457513   72    16  1796  0.732  0.977          4.0          28.0   \n",
       "\n",
       "   missing_indicator_SES  Group_Demented  Group_Nondemented  M/F_F  CDR  \n",
       "0                      0               1                  0      1  1.0  \n",
       "1                      0               1                  0      0  1.0  \n",
       "2                      0               0                  1      1  0.0  \n",
       "3                      0               0                  1      1  0.0  \n",
       "4                      0               1                  0      0  0.5  "
      ]
     },
     "execution_count": 3,
     "metadata": {},
     "output_type": "execute_result"
    }
   ],
   "source": [
    "# data for model building\n",
    "data_train = pd.read_csv('/Users/amit/Documents/Premier Project Hamoye/Model Building/train_data.csv')\n",
    "data_train.head()  "
   ]
  },
  {
   "cell_type": "code",
   "execution_count": 9,
   "id": "b82d4683",
   "metadata": {},
   "outputs": [
    {
     "data": {
      "text/plain": [
       "(298, 14)"
      ]
     },
     "execution_count": 9,
     "metadata": {},
     "output_type": "execute_result"
    }
   ],
   "source": [
    "data_train.shape"
   ]
  },
  {
   "cell_type": "code",
   "execution_count": 6,
   "id": "d6f81138",
   "metadata": {},
   "outputs": [
    {
     "data": {
      "text/html": [
       "<div>\n",
       "<style scoped>\n",
       "    .dataframe tbody tr th:only-of-type {\n",
       "        vertical-align: middle;\n",
       "    }\n",
       "\n",
       "    .dataframe tbody tr th {\n",
       "        vertical-align: top;\n",
       "    }\n",
       "\n",
       "    .dataframe thead th {\n",
       "        text-align: right;\n",
       "    }\n",
       "</style>\n",
       "<table border=\"1\" class=\"dataframe\">\n",
       "  <thead>\n",
       "    <tr style=\"text-align: right;\">\n",
       "      <th></th>\n",
       "      <th>Visit</th>\n",
       "      <th>MR Delay</th>\n",
       "      <th>Age</th>\n",
       "      <th>EDUC</th>\n",
       "      <th>eTIV</th>\n",
       "      <th>nWBV</th>\n",
       "      <th>ASF</th>\n",
       "      <th>SES_imputed</th>\n",
       "      <th>MMSE_imputed</th>\n",
       "      <th>missing_indicator_SES</th>\n",
       "      <th>Group_Demented</th>\n",
       "      <th>Group_Nondemented</th>\n",
       "      <th>M/F_F</th>\n",
       "      <th>CDR</th>\n",
       "    </tr>\n",
       "  </thead>\n",
       "  <tbody>\n",
       "    <tr>\n",
       "      <th>0</th>\n",
       "      <td>3</td>\n",
       "      <td>37.881394</td>\n",
       "      <td>73</td>\n",
       "      <td>12</td>\n",
       "      <td>1478</td>\n",
       "      <td>0.696</td>\n",
       "      <td>1.188</td>\n",
       "      <td>4.0</td>\n",
       "      <td>16.0</td>\n",
       "      <td>0</td>\n",
       "      <td>1</td>\n",
       "      <td>0</td>\n",
       "      <td>1</td>\n",
       "      <td>1.0</td>\n",
       "    </tr>\n",
       "    <tr>\n",
       "      <th>1</th>\n",
       "      <td>1</td>\n",
       "      <td>0.000000</td>\n",
       "      <td>66</td>\n",
       "      <td>12</td>\n",
       "      <td>1446</td>\n",
       "      <td>0.780</td>\n",
       "      <td>1.214</td>\n",
       "      <td>4.0</td>\n",
       "      <td>30.0</td>\n",
       "      <td>0</td>\n",
       "      <td>1</td>\n",
       "      <td>0</td>\n",
       "      <td>0</td>\n",
       "      <td>0.5</td>\n",
       "    </tr>\n",
       "    <tr>\n",
       "      <th>2</th>\n",
       "      <td>4</td>\n",
       "      <td>42.071368</td>\n",
       "      <td>73</td>\n",
       "      <td>13</td>\n",
       "      <td>1360</td>\n",
       "      <td>0.773</td>\n",
       "      <td>1.291</td>\n",
       "      <td>4.0</td>\n",
       "      <td>30.0</td>\n",
       "      <td>0</td>\n",
       "      <td>0</td>\n",
       "      <td>1</td>\n",
       "      <td>1</td>\n",
       "      <td>0.0</td>\n",
       "    </tr>\n",
       "    <tr>\n",
       "      <th>3</th>\n",
       "      <td>1</td>\n",
       "      <td>0.000000</td>\n",
       "      <td>71</td>\n",
       "      <td>14</td>\n",
       "      <td>1461</td>\n",
       "      <td>0.756</td>\n",
       "      <td>1.202</td>\n",
       "      <td>2.0</td>\n",
       "      <td>28.0</td>\n",
       "      <td>0</td>\n",
       "      <td>0</td>\n",
       "      <td>1</td>\n",
       "      <td>1</td>\n",
       "      <td>0.0</td>\n",
       "    </tr>\n",
       "    <tr>\n",
       "      <th>4</th>\n",
       "      <td>5</td>\n",
       "      <td>48.989795</td>\n",
       "      <td>86</td>\n",
       "      <td>12</td>\n",
       "      <td>1813</td>\n",
       "      <td>0.761</td>\n",
       "      <td>0.968</td>\n",
       "      <td>3.0</td>\n",
       "      <td>27.0</td>\n",
       "      <td>0</td>\n",
       "      <td>0</td>\n",
       "      <td>1</td>\n",
       "      <td>0</td>\n",
       "      <td>0.0</td>\n",
       "    </tr>\n",
       "  </tbody>\n",
       "</table>\n",
       "</div>"
      ],
      "text/plain": [
       "   Visit   MR Delay  Age  EDUC  eTIV   nWBV    ASF  SES_imputed  MMSE_imputed  \\\n",
       "0      3  37.881394   73    12  1478  0.696  1.188          4.0          16.0   \n",
       "1      1   0.000000   66    12  1446  0.780  1.214          4.0          30.0   \n",
       "2      4  42.071368   73    13  1360  0.773  1.291          4.0          30.0   \n",
       "3      1   0.000000   71    14  1461  0.756  1.202          2.0          28.0   \n",
       "4      5  48.989795   86    12  1813  0.761  0.968          3.0          27.0   \n",
       "\n",
       "   missing_indicator_SES  Group_Demented  Group_Nondemented  M/F_F  CDR  \n",
       "0                      0               1                  0      1  1.0  \n",
       "1                      0               1                  0      0  0.5  \n",
       "2                      0               0                  1      1  0.0  \n",
       "3                      0               0                  1      1  0.0  \n",
       "4                      0               0                  1      0  0.0  "
      ]
     },
     "execution_count": 6,
     "metadata": {},
     "output_type": "execute_result"
    }
   ],
   "source": [
    "# data for testing the model\n",
    "data_test = pd.read_csv('/Users/amit/Documents/Premier Project Hamoye/Model Building/test_data.csv')\n",
    "data_test.head()"
   ]
  },
  {
   "cell_type": "code",
   "execution_count": 8,
   "id": "2347ebd9",
   "metadata": {},
   "outputs": [
    {
     "data": {
      "text/plain": [
       "(75, 14)"
      ]
     },
     "execution_count": 8,
     "metadata": {},
     "output_type": "execute_result"
    }
   ],
   "source": [
    "data_test.shape"
   ]
  },
  {
   "cell_type": "code",
   "execution_count": null,
   "id": "dd7b6f3d",
   "metadata": {},
   "outputs": [],
   "source": []
  },
  {
   "cell_type": "markdown",
   "id": "07731147",
   "metadata": {},
   "source": [
    "## 1) Logistic Regression"
   ]
  },
  {
   "cell_type": "code",
   "execution_count": null,
   "id": "ca515817",
   "metadata": {},
   "outputs": [],
   "source": []
  },
  {
   "cell_type": "code",
   "execution_count": null,
   "id": "9f6d877b",
   "metadata": {},
   "outputs": [],
   "source": []
  },
  {
   "cell_type": "markdown",
   "id": "36ca3428",
   "metadata": {},
   "source": [
    "## 2) SVM"
   ]
  },
  {
   "cell_type": "code",
   "execution_count": null,
   "id": "89a2af87",
   "metadata": {},
   "outputs": [],
   "source": []
  },
  {
   "cell_type": "code",
   "execution_count": null,
   "id": "61d8b875",
   "metadata": {},
   "outputs": [],
   "source": []
  },
  {
   "cell_type": "markdown",
   "id": "e4947598",
   "metadata": {},
   "source": [
    "## 3) KNN"
   ]
  },
  {
   "cell_type": "code",
   "execution_count": null,
   "id": "b351d733",
   "metadata": {},
   "outputs": [],
   "source": []
  },
  {
   "cell_type": "code",
   "execution_count": null,
   "id": "0b496d60",
   "metadata": {},
   "outputs": [],
   "source": []
  },
  {
   "cell_type": "markdown",
   "id": "40c2a009",
   "metadata": {},
   "source": [
    "## 4) Decision Tree"
   ]
  },
  {
   "cell_type": "code",
   "execution_count": null,
   "id": "357fdda1",
   "metadata": {},
   "outputs": [],
   "source": []
  },
  {
   "cell_type": "code",
   "execution_count": null,
   "id": "36db5682",
   "metadata": {},
   "outputs": [],
   "source": []
  },
  {
   "cell_type": "markdown",
   "id": "828b7177",
   "metadata": {},
   "source": [
    "## 5) Random Forest"
   ]
  },
  {
   "cell_type": "code",
   "execution_count": null,
   "id": "89b62cb1",
   "metadata": {},
   "outputs": [],
   "source": []
  },
  {
   "cell_type": "code",
   "execution_count": null,
   "id": "80fe5242",
   "metadata": {},
   "outputs": [],
   "source": []
  }
 ],
 "metadata": {
  "kernelspec": {
   "display_name": "Python 3",
   "language": "python",
   "name": "python3"
  },
  "language_info": {
   "codemirror_mode": {
    "name": "ipython",
    "version": 3
   },
   "file_extension": ".py",
   "mimetype": "text/x-python",
   "name": "python",
   "nbconvert_exporter": "python",
   "pygments_lexer": "ipython3",
   "version": "3.7.10"
  }
 },
 "nbformat": 4,
 "nbformat_minor": 5
}
